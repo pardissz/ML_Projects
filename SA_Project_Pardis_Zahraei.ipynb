{
  "nbformat": 4,
  "nbformat_minor": 0,
  "metadata": {
    "colab": {
      "provenance": [],
      "gpuType": "T4"
    },
    "kernelspec": {
      "name": "python3",
      "display_name": "Python 3"
    },
    "language_info": {
      "name": "python"
    },
    "accelerator": "GPU"
  },
  "cells": [
    {
      "cell_type": "markdown",
      "source": [
        "\n",
        "<br>\n",
        "<font face=\"Times New Roman\">\n",
        "<div dir=ltr align=center>\n",
        "<!-- <font color=0F5298 size=7> -->\n",
        "<font color=0F5298 size=6>\n",
        "    NLP Sentiment Analysis project <br> <br>\n",
        "<!-- <font color=2565AE size=5> -->\n",
        "<font size=5>\n",
        "    Computer Engineering Department <br>\n",
        "    Spring 2023 <br> <br>\n",
        "\n",
        "    \n",
        "____"
      ],
      "metadata": {
        "id": "_cE81C3Tg0Kq"
      }
    },
    {
      "cell_type": "markdown",
      "source": [
        "### Full Name : Pardis Zahraei\n",
        "### Student Number : 99109777\n",
        "### Colab Link: https://colab.research.google.com/drive/1YhBI3H6eZOvBM7zeYmsiSfdKhwri_v1l?usp=sharing\n",
        "___"
      ],
      "metadata": {
        "id": "LJGc8T5ag3Iz"
      }
    },
    {
      "cell_type": "markdown",
      "source": [
        "# step 0 : unzip data + download + import packages + splitting the data + EDA"
      ],
      "metadata": {
        "id": "2WtkZrTKg8EC"
      }
    },
    {
      "cell_type": "code",
      "execution_count": 1,
      "metadata": {
        "colab": {
          "base_uri": "https://localhost:8080/"
        },
        "id": "zWiqjI7aguPo",
        "outputId": "8ba66bf0-b20a-400d-f6a6-08d35abdad8c"
      },
      "outputs": [
        {
          "output_type": "stream",
          "name": "stdout",
          "text": [
            "Archive:  sharif-ml-1401-pr.zip\n",
            "  inflating: pr-test-data-sample_submission.csv.csv  \n",
            "  inflating: pr-test-data.csv        \n",
            "  inflating: pr-training-data.csv.csv  \n"
          ]
        }
      ],
      "source": [
        "!unzip sharif-ml-1401-pr.zip"
      ]
    },
    {
      "cell_type": "markdown",
      "source": [
        "packages:"
      ],
      "metadata": {
        "id": "ugesPJnTho4J"
      }
    },
    {
      "cell_type": "code",
      "source": [
        "# run with GPU\n",
        "import numpy as np\n",
        "import pandas as pd\n",
        "import tensorflow as tf\n",
        "from keras.preprocessing import text, sequence\n",
        "from keras.preprocessing.text import Tokenizer\n",
        "from keras.layers import Dense, Input, LSTM, Embedding, Dropout, Activation, Conv1D, CuDNNGRU, CuDNNLSTM, BatchNormalization\n",
        "from keras.layers import  GlobalMaxPool1D, SpatialDropout1D\n",
        "from keras.layers import Bidirectional\n",
        "from keras.models import Model\n",
        "from keras import optimizers\n",
        "from sklearn.naive_bayes import GaussianNB\n",
        "from sklearn.feature_extraction.text import CountVectorizer\n",
        "from google.colab import drive\n",
        "from sklearn.model_selection import train_test_split\n",
        "import nltk\n",
        "import unicodedata, re, string\n",
        "from imblearn.over_sampling import RandomOverSampler\n",
        "import torch\n",
        "import torch.nn as nn\n",
        "from torch.utils.data import TensorDataset, DataLoader\n",
        "from keras.models import Sequential\n",
        "from keras.layers import Dense, Dropout\n",
        "from keras.regularizers import l2\n",
        "import seaborn as sns\n",
        "from sklearn.feature_extraction.text import TfidfVectorizer\n",
        "from nltk.corpus import stopwords\n",
        "from nltk.stem import WordNetLemmatizer\n",
        "from sklearn.naive_bayes import MultinomialNB\n",
        "from sklearn.metrics import precision_score, recall_score, f1_score, confusion_matrix\n",
        "import matplotlib.pyplot as plt\n",
        "import nltk\n",
        "from nltk.tokenize import word_tokenize\n",
        "lemmatizer = WordNetLemmatizer()\n",
        "from sklearn.tree import DecisionTreeClassifier\n",
        "from sklearn.model_selection import GridSearchCV\n",
        "from gensim.models import KeyedVectors\n",
        "from keras.optimizers import Adam"
      ],
      "metadata": {
        "id": "5nL3-uT52ojL"
      },
      "execution_count": null,
      "outputs": []
    },
    {
      "cell_type": "markdown",
      "source": [
        "getting fastText dataset. I have already downloaded it and saved it in my google drive but I put the code in comment for downloading as well"
      ],
      "metadata": {
        "id": "WjELKZ2wh5dI"
      }
    },
    {
      "cell_type": "code",
      "source": [
        "\"\"\"\n",
        "!wget https://dl.fbaipublicfiles.com/fasttext/vectors-english/crawl-300d-2M.vec.zip\n",
        "!unzip crawl-300d-2M.vec.zip\n",
        "\"\"\"\n",
        "\n",
        "drive.mount('/content/drive')\n",
        "file_path = './crawl-300d-2M.vec'\n",
        "drive_dir_path = '/content/drive/MyDrive/Colab Notebooks/'\n",
        "#!cp \"{file_path}\" \"{drive_dir_path}\"\n",
        "file_path = drive_dir_path + 'crawl-300d-2M.vec'\n",
        "\"\"\"\n",
        "def load_embeddings(file_path,word_index):\n",
        "    set_m = {}\n",
        "    with open(file_path, 'r') as f:\n",
        "        for line in f:\n",
        "            values = line.rstrip().rsplit(' ')\n",
        "            word = values[0]\n",
        "            coefs = np.asarray(values[1:], dtype='float32')\n",
        "            set_m[word] = coefs\n",
        "    num_words = min(20000, len(word_index) + 1)\n",
        "    embedding_matrix = np.zeros((num_words, 300))\n",
        "    for i in range(num_words):\n",
        "        word = word_index.get(i)\n",
        "        if word is not None:\n",
        "            embedding_vector = set_m.get(word)\n",
        "            if embedding_vector is not None:\n",
        "                embedding_matrix[i] = embedding_vector\n",
        "    return embedding_matrix\n",
        "\"\"\""
      ],
      "metadata": {
        "colab": {
          "base_uri": "https://localhost:8080/"
        },
        "id": "JcqRZIU3iITe",
        "outputId": "cd7c34e8-f153-4984-99f5-1e4ae28d4cd7"
      },
      "execution_count": null,
      "outputs": [
        {
          "output_type": "stream",
          "name": "stdout",
          "text": [
            "Drive already mounted at /content/drive; to attempt to forcibly remount, call drive.mount(\"/content/drive\", force_remount=True).\n"
          ]
        }
      ]
    },
    {
      "cell_type": "code",
      "source": [
        "\"\"\"\n",
        "!wget https://dl.fbaipublicfiles.com/fasttext/vectors-english/wiki-news-300d-1M.vec.zip\n",
        "!unzip wiki-news-300d-1M.vec.zip\n",
        "embeddings_index = KeyedVectors.load_word2vec_format('wiki-news-300d-1M.vec')\n",
        "from google.colab import drive\n",
        "drive.mount('/content/drive')\n",
        "kv_path = '/content/drive/MyDrive/wiki-news-300d-1M.kv'\n",
        "embeddings_index.save(kv_path)\n",
        "\"\"\"\n",
        "drive.mount('/content/drive')\n",
        "kv_path = '/content/drive/MyDrive/wiki-news-300d-1M.kv'\n",
        "embeddings_index = KeyedVectors.load(kv_path)\n"
      ],
      "metadata": {
        "id": "g-ZMO3sLnvCL"
      },
      "execution_count": null,
      "outputs": []
    },
    {
      "cell_type": "code",
      "source": [
        "df = pd.read_csv(\"pr-training-data.csv.csv\")\n",
        "df.head()"
      ],
      "metadata": {
        "colab": {
          "base_uri": "https://localhost:8080/",
          "height": 206
        },
        "id": "GvwafeCsi06w",
        "outputId": "6b35f8ca-2f80-40bb-c701-ab7b0b70f0e0"
      },
      "execution_count": null,
      "outputs": [
        {
          "output_type": "execute_result",
          "data": {
            "text/plain": [
              "   PhraseId  SentenceId                                             Phrase  \\\n",
              "0         1           1  A series of escapades demonstrating the adage ...   \n",
              "1         2           1  A series of escapades demonstrating the adage ...   \n",
              "2         3           1                                           A series   \n",
              "3         4           1                                                  A   \n",
              "4         5           1                                             series   \n",
              "\n",
              "   Sentiment  \n",
              "0          1  \n",
              "1          2  \n",
              "2          2  \n",
              "3          2  \n",
              "4          2  "
            ],
            "text/html": [
              "\n",
              "  <div id=\"df-83bab981-819e-40e9-88da-b71a491ba13f\">\n",
              "    <div class=\"colab-df-container\">\n",
              "      <div>\n",
              "<style scoped>\n",
              "    .dataframe tbody tr th:only-of-type {\n",
              "        vertical-align: middle;\n",
              "    }\n",
              "\n",
              "    .dataframe tbody tr th {\n",
              "        vertical-align: top;\n",
              "    }\n",
              "\n",
              "    .dataframe thead th {\n",
              "        text-align: right;\n",
              "    }\n",
              "</style>\n",
              "<table border=\"1\" class=\"dataframe\">\n",
              "  <thead>\n",
              "    <tr style=\"text-align: right;\">\n",
              "      <th></th>\n",
              "      <th>PhraseId</th>\n",
              "      <th>SentenceId</th>\n",
              "      <th>Phrase</th>\n",
              "      <th>Sentiment</th>\n",
              "    </tr>\n",
              "  </thead>\n",
              "  <tbody>\n",
              "    <tr>\n",
              "      <th>0</th>\n",
              "      <td>1</td>\n",
              "      <td>1</td>\n",
              "      <td>A series of escapades demonstrating the adage ...</td>\n",
              "      <td>1</td>\n",
              "    </tr>\n",
              "    <tr>\n",
              "      <th>1</th>\n",
              "      <td>2</td>\n",
              "      <td>1</td>\n",
              "      <td>A series of escapades demonstrating the adage ...</td>\n",
              "      <td>2</td>\n",
              "    </tr>\n",
              "    <tr>\n",
              "      <th>2</th>\n",
              "      <td>3</td>\n",
              "      <td>1</td>\n",
              "      <td>A series</td>\n",
              "      <td>2</td>\n",
              "    </tr>\n",
              "    <tr>\n",
              "      <th>3</th>\n",
              "      <td>4</td>\n",
              "      <td>1</td>\n",
              "      <td>A</td>\n",
              "      <td>2</td>\n",
              "    </tr>\n",
              "    <tr>\n",
              "      <th>4</th>\n",
              "      <td>5</td>\n",
              "      <td>1</td>\n",
              "      <td>series</td>\n",
              "      <td>2</td>\n",
              "    </tr>\n",
              "  </tbody>\n",
              "</table>\n",
              "</div>\n",
              "      <button class=\"colab-df-convert\" onclick=\"convertToInteractive('df-83bab981-819e-40e9-88da-b71a491ba13f')\"\n",
              "              title=\"Convert this dataframe to an interactive table.\"\n",
              "              style=\"display:none;\">\n",
              "        \n",
              "  <svg xmlns=\"http://www.w3.org/2000/svg\" height=\"24px\"viewBox=\"0 0 24 24\"\n",
              "       width=\"24px\">\n",
              "    <path d=\"M0 0h24v24H0V0z\" fill=\"none\"/>\n",
              "    <path d=\"M18.56 5.44l.94 2.06.94-2.06 2.06-.94-2.06-.94-.94-2.06-.94 2.06-2.06.94zm-11 1L8.5 8.5l.94-2.06 2.06-.94-2.06-.94L8.5 2.5l-.94 2.06-2.06.94zm10 10l.94 2.06.94-2.06 2.06-.94-2.06-.94-.94-2.06-.94 2.06-2.06.94z\"/><path d=\"M17.41 7.96l-1.37-1.37c-.4-.4-.92-.59-1.43-.59-.52 0-1.04.2-1.43.59L10.3 9.45l-7.72 7.72c-.78.78-.78 2.05 0 2.83L4 21.41c.39.39.9.59 1.41.59.51 0 1.02-.2 1.41-.59l7.78-7.78 2.81-2.81c.8-.78.8-2.07 0-2.86zM5.41 20L4 18.59l7.72-7.72 1.47 1.35L5.41 20z\"/>\n",
              "  </svg>\n",
              "      </button>\n",
              "      \n",
              "  <style>\n",
              "    .colab-df-container {\n",
              "      display:flex;\n",
              "      flex-wrap:wrap;\n",
              "      gap: 12px;\n",
              "    }\n",
              "\n",
              "    .colab-df-convert {\n",
              "      background-color: #E8F0FE;\n",
              "      border: none;\n",
              "      border-radius: 50%;\n",
              "      cursor: pointer;\n",
              "      display: none;\n",
              "      fill: #1967D2;\n",
              "      height: 32px;\n",
              "      padding: 0 0 0 0;\n",
              "      width: 32px;\n",
              "    }\n",
              "\n",
              "    .colab-df-convert:hover {\n",
              "      background-color: #E2EBFA;\n",
              "      box-shadow: 0px 1px 2px rgba(60, 64, 67, 0.3), 0px 1px 3px 1px rgba(60, 64, 67, 0.15);\n",
              "      fill: #174EA6;\n",
              "    }\n",
              "\n",
              "    [theme=dark] .colab-df-convert {\n",
              "      background-color: #3B4455;\n",
              "      fill: #D2E3FC;\n",
              "    }\n",
              "\n",
              "    [theme=dark] .colab-df-convert:hover {\n",
              "      background-color: #434B5C;\n",
              "      box-shadow: 0px 1px 3px 1px rgba(0, 0, 0, 0.15);\n",
              "      filter: drop-shadow(0px 1px 2px rgba(0, 0, 0, 0.3));\n",
              "      fill: #FFFFFF;\n",
              "    }\n",
              "  </style>\n",
              "\n",
              "      <script>\n",
              "        const buttonEl =\n",
              "          document.querySelector('#df-83bab981-819e-40e9-88da-b71a491ba13f button.colab-df-convert');\n",
              "        buttonEl.style.display =\n",
              "          google.colab.kernel.accessAllowed ? 'block' : 'none';\n",
              "\n",
              "        async function convertToInteractive(key) {\n",
              "          const element = document.querySelector('#df-83bab981-819e-40e9-88da-b71a491ba13f');\n",
              "          const dataTable =\n",
              "            await google.colab.kernel.invokeFunction('convertToInteractive',\n",
              "                                                     [key], {});\n",
              "          if (!dataTable) return;\n",
              "\n",
              "          const docLinkHtml = 'Like what you see? Visit the ' +\n",
              "            '<a target=\"_blank\" href=https://colab.research.google.com/notebooks/data_table.ipynb>data table notebook</a>'\n",
              "            + ' to learn more about interactive tables.';\n",
              "          element.innerHTML = '';\n",
              "          dataTable['output_type'] = 'display_data';\n",
              "          await google.colab.output.renderOutput(dataTable, element);\n",
              "          const docLink = document.createElement('div');\n",
              "          docLink.innerHTML = docLinkHtml;\n",
              "          element.appendChild(docLink);\n",
              "        }\n",
              "      </script>\n",
              "    </div>\n",
              "  </div>\n",
              "  "
            ]
          },
          "metadata": {},
          "execution_count": 4
        }
      ]
    },
    {
      "cell_type": "code",
      "source": [
        "final = pd.read_csv(\"pr-test-data.csv\")\n",
        "final.head()"
      ],
      "metadata": {
        "colab": {
          "base_uri": "https://localhost:8080/",
          "height": 206
        },
        "id": "UsPcjafni8C4",
        "outputId": "cb112d0d-cd2a-4482-dcfc-2dd0ebfffd24"
      },
      "execution_count": null,
      "outputs": [
        {
          "output_type": "execute_result",
          "data": {
            "text/plain": [
              "   PhraseId  SentenceId                                             Phrase  ID\n",
              "0     15061        8545  As exciting as all this exoticism might sound ...   1\n",
              "1     15062        8545  As exciting as all this exoticism might sound ...   2\n",
              "2     15063        8545  exciting as all this exoticism might sound to ...   3\n",
              "3     15064        8545  exciting as all this exoticism might sound to ...   4\n",
              "4     15065        8545  as all this exoticism might sound to the typic...   5"
            ],
            "text/html": [
              "\n",
              "  <div id=\"df-4cca0470-61e6-4e90-98ff-a139ece4f635\">\n",
              "    <div class=\"colab-df-container\">\n",
              "      <div>\n",
              "<style scoped>\n",
              "    .dataframe tbody tr th:only-of-type {\n",
              "        vertical-align: middle;\n",
              "    }\n",
              "\n",
              "    .dataframe tbody tr th {\n",
              "        vertical-align: top;\n",
              "    }\n",
              "\n",
              "    .dataframe thead th {\n",
              "        text-align: right;\n",
              "    }\n",
              "</style>\n",
              "<table border=\"1\" class=\"dataframe\">\n",
              "  <thead>\n",
              "    <tr style=\"text-align: right;\">\n",
              "      <th></th>\n",
              "      <th>PhraseId</th>\n",
              "      <th>SentenceId</th>\n",
              "      <th>Phrase</th>\n",
              "      <th>ID</th>\n",
              "    </tr>\n",
              "  </thead>\n",
              "  <tbody>\n",
              "    <tr>\n",
              "      <th>0</th>\n",
              "      <td>15061</td>\n",
              "      <td>8545</td>\n",
              "      <td>As exciting as all this exoticism might sound ...</td>\n",
              "      <td>1</td>\n",
              "    </tr>\n",
              "    <tr>\n",
              "      <th>1</th>\n",
              "      <td>15062</td>\n",
              "      <td>8545</td>\n",
              "      <td>As exciting as all this exoticism might sound ...</td>\n",
              "      <td>2</td>\n",
              "    </tr>\n",
              "    <tr>\n",
              "      <th>2</th>\n",
              "      <td>15063</td>\n",
              "      <td>8545</td>\n",
              "      <td>exciting as all this exoticism might sound to ...</td>\n",
              "      <td>3</td>\n",
              "    </tr>\n",
              "    <tr>\n",
              "      <th>3</th>\n",
              "      <td>15064</td>\n",
              "      <td>8545</td>\n",
              "      <td>exciting as all this exoticism might sound to ...</td>\n",
              "      <td>4</td>\n",
              "    </tr>\n",
              "    <tr>\n",
              "      <th>4</th>\n",
              "      <td>15065</td>\n",
              "      <td>8545</td>\n",
              "      <td>as all this exoticism might sound to the typic...</td>\n",
              "      <td>5</td>\n",
              "    </tr>\n",
              "  </tbody>\n",
              "</table>\n",
              "</div>\n",
              "      <button class=\"colab-df-convert\" onclick=\"convertToInteractive('df-4cca0470-61e6-4e90-98ff-a139ece4f635')\"\n",
              "              title=\"Convert this dataframe to an interactive table.\"\n",
              "              style=\"display:none;\">\n",
              "        \n",
              "  <svg xmlns=\"http://www.w3.org/2000/svg\" height=\"24px\"viewBox=\"0 0 24 24\"\n",
              "       width=\"24px\">\n",
              "    <path d=\"M0 0h24v24H0V0z\" fill=\"none\"/>\n",
              "    <path d=\"M18.56 5.44l.94 2.06.94-2.06 2.06-.94-2.06-.94-.94-2.06-.94 2.06-2.06.94zm-11 1L8.5 8.5l.94-2.06 2.06-.94-2.06-.94L8.5 2.5l-.94 2.06-2.06.94zm10 10l.94 2.06.94-2.06 2.06-.94-2.06-.94-.94-2.06-.94 2.06-2.06.94z\"/><path d=\"M17.41 7.96l-1.37-1.37c-.4-.4-.92-.59-1.43-.59-.52 0-1.04.2-1.43.59L10.3 9.45l-7.72 7.72c-.78.78-.78 2.05 0 2.83L4 21.41c.39.39.9.59 1.41.59.51 0 1.02-.2 1.41-.59l7.78-7.78 2.81-2.81c.8-.78.8-2.07 0-2.86zM5.41 20L4 18.59l7.72-7.72 1.47 1.35L5.41 20z\"/>\n",
              "  </svg>\n",
              "      </button>\n",
              "      \n",
              "  <style>\n",
              "    .colab-df-container {\n",
              "      display:flex;\n",
              "      flex-wrap:wrap;\n",
              "      gap: 12px;\n",
              "    }\n",
              "\n",
              "    .colab-df-convert {\n",
              "      background-color: #E8F0FE;\n",
              "      border: none;\n",
              "      border-radius: 50%;\n",
              "      cursor: pointer;\n",
              "      display: none;\n",
              "      fill: #1967D2;\n",
              "      height: 32px;\n",
              "      padding: 0 0 0 0;\n",
              "      width: 32px;\n",
              "    }\n",
              "\n",
              "    .colab-df-convert:hover {\n",
              "      background-color: #E2EBFA;\n",
              "      box-shadow: 0px 1px 2px rgba(60, 64, 67, 0.3), 0px 1px 3px 1px rgba(60, 64, 67, 0.15);\n",
              "      fill: #174EA6;\n",
              "    }\n",
              "\n",
              "    [theme=dark] .colab-df-convert {\n",
              "      background-color: #3B4455;\n",
              "      fill: #D2E3FC;\n",
              "    }\n",
              "\n",
              "    [theme=dark] .colab-df-convert:hover {\n",
              "      background-color: #434B5C;\n",
              "      box-shadow: 0px 1px 3px 1px rgba(0, 0, 0, 0.15);\n",
              "      filter: drop-shadow(0px 1px 2px rgba(0, 0, 0, 0.3));\n",
              "      fill: #FFFFFF;\n",
              "    }\n",
              "  </style>\n",
              "\n",
              "      <script>\n",
              "        const buttonEl =\n",
              "          document.querySelector('#df-4cca0470-61e6-4e90-98ff-a139ece4f635 button.colab-df-convert');\n",
              "        buttonEl.style.display =\n",
              "          google.colab.kernel.accessAllowed ? 'block' : 'none';\n",
              "\n",
              "        async function convertToInteractive(key) {\n",
              "          const element = document.querySelector('#df-4cca0470-61e6-4e90-98ff-a139ece4f635');\n",
              "          const dataTable =\n",
              "            await google.colab.kernel.invokeFunction('convertToInteractive',\n",
              "                                                     [key], {});\n",
              "          if (!dataTable) return;\n",
              "\n",
              "          const docLinkHtml = 'Like what you see? Visit the ' +\n",
              "            '<a target=\"_blank\" href=https://colab.research.google.com/notebooks/data_table.ipynb>data table notebook</a>'\n",
              "            + ' to learn more about interactive tables.';\n",
              "          element.innerHTML = '';\n",
              "          dataTable['output_type'] = 'display_data';\n",
              "          await google.colab.output.renderOutput(dataTable, element);\n",
              "          const docLink = document.createElement('div');\n",
              "          docLink.innerHTML = docLinkHtml;\n",
              "          element.appendChild(docLink);\n",
              "        }\n",
              "      </script>\n",
              "    </div>\n",
              "  </div>\n",
              "  "
            ]
          },
          "metadata": {},
          "execution_count": 5
        }
      ]
    },
    {
      "cell_type": "code",
      "source": [
        "## Show the number of class distributed\n",
        "plt.figure(figsize=(10,5))\n",
        "ax=plt.axes()\n",
        "ax.set_title('Number of sentiment class')\n",
        "sns.countplot(x=df.Sentiment,data=df)"
      ],
      "metadata": {
        "colab": {
          "base_uri": "https://localhost:8080/",
          "height": 505
        },
        "id": "RDXMa0b9i_Yf",
        "outputId": "13db9048-83cc-44a7-9e63-29c714c19397"
      },
      "execution_count": null,
      "outputs": [
        {
          "output_type": "execute_result",
          "data": {
            "text/plain": [
              "<Axes: title={'center': 'Number of sentiment class'}, xlabel='Sentiment', ylabel='count'>"
            ]
          },
          "metadata": {},
          "execution_count": 10
        },
        {
          "output_type": "display_data",
          "data": {
            "text/plain": [
              "<Figure size 1000x500 with 1 Axes>"
            ],
            "image/png": "[encoded data removed]"
          },
          "metadata": {}
        }
      ]
    },
    {
      "cell_type": "code",
      "source": [
        "corr = df[['SentenceId', 'Sentiment']].corr()\n",
        "print(corr)"
      ],
      "metadata": {
        "colab": {
          "base_uri": "https://localhost:8080/"
        },
        "id": "rsOiZt_6jNzf",
        "outputId": "cd3fe2dc-0fd0-4c1b-9384-d6c829061d9b"
      },
      "execution_count": null,
      "outputs": [
        {
          "output_type": "stream",
          "name": "stdout",
          "text": [
            "            SentenceId  Sentiment\n",
            "SentenceId  1.000000   -0.009286 \n",
            "Sentiment  -0.009286    1.000000 \n"
          ]
        }
      ]
    },
    {
      "cell_type": "markdown",
      "source": [
        "because of weak correlation we can ignore it"
      ],
      "metadata": {
        "id": "XXjb6lSbjRcv"
      }
    },
    {
      "cell_type": "code",
      "source": [
        "import nltk\n",
        "nltk.download('stopwords')\n",
        "nltk.download('wordnet')\n"
      ],
      "metadata": {
        "colab": {
          "base_uri": "https://localhost:8080/"
        },
        "id": "0ZE1_WutjQpH",
        "outputId": "694199fa-c6a7-4ddc-b2b7-e22311a59157"
      },
      "execution_count": null,
      "outputs": [
        {
          "output_type": "stream",
          "name": "stderr",
          "text": [
            "[nltk_data] Downloading package stopwords to /root/nltk_data...\n",
            "[nltk_data]   Unzipping corpora/stopwords.zip.\n",
            "[nltk_data] Downloading package wordnet to /root/nltk_data...\n"
          ]
        },
        {
          "output_type": "execute_result",
          "data": {
            "text/plain": [
              "True"
            ]
          },
          "metadata": {},
          "execution_count": 6
        }
      ]
    },
    {
      "cell_type": "markdown",
      "source": [
        "splitting the data into three training validation and test sets. (its not neccessary to split into test because we are using NN but just following protocols in next models I wont do that)"
      ],
      "metadata": {
        "id": "r7z-HJ1sjkYe"
      }
    },
    {
      "cell_type": "code",
      "source": [
        "X_train, X_test, y_train, y_test = train_test_split(df['Phrase'], df['Sentiment'], test_size=0.2, random_state=0)\n",
        "X_train, X_val, y_train, y_val = train_test_split(X_train, y_train, test_size=0.25, random_state=0)\n",
        "X_train"
      ],
      "metadata": {
        "colab": {
          "base_uri": "https://localhost:8080/"
        },
        "id": "oscrw2iVjUfI",
        "outputId": "44c98c74-6467-4289-b47a-346cdf595b06"
      },
      "execution_count": null,
      "outputs": [
        {
          "output_type": "execute_result",
          "data": {
            "text/plain": [
              "82426     ca n't disguise the fact that it 's inauthentic at its core and that its story just is n't worth telling .                     \n",
              "28336     does this so well                                                                                                              \n",
              "109621    gross out                                                                                                                      \n",
              "69155     a Pandora 's Box                                                                                                               \n",
              "35997     Newcastle , the first half of Gangster No. 1 drips with style and                                                              \n",
              "                                        ...                                                                                              \n",
              "42055     pretends                                                                                                                       \n",
              "88538     like whether compromise is the death of self ... this Orgasm -LRB- wo n't be an -RRB- exceedingly memorable one for most people\n",
              "83673     is so thoughtlessly assembled                                                                                                  \n",
              "7633      position                                                                                                                       \n",
              "44536     on its lead 's specific gifts                                                                                                  \n",
              "Name: Phrase, Length: 93028, dtype: object"
            ]
          },
          "metadata": {},
          "execution_count": 13
        }
      ]
    },
    {
      "cell_type": "markdown",
      "source": [
        "# step 2: preprocess the data (methods 1 and 2 )"
      ],
      "metadata": {
        "id": "5czZQcCRkdh2"
      }
    },
    {
      "cell_type": "markdown",
      "source": [
        "## method 1"
      ],
      "metadata": {
        "id": "HReMTDKKlKcl"
      }
    },
    {
      "cell_type": "markdown",
      "source": [
        "first I defined a preprocess function which does the basic EDA tasks on data (its kinda redundant knowing dataset isnt so valid as given in the report)"
      ],
      "metadata": {
        "id": "USEmLTy6kyzu"
      }
    },
    {
      "cell_type": "code",
      "source": [
        "def preprocess_text(text):\n",
        "    # Convert to lowercase\n",
        "    text = text.lower()\n",
        "    # Remove Numbers\n",
        "    text = ''.join([char for char in text if not char.isdigit()])\n",
        "    # Remove punctuation\n",
        "    text = text.translate(str.maketrans('', '', string.punctuation))\n",
        "    # Remove stopwords\n",
        "    stop_words = set(stopwords.words('english'))\n",
        "    words = text.split()\n",
        "    words = [word for word in words if word not in stop_words]\n",
        "    # Lemmatize the words\n",
        "    lemmatizer = WordNetLemmatizer()\n",
        "    words = [lemmatizer.lemmatize(word) for word in words]\n",
        "    text = ' '.join(words)\n",
        "    return text\n",
        "\n",
        "X_train = X_train.apply(preprocess_text)\n",
        "X_val = X_val.apply(preprocess_text)\n",
        "X_test = X_test.apply(preprocess_text)\n",
        "X_train"
      ],
      "metadata": {
        "colab": {
          "base_uri": "https://localhost:8080/"
        },
        "id": "RGPjg8NikaTf",
        "outputId": "ec59e0bf-da6c-42f8-da07-da03c2a6d143"
      },
      "execution_count": null,
      "outputs": [
        {
          "output_type": "execute_result",
          "data": {
            "text/plain": [
              "82426     ca nt disguise fact inauthentic core story nt worth telling                             \n",
              "28336     well                                                                                    \n",
              "109621    gross                                                                                   \n",
              "69155     pandora box                                                                             \n",
              "35997     newcastle first half gangster drip style                                                \n",
              "                            ...                                                                   \n",
              "42055     pretend                                                                                 \n",
              "88538     like whether compromise death self orgasm lrb wo nt rrb exceedingly memorable one people\n",
              "83673     thoughtlessly assembled                                                                 \n",
              "7633      position                                                                                \n",
              "44536     lead specific gift                                                                      \n",
              "Name: Phrase, Length: 93028, dtype: object"
            ]
          },
          "metadata": {},
          "execution_count": 14
        }
      ]
    },
    {
      "cell_type": "markdown",
      "source": [
        "we can see the diffrence in the above that cleaning the dataset makes it better in my logic but not in this dataset"
      ],
      "metadata": {
        "id": "LcE2OLoFlnzW"
      }
    },
    {
      "cell_type": "markdown",
      "source": [
        "## method 2 (fastText)"
      ],
      "metadata": {
        "id": "P8jjZWEhnFpq"
      }
    },
    {
      "cell_type": "markdown",
      "source": [
        "I didi two approaches for fastText first is using wiki-news-300d-1M.kv second is crawl-300d-2M.vec which are both from fastText dataset anyway and can be used for preprocessing and embedding"
      ],
      "metadata": {
        "id": "9Q0eDl4nnHGz"
      }
    },
    {
      "cell_type": "code",
      "source": [
        "def get_embedding(text):\n",
        "    words = text.split()\n",
        "    embeddings = [embeddings_index.get_vector(word) for word in words if word in embeddings_index]\n",
        "    if len(embeddings) == 0:\n",
        "        return np.zeros(300)\n",
        "    else:\n",
        "        return np.mean(embeddings, axis=0)\n",
        "\n",
        "X_train_fasttext = np.array([get_embedding(text) for text in X_train])\n",
        "X_val_fasttext = np.array([get_embedding(text) for text in X_val])\n",
        "X_test_fasttext = np.array([get_embedding(text) for text in X_test])"
      ],
      "metadata": {
        "id": "P3UDuSwrnBVj"
      },
      "execution_count": null,
      "outputs": []
    },
    {
      "cell_type": "code",
      "source": [
        "X_train_fasttext"
      ],
      "metadata": {
        "colab": {
          "base_uri": "https://localhost:8080/"
        },
        "id": "aqslWVKcpZKJ",
        "outputId": "8ebc7666-9e98-4c14-ea33-fc26774a31d0"
      },
      "execution_count": null,
      "outputs": [
        {
          "output_type": "execute_result",
          "data": {
            "text/plain": [
              "array([[ 5.47599904e-02, -5.20700030e-02, -6.90600052e-02, ...,\n",
              "         1.00670002e-01, -5.75899966e-02, -6.24199994e-02],\n",
              "       [-1.28900006e-01,  1.15000000e-02,  3.29999998e-03, ...,\n",
              "         1.81099996e-01,  3.97999994e-02, -5.29999994e-02],\n",
              "       [ 8.83999988e-02, -7.10999966e-02, -3.29000019e-02, ...,\n",
              "         1.57399997e-01,  1.20099999e-01,  8.03000033e-02],\n",
              "       ...,\n",
              "       [ 1.02749996e-01, -8.68000016e-02,  1.66499987e-02, ...,\n",
              "         1.27350003e-01, -3.84000018e-02,  9.57499966e-02],\n",
              "       [ 6.31999969e-02,  4.94999997e-02, -7.27000013e-02, ...,\n",
              "         7.30000017e-03, -3.09999995e-02, -1.33800000e-01],\n",
              "       [ 5.67999966e-02,  5.50666712e-02, -8.59666690e-02, ...,\n",
              "         1.50066659e-01, -1.33333102e-04,  1.15999999e-02]])"
            ]
          },
          "metadata": {},
          "execution_count": 19
        }
      ]
    },
    {
      "cell_type": "markdown",
      "source": [
        "# Sec 2-3: model training and evaluation"
      ],
      "metadata": {
        "id": "mvh-akskpsD3"
      }
    },
    {
      "cell_type": "code",
      "source": [
        "class_counts = y_train.value_counts()\n",
        "print(class_counts)\n"
      ],
      "metadata": {
        "colab": {
          "base_uri": "https://localhost:8080/"
        },
        "id": "XrKZ-p0uptDi",
        "outputId": "ba62c5e3-e4b2-4d4a-9ceb-08c21f1435ad"
      },
      "execution_count": null,
      "outputs": [
        {
          "output_type": "stream",
          "name": "stdout",
          "text": [
            "2    47301\n",
            "3    19757\n",
            "1    16293\n",
            "4    5500 \n",
            "0    4177 \n",
            "Name: Sentiment, dtype: int64\n"
          ]
        }
      ]
    },
    {
      "cell_type": "markdown",
      "source": [
        "its imbalance so we can best do is 2 things: 1) oversample the minority 2)undersample the majority"
      ],
      "metadata": {
        "id": "HqYwdW3tpxL5"
      }
    },
    {
      "cell_type": "code",
      "source": [
        "ros = RandomOverSampler(random_state=0)\n",
        "X_resampled, y_resampled = ros.fit_resample(X_train_fasttext, y_train)\n",
        "\n",
        "print(pd.Series(y_resampled).value_counts())"
      ],
      "metadata": {
        "colab": {
          "base_uri": "https://localhost:8080/"
        },
        "id": "BRxm0vuFpyc4",
        "outputId": "e6ed416f-9378-4b00-c930-668fc12ce2e8"
      },
      "execution_count": null,
      "outputs": [
        {
          "output_type": "stream",
          "name": "stdout",
          "text": [
            "0    47301\n",
            "4    47301\n",
            "1    47301\n",
            "2    47301\n",
            "3    47301\n",
            "Name: Sentiment, dtype: int64\n"
          ]
        }
      ]
    },
    {
      "cell_type": "markdown",
      "source": [
        "## model 1) simple NN"
      ],
      "metadata": {
        "id": "CLAGTWuxqCuX"
      }
    },
    {
      "cell_type": "markdown",
      "source": [
        "because I used NN then it doesnt have much of a hyperparameter (using adam optimizer)"
      ],
      "metadata": {
        "id": "bH9AbGwYqW5A"
      }
    },
    {
      "cell_type": "code",
      "source": [
        "model = Sequential()\n",
        "model.add(Dense(128, activation='relu', input_shape=(X_resampled.shape[1],), kernel_regularizer=l2(0.01)))\n",
        "model.add(Dropout(0.5))\n",
        "model.add(Dense(64, activation='relu', kernel_regularizer=l2(0.01)))\n",
        "model.add(Dropout(0.5))\n",
        "model.add(Dense(5, activation='softmax'))\n",
        "model.compile(loss='sparse_categorical_crossentropy', optimizer='adam', metrics=['accuracy'])\n",
        "history = model.fit(X_resampled, y_resampled, validation_data=(X_val_fasttext, y_val), epochs=35, batch_size=32)\n"
      ],
      "metadata": {
        "colab": {
          "base_uri": "https://localhost:8080/"
        },
        "id": "KKswdXuOqHNf",
        "outputId": "7038dead-9931-431d-c21a-2e37ab74d1de"
      },
      "execution_count": null,
      "outputs": [
        {
          "output_type": "stream",
          "name": "stdout",
          "text": [
            "Epoch 1/5\n",
            "7391/7391 [==============================] - 28s 4ms/step - loss: 1.4242 - accuracy: 0.4212 - val_loss: 1.3727 - val_accuracy: 0.4302\n",
            "Epoch 2/5\n",
            "7391/7391 [==============================] - 26s 4ms/step - loss: 1.3548 - accuracy: 0.4579 - val_loss: 1.3050 - val_accuracy: 0.4762\n",
            "Epoch 3/5\n",
            "7391/7391 [==============================] - 27s 4ms/step - loss: 1.3423 - accuracy: 0.4669 - val_loss: 1.3198 - val_accuracy: 0.4602\n",
            "Epoch 4/5\n",
            "7391/7391 [==============================] - 27s 4ms/step - loss: 1.3389 - accuracy: 0.4707 - val_loss: 1.3794 - val_accuracy: 0.4049\n",
            "Epoch 5/5\n",
            "7391/7391 [==============================] - 24s 3ms/step - loss: 1.3344 - accuracy: 0.4734 - val_loss: 1.3332 - val_accuracy: 0.4504\n"
          ]
        }
      ]
    },
    {
      "cell_type": "markdown",
      "source": [
        "not good but couldnt expect better from it now to check the effect of processing function or not we eliminate some of methods:"
      ],
      "metadata": {
        "id": "ja7_DiLquzqb"
      }
    },
    {
      "cell_type": "code",
      "source": [
        "X_train, X_test, y_train, y_test = train_test_split(df['Phrase'], df['Sentiment'], test_size=0.2, random_state=0)\n",
        "X_train, X_val, y_train, y_val = train_test_split(X_train, y_train, test_size=0.25, random_state=0)\n",
        "def preprocess_text(text):\n",
        "    # Convert to lowercase\n",
        "    text = text.lower()\n",
        "    # Remove Numbers\n",
        "    text = ''.join([char for char in text if not char.isdigit()])\n",
        "    # Remove punctuation\n",
        "    text = text.translate(str.maketrans('', '', string.punctuation))\n",
        "    # Remove stopwords\n",
        "    stop_words = set(stopwords.words('english'))\n",
        "    words = text.split()\n",
        "    words = [word for word in words if word not in stop_words]\n",
        "    # Lemmatize the words\n",
        "    lemmatizer = WordNetLemmatizer()\n",
        "    words = [lemmatizer.lemmatize(word) for word in words]\n",
        "    text = ' '.join(words)\n",
        "    return text\n",
        "\n",
        "X_train = X_train.apply(preprocess_text)\n",
        "X_val = X_val.apply(preprocess_text)\n",
        "X_test = X_test.apply(preprocess_text)\n",
        "\n",
        "def get_embedding(text):\n",
        "    words = text.split()\n",
        "    embeddings = [embeddings_index.get_vector(word) for word in words if word in embeddings_index]\n",
        "    if len(embeddings) == 0:\n",
        "        return np.zeros(300)\n",
        "    else:\n",
        "        return np.mean(embeddings, axis=0)\n",
        "\n",
        "X_train_fasttext = np.array([get_embedding(text) for text in X_train])\n",
        "X_val_fasttext = np.array([get_embedding(text) for text in X_val])\n",
        "X_test_fasttext = np.array([get_embedding(text) for text in X_test])\n",
        "ros = RandomOverSampler(random_state=0)\n",
        "X_resampled, y_resampled = ros.fit_resample(X_train_fasttext, y_train)\n",
        "print(pd.Series(y_resampled).value_counts())\n",
        "model = Sequential()\n",
        "model.add(Dense(128, activation='relu', input_shape=(X_resampled.shape[1],), kernel_regularizer=l2(0.01)))\n",
        "model.add(Dropout(0.5))\n",
        "model.add(Dense(64, activation='relu', kernel_regularizer=l2(0.01)))\n",
        "model.add(Dropout(0.5))\n",
        "model.add(Dense(5, activation='softmax'))\n",
        "model.compile(loss='sparse_categorical_crossentropy', optimizer='adam', metrics=['accuracy'])\n",
        "history = model.fit(X_resampled, y_resampled, validation_data=(X_val_fasttext, y_val), epochs=5, batch_size=32)\n"
      ],
      "metadata": {
        "colab": {
          "base_uri": "https://localhost:8080/"
        },
        "id": "GnNLhcyEvCsT",
        "outputId": "be254bdd-40bd-4c05-f900-fd0bc9914de6"
      },
      "execution_count": null,
      "outputs": [
        {
          "output_type": "stream",
          "name": "stdout",
          "text": [
            "0    47301\n",
            "4    47301\n",
            "1    47301\n",
            "2    47301\n",
            "3    47301\n",
            "Name: Sentiment, dtype: int64\n",
            "Epoch 1/5\n",
            "7391/7391 [==============================] - 32s 4ms/step - loss: 1.4406 - accuracy: 0.4134 - val_loss: 1.3982 - val_accuracy: 0.4019\n",
            "Epoch 2/5\n",
            "7391/7391 [==============================] - 26s 3ms/step - loss: 1.3575 - accuracy: 0.4567 - val_loss: 1.3028 - val_accuracy: 0.4643\n",
            "Epoch 3/5\n",
            "7391/7391 [==============================] - 27s 4ms/step - loss: 1.3398 - accuracy: 0.4658 - val_loss: 1.2977 - val_accuracy: 0.4678\n",
            "Epoch 4/5\n",
            "7391/7391 [==============================] - 30s 4ms/step - loss: 1.3307 - accuracy: 0.4703 - val_loss: 1.4259 - val_accuracy: 0.3548\n",
            "Epoch 5/5\n",
            "7391/7391 [==============================] - 29s 4ms/step - loss: 1.3257 - accuracy: 0.4732 - val_loss: 1.3509 - val_accuracy: 0.4064\n"
          ]
        }
      ]
    },
    {
      "cell_type": "markdown",
      "source": [
        "not so obvious on this model so lets change the model"
      ],
      "metadata": {
        "id": "zs6AP2rYwHdB"
      }
    },
    {
      "cell_type": "markdown",
      "source": [
        "## model 2) GaussianNB & MultinomialNB"
      ],
      "metadata": {
        "id": "9dOxxZwpwa-x"
      }
    },
    {
      "cell_type": "code",
      "source": [
        "nb_model = GaussianNB()\n",
        "nb_model.fit(X_train_fasttext, y_train)\n",
        "y_pred = nb_model.predict(X_test_fasttext)\n",
        "precision = precision_score(y_test, y_pred, average='weighted')\n",
        "recall = recall_score(y_test, y_pred, average='weighted')\n",
        "f1 = f1_score(y_test, y_pred, average='weighted')\n",
        "confusion = confusion_matrix(y_test, y_pred)\n",
        "confusion_normalized = confusion.astype('float') / confusion.sum(axis=1)[:, np.newaxis]\n",
        "print(f'Precision: {precision:.2f}')\n",
        "print(f'Recall: {recall:.2f}')\n",
        "print(f'F1-score: {f1:.2f}')\n",
        "print('Normalized Confusion Matrix:')\n",
        "print(confusion_normalized)\n"
      ],
      "metadata": {
        "colab": {
          "base_uri": "https://localhost:8080/"
        },
        "id": "UqaxOfMJxga6",
        "outputId": "b800d03e-18b9-49ee-8f8f-8c11af20389c"
      },
      "execution_count": null,
      "outputs": [
        {
          "output_type": "stream",
          "name": "stdout",
          "text": [
            "Precision: 0.49\n",
            "Recall: 0.32\n",
            "F1-score: 0.35\n",
            "Normalized Confusion Matrix:\n",
            "[[0.74948524 0.09540151 0.09814688 0.00960879 0.04735758]\n",
            " [0.57330862 0.12715477 0.18980538 0.02372567 0.08600556]\n",
            " [0.27215988 0.09494389 0.40467785 0.10068087 0.12753751]\n",
            " [0.27859464 0.03080019 0.19950472 0.12521282 0.36588763]\n",
            " [0.19945504 0.00599455 0.10735695 0.10517711 0.58201635]]\n"
          ]
        }
      ]
    },
    {
      "cell_type": "markdown",
      "source": [
        " contains negative values so I used GaussianNB as we see it doesnt give the most accurate results. the model is doing a good job at predicting the first class (with a proportion of 0.749), but not as well on the other classes."
      ],
      "metadata": {
        "id": "FgSxC2HYyYp4"
      }
    },
    {
      "cell_type": "markdown",
      "source": [
        "now lets use resampling on it:"
      ],
      "metadata": {
        "id": "NWGMAfPHy7fI"
      }
    },
    {
      "cell_type": "code",
      "source": [
        "X_train, X_test, y_train, y_test = train_test_split(df['Phrase'], df['Sentiment'], test_size=0.2, random_state=0)\n",
        "X_train, X_val, y_train, y_val = train_test_split(X_train, y_train, test_size=0.25, random_state=0)\n",
        "def preprocess_text(text):\n",
        "    # Convert to lowercase\n",
        "    text = text.lower()\n",
        "    # Remove Numbers\n",
        "    text = ''.join([char for char in text if not char.isdigit()])\n",
        "    # Remove punctuation\n",
        "    text = text.translate(str.maketrans('', '', string.punctuation))\n",
        "    # Remove stopwords\n",
        "    stop_words = set(stopwords.words('english'))\n",
        "    words = text.split()\n",
        "    words = [word for word in words if word not in stop_words]\n",
        "    # Lemmatize the words\n",
        "    lemmatizer = WordNetLemmatizer()\n",
        "    words = [lemmatizer.lemmatize(word) for word in words]\n",
        "    text = ' '.join(words)\n",
        "    return text\n",
        "\n",
        "X_train = X_train.apply(preprocess_text)\n",
        "X_val = X_val.apply(preprocess_text)\n",
        "X_test = X_test.apply(preprocess_text)\n",
        "\n",
        "def get_embedding(text):\n",
        "    words = text.split()\n",
        "    embeddings = [embeddings_index.get_vector(word) for word in words if word in embeddings_index]\n",
        "    if len(embeddings) == 0:\n",
        "        return np.zeros(300)\n",
        "    else:\n",
        "        return np.mean(embeddings, axis=0)\n",
        "\n",
        "X_train_fasttext = np.array([get_embedding(text) for text in X_train])\n",
        "X_val_fasttext = np.array([get_embedding(text) for text in X_val])\n",
        "X_test_fasttext = np.array([get_embedding(text) for text in X_test])\n",
        "ros = RandomOverSampler(random_state=0)\n",
        "X_resampled, y_resampled = ros.fit_resample(X_train_fasttext, y_train)\n",
        "print(pd.Series(y_resampled).value_counts())\n",
        "nb_model = GaussianNB()\n",
        "nb_model.fit(X_resampled, y_resampled)\n",
        "y_pred = nb_model.predict(X_test_fasttext)\n",
        "precision = precision_score(y_test, y_pred, average='weighted')\n",
        "recall = recall_score(y_test, y_pred, average='weighted')\n",
        "f1 = f1_score(y_test, y_pred, average='weighted')\n",
        "confusion = confusion_matrix(y_test, y_pred)\n",
        "confusion_normalized = confusion.astype('float') / confusion.sum(axis=1)[:, np.newaxis]\n",
        "print(f'Precision: {precision:.2f}')\n",
        "print(f'Recall: {recall:.2f}')\n",
        "print(f'F1-score: {f1:.2f}')\n",
        "print('Normalized Confusion Matrix:')\n",
        "print(confusion_normalized)\n"
      ],
      "metadata": {
        "colab": {
          "base_uri": "https://localhost:8080/"
        },
        "id": "ZD1Vinguy-Mm",
        "outputId": "ab76165a-13c6-48a6-ebc5-d939433d1a43"
      },
      "execution_count": null,
      "outputs": [
        {
          "output_type": "stream",
          "name": "stdout",
          "text": [
            "0    47301\n",
            "4    47301\n",
            "1    47301\n",
            "2    47301\n",
            "3    47301\n",
            "Name: Sentiment, dtype: int64\n",
            "Precision: 0.52\n",
            "Recall: 0.39\n",
            "F1-score: 0.42\n",
            "Normalized Confusion Matrix:\n",
            "[[0.52642416 0.1297186  0.11599176 0.01441318 0.2134523 ]\n",
            " [0.3278962  0.15217794 0.23280816 0.03799815 0.24911956]\n",
            " [0.12905056 0.08870256 0.51475224 0.10414828 0.16334636]\n",
            " [0.08481659 0.03977712 0.21235103 0.17984832 0.48320693]\n",
            " [0.05013624 0.00980926 0.09427793 0.13024523 0.71553134]]\n"
          ]
        }
      ]
    },
    {
      "cell_type": "markdown",
      "source": [
        "resampling is great :) lets try out other things for example instead of fast text lets use TF IDF"
      ],
      "metadata": {
        "id": "l4URgR_YzYsm"
      }
    },
    {
      "cell_type": "code",
      "source": [
        "X_train, X_test, y_train, y_test = train_test_split(df['Phrase'], df['Sentiment'], test_size=0.2, random_state=0)\n",
        "X_train, X_val, y_train, y_val = train_test_split(X_train, y_train, test_size=0.25, random_state=0)\n",
        "def preprocess_text(text):\n",
        "    # Convert to lowercase\n",
        "    text = text.lower()\n",
        "    # Remove Numbers\n",
        "    text = ''.join([char for char in text if not char.isdigit()])\n",
        "    # Remove punctuation\n",
        "    text = text.translate(str.maketrans('', '', string.punctuation))\n",
        "    # Remove stopwords\n",
        "    stop_words = set(stopwords.words('english'))\n",
        "    words = text.split()\n",
        "    words = [word for word in words if word not in stop_words]\n",
        "    # Lemmatize the words\n",
        "    lemmatizer = WordNetLemmatizer()\n",
        "    words = [lemmatizer.lemmatize(word) for word in words]\n",
        "\n",
        "    text = ' '.join(words)\n",
        "    return text\n",
        "\n",
        "X_train = X_train.apply(preprocess_text)\n",
        "X_val = X_val.apply(preprocess_text)\n",
        "X_test = X_test.apply(preprocess_text)\n",
        "vectorizer = TfidfVectorizer()\n",
        "X_train_tfidf = vectorizer.fit_transform(X_train)\n",
        "X_val_tfidf = vectorizer.transform(X_val)\n",
        "X_test_tfidf = vectorizer.transform(X_test)\n",
        "ros = RandomOverSampler(random_state=0)\n",
        "X_resampled, y_resampled = ros.fit_resample(X_train_tfidf, y_train)\n",
        "nb_model = MultinomialNB()\n",
        "nb_model.fit(X_resampled, y_resampled)\n",
        "y_pred = nb_model.predict(X_test_tfidf)\n",
        "precision = precision_score(y_test, y_pred, average='weighted')\n",
        "recall = recall_score(y_test, y_pred, average='weighted')\n",
        "f1 = f1_score(y_test, y_pred, average='weighted')\n",
        "confusion = confusion_matrix(y_test, y_pred)\n",
        "confusion_normalized = confusion.astype('float') / confusion.sum(axis=1)[:, np.newaxis]\n",
        "print(f'Precision: {precision:.2f}')\n",
        "print(f'Recall: {recall:.2f}')\n",
        "print(f'F1-score: {f1:.2f}')\n",
        "print('Normalized Confusion Matrix:')\n",
        "print(confusion_normalized)\n"
      ],
      "metadata": {
        "colab": {
          "base_uri": "https://localhost:8080/"
        },
        "id": "rUFFItRBzdyu",
        "outputId": "194b32f0-8f8a-4618-8a6e-4e8a69f38245"
      },
      "execution_count": null,
      "outputs": [
        {
          "output_type": "stream",
          "name": "stdout",
          "text": [
            "Precision: 0.54\n",
            "Recall: 0.40\n",
            "F1-score: 0.42\n",
            "Normalized Confusion Matrix:\n",
            "[[0.62319835 0.28345916 0.05765271 0.01990391 0.01578586]\n",
            " [0.30954588 0.41130677 0.17720111 0.06283596 0.03911029]\n",
            " [0.16851595 0.17456815 0.34875804 0.17450511 0.13365276]\n",
            " [0.05277821 0.0626838  0.1603467  0.39080638 0.33338492]\n",
            " [0.01743869 0.01362398 0.05558583 0.27084469 0.64250681]]\n"
          ]
        }
      ]
    },
    {
      "cell_type": "markdown",
      "source": [
        "much better so for models like naive bayes it seems the first method is better"
      ],
      "metadata": {
        "id": "LpUMORYh08e8"
      }
    },
    {
      "cell_type": "markdown",
      "source": [
        "## model 3) DecisionTreeClassifier"
      ],
      "metadata": {
        "id": "B0Ovspqb6zCG"
      }
    },
    {
      "cell_type": "markdown",
      "source": [
        "based on type of the model we decide which method to use now to do some hyperparameter tuning we use:"
      ],
      "metadata": {
        "id": "w6mZ0ZqqtAuC"
      }
    },
    {
      "cell_type": "code",
      "source": [
        "\n",
        "\n",
        "X_train, X_test, y_train, y_test = train_test_split(df['Phrase'], df['Sentiment'], test_size=0.2, random_state=0)\n",
        "X_train, X_val, y_train, y_val = train_test_split(X_train, y_train, test_size=0.25, random_state=0)\n",
        "\n",
        "def preprocess_text(text):\n",
        "    # Convert to lowercase\n",
        "    text = text.lower()\n",
        "    # Remove Numbers\n",
        "    text = ''.join([char for char in text if not char.isdigit()])\n",
        "    # Remove punctuation\n",
        "    text = text.translate(str.maketrans('', '', string.punctuation))\n",
        "    # Remove stopwords\n",
        "    stop_words = set(stopwords.words('english'))\n",
        "    words = text.split()\n",
        "    words = [word for word in words if word not in stop_words]\n",
        "    # Lemmatize the words\n",
        "    lemmatizer = WordNetLemmatizer()\n",
        "    words = [lemmatizer.lemmatize(word) for word in words]\n",
        "    text = ' '.join(words)\n",
        "    return text\n",
        "\n",
        "X_train = X_train.apply(preprocess_text)\n",
        "X_val = X_val.apply(preprocess_text)\n",
        "X_test = X_test.apply(preprocess_text)\n",
        "vectorizer = TfidfVectorizer()\n",
        "X_train_tfidf = vectorizer.fit_transform(X_train)\n",
        "X_val_tfidf = vectorizer.transform(X_val)\n",
        "X_test_tfidf = vectorizer.transform(X_test)\n",
        "ros = RandomOverSampler(random_state=0)\n",
        "X_resampled, y_resampled = ros.fit_resample(X_train_tfidf, y_train)\n",
        "param_grid = {\n",
        "    'criterion': ['gini', 'entropy'],\n",
        "    'max_depth': [4, 6, 8],\n",
        "    'min_samples_split': [5, 10],\n",
        "    'min_samples_leaf': [2, 4]\n",
        "}\n",
        "\n",
        "dt_model = DecisionTreeClassifier()\n",
        "grid_search = GridSearchCV(estimator=dt_model, param_grid=param_grid, cv=5)\n",
        "grid_search.fit(X_resampled, y_resampled)\n",
        "best_params = grid_search.best_params_\n",
        "print(f'Best hyperparameters: {best_params}')\n",
        "best_dt_model = DecisionTreeClassifier(**best_params)\n",
        "best_dt_model.fit(X_resampled, y_resampled)\n",
        "y_pred = best_dt_model.predict(X_test_tfidf)\n",
        "precision = precision_score(y_test, y_pred, average='weighted')\n",
        "recall = recall_score(y_test, y_pred, average='weighted')\n",
        "f1 = f1_score(y_test, y_pred, average='weighted')\n",
        "confusion = confusion_matrix(y_test, y_pred)\n",
        "confusion_normalized = confusion.astype('float') / confusion.sum(axis=1)[:, np.newaxis]\n",
        "\n",
        "# Print results\n",
        "print(f'Precision: {precision:.2f}')\n",
        "print(f'Recall: {recall:.2f}')\n",
        "print(f'F1-score: {f1:.2f}')\n",
        "print('Normalized Confusion Matrix:')\n",
        "print(confusion_normalized)\n"
      ],
      "metadata": {
        "colab": {
          "base_uri": "https://localhost:8080/"
        },
        "id": "dnPoLTGZt_8r",
        "outputId": "6f4fefd5-1980-43bd-d614-28639acc0505"
      },
      "execution_count": null,
      "outputs": [
        {
          "output_type": "stream",
          "name": "stdout",
          "text": [
            "Best hyperparameters: {'criterion': 'entropy', 'max_depth': 8, 'min_samples_leaf': 2, 'min_samples_split': 5}\n",
            "Precision: 0.44\n",
            "Recall: 0.50\n",
            "F1-score: 0.38\n",
            "Normalized Confusion Matrix:\n",
            "[[1.82566918e-01 2.26492793e-02 7.10363761e-01 0.00000000e+00\n",
            "  8.44200412e-02]\n",
            " [7.39573679e-02 2.79888786e-02 8.27618165e-01 5.56070436e-04\n",
            "  6.98795181e-02]\n",
            " [1.67696381e-02 9.64569411e-03 9.19177909e-01 3.15218762e-04\n",
            "  5.40915395e-02]\n",
            " [3.42052314e-02 7.73874013e-03 8.43367900e-01 7.73874013e-04\n",
            "  1.13914255e-01]\n",
            " [5.28610354e-02 7.62942779e-03 7.02997275e-01 0.00000000e+00\n",
            "  2.36512262e-01]]\n"
          ]
        }
      ]
    },
    {
      "cell_type": "markdown",
      "source": [
        "## model 4) LSTM + CNN"
      ],
      "metadata": {
        "id": "uWkhQfy99wJo"
      }
    },
    {
      "cell_type": "code",
      "source": [
        "df = pd.read_csv(\"pr-training-data.csv.csv\")\n",
        "final = pd.read_csv(\"pr-test-data.csv\")\n",
        "train_data, val_data = train_test_split(df, test_size=0.2, random_state=7)\n",
        "tokenizer = Tokenizer(num_words=20000, lower=True, filters='\\n\\t')\n",
        "tokenizer.fit_on_texts(list(df['Phrase'].values) + list(final['Phrase'].values))\n",
        "train_fin = tf.keras.preprocessing.sequence.pad_sequences(tokenizer.texts_to_sequences(list(train_data['Phrase'].values)), maxlen=60,  padding='post')\n",
        "val_fin = tf.keras.preprocessing.sequence.pad_sequences(tokenizer.texts_to_sequences(list(val_data['Phrase'].values)), maxlen=60,  padding='post')\n",
        "test_fin = tf.keras.preprocessing.sequence.pad_sequences(tokenizer.texts_to_sequences( list(final['Phrase'].values)), maxlen=60,  padding='post')\n",
        "drive.mount('/content/drive')\n",
        "file_path = './crawl-300d-2M.vec'\n",
        "drive_dir_path = '/content/drive/MyDrive/Colab Notebooks/'\n",
        "file_path = drive_dir_path + 'crawl-300d-2M.vec'\n",
        "word_index = tokenizer.word_index\n",
        "embed = {}\n",
        "embedding_size = 300\n",
        "with open(file_path, 'r') as f:\n",
        "    for line in f:\n",
        "        values = line.rstrip().rsplit(' ')\n",
        "        word = values[0]\n",
        "        coefs = np.asarray(values[1:], dtype='float32')\n",
        "        embed[word] = coefs\n",
        "num_words = min(20000, len(word_index) + 1)\n",
        "embedding_matrix = np.zeros((num_words, embedding_size))\n",
        "for word, i in word_index.items():\n",
        "    if i >= 20000:\n",
        "        continue\n",
        "    embedding_vector = embed.get(word)\n",
        "    if embedding_vector is not None:\n",
        "        embedding_matrix[i] = embedding_vector\n",
        "input_words = Input((60, ))\n",
        "word_embeddings = Embedding(num_words, embedding_size, weights=[embedding_matrix], trainable=False)(input_words)\n",
        "word_embeddings = SpatialDropout1D(0.3)(word_embeddings)\n",
        "word_embeddings = Bidirectional(CuDNNLSTM(100, return_sequences=True))(word_embeddings)\n",
        "word_embeddings = Dropout(0.2)(word_embeddings)\n",
        "word_embeddings = Conv1D(256, 3, strides=1, padding='causal', activation='relu')(word_embeddings)\n",
        "word_embeddings = BatchNormalization()(word_embeddings)\n",
        "word_embeddings = Conv1D(512, 5, strides=1, padding='causal', activation='relu')(word_embeddings)\n",
        "word_embeddings = BatchNormalization()(word_embeddings)\n",
        "word_embeddings = GlobalMaxPool1D()(word_embeddings)\n",
        "word_embeddings = Dropout(0.2)(word_embeddings)\n",
        "x = Dense(100, activation=\"relu\")(word_embeddings)\n",
        "x = Dropout(0.2)(x)\n",
        "predictions = Dense(5, activation=\"softmax\")(x)\n",
        "model = Model(inputs=[input_words], outputs=predictions)\n",
        "model.compile(optimizer='rmsprop' ,loss='categorical_crossentropy', metrics=['accuracy'])\n",
        "print(model.summary())\n",
        "history = model.fit([train_fin], pd.get_dummies(train_data['Sentiment']), epochs=15, verbose=1, batch_size=1024, validation_data=([val_fin], pd.get_dummies(val_data['Sentiment'])), shuffle=True)\n",
        "pred_test = model.predict([test_fin], batch_size=1024, verbose = 0)\n",
        "max_pred = np.round(np.argmax(pred_test, axis=1)).astype(int)\n",
        "output = pd.DataFrame({'Sentiment': max_pred})\n",
        "output['ID'] = range(1, len(max_pred) + 1)\n",
        "output.to_csv('5.csv', index=False)"
      ],
      "metadata": {
        "colab": {
          "base_uri": "https://localhost:8080/"
        },
        "id": "kIumn8LtaWk6",
        "outputId": "a3da236e-821a-40c3-a48c-585a4ab0244e"
      },
      "execution_count": null,
      "outputs": [
        {
          "output_type": "stream",
          "name": "stdout",
          "text": [
            "Drive already mounted at /content/drive; to attempt to forcibly remount, call drive.mount(\"/content/drive\", force_remount=True).\n",
            "Model: \"model\"\n",
            "_________________________________________________________________\n",
            " Layer (type)                Output Shape              Param #   \n",
            "=================================================================\n",
            " input_1 (InputLayer)        [(None, 60)]              0         \n",
            "                                                                 \n",
            " embedding (Embedding)       (None, 60, 300)           4959900   \n",
            "                                                                 \n",
            " spatial_dropout1d (SpatialD  (None, 60, 300)          0         \n",
            " ropout1D)                                                       \n",
            "                                                                 \n",
            " bidirectional (Bidirectiona  (None, 60, 200)          321600    \n",
            " l)                                                              \n",
            "                                                                 \n",
            " dropout (Dropout)           (None, 60, 200)           0         \n",
            "                                                                 \n",
            " conv1d (Conv1D)             (None, 60, 256)           153856    \n",
            "                                                                 \n",
            " batch_normalization (BatchN  (None, 60, 256)          1024      \n",
            " ormalization)                                                   \n",
            "                                                                 \n",
            " conv1d_1 (Conv1D)           (None, 60, 512)           655872    \n",
            "                                                                 \n",
            " batch_normalization_1 (Batc  (None, 60, 512)          2048      \n",
            " hNormalization)                                                 \n",
            "                                                                 \n",
            " global_max_pooling1d (Globa  (None, 512)              0         \n",
            " lMaxPooling1D)                                                  \n",
            "                                                                 \n",
            " dropout_1 (Dropout)         (None, 512)               0         \n",
            "                                                                 \n",
            " dense (Dense)               (None, 100)               51300     \n",
            "                                                                 \n",
            " dropout_2 (Dropout)         (None, 100)               0         \n",
            "                                                                 \n",
            " dense_1 (Dense)             (None, 5)                 505       \n",
            "                                                                 \n",
            "=================================================================\n",
            "Total params: 6,146,105\n",
            "Trainable params: 1,184,669\n",
            "Non-trainable params: 4,961,436\n",
            "_________________________________________________________________\n",
            "None\n",
            "Epoch 1/15\n",
            "122/122 [==============================] - 44s 220ms/step - loss: 1.2039 - accuracy: 0.5567 - val_loss: 4.8645 - val_accuracy: 0.2227\n",
            "Epoch 2/15\n",
            "122/122 [==============================] - 24s 196ms/step - loss: 0.9539 - accuracy: 0.6031 - val_loss: 5.8100 - val_accuracy: 0.2376\n",
            "Epoch 3/15\n",
            "122/122 [==============================] - 25s 208ms/step - loss: 0.9270 - accuracy: 0.6163 - val_loss: 3.5222 - val_accuracy: 0.2656\n",
            "Epoch 4/15\n",
            "122/122 [==============================] - 26s 211ms/step - loss: 0.9062 - accuracy: 0.6245 - val_loss: 1.3163 - val_accuracy: 0.4193\n",
            "Epoch 5/15\n",
            "122/122 [==============================] - 26s 214ms/step - loss: 0.8927 - accuracy: 0.6296 - val_loss: 0.8539 - val_accuracy: 0.6413\n",
            "Epoch 6/15\n",
            "122/122 [==============================] - 25s 204ms/step - loss: 0.8783 - accuracy: 0.6359 - val_loss: 0.8679 - val_accuracy: 0.6378\n",
            "Epoch 7/15\n",
            "122/122 [==============================] - 25s 206ms/step - loss: 0.8660 - accuracy: 0.6402 - val_loss: 0.8396 - val_accuracy: 0.6461\n",
            "Epoch 8/15\n",
            "122/122 [==============================] - 26s 213ms/step - loss: 0.8527 - accuracy: 0.6460 - val_loss: 0.8314 - val_accuracy: 0.6565\n",
            "Epoch 9/15\n",
            "122/122 [==============================] - 25s 205ms/step - loss: 0.8443 - accuracy: 0.6492 - val_loss: 0.8268 - val_accuracy: 0.6570\n",
            "Epoch 10/15\n",
            "122/122 [==============================] - 26s 213ms/step - loss: 0.8320 - accuracy: 0.6519 - val_loss: 0.8190 - val_accuracy: 0.6601\n",
            "Epoch 11/15\n",
            "122/122 [==============================] - 25s 205ms/step - loss: 0.8208 - accuracy: 0.6585 - val_loss: 0.8410 - val_accuracy: 0.6466\n",
            "Epoch 12/15\n",
            "122/122 [==============================] - 26s 212ms/step - loss: 0.8132 - accuracy: 0.6623 - val_loss: 0.8542 - val_accuracy: 0.6507\n",
            "Epoch 13/15\n",
            "122/122 [==============================] - 25s 205ms/step - loss: 0.8046 - accuracy: 0.6645 - val_loss: 0.8483 - val_accuracy: 0.6594\n",
            "Epoch 14/15\n",
            "122/122 [==============================] - 25s 205ms/step - loss: 0.7964 - accuracy: 0.6690 - val_loss: 0.7959 - val_accuracy: 0.6591\n",
            "Epoch 15/15\n",
            "122/122 [==============================] - 25s 205ms/step - loss: 0.7910 - accuracy: 0.6692 - val_loss: 0.8088 - val_accuracy: 0.6643\n"
          ]
        }
      ]
    },
    {
      "cell_type": "code",
      "source": [
        "plt.plot(history.history['loss'])\n",
        "plt.plot(history.history['val_loss'])\n",
        "plt.title('Model Loss')\n",
        "plt.ylabel('Loss')\n",
        "plt.xlabel('Epoch')\n",
        "plt.legend(['Train', 'Validation'], loc='upper left')\n",
        "plt.show()\n",
        "plt.plot(history.history['accuracy'])\n",
        "plt.plot(history.history['val_accuracy'])\n",
        "plt.title('Model Accuracy')\n",
        "plt.ylabel('Accuracy')\n",
        "plt.xlabel('Epoch')\n",
        "plt.legend(['Train', 'Validation'], loc='upper left')\n",
        "plt.show()\n",
        "y_val_pred = model.predict([val_fin])\n",
        "y_val_pred_classes = np.argmax(y_val_pred, axis=1)\n",
        "y_val_true = np.argmax(pd.get_dummies(val_data['Sentiment']).values, axis=1)\n",
        "confusion_matrix(y_val_true, y_val_pred_classes)\n"
      ],
      "metadata": {
        "colab": {
          "base_uri": "https://localhost:8080/",
          "height": 1000
        },
        "id": "_SwxOIp3sJ54",
        "outputId": "f9d8aaf6-15e2-4a50-80fc-bb2187874d95"
      },
      "execution_count": null,
      "outputs": [
        {
          "output_type": "display_data",
          "data": {
            "text/plain": [
              "<Figure size 640x480 with 1 Axes>"
            ],
            "image/png": "[encoded data removed]"
          },
          "metadata": {}
        },
        {
          "output_type": "display_data",
          "data": {
            "text/plain": [
              "<Figure size 640x480 with 1 Axes>"
            ],
            "image/png": "[encoded data removed]"
          },
          "metadata": {}
        },
        {
          "output_type": "stream",
          "name": "stdout",
          "text": [
            "970/970 [==============================] - 6s 6ms/step\n"
          ]
        },
        {
          "output_type": "execute_result",
          "data": {
            "text/plain": [
              "array([[  693,   608,    77,    34,     3],\n",
              "       [  652,  3041,  1501,   217,     3],\n",
              "       [  146,  1742, 12340,  1539,    15],\n",
              "       [    6,   268,  1988,  4222,    98],\n",
              "       [    0,    17,    61,  1436,   303]])"
            ]
          },
          "metadata": {},
          "execution_count": 7
        }
      ]
    },
    {
      "cell_type": "markdown",
      "source": [
        "as we can see the this model is doing great we can try many other things like for vectorizer instead of keras we can use countvectorizer as well and also add more layers use other activation functions or optimizers as well but they will be kinda similar like this is another way:"
      ],
      "metadata": {
        "id": "ndMYChKHsg1e"
      }
    },
    {
      "cell_type": "code",
      "source": [
        "df = pd.read_csv(\"pr-training-data.csv.csv\")\n",
        "final = pd.read_csv(\"pr-test-data.csv\")\n",
        "train_data, val_data = train_test_split(df, test_size=0.2, random_state=7)\n",
        "\n",
        "\n",
        "vectorizer = CountVectorizer(max_features=20000, lowercase=True)\n",
        "vectorizer.fit(list(df['Phrase'].values) + list(final['Phrase'].values))\n",
        "\n",
        "train_fin = tf.keras.preprocessing.sequence.pad_sequences(vectorizer.transform(list(train_data['Phrase'].values)).toarray(), maxlen=60,  padding='post')\n",
        "val_fin = tf.keras.preprocessing.sequence.pad_sequences(vectorizer.transform(list(val_data['Phrase'].values)).toarray(), maxlen=60,  padding='post')\n",
        "test_fin = tf.keras.preprocessing.sequence.pad_sequences(vectorizer.transform(list(final['Phrase'].values)).toarray(), maxlen=60,  padding='post')\n",
        "\n",
        "drive.mount('/content/drive')\n",
        "file_path = './crawl-300d-2M.vec'\n",
        "drive_dir_path = '/content/drive/MyDrive/Colab Notebooks/'\n",
        "file_path = drive_dir_path + 'crawl-300d-2M.vec'\n",
        "word_index = vectorizer.vocabulary_\n",
        "embed = {}\n",
        "embedding_size = 300\n",
        "with open(file_path, 'r') as f:\n",
        "    for line in f:\n",
        "        values = line.rstrip().rsplit(' ')\n",
        "        word = values[0]\n",
        "        coefs = np.asarray(values[1:], dtype='float32')\n",
        "        embed[word] = coefs\n",
        "num_words = min(20000, len(word_index) + 1)\n",
        "embedding_matrix = np.zeros((num_words, embedding_size))\n",
        "for word, i in word_index.items():\n",
        "    if i >= 20000:\n",
        "        continue\n",
        "    embedding_vector = embed.get(word)\n",
        "    if embedding_vector is not None:\n",
        "        embedding_matrix[i] = embedding_vector\n",
        "input_words = Input((60, ))\n",
        "word_embeddings = Embedding(num_words, embedding_size, weights=[embedding_matrix], trainable=False)(input_words)\n",
        "word_embeddings = SpatialDropout1D(0.3)(word_embeddings)\n",
        "word_embeddings = Bidirectional(CuDNNLSTM(100, return_sequences=True))(word_embeddings)\n",
        "word_embeddings = Dropout(0.2)(word_embeddings)\n",
        "word_embeddings = Conv1D(256, 3, strides=1, padding='causal', activation='relu')(word_embeddings)\n",
        "word_embeddings = BatchNormalization()(word_embeddings)\n",
        "word_embeddings = Conv1D(512, 5, strides=1, padding='causal', activation='relu')(word_embeddings)\n",
        "word_embeddings = BatchNormalization()(word_embeddings)\n",
        "word_embeddings = GlobalMaxPool1D()(word_embeddings)\n",
        "word_embeddings = Dropout(0.2)(word_embeddings)\n",
        "x = Dense(100, activation=\"relu\")(word_embeddings)\n",
        "x = Dropout(0.2)(x)\n",
        "predictions = Dense(5, activation=\"softmax\")(x)\n",
        "model = Model(inputs=[input_words], outputs=predictions)\n",
        "model.compile(optimizer='adam' ,loss='categorical_crossentropy', metrics=['accuracy'])\n",
        "print(model.summary())\n",
        "history = model.fit([train_fin], pd.get_dummies(train_data['Sentiment']), epochs=5, verbose=1, batch_size=1024, validation_data=([val_fin], pd.get_dummies(val_data['Sentiment'])), shuffle=True)\n",
        "pred_test = model.predict([test_fin], batch_size=1024, verbose = 0)\n",
        "max_pred = np.round(np.argmax(pred_test, axis=1)).astype(int)\n",
        "output = pd.DataFrame({'Sentiment': max_pred})\n",
        "output['ID'] = range(1, len(max_pred) + 1)\n",
        "output.to_csv('5.csv', index=False)"
      ],
      "metadata": {
        "id": "DLPKTMfPtX43",
        "colab": {
          "base_uri": "https://localhost:8080/"
        },
        "outputId": "7b8575af-a07a-47ce-aa3d-2ee51f54686f"
      },
      "execution_count": 7,
      "outputs": [
        {
          "output_type": "stream",
          "name": "stdout",
          "text": [
            "Drive already mounted at /content/drive; to attempt to forcibly remount, call drive.mount(\"/content/drive\", force_remount=True).\n",
            "Model: \"model\"\n",
            "_________________________________________________________________\n",
            " Layer (type)                Output Shape              Param #   \n",
            "=================================================================\n",
            " input_1 (InputLayer)        [(None, 60)]              0         \n",
            "                                                                 \n",
            " embedding (Embedding)       (None, 60, 300)           4572300   \n",
            "                                                                 \n",
            " spatial_dropout1d (SpatialD  (None, 60, 300)          0         \n",
            " ropout1D)                                                       \n",
            "                                                                 \n",
            " bidirectional (Bidirectiona  (None, 60, 200)          321600    \n",
            " l)                                                              \n",
            "                                                                 \n",
            " dropout (Dropout)           (None, 60, 200)           0         \n",
            "                                                                 \n",
            " conv1d (Conv1D)             (None, 60, 256)           153856    \n",
            "                                                                 \n",
            " batch_normalization (BatchN  (None, 60, 256)          1024      \n",
            " ormalization)                                                   \n",
            "                                                                 \n",
            " conv1d_1 (Conv1D)           (None, 60, 512)           655872    \n",
            "                                                                 \n",
            " batch_normalization_1 (Batc  (None, 60, 512)          2048      \n",
            " hNormalization)                                                 \n",
            "                                                                 \n",
            " global_max_pooling1d (Globa  (None, 512)              0         \n",
            " lMaxPooling1D)                                                  \n",
            "                                                                 \n",
            " dropout_1 (Dropout)         (None, 512)               0         \n",
            "                                                                 \n",
            " dense (Dense)               (None, 100)               51300     \n",
            "                                                                 \n",
            " dropout_2 (Dropout)         (None, 100)               0         \n",
            "                                                                 \n",
            " dense_1 (Dense)             (None, 5)                 505       \n",
            "                                                                 \n",
            "=================================================================\n",
            "Total params: 5,758,505\n",
            "Trainable params: 1,184,669\n",
            "Non-trainable params: 4,573,836\n",
            "_________________________________________________________________\n",
            "None\n",
            "Epoch 1/5\n",
            "122/122 [==============================] - 45s 226ms/step - loss: 1.4197 - accuracy: 0.4914 - val_loss: 1.4466 - val_accuracy: 0.1750\n",
            "Epoch 2/5\n",
            "122/122 [==============================] - 27s 221ms/step - loss: 1.3063 - accuracy: 0.5101 - val_loss: 1.4031 - val_accuracy: 0.5089\n",
            "Epoch 3/5\n",
            "122/122 [==============================] - 27s 222ms/step - loss: 1.2987 - accuracy: 0.5102 - val_loss: 1.3306 - val_accuracy: 0.5089\n",
            "Epoch 4/5\n",
            "122/122 [==============================] - 30s 242ms/step - loss: 1.2951 - accuracy: 0.5101 - val_loss: 1.3074 - val_accuracy: 0.5089\n",
            "Epoch 5/5\n",
            "122/122 [==============================] - 28s 234ms/step - loss: 1.2939 - accuracy: 0.5101 - val_loss: 1.2859 - val_accuracy: 0.5089\n"
          ]
        }
      ]
    },
    {
      "cell_type": "code",
      "source": [
        "plt.plot(history.history['loss'])\n",
        "plt.plot(history.history['val_loss'])\n",
        "plt.title('Model Loss')\n",
        "plt.ylabel('Loss')\n",
        "plt.xlabel('Epoch')\n",
        "plt.legend(['Train', 'Validation'], loc='upper left')\n",
        "plt.show()\n",
        "plt.plot(history.history['accuracy'])\n",
        "plt.plot(history.history['val_accuracy'])\n",
        "plt.title('Model Accuracy')\n",
        "plt.ylabel('Accuracy')\n",
        "plt.xlabel('Epoch')\n",
        "plt.legend(['Train', 'Validation'], loc='upper left')\n",
        "plt.show()\n",
        "\n"
      ],
      "metadata": {
        "id": "0-ZNdxYCyHxB",
        "colab": {
          "base_uri": "https://localhost:8080/",
          "height": 927
        },
        "outputId": "84ced07e-7f13-41ec-9c2f-ea3446a6dfe9"
      },
      "execution_count": 9,
      "outputs": [
        {
          "output_type": "display_data",
          "data": {
            "text/plain": [
              "<Figure size 640x480 with 1 Axes>"
            ],
            "image/png": "[encoded data removed]"
          },
          "metadata": {}
        },
        {
          "output_type": "display_data",
          "data": {
            "text/plain": [
              "<Figure size 640x480 with 1 Axes>"
            ],
            "image/png": "[encoded data removed]"
          },
          "metadata": {}
        }
      ]
    }
  ]
}