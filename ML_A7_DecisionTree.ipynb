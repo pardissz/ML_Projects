{
  "metadata": {
    "kernelspec": {
      "language": "python",
      "display_name": "Python 3",
      "name": "python3"
    },
    "language_info": {
      "name": "python",
      "version": "3.10.10",
      "mimetype": "text/x-python",
      "codemirror_mode": {
        "name": "ipython",
        "version": 3
      },
      "pygments_lexer": "ipython3",
      "nbconvert_exporter": "python",
      "file_extension": ".py"
    },
    "colab": {
      "provenance": []
    }
  },
  "nbformat_minor": 0,
  "nbformat": 4,
  "cells": [
    {
      "cell_type": "markdown",
      "metadata": {
        "id": "b07eb33c"
      },
      "source": [
        "<div>\n",
        "<img src='https://upload.wikimedia.org/wikipedia/commons/6/64/Sharif_University_Logo.jpg' alt=\"SUT logo\" width=220 height=220 align=left class=\"saturate\">\n",
        "\n",
        "<br>\n",
        "<font face=\"Times New Roman\">\n",
        "<div dir=ltr align=center> \n",
        "<!-- <font color=0F5298 size=7> -->\n",
        "<font color=0F5298 size=6>\n",
        "    Introduction to Machine Learning <br> <br>\n",
        "<!-- <font color=2565AE size=5> -->\n",
        "<font size=5>\n",
        "    Computer Engineering Department <br>\n",
        "    Spring 2023 <br> <br>\n",
        "<font color=606060 size=5>\n",
        "    Homework 7: Practical - Decision Tree and Ensembles <br> <br>\n",
        "<font color=686880 size=4>\n",
        "    TAs: Amirhossein Ramazani Bonab - Arman Malekzadeh\n",
        "    \n",
        "____"
      ]
    },
    {
      "cell_type": "markdown",
      "metadata": {
        "id": "f5a79508"
      },
      "source": [
        "### Full Name : Pardis Zahraei\n",
        "### Student Number : 99109777\n",
        "### Colab Link:https://colab.research.google.com/drive/18z2RadzBQkWhHgFlv6PqePX-USOlS7-x?usp=sharing\n",
        "___"
      ]
    },
    {
      "cell_type": "markdown",
      "source": [
        "**About the Dataset:**\n",
        "\n",
        "\n",
        "Measurements of geometrical properties of kernels belonging to three different varieties of wheat.\n",
        "\n",
        "A soft X-ray technique and GRAINS package were used to construct all seven, real-valued attributes.\n",
        "\n",
        "**Data Set Information:**\n",
        "\n",
        "\n",
        "The examined group comprised kernels belonging to three different varieties of wheat: Kama, Rosa and Canadian, 70 elements each, randomly selected for\n",
        "the experiment. High quality visualization of the internal kernel structure was detected using a soft X-ray technique. It is non-destructive and considerably cheaper than other more sophisticated imaging techniques like scanning microscopy or laser technology. The images were recorded on 13x18 cm X-ray KODAK plates. Studies were conducted using combine harvested wheat grain originating from experimental fields, explored at the Institute of Agrophysics of the Polish Academy of Sciences in Lublin.\n",
        "\n",
        "To construct the data, seven geometric parameters of wheat kernels were measured:\n",
        "\n",
        "- area A,\n",
        "- perimeter P,\n",
        "- compactness C = 4piA/P^2,\n",
        "- length of kernel,\n",
        "- width of kernel,\n",
        "- asymmetry coefficient\n",
        "- length of kernel groove.\n",
        "\n",
        "The target column is \"Type\".\n",
        "\n",
        "The data set can be used for the tasks of classification and cluster analysis.\n",
        "\n",
        "https://archive.ics.uci.edu/ml/datasets/seeds"
      ],
      "metadata": {
        "id": "8R9A8RKJa07c"
      }
    },
    {
      "cell_type": "code",
      "source": [
        "# you can use the following packages\n",
        "\n",
        "import pandas as pd\n",
        "import numpy as np\n",
        "\n",
        "import matplotlib.pyplot as plt\n",
        "%matplotlib inline\n",
        "import seaborn as sns\n",
        "\n",
        "from sklearn.model_selection import train_test_split\n",
        "\n",
        "from random import choices\n",
        "import math"
      ],
      "metadata": {
        "execution": {
          "iopub.status.busy": "2023-05-24T07:40:35.643418Z",
          "iopub.execute_input": "2023-05-24T07:40:35.643859Z",
          "iopub.status.idle": "2023-05-24T07:40:35.652079Z",
          "shell.execute_reply.started": "2023-05-24T07:40:35.643823Z",
          "shell.execute_reply": "2023-05-24T07:40:35.650632Z"
        },
        "trusted": true,
        "id": "_s9VlwRcUmDE"
      },
      "execution_count": 175,
      "outputs": []
    },
    {
      "cell_type": "markdown",
      "source": [
        "## P1: Explore the Dataset"
      ],
      "metadata": {
        "id": "pXav8LQyUmDG"
      }
    },
    {
      "cell_type": "code",
      "source": [
        "!wget -O dataset.csv https://www.dropbox.com/s/xc1tbfju2mn59yj/seeds%20%281%29.csv?dl=1"
      ],
      "metadata": {
        "id": "Qp8d_3l88cOp",
        "colab": {
          "base_uri": "https://localhost:8080/"
        },
        "outputId": "1ed6196a-2449-41d1-f514-f0fba4235107"
      },
      "execution_count": 176,
      "outputs": [
        {
          "output_type": "stream",
          "name": "stdout",
          "text": [
            "--2023-06-05 18:41:53--  https://www.dropbox.com/s/xc1tbfju2mn59yj/seeds%20%281%29.csv?dl=1\n",
            "Resolving www.dropbox.com (www.dropbox.com)... 162.125.4.18, 2620:100:6019:18::a27d:412\n",
            "Connecting to www.dropbox.com (www.dropbox.com)|162.125.4.18|:443... connected.\n",
            "HTTP request sent, awaiting response... 302 Found\n",
            "Location: /s/dl/xc1tbfju2mn59yj/seeds%20%281%29.csv [following]\n",
            "--2023-06-05 18:41:53--  https://www.dropbox.com/s/dl/xc1tbfju2mn59yj/seeds%20%281%29.csv\n",
            "Reusing existing connection to www.dropbox.com:443.\n",
            "HTTP request sent, awaiting response... 302 Found\n",
            "Location: https://uc910e7bd20bc424e0eed39fc4ae.dl.dropboxusercontent.com/cd/0/get/B9YNYo6lF85KLLDTT8aJeKi1vvE-o9Wm20gWmT5rtsRsjqRR9BrjH5AdR_BQUuQ0iKBo_b2gVcRfUUJIOw7jqZXRxDVJqlCzIkMgZwrDozP1bzs-UOriPzsm0HKDG1ApKIC9xQFxkUw0t7uZvELAB0mCCB-PFCIsXZssBXbuDIZU7YUKJUBwZOdKDmIDfrhGLX8/file?dl=1# [following]\n",
            "--2023-06-05 18:41:54--  https://uc910e7bd20bc424e0eed39fc4ae.dl.dropboxusercontent.com/cd/0/get/B9YNYo6lF85KLLDTT8aJeKi1vvE-o9Wm20gWmT5rtsRsjqRR9BrjH5AdR_BQUuQ0iKBo_b2gVcRfUUJIOw7jqZXRxDVJqlCzIkMgZwrDozP1bzs-UOriPzsm0HKDG1ApKIC9xQFxkUw0t7uZvELAB0mCCB-PFCIsXZssBXbuDIZU7YUKJUBwZOdKDmIDfrhGLX8/file?dl=1\n",
            "Resolving uc910e7bd20bc424e0eed39fc4ae.dl.dropboxusercontent.com (uc910e7bd20bc424e0eed39fc4ae.dl.dropboxusercontent.com)... 162.125.6.15, 2620:100:6019:15::a27d:40f\n",
            "Connecting to uc910e7bd20bc424e0eed39fc4ae.dl.dropboxusercontent.com (uc910e7bd20bc424e0eed39fc4ae.dl.dropboxusercontent.com)|162.125.6.15|:443... connected.\n",
            "HTTP request sent, awaiting response... 200 OK\n",
            "Length: 9125 (8.9K) [application/binary]\n",
            "Saving to: ‘dataset.csv’\n",
            "\n",
            "dataset.csv         100%[===================>]   8.91K  --.-KB/s    in 0s      \n",
            "\n",
            "2023-06-05 18:41:54 (139 MB/s) - ‘dataset.csv’ saved [9125/9125]\n",
            "\n"
          ]
        }
      ]
    },
    {
      "cell_type": "markdown",
      "source": [
        "Load the dataset as a dataframe"
      ],
      "metadata": {
        "id": "d9Imt5hubwiz"
      }
    },
    {
      "cell_type": "code",
      "source": [
        "df = pd.read_csv('dataset.csv')"
      ],
      "metadata": {
        "id": "RuRn5PGpskHI"
      },
      "execution_count": 177,
      "outputs": []
    },
    {
      "cell_type": "markdown",
      "source": [
        "Check if there are any missing values (and remove them) **(P1-1: 2 points)**"
      ],
      "metadata": {
        "id": "RWiHRlHkb1Bf"
      }
    },
    {
      "cell_type": "code",
      "source": [
        "print(df.isnull().sum())\n",
        "df = df.dropna()\n",
        "print(df.isnull().sum())"
      ],
      "metadata": {
        "execution": {
          "iopub.status.busy": "2023-05-24T06:42:35.080087Z",
          "iopub.execute_input": "2023-05-24T06:42:35.080727Z",
          "iopub.status.idle": "2023-05-24T06:42:35.091722Z",
          "shell.execute_reply.started": "2023-05-24T06:42:35.080676Z",
          "shell.execute_reply": "2023-05-24T06:42:35.089794Z"
        },
        "trusted": true,
        "id": "YqfwGyG9UmDI",
        "colab": {
          "base_uri": "https://localhost:8080/"
        },
        "outputId": "9c4e0a9a-7516-411a-ffc6-2d802cfebee5"
      },
      "execution_count": 178,
      "outputs": [
        {
          "output_type": "stream",
          "name": "stdout",
          "text": [
            "Area               0\n",
            "Perimeter          0\n",
            "Compactness        0\n",
            "Kernel.Length      0\n",
            "Kernel.Width       0\n",
            "Asymmetry.Coeff    0\n",
            "Kernel.Groove      0\n",
            "Type               0\n",
            "dtype: int64\n",
            "Area               0\n",
            "Perimeter          0\n",
            "Compactness        0\n",
            "Kernel.Length      0\n",
            "Kernel.Width       0\n",
            "Asymmetry.Coeff    0\n",
            "Kernel.Groove      0\n",
            "Type               0\n",
            "dtype: int64\n"
          ]
        }
      ]
    },
    {
      "cell_type": "markdown",
      "source": [
        "Plot the heatmap of the correlation matrix between features **(P1-2: 3 points)**"
      ],
      "metadata": {
        "id": "VF5wHd-8b-aE"
      }
    },
    {
      "cell_type": "code",
      "source": [
        "correlation_matrix = df.corr()\n",
        "plt.figure(figsize=(10, 8))\n",
        "sns.heatmap(correlation_matrix, annot=True, cmap='coolwarm')\n",
        "plt.show()"
      ],
      "metadata": {
        "execution": {
          "iopub.status.busy": "2023-05-24T06:43:36.794295Z",
          "iopub.execute_input": "2023-05-24T06:43:36.794843Z",
          "iopub.status.idle": "2023-05-24T06:43:37.411526Z",
          "shell.execute_reply.started": "2023-05-24T06:43:36.794803Z",
          "shell.execute_reply": "2023-05-24T06:43:37.410238Z"
        },
        "trusted": true,
        "id": "NP0TksdUUmDI",
        "colab": {
          "base_uri": "https://localhost:8080/",
          "height": 787
        },
        "outputId": "0dee5807-8775-4c61-c43a-bdcf402d4ae6"
      },
      "execution_count": 179,
      "outputs": [
        {
          "output_type": "display_data",
          "data": {
            "text/plain": [
              "<Figure size 1000x800 with 2 Axes>"
            ],
            "image/png": "[encoded data removed]"
          },
          "metadata": {}
        }
      ]
    },
    {
      "cell_type": "markdown",
      "source": [
        "Remove features which are highly correlated (> 95%) with the other ones **(P1-3: 5 points)**"
      ],
      "metadata": {
        "id": "DC874nRgcG38"
      }
    },
    {
      "cell_type": "code",
      "source": [
        "corr_matrix = df.corr().abs()\n",
        "high_corr_features = set()\n",
        "for i in range(len(corr_matrix.columns)):\n",
        "    for j in range(i):\n",
        "        if abs(corr_matrix.iloc[i, j]) > 0.95:\n",
        "            colname = corr_matrix.columns[i]\n",
        "            high_corr_features.add(colname)\n",
        "df_new = df.drop(high_corr_features, axis=1)\n",
        "print(df_new)"
      ],
      "metadata": {
        "execution": {
          "iopub.status.busy": "2023-05-24T06:47:34.398266Z",
          "iopub.execute_input": "2023-05-24T06:47:34.398700Z",
          "iopub.status.idle": "2023-05-24T06:47:34.418229Z",
          "shell.execute_reply.started": "2023-05-24T06:47:34.398658Z",
          "shell.execute_reply": "2023-05-24T06:47:34.417048Z"
        },
        "trusted": true,
        "id": "yPdwUIV4UmDJ",
        "colab": {
          "base_uri": "https://localhost:8080/"
        },
        "outputId": "434d32c2-c0b1-428c-8b45-cfb14649995d"
      },
      "execution_count": 180,
      "outputs": [
        {
          "output_type": "stream",
          "name": "stdout",
          "text": [
            "      Area  Compactness  Asymmetry.Coeff  Kernel.Groove  Type\n",
            "0    15.26       0.8710            2.221          5.220     1\n",
            "1    14.88       0.8811            1.018          4.956     1\n",
            "2    14.29       0.9050            2.699          4.825     1\n",
            "3    13.84       0.8955            2.259          4.805     1\n",
            "4    16.14       0.9034            1.355          5.175     1\n",
            "..     ...          ...              ...            ...   ...\n",
            "194  12.19       0.8783            3.631          4.870     3\n",
            "195  11.23       0.8511            4.325          5.003     3\n",
            "196  13.20       0.8883            8.315          5.056     3\n",
            "197  11.84       0.8521            3.598          5.044     3\n",
            "198  12.30       0.8684            5.637          5.063     3\n",
            "\n",
            "[199 rows x 5 columns]\n"
          ]
        }
      ]
    },
    {
      "cell_type": "code",
      "source": [
        "correlation_matrix = df_new.corr()\n",
        "plt.figure(figsize=(10, 8))\n",
        "sns.heatmap(correlation_matrix, annot=True, cmap='coolwarm')\n",
        "plt.show()"
      ],
      "metadata": {
        "colab": {
          "base_uri": "https://localhost:8080/",
          "height": 682
        },
        "id": "VdsmeqTkjGdR",
        "outputId": "64bac4b9-6f55-4801-ea47-a02bcc11915a"
      },
      "execution_count": 181,
      "outputs": [
        {
          "output_type": "display_data",
          "data": {
            "text/plain": [
              "<Figure size 1000x800 with 2 Axes>"
            ],
            "image/png": "[encoded data removed]"
          },
          "metadata": {}
        }
      ]
    },
    {
      "cell_type": "markdown",
      "source": [
        "Check for imbalance between classes **(P1-4: 3 points)**"
      ],
      "metadata": {
        "id": "2O2NEn6McNgN"
      }
    },
    {
      "cell_type": "code",
      "source": [
        "class_counts = df_new['Type'].value_counts()\n",
        "print(class_counts / len(df_new) * 100)"
      ],
      "metadata": {
        "execution": {
          "iopub.status.busy": "2023-05-24T06:50:13.895162Z",
          "iopub.execute_input": "2023-05-24T06:50:13.895599Z",
          "iopub.status.idle": "2023-05-24T06:50:13.905600Z",
          "shell.execute_reply.started": "2023-05-24T06:50:13.895565Z",
          "shell.execute_reply": "2023-05-24T06:50:13.904313Z"
        },
        "trusted": true,
        "id": "jfApFEhjUmDJ",
        "colab": {
          "base_uri": "https://localhost:8080/"
        },
        "outputId": "ca88fe23-834e-4f95-c582-bbc63e805695"
      },
      "execution_count": 182,
      "outputs": [
        {
          "output_type": "stream",
          "name": "stdout",
          "text": [
            "2    34.170854\n",
            "1    33.165829\n",
            "3    32.663317\n",
            "Name: Type, dtype: float64\n"
          ]
        }
      ]
    },
    {
      "cell_type": "markdown",
      "source": [
        "## P2: Prepare the Training Data"
      ],
      "metadata": {
        "id": "iqg_DkvfUmDK"
      }
    },
    {
      "cell_type": "markdown",
      "source": [
        "Convert features and the target into numpy arrays **(P2-1: 2 points)**"
      ],
      "metadata": {
        "id": "SNbqym9_cfX7"
      }
    },
    {
      "cell_type": "code",
      "source": [
        "features = df_new.drop('Type', axis=1).values\n",
        "target = df_new['Type'].values"
      ],
      "metadata": {
        "execution": {
          "iopub.status.busy": "2023-05-24T06:53:36.362537Z",
          "iopub.execute_input": "2023-05-24T06:53:36.362962Z",
          "iopub.status.idle": "2023-05-24T06:53:36.372547Z",
          "shell.execute_reply.started": "2023-05-24T06:53:36.362921Z",
          "shell.execute_reply": "2023-05-24T06:53:36.371066Z"
        },
        "trusted": true,
        "id": "bjIaMSwDUmDK"
      },
      "execution_count": 183,
      "outputs": []
    },
    {
      "cell_type": "markdown",
      "source": [
        "Split the samples into training (80%) and testing (20%) arrays **(P2-2: 5 points)**"
      ],
      "metadata": {
        "id": "WAbTVPmsc_NZ"
      }
    },
    {
      "cell_type": "code",
      "source": [
        "X_train, X_test, y_train, y_test = train_test_split(features, target, test_size=0.2, random_state=42)"
      ],
      "metadata": {
        "execution": {
          "iopub.status.busy": "2023-05-24T06:55:50.649173Z",
          "iopub.execute_input": "2023-05-24T06:55:50.649684Z",
          "iopub.status.idle": "2023-05-24T06:55:50.657736Z",
          "shell.execute_reply.started": "2023-05-24T06:55:50.649644Z",
          "shell.execute_reply": "2023-05-24T06:55:50.656442Z"
        },
        "trusted": true,
        "id": "tuVoQeG5UmDK"
      },
      "execution_count": 184,
      "outputs": []
    },
    {
      "cell_type": "markdown",
      "source": [
        "## P3: Decision Tree Implementation"
      ],
      "metadata": {
        "id": "vK8uumlAUmDL"
      }
    },
    {
      "cell_type": "markdown",
      "source": [
        "Implement desicion tree for classification from scratch **(P3-1: 20 points)**"
      ],
      "metadata": {
        "id": "cjUlsiCYdd69"
      }
    },
    {
      "cell_type": "code",
      "source": [
        "# new version based on sklearn implementaion of tree\n",
        "\n",
        "class DecisionTree:\n",
        "     \n",
        "    def __init__(self, criterion=\"entropy\", max_depth=None):\n",
        "        \"\"\"\n",
        "        Parameters:\n",
        "        \n",
        "        criterion -- \"gini\" for the Gini impurity and \"entropy\" for the Information Gain. (default \"entropy\")\n",
        "        max_depth -- The maximum depth of the tree. If None, then nodes are expanded until all leaves are pure. (default=None)\n",
        "        \"\"\"\n",
        "        self.criterion = criterion\n",
        "        self.max_depth = max_depth\n",
        "        self.tree = None\n",
        "    \n",
        "    def fit(self, X, y):\n",
        "        \"\"\"\n",
        "        Build a decision tree classifier from the training set (X, y).\n",
        "\n",
        "        Returns:\n",
        "        self : Fitted estimator\n",
        "        \"\"\"\n",
        "        self.tree = self.build_tree(X, y, depth=0)\n",
        "        return self\n",
        "    \n",
        "    def predict(self, X):\n",
        "        \"\"\"\n",
        "        Predict class value for X.\n",
        "\n",
        "        Returns:\n",
        "        y : The predicted classes\n",
        "        \"\"\"\n",
        "        y_pred = []\n",
        "        for x in X:\n",
        "            node = self.tree\n",
        "            while 'class' not in node:\n",
        "                feature_value = x[node['feature_idx']]\n",
        "                if feature_value <= node['threshold']:\n",
        "                    node = node['left']\n",
        "                else:\n",
        "                    node = node['right']\n",
        "            y_pred.append(node['class'])\n",
        "        return np.array(y_pred)\n",
        "    \n",
        "    def build_tree(self, X, y, depth):\n",
        "        if depth == self.max_depth or len(np.unique(y)) == 1:\n",
        "            return {'class': max(set(y.tolist()), key=y.tolist().count)}\n",
        "        n_samples, n_features = X.shape\n",
        "        best_info_gain = -1\n",
        "        best_feature_idx = None\n",
        "        best_threshold = None\n",
        "        for feature_idx in range(n_features):\n",
        "            feature_values = X[:, feature_idx]\n",
        "            unique_values = np.unique(feature_values)\n",
        "            if len(unique_values) > 1:\n",
        "                thresholds = (unique_values[:-1] + unique_values[1:]) / 2\n",
        "                for threshold in thresholds:               \n",
        "                    if self.criterion == \"gini\":\n",
        "                        class_counts = np.bincount(y)\n",
        "                        class_probs = class_counts / len(y)\n",
        "                        parent_impurity = 1 - np.sum(class_probs**2)\n",
        "                    else:\n",
        "                        class_counts = np.bincount(y)\n",
        "                        class_probs = class_counts / len(y)\n",
        "                        parent_impurity = -np.sum(class_probs * np.log2(class_probs + 1e-10))\n",
        "                    left_indices = np.where(X[:, feature_idx] <= threshold)[0]\n",
        "                    right_indices = np.where(X[:, feature_idx] > threshold)[0]\n",
        "                    if self.criterion == \"gini\":\n",
        "                        class_counts = np.bincount(y[left_indices])\n",
        "                        class_probs = class_counts / len(y[left_indices])\n",
        "                        left_impurity = 1 - np.sum(class_probs**2)\n",
        "                        class_counts = np.bincount(y[right_indices])\n",
        "                        class_probs = class_counts / len(y[right_indices])\n",
        "                        right_impurity = 1 - np.sum(class_probs**2)\n",
        "                    else:\n",
        "                        class_counts = np.bincount(y[left_indices])\n",
        "                        class_probs = class_counts / len(y[left_indices])\n",
        "                        left_impurity = -np.sum(class_probs * np.log2(class_probs + 1e-10))\n",
        "                        class_counts = np.bincount(y[right_indices])\n",
        "                        class_probs = class_counts / len(y[right_indices])\n",
        "                        right_impurity = -np.sum(class_probs * np.log2(class_probs + 1e-10))\n",
        "                    info_gain = parent_impurity -( (len(left_indices) / len(y)) * left_impurity + (len(right_indices) / len(y)) * right_impurity)\n",
        "                    if info_gain > best_info_gain:\n",
        "                        best_info_gain = info_gain\n",
        "                        best_feature_idx = feature_idx\n",
        "                        best_threshold = threshold    \n",
        "        if best_feature_idx is None:\n",
        "            return {'class': max(set(y.tolist()), key=y.tolist().count)}\n",
        "        left_indices = np.where(X[:, best_feature_idx] <= best_threshold)[0]\n",
        "        right_indices = np.where(X[:, best_feature_idx] > best_threshold)[0]\n",
        "        left_subtree = self.build_tree(X[left_indices], y[left_indices], depth+1)\n",
        "        right_subtree = self.build_tree(X[right_indices], y[right_indices], depth+1)\n",
        "        return {'feature_idx': best_feature_idx,\n",
        "                'threshold': best_threshold,\n",
        "                'left': left_subtree,\n",
        "                'right': right_subtree}"
      ],
      "metadata": {
        "id": "QJ5_j3JT2JdP"
      },
      "execution_count": 185,
      "outputs": []
    },
    {
      "cell_type": "markdown",
      "source": [
        "Define two decision trees with two different criteria **(P3-2: 3 points)**"
      ],
      "metadata": {
        "id": "0zZRBqIwdjfX"
      }
    },
    {
      "cell_type": "code",
      "source": [
        "tree_entropy = DecisionTree(criterion=\"entropy\")\n",
        "tree_gini = DecisionTree(criterion=\"gini\")"
      ],
      "metadata": {
        "id": "48Gvh2AvUmDM"
      },
      "execution_count": 186,
      "outputs": []
    },
    {
      "cell_type": "markdown",
      "source": [
        "Fit the defined decision trees on training samples **(P3-3: 2 points)**"
      ],
      "metadata": {
        "id": "yP1tHIzsdvdf"
      }
    },
    {
      "cell_type": "code",
      "source": [
        "tree_entropy.fit(X_train, y_train)\n",
        "tree_gini.fit(X_train, y_train)"
      ],
      "metadata": {
        "id": "hYINieZEUmDM",
        "colab": {
          "base_uri": "https://localhost:8080/"
        },
        "outputId": "c0a4a8d1-f400-44bf-caa0-d6924e556f35"
      },
      "execution_count": 187,
      "outputs": [
        {
          "output_type": "execute_result",
          "data": {
            "text/plain": [
              "<__main__.DecisionTree at 0x7fec45e70460>"
            ]
          },
          "metadata": {},
          "execution_count": 187
        }
      ]
    },
    {
      "cell_type": "markdown",
      "source": [
        "Get the results on the test set **(P3-4: 5 points)**"
      ],
      "metadata": {
        "id": "8OFAB5DZdz7s"
      }
    },
    {
      "cell_type": "code",
      "source": [
        "y_pred_entropy = tree_entropy.predict(X_test)\n",
        "y_pred_gini = tree_gini.predict(X_test)"
      ],
      "metadata": {
        "id": "4PSIJEkmUmDM"
      },
      "execution_count": 188,
      "outputs": []
    },
    {
      "cell_type": "markdown",
      "source": [
        "Train the decision trees, considering the values [1,2,3,4,5] as the maximum depth **(P3-5: 5 points)**"
      ],
      "metadata": {
        "id": "4fVMCCuMd6uC"
      }
    },
    {
      "cell_type": "code",
      "source": [
        "max_depth_values = [1, 2, 3, 4, 5]\n",
        "trees = []\n",
        "\n",
        "for max_depth in max_depth_values:\n",
        "    tree = DecisionTree(max_depth=max_depth)\n",
        "    tree.fit(X_train, y_train)\n",
        "    trees.append(tree)"
      ],
      "metadata": {
        "id": "W6iKq_N6UmDM"
      },
      "execution_count": 189,
      "outputs": []
    },
    {
      "cell_type": "markdown",
      "source": [
        "Compare the accuracy score of the decision trees with and without using the \"max_depth\" parameter and discuss the effects of limiting the maximum depth of decision trees. **(P3-6: 5 points)**"
      ],
      "metadata": {
        "id": "RzSv_Rb5eR6M"
      }
    },
    {
      "cell_type": "code",
      "source": [
        "from sklearn.metrics import accuracy_score\n",
        "tree_no_limit = DecisionTree()\n",
        "tree_no_limit.fit(X_train, y_train)\n",
        "y_pred_no_limit = tree_no_limit.predict(X_test)\n",
        "accuracy_no_limit = accuracy_score(y_test, y_pred_no_limit)\n",
        "print(\"Accuracy without limiting maximum depth:\", accuracy_no_limit)\n",
        "max_depth_values = [1, 2, 3, 4, 5]\n",
        "accuracy_scores = []\n",
        "for max_depth in max_depth_values:\n",
        "    tree = DecisionTree(max_depth=max_depth)\n",
        "    tree.fit(X_train, y_train)\n",
        "    y_pred = tree.predict(X_test)\n",
        "    accuracy = accuracy_score(y_test, y_pred)\n",
        "    accuracy_scores.append(accuracy)\n",
        "    print(\"Accuracy with maximum depth\", max_depth, \":\", accuracy)\n"
      ],
      "metadata": {
        "id": "Si-JEqhsUmDN",
        "colab": {
          "base_uri": "https://localhost:8080/"
        },
        "outputId": "9f47326c-078c-49bf-8233-42e7b68276dc"
      },
      "execution_count": 190,
      "outputs": [
        {
          "output_type": "stream",
          "name": "stdout",
          "text": [
            "Accuracy without limiting maximum depth: 0.85\n",
            "Accuracy with maximum depth 1 : 0.675\n",
            "Accuracy with maximum depth 2 : 0.9\n",
            "Accuracy with maximum depth 3 : 0.8\n",
            "Accuracy with maximum depth 4 : 0.85\n",
            "Accuracy with maximum depth 5 : 0.85\n"
          ]
        }
      ]
    },
    {
      "cell_type": "markdown",
      "source": [
        "first it shows that we can have an overfitting if we dont limit the max depth and the best accuracy comes from depth 2 rather than larger depths which shows the best depth for our model so using a large or small number may not result in good accuracy but the balanced one which dosent overfit or underfit"
      ],
      "metadata": {
        "id": "K9WauCGSnARv"
      }
    },
    {
      "cell_type": "markdown",
      "source": [
        "## P4: Ensemble Models"
      ],
      "metadata": {
        "id": "FDJ3KWH2UmDN"
      }
    },
    {
      "cell_type": "markdown",
      "source": [
        "### P4-1: Bagging"
      ],
      "metadata": {
        "id": "CoVu14uOUmDN"
      }
    },
    {
      "cell_type": "markdown",
      "source": [
        "Implement the bagging algorithm for classification from scratch **(P4-1-1: 15 points)**"
      ],
      "metadata": {
        "id": "QSFF3YN2exyE"
      }
    },
    {
      "cell_type": "code",
      "source": [
        "import numpy as np\n",
        "\n",
        "class BaggingDecisionTree:\n",
        "     \n",
        "    def __init__(self, bootstraped_training_num=50, predictors_num=50):\n",
        "        \"\"\"\n",
        "        Parameters:\n",
        "        \n",
        "        bootstraped_training_num -- The number of training sets we are gonna have\n",
        "        predictors_num -- The number of predictors we want to use for each test sample\n",
        "        \"\"\"\n",
        "        self.bootstraped_training_num = bootstraped_training_num\n",
        "        self.predictors_num = predictors_num\n",
        "        self.classifiers = []\n",
        "    \n",
        "    def fit(self, X, y):\n",
        "        \"\"\"\n",
        "        Create `self.bootstraped_training_num` training sets by random sampling of the input training elements with replacement.\n",
        "        Then create the same number of classifiers and fit each classifier on the corresponding training set.\n",
        "        \n",
        "        Parameters:\n",
        "        X : training features array\n",
        "        y : target array\n",
        "        \n",
        "        Returns:\n",
        "        self : Fitted estimator\n",
        "        \"\"\"\n",
        "        n_samples = X.shape[0]\n",
        "        for _ in range(self.bootstraped_training_num):\n",
        "            indices = np.random.choice(n_samples, size=n_samples, replace=True)\n",
        "            X_train = X[indices]\n",
        "            y_train = y[indices]    \n",
        "            classifier = DecisionTree()\n",
        "            classifier.fit(X_train, y_train)\n",
        "            self.classifiers.append(classifier)\n",
        "        \n",
        "        return self\n",
        "    \n",
        "    def predict(self, X):\n",
        "        \"\"\"\n",
        "        Predict class value for X using majority voting of `self.predictors_num` classifiers.\n",
        "\n",
        "        Parameters:\n",
        "        X : training features array\n",
        "        \n",
        "        Returns:\n",
        "        y : The predicted classes\n",
        "        \"\"\"\n",
        "        n_samples = X.shape[0]\n",
        "        predictions = np.zeros((n_samples, self.bootstraped_training_num))\n",
        "        for i, classifier in enumerate(self.classifiers):\n",
        "            predictions[:, i] = classifier.predict(X)\n",
        "        y_pred = []\n",
        "        for i in range(n_samples):\n",
        "            unique, counts = np.unique(predictions[i], return_counts=True)\n",
        "            majority_vote = unique[np.argmax(counts)]\n",
        "            y_pred.append(majority_vote)\n",
        "        \n",
        "        return np.array(y_pred)\n"
      ],
      "metadata": {
        "id": "wXKkTcCrAAs_"
      },
      "execution_count": 201,
      "outputs": []
    },
    {
      "cell_type": "markdown",
      "source": [
        "Create an instance of the BaggingDecisionTree class with `bootstraped_training_num=50`, `predictors_num=50` and fit it on the training data **(P4-1-2: 3 points)**"
      ],
      "metadata": {
        "id": "2g__7Wppe-8x"
      }
    },
    {
      "cell_type": "code",
      "source": [
        "bagging = BaggingDecisionTree(bootstraped_training_num=50, predictors_num=50)\n",
        "bagging.fit(X_train, y_train)"
      ],
      "metadata": {
        "execution": {
          "iopub.status.busy": "2023-05-24T07:37:02.732776Z",
          "iopub.execute_input": "2023-05-24T07:37:02.733345Z",
          "iopub.status.idle": "2023-05-24T07:37:02.755458Z",
          "shell.execute_reply.started": "2023-05-24T07:37:02.733301Z",
          "shell.execute_reply": "2023-05-24T07:37:02.754110Z"
        },
        "trusted": true,
        "id": "0DO4IpI8UmDO",
        "colab": {
          "base_uri": "https://localhost:8080/"
        },
        "outputId": "f6ac2723-6336-4d30-d4a6-bd5e1a42ae0f"
      },
      "execution_count": 202,
      "outputs": [
        {
          "output_type": "execute_result",
          "data": {
            "text/plain": [
              "<__main__.BaggingDecisionTree at 0x7fec45df5750>"
            ]
          },
          "metadata": {},
          "execution_count": 202
        }
      ]
    },
    {
      "cell_type": "markdown",
      "source": [
        "Create another instance of the BaggingDecisionTree class with `bootstraped_training_num=50`, `predictors_num=7` and fit it on the training data **(P4-1-3: 2 points)**"
      ],
      "metadata": {
        "id": "C3P5M4QtfOn4"
      }
    },
    {
      "cell_type": "code",
      "source": [
        "bagging_2 = BaggingDecisionTree(bootstraped_training_num=50, predictors_num=7)\n",
        "bagging_2.fit(X_train, y_train)"
      ],
      "metadata": {
        "id": "aovAzNhPUmDO",
        "colab": {
          "base_uri": "https://localhost:8080/"
        },
        "outputId": "4462d065-84b0-414f-f179-e3ed4f3b74b4"
      },
      "execution_count": 203,
      "outputs": [
        {
          "output_type": "execute_result",
          "data": {
            "text/plain": [
              "<__main__.BaggingDecisionTree at 0x7fec45df43d0>"
            ]
          },
          "metadata": {},
          "execution_count": 203
        }
      ]
    },
    {
      "cell_type": "markdown",
      "source": [
        "Test the created models on the test set. Discuss differences of two approaches we adopted. **(P4-1-4: 5 points)**"
      ],
      "metadata": {
        "id": "wbncvgGBoiHF"
      }
    },
    {
      "cell_type": "code",
      "source": [
        "y_pred_1 = bagging.predict(X_test)\n",
        "y_pred_2 = bagging_2.predict(X_test)\n",
        "accuracy1 = accuracy_score(y_test, y_pred_1)\n",
        "accuracy2 = accuracy_score(y_test, y_pred_2)\n",
        "print(\"acc1: \",accuracy1)\n",
        "print(\"acc2: \",accuracy2)"
      ],
      "metadata": {
        "id": "4R7mpMH3oqnM",
        "colab": {
          "base_uri": "https://localhost:8080/"
        },
        "outputId": "021ef589-a157-460a-b492-1eb7ce4a8a21"
      },
      "execution_count": 204,
      "outputs": [
        {
          "output_type": "stream",
          "name": "stdout",
          "text": [
            "acc1:  0.925\n",
            "acc2:  0.875\n"
          ]
        }
      ]
    },
    {
      "cell_type": "markdown",
      "source": [
        "The higher the number of bootstraped training sets, the more diverse the training sets, which can lead to improved model generalization.\n",
        "Using a higher number of predictors can increase the robustness of the ensemble model by considering a larger variety of predictions. However, it can also increase computational complexity.\n",
        "The second approach may have a slightly reduced accuracy due to the limited number of predictors."
      ],
      "metadata": {
        "id": "_jvBbeSOBXVj"
      }
    },
    {
      "cell_type": "markdown",
      "source": [
        "### P4-2: Boosting"
      ],
      "metadata": {
        "id": "oZDz7B3DUmDO"
      }
    },
    {
      "cell_type": "markdown",
      "source": [
        "Implement the Adaboost algorithm for classification from scratch **(P4-2-1: 10 points)**"
      ],
      "metadata": {
        "id": "rJhWmus3pDHI"
      }
    },
    {
      "cell_type": "code",
      "source": [
        "# because the maxdepth=1 we can have a very simple tree and it doesnt have constraint on accuracy \n",
        "# so we dont need to modify it much first I used sklearn tree for knowing my adaBoost is ok or not then I defined a very simple tree\n",
        "# it doesnt have all features of sklearn tree and the optimizations."
      ],
      "metadata": {
        "id": "kxmJe9H_gGm7"
      },
      "execution_count": 195,
      "outputs": []
    },
    {
      "cell_type": "code",
      "source": [
        "#using sklearn tree\n",
        "import numpy as np\n",
        "from sklearn.tree import DecisionTreeClassifier\n",
        "\n",
        "class AdaBoost:\n",
        "    def __init__(self, n_estimators=50, learning_rate=0.1):\n",
        "        self.n_estimators = n_estimators\n",
        "        self.learning_rate = learning_rate\n",
        "        self.estimators = []\n",
        "        self.estimator_weights = []\n",
        "        self.estimator_errors = []\n",
        "\n",
        "    def fit(self, X, y):\n",
        "        n_samples, n_features = X.shape\n",
        "        n_classes = len(np.unique(y))\n",
        "        sample_weights = np.full(n_samples, 1 / n_samples)\n",
        "        for i in range(self.n_estimators):\n",
        "            tree = DecisionTreeClassifier(max_depth=1)\n",
        "            tree.fit(X, y, sample_weight=sample_weights)\n",
        "            y_pred = tree.predict(X)\n",
        "            estimator_weight = self.learning_rate * np.log((1 - np.average((y_pred != y), weights=sample_weights)) / np.average((y_pred != y), weights=sample_weights)) + np.log(n_classes - 1)\n",
        "            sample_weights *= np.exp(estimator_weight * (y_pred != y))\n",
        "            sample_weights /= np.sum(sample_weights)\n",
        "            self.estimators.append(tree)\n",
        "            self.estimator_weights.append(estimator_weight)\n",
        "            self.estimator_errors.append(np.average((y_pred != y), weights=sample_weights))\n",
        "\n",
        "    def predict(self, X):\n",
        "        n_samples = X.shape[0]\n",
        "        y_pred = np.zeros((n_samples, len(self.estimators[0].classes_)))\n",
        "        for tree, weight in zip(self.estimators, self.estimator_weights):\n",
        "            y_pred += weight * tree.predict_proba(X)\n",
        "        return self.estimators[0].classes_[np.argmax(y_pred, axis=1)]"
      ],
      "metadata": {
        "id": "MUHJ4ZgqvY1c"
      },
      "execution_count": 196,
      "outputs": []
    },
    {
      "cell_type": "markdown",
      "source": [
        "Create an instance of Adaboost and fit it to the data **(P4-2-2: 2 points)**"
      ],
      "metadata": {
        "id": "kADfP8A-rvJ-"
      }
    },
    {
      "cell_type": "code",
      "source": [
        "adaboost = AdaBoost()\n",
        "adaboost.fit(X_train, y_train)"
      ],
      "metadata": {
        "id": "o4EcOGGoUmDO"
      },
      "execution_count": 197,
      "outputs": []
    },
    {
      "cell_type": "markdown",
      "source": [
        "Test Adaboost on the testing set **(P4-2-3: 3 points)**"
      ],
      "metadata": {
        "id": "DUDo-Q2Or5Eu"
      }
    },
    {
      "cell_type": "code",
      "source": [
        "y_pred = adaboost.predict(X_test)\n",
        "accuracy = np.mean(y_pred == y_test)\n",
        "print(\"Accuracy:\", accuracy)"
      ],
      "metadata": {
        "id": "WdRVUc4MUmDP",
        "colab": {
          "base_uri": "https://localhost:8080/"
        },
        "outputId": "34af6dca-8f66-481f-d23d-b62d6c6b48da"
      },
      "execution_count": 198,
      "outputs": [
        {
          "output_type": "stream",
          "name": "stdout",
          "text": [
            "Accuracy: 0.875\n"
          ]
        }
      ]
    },
    {
      "cell_type": "code",
      "source": [
        "#implementing my own custom tree inspired by sklearns\n",
        "class AdaBoost:\n",
        "    def __init__(self, n_trs=50, learning_rate=0.1):\n",
        "        self.n_trs = n_trs\n",
        "        self.learning_rate = learning_rate\n",
        "        self.trs = []\n",
        "        self.tr_weights = []\n",
        "        self.tr_errors = []\n",
        "\n",
        "    def fit(self, X, y):\n",
        "        n_samples, n_features = X.shape\n",
        "        n_classes = len(np.unique(y))\n",
        "        sample_weights = np.full(n_samples, 1 / n_samples)\n",
        "\n",
        "        for i in range(self.n_trs):\n",
        "            tr = custom_tree()\n",
        "            tr.fit(X, y, sample_weights)\n",
        "            y_pred = tr.predict(X)\n",
        "            incorrect = (y_pred != y)\n",
        "            tr_error = np.average(incorrect, weights=sample_weights)\n",
        "            tr_weight = self.learning_rate * np.log((1 - tr_error) / tr_error) + np.log(n_classes - 1)\n",
        "            sample_weights *= np.exp(tr_weight * incorrect)\n",
        "            sample_weights /= np.sum(sample_weights)\n",
        "            self.trs.append(tr)\n",
        "            self.tr_weights.append(tr_weight)\n",
        "            self.tr_errors.append(tr_error)\n",
        "\n",
        "    def predict(self, X):\n",
        "        n_samples = X.shape[0]\n",
        "        n_classes = len(self.trs[0].classes_)\n",
        "        y_pred = np.zeros((n_samples, n_classes))\n",
        "        for tr, weight in zip(self.trs, self.tr_weights):\n",
        "            y_pred += weight * tr.predict_proba(X)\n",
        "        return np.argmax(y_pred, axis=1)\n",
        "\n",
        "class custom_tree:\n",
        "    def __init__(self):\n",
        "        self.threshold = 0.0\n",
        "        self.feature_index = None\n",
        "        self.classes_ = None\n",
        "    def fit(self, X, y, sample_weights):\n",
        "        n_samples, n_features = X.shape\n",
        "        self.classes_ = np.unique(y)\n",
        "        best_error = np.inf\n",
        "        for feature_idx in range(n_features):\n",
        "            thresholds = np.unique(X[:, feature_idx])\n",
        "            for threshold in thresholds:\n",
        "                y_pred = np.ones(n_samples)\n",
        "                y_pred[X[:, feature_idx] < threshold] = 0\n",
        "                error = np.sum(sample_weights[y_pred != y])\n",
        "                if error < best_error:\n",
        "                    best_error = error\n",
        "                    self.threshold = threshold\n",
        "                    self.feature_index = feature_idx\n",
        "    def predict(self, X):\n",
        "        n_samples = X.shape[0]\n",
        "        y_pred = np.ones(n_samples)\n",
        "        y_pred[X[:, self.feature_index] < self.threshold] = 0\n",
        "        return y_pred\n",
        "\n",
        "    def predict_proba(self, X):\n",
        "        n_samples = X.shape[0]\n",
        "        proba = np.zeros((n_samples, len(self.classes_)))\n",
        "        proba[:, 1] = 1.0\n",
        "        proba[X[:, self.feature_index] < self.threshold, 0] = 1.0\n",
        "        return proba\n",
        "\n",
        "df = pd.read_csv('dataset.csv').dropna()\n",
        "features = df.drop('Type', axis=1).values\n",
        "target = df['Type'].values\n",
        "X_train, X_test, y_train, y_test = train_test_split(features, target, test_size=0.2, random_state=42)\n",
        "adaboost = AdaBoost()\n",
        "adaboost.fit(X_train, y_train)\n",
        "y_pred = adaboost.predict(X_test)\n",
        "accuracy = np.mean(y_pred == y_test)\n",
        "print(\"Accuracy:\", accuracy)\n"
      ],
      "metadata": {
        "colab": {
          "base_uri": "https://localhost:8080/"
        },
        "id": "5LiYbLnzpAso",
        "outputId": "babe0f8d-d3ac-4187-9300-91cecd8eee83"
      },
      "execution_count": 199,
      "outputs": [
        {
          "output_type": "stream",
          "name": "stdout",
          "text": [
            "Accuracy: 0.225\n"
          ]
        }
      ]
    },
    {
      "cell_type": "code",
      "source": [
        "#better accuracy but nothing beats the sklearns\n",
        "class custom_tree:\n",
        "    def __init__(self):\n",
        "        self.feature_index = None\n",
        "        self.threshold = None\n",
        "        self.alpha = None\n",
        "        self.prediction = None\n",
        "class AdaBoost:\n",
        "    def __init__(self, n_estimators=50):\n",
        "        self.n_estimators = n_estimators\n",
        "        self.estimators = []\n",
        "    def fit(self, X, y):\n",
        "        n_samples, n_features = X.shape\n",
        "        n_classes = len(np.unique(y))\n",
        "        weights = np.full(n_samples, 1 / n_samples)\n",
        "        for _ in range(self.n_estimators):\n",
        "            tr = custom_tree()\n",
        "            min_error = float('inf')\n",
        "            for feature_index in range(n_features):\n",
        "                unique_values = np.unique(X[:, feature_index])\n",
        "                for threshold in unique_values:\n",
        "                    prediction = np.ones(n_samples)\n",
        "                    prediction[X[:, feature_index] < threshold] = -1\n",
        "                    error = np.sum(weights[y != prediction])\n",
        "                    if error < min_error:\n",
        "                        min_error = error\n",
        "                        tr.feature_index = feature_index\n",
        "                        tr.threshold = threshold\n",
        "                        tr.prediction = prediction\n",
        "            tr.alpha = np.log((1 - min_error) / min_error)\n",
        "            weights *= np.exp(tr.alpha * (y != tr.prediction))\n",
        "            weights /= np.sum(weights)\n",
        "            self.estimators.append(tr)\n",
        "    def predict(self, X):\n",
        "        n_samples = X.shape[0]\n",
        "        n_classes = len(self.estimators)\n",
        "        y_pred = np.zeros((n_samples, n_classes))\n",
        "        for i, tr in enumerate(self.estimators):\n",
        "            prediction = np.ones(n_samples)\n",
        "            prediction[X[:, tr.feature_index] < tr.threshold] = -1\n",
        "            y_pred[:, i] = tr.alpha * prediction\n",
        "        class_labels = np.argmax(y_pred, axis=1)\n",
        "        return class_labels\n",
        "df = pd.read_csv('dataset.csv').dropna()\n",
        "features = df.drop('Type', axis=1).values\n",
        "target = df['Type'].values\n",
        "indices = np.random.permutation(len(features))\n",
        "split = int(0.8 * len(features))\n",
        "X_train, y_train = features[indices[:split]], target[indices[:split]]\n",
        "X_test, y_test = features[indices[split:]], target[indices[split:]]\n",
        "adaboost = AdaBoost()\n",
        "adaboost.fit(X_train, y_train)\n",
        "y_pred = adaboost.predict(X_test)\n",
        "accuracy = np.mean(y_pred == y_test)\n",
        "print(\"Accuracy:\", accuracy)"
      ],
      "metadata": {
        "colab": {
          "base_uri": "https://localhost:8080/"
        },
        "id": "wMoy8rMHqUZP",
        "outputId": "98047e5e-7073-4340-9dd1-9718ade6bfa9"
      },
      "execution_count": 200,
      "outputs": [
        {
          "output_type": "stream",
          "name": "stdout",
          "text": [
            "Accuracy: 0.325\n"
          ]
        }
      ]
    }
  ]
}