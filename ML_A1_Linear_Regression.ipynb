{
  "cells": [
    {
      "cell_type": "markdown",
      "id": "b07eb33c",
      "metadata": {
        "id": "b07eb33c"
      },
      "source": [
        "<div>\n",
        "<img src='http://www-scf.usc.edu/~ghasemig/images/sharif.png' alt=\"SUT logo\" width=220 height=220 align=left class=\"saturate\">\n",
        "\n",
        "<br>\n",
        "<font face=\"Times New Roman\">\n",
        "<div dir=ltr align=center> \n",
        "<!-- <font color=0F5298 size=7> -->\n",
        "<font color=0F5298 size=6>\n",
        "    Introduction to Machine Learning <br> <br>\n",
        "<!-- <font color=2565AE size=5> -->\n",
        "<font size=5>\n",
        "    Computer Engineering Department <br>\n",
        "    Spring 2023 <br> <br>\n",
        "<font color=606060 size=5>\n",
        "    Homework 1: Practical - Linear Regression <br> <br>\n",
        "<font color=686880 size=4>\n",
        "    TAs: Arman Malekzadeh - Yalda Shabanzadeh - Arshia Soltani Moakhar\n",
        "    \n",
        "____"
      ]
    },
    {
      "cell_type": "markdown",
      "id": "f5a79508",
      "metadata": {
        "id": "f5a79508"
      },
      "source": [
        "### Full Name : pardis zahraei\n",
        "### Student Number : 99109777\n",
        "___"
      ]
    },
    {
      "cell_type": "code",
      "source": [
        "# run this to download the dataset\n",
        "!wget -O 'dataset.csv' https://www.dropbox.com/s/2ny75tb1ic141yw/assignment1.csv?dl=0"
      ],
      "metadata": {
        "id": "_FZJrsgNDeBt",
        "colab": {
          "base_uri": "https://localhost:8080/"
        },
        "outputId": "142e7eda-80e7-4002-f946-0c5bab64a3b8"
      },
      "id": "_FZJrsgNDeBt",
      "execution_count": 17,
      "outputs": [
        {
          "output_type": "stream",
          "name": "stdout",
          "text": [
            "--2023-03-10 18:56:17--  https://www.dropbox.com/s/2ny75tb1ic141yw/assignment1.csv?dl=0\n",
            "Resolving www.dropbox.com (www.dropbox.com)... 162.125.65.18, 2620:100:6017:18::a27d:212\n",
            "Connecting to www.dropbox.com (www.dropbox.com)|162.125.65.18|:443... connected.\n",
            "HTTP request sent, awaiting response... 302 Found\n",
            "Location: /s/raw/2ny75tb1ic141yw/assignment1.csv [following]\n",
            "--2023-03-10 18:56:18--  https://www.dropbox.com/s/raw/2ny75tb1ic141yw/assignment1.csv\n",
            "Reusing existing connection to www.dropbox.com:443.\n",
            "HTTP request sent, awaiting response... 302 Found\n",
            "Location: https://uc247d617e11205b67c5505547b1.dl.dropboxusercontent.com/cd/0/inline/B3-DRvORFqAGX5jAJYgoQfQUkm9B9u6xFxuZ67ZTm-MFr5dL-Hdcq92ZvbZJdmKN4WIRcJW37R5zlItNi2-HjBg0gTbflGvrcl8mF1pwPrT3R4ADa-lMau_5vDYyZwPlvKJ3LwtCbuq9VkwVymqxbL4quKhfLlebHAApSCtcIvtPfw/file# [following]\n",
            "--2023-03-10 18:56:18--  https://uc247d617e11205b67c5505547b1.dl.dropboxusercontent.com/cd/0/inline/B3-DRvORFqAGX5jAJYgoQfQUkm9B9u6xFxuZ67ZTm-MFr5dL-Hdcq92ZvbZJdmKN4WIRcJW37R5zlItNi2-HjBg0gTbflGvrcl8mF1pwPrT3R4ADa-lMau_5vDYyZwPlvKJ3LwtCbuq9VkwVymqxbL4quKhfLlebHAApSCtcIvtPfw/file\n",
            "Resolving uc247d617e11205b67c5505547b1.dl.dropboxusercontent.com (uc247d617e11205b67c5505547b1.dl.dropboxusercontent.com)... 162.125.2.15, 2620:100:6017:15::a27d:20f\n",
            "Connecting to uc247d617e11205b67c5505547b1.dl.dropboxusercontent.com (uc247d617e11205b67c5505547b1.dl.dropboxusercontent.com)|162.125.2.15|:443... connected.\n",
            "HTTP request sent, awaiting response... 200 OK\n",
            "Length: 55628 (54K) [text/plain]\n",
            "Saving to: ‘dataset.csv’\n",
            "\n",
            "dataset.csv         100%[===================>]  54.32K  --.-KB/s    in 0.009s  \n",
            "\n",
            "2023-03-10 18:56:19 (6.12 MB/s) - ‘dataset.csv’ saved [55628/55628]\n",
            "\n"
          ]
        }
      ]
    },
    {
      "cell_type": "code",
      "execution_count": 18,
      "id": "5a2067b0",
      "metadata": {
        "id": "5a2067b0"
      },
      "outputs": [],
      "source": [
        "# you can use the following libraries\n",
        "import pandas\n",
        "import sklearn\n",
        "import numpy as np\n",
        "from joblib import dump, load\n",
        "from matplotlib import pyplot as plt\n",
        "import os"
      ]
    },
    {
      "cell_type": "markdown",
      "id": "20fe7a06",
      "metadata": {
        "id": "20fe7a06"
      },
      "source": [
        "# Phase 1: Explore"
      ]
    },
    {
      "cell_type": "markdown",
      "id": "53b23af6",
      "metadata": {
        "id": "53b23af6"
      },
      "source": [
        "## Sec 1: What do we have here?"
      ]
    },
    {
      "cell_type": "markdown",
      "id": "c9a841e4",
      "metadata": {
        "id": "c9a841e4"
      },
      "source": [
        "load the dataset (as a dataframe) using pandas"
      ]
    },
    {
      "cell_type": "code",
      "execution_count": 19,
      "id": "794aec65",
      "metadata": {
        "id": "794aec65",
        "colab": {
          "base_uri": "https://localhost:8080/",
          "height": 424
        },
        "outputId": "bca2f67c-4992-46e4-c39b-041c6ec8c885"
      },
      "outputs": [
        {
          "output_type": "execute_result",
          "data": {
            "text/plain": [
              "      age     sex     bmi  children smoker     region      charges\n",
              "0      19  female  27.900         0    yes  southwest  16884.92400\n",
              "1      18    male  33.770         1     no  southeast   1725.55230\n",
              "2      28    male  33.000         3     no  southeast   4449.46200\n",
              "3      33    male  22.705         0     no  northwest  21984.47061\n",
              "4      32    male  28.880         0     no  northwest   3866.85520\n",
              "...   ...     ...     ...       ...    ...        ...          ...\n",
              "1333   50    male  30.970         3     no  northwest  10600.54830\n",
              "1334   18  female  31.920         0     no  northeast   2205.98080\n",
              "1335   18  female  36.850         0     no  southeast   1629.83350\n",
              "1336   21  female  25.800         0     no  southwest   2007.94500\n",
              "1337   61  female  29.070         0    yes  northwest  29141.36030\n",
              "\n",
              "[1338 rows x 7 columns]"
            ],
            "text/html": [
              "\n",
              "  <div id=\"df-fea8c445-c7bc-4dc5-ab6f-fe8b6d5dce61\">\n",
              "    <div class=\"colab-df-container\">\n",
              "      <div>\n",
              "<style scoped>\n",
              "    .dataframe tbody tr th:only-of-type {\n",
              "        vertical-align: middle;\n",
              "    }\n",
              "\n",
              "    .dataframe tbody tr th {\n",
              "        vertical-align: top;\n",
              "    }\n",
              "\n",
              "    .dataframe thead th {\n",
              "        text-align: right;\n",
              "    }\n",
              "</style>\n",
              "<table border=\"1\" class=\"dataframe\">\n",
              "  <thead>\n",
              "    <tr style=\"text-align: right;\">\n",
              "      <th></th>\n",
              "      <th>age</th>\n",
              "      <th>sex</th>\n",
              "      <th>bmi</th>\n",
              "      <th>children</th>\n",
              "      <th>smoker</th>\n",
              "      <th>region</th>\n",
              "      <th>charges</th>\n",
              "    </tr>\n",
              "  </thead>\n",
              "  <tbody>\n",
              "    <tr>\n",
              "      <th>0</th>\n",
              "      <td>19</td>\n",
              "      <td>female</td>\n",
              "      <td>27.900</td>\n",
              "      <td>0</td>\n",
              "      <td>yes</td>\n",
              "      <td>southwest</td>\n",
              "      <td>16884.92400</td>\n",
              "    </tr>\n",
              "    <tr>\n",
              "      <th>1</th>\n",
              "      <td>18</td>\n",
              "      <td>male</td>\n",
              "      <td>33.770</td>\n",
              "      <td>1</td>\n",
              "      <td>no</td>\n",
              "      <td>southeast</td>\n",
              "      <td>1725.55230</td>\n",
              "    </tr>\n",
              "    <tr>\n",
              "      <th>2</th>\n",
              "      <td>28</td>\n",
              "      <td>male</td>\n",
              "      <td>33.000</td>\n",
              "      <td>3</td>\n",
              "      <td>no</td>\n",
              "      <td>southeast</td>\n",
              "      <td>4449.46200</td>\n",
              "    </tr>\n",
              "    <tr>\n",
              "      <th>3</th>\n",
              "      <td>33</td>\n",
              "      <td>male</td>\n",
              "      <td>22.705</td>\n",
              "      <td>0</td>\n",
              "      <td>no</td>\n",
              "      <td>northwest</td>\n",
              "      <td>21984.47061</td>\n",
              "    </tr>\n",
              "    <tr>\n",
              "      <th>4</th>\n",
              "      <td>32</td>\n",
              "      <td>male</td>\n",
              "      <td>28.880</td>\n",
              "      <td>0</td>\n",
              "      <td>no</td>\n",
              "      <td>northwest</td>\n",
              "      <td>3866.85520</td>\n",
              "    </tr>\n",
              "    <tr>\n",
              "      <th>...</th>\n",
              "      <td>...</td>\n",
              "      <td>...</td>\n",
              "      <td>...</td>\n",
              "      <td>...</td>\n",
              "      <td>...</td>\n",
              "      <td>...</td>\n",
              "      <td>...</td>\n",
              "    </tr>\n",
              "    <tr>\n",
              "      <th>1333</th>\n",
              "      <td>50</td>\n",
              "      <td>male</td>\n",
              "      <td>30.970</td>\n",
              "      <td>3</td>\n",
              "      <td>no</td>\n",
              "      <td>northwest</td>\n",
              "      <td>10600.54830</td>\n",
              "    </tr>\n",
              "    <tr>\n",
              "      <th>1334</th>\n",
              "      <td>18</td>\n",
              "      <td>female</td>\n",
              "      <td>31.920</td>\n",
              "      <td>0</td>\n",
              "      <td>no</td>\n",
              "      <td>northeast</td>\n",
              "      <td>2205.98080</td>\n",
              "    </tr>\n",
              "    <tr>\n",
              "      <th>1335</th>\n",
              "      <td>18</td>\n",
              "      <td>female</td>\n",
              "      <td>36.850</td>\n",
              "      <td>0</td>\n",
              "      <td>no</td>\n",
              "      <td>southeast</td>\n",
              "      <td>1629.83350</td>\n",
              "    </tr>\n",
              "    <tr>\n",
              "      <th>1336</th>\n",
              "      <td>21</td>\n",
              "      <td>female</td>\n",
              "      <td>25.800</td>\n",
              "      <td>0</td>\n",
              "      <td>no</td>\n",
              "      <td>southwest</td>\n",
              "      <td>2007.94500</td>\n",
              "    </tr>\n",
              "    <tr>\n",
              "      <th>1337</th>\n",
              "      <td>61</td>\n",
              "      <td>female</td>\n",
              "      <td>29.070</td>\n",
              "      <td>0</td>\n",
              "      <td>yes</td>\n",
              "      <td>northwest</td>\n",
              "      <td>29141.36030</td>\n",
              "    </tr>\n",
              "  </tbody>\n",
              "</table>\n",
              "<p>1338 rows × 7 columns</p>\n",
              "</div>\n",
              "      <button class=\"colab-df-convert\" onclick=\"convertToInteractive('df-fea8c445-c7bc-4dc5-ab6f-fe8b6d5dce61')\"\n",
              "              title=\"Convert this dataframe to an interactive table.\"\n",
              "              style=\"display:none;\">\n",
              "        \n",
              "  <svg xmlns=\"http://www.w3.org/2000/svg\" height=\"24px\"viewBox=\"0 0 24 24\"\n",
              "       width=\"24px\">\n",
              "    <path d=\"M0 0h24v24H0V0z\" fill=\"none\"/>\n",
              "    <path d=\"M18.56 5.44l.94 2.06.94-2.06 2.06-.94-2.06-.94-.94-2.06-.94 2.06-2.06.94zm-11 1L8.5 8.5l.94-2.06 2.06-.94-2.06-.94L8.5 2.5l-.94 2.06-2.06.94zm10 10l.94 2.06.94-2.06 2.06-.94-2.06-.94-.94-2.06-.94 2.06-2.06.94z\"/><path d=\"M17.41 7.96l-1.37-1.37c-.4-.4-.92-.59-1.43-.59-.52 0-1.04.2-1.43.59L10.3 9.45l-7.72 7.72c-.78.78-.78 2.05 0 2.83L4 21.41c.39.39.9.59 1.41.59.51 0 1.02-.2 1.41-.59l7.78-7.78 2.81-2.81c.8-.78.8-2.07 0-2.86zM5.41 20L4 18.59l7.72-7.72 1.47 1.35L5.41 20z\"/>\n",
              "  </svg>\n",
              "      </button>\n",
              "      \n",
              "  <style>\n",
              "    .colab-df-container {\n",
              "      display:flex;\n",
              "      flex-wrap:wrap;\n",
              "      gap: 12px;\n",
              "    }\n",
              "\n",
              "    .colab-df-convert {\n",
              "      background-color: #E8F0FE;\n",
              "      border: none;\n",
              "      border-radius: 50%;\n",
              "      cursor: pointer;\n",
              "      display: none;\n",
              "      fill: #1967D2;\n",
              "      height: 32px;\n",
              "      padding: 0 0 0 0;\n",
              "      width: 32px;\n",
              "    }\n",
              "\n",
              "    .colab-df-convert:hover {\n",
              "      background-color: #E2EBFA;\n",
              "      box-shadow: 0px 1px 2px rgba(60, 64, 67, 0.3), 0px 1px 3px 1px rgba(60, 64, 67, 0.15);\n",
              "      fill: #174EA6;\n",
              "    }\n",
              "\n",
              "    [theme=dark] .colab-df-convert {\n",
              "      background-color: #3B4455;\n",
              "      fill: #D2E3FC;\n",
              "    }\n",
              "\n",
              "    [theme=dark] .colab-df-convert:hover {\n",
              "      background-color: #434B5C;\n",
              "      box-shadow: 0px 1px 3px 1px rgba(0, 0, 0, 0.15);\n",
              "      filter: drop-shadow(0px 1px 2px rgba(0, 0, 0, 0.3));\n",
              "      fill: #FFFFFF;\n",
              "    }\n",
              "  </style>\n",
              "\n",
              "      <script>\n",
              "        const buttonEl =\n",
              "          document.querySelector('#df-fea8c445-c7bc-4dc5-ab6f-fe8b6d5dce61 button.colab-df-convert');\n",
              "        buttonEl.style.display =\n",
              "          google.colab.kernel.accessAllowed ? 'block' : 'none';\n",
              "\n",
              "        async function convertToInteractive(key) {\n",
              "          const element = document.querySelector('#df-fea8c445-c7bc-4dc5-ab6f-fe8b6d5dce61');\n",
              "          const dataTable =\n",
              "            await google.colab.kernel.invokeFunction('convertToInteractive',\n",
              "                                                     [key], {});\n",
              "          if (!dataTable) return;\n",
              "\n",
              "          const docLinkHtml = 'Like what you see? Visit the ' +\n",
              "            '<a target=\"_blank\" href=https://colab.research.google.com/notebooks/data_table.ipynb>data table notebook</a>'\n",
              "            + ' to learn more about interactive tables.';\n",
              "          element.innerHTML = '';\n",
              "          dataTable['output_type'] = 'display_data';\n",
              "          await google.colab.output.renderOutput(dataTable, element);\n",
              "          const docLink = document.createElement('div');\n",
              "          docLink.innerHTML = docLinkHtml;\n",
              "          element.appendChild(docLink);\n",
              "        }\n",
              "      </script>\n",
              "    </div>\n",
              "  </div>\n",
              "  "
            ]
          },
          "metadata": {},
          "execution_count": 19
        }
      ],
      "source": [
        "dataframe = pandas.read_csv(\"dataset.csv\")\n",
        "dataframe "
      ]
    },
    {
      "cell_type": "markdown",
      "id": "5cdcbee2",
      "metadata": {
        "id": "5cdcbee2"
      },
      "source": [
        "display the top rows of the dataframe (top 5 is enough)"
      ]
    },
    {
      "cell_type": "code",
      "execution_count": null,
      "id": "27a62b7d",
      "metadata": {
        "id": "27a62b7d",
        "colab": {
          "base_uri": "https://localhost:8080/",
          "height": 206
        },
        "outputId": "f69b1cbe-daf3-44d4-9408-22dbebe59fe4"
      },
      "outputs": [
        {
          "output_type": "execute_result",
          "data": {
            "text/plain": [
              "   age     sex     bmi  children smoker     region      charges\n",
              "0   19  female  27.900         0    yes  southwest  16884.92400\n",
              "1   18    male  33.770         1     no  southeast   1725.55230\n",
              "2   28    male  33.000         3     no  southeast   4449.46200\n",
              "3   33    male  22.705         0     no  northwest  21984.47061\n",
              "4   32    male  28.880         0     no  northwest   3866.85520"
            ],
            "text/html": [
              "\n",
              "  <div id=\"df-35ac2551-9185-46b6-8d22-079547918541\">\n",
              "    <div class=\"colab-df-container\">\n",
              "      <div>\n",
              "<style scoped>\n",
              "    .dataframe tbody tr th:only-of-type {\n",
              "        vertical-align: middle;\n",
              "    }\n",
              "\n",
              "    .dataframe tbody tr th {\n",
              "        vertical-align: top;\n",
              "    }\n",
              "\n",
              "    .dataframe thead th {\n",
              "        text-align: right;\n",
              "    }\n",
              "</style>\n",
              "<table border=\"1\" class=\"dataframe\">\n",
              "  <thead>\n",
              "    <tr style=\"text-align: right;\">\n",
              "      <th></th>\n",
              "      <th>age</th>\n",
              "      <th>sex</th>\n",
              "      <th>bmi</th>\n",
              "      <th>children</th>\n",
              "      <th>smoker</th>\n",
              "      <th>region</th>\n",
              "      <th>charges</th>\n",
              "    </tr>\n",
              "  </thead>\n",
              "  <tbody>\n",
              "    <tr>\n",
              "      <th>0</th>\n",
              "      <td>19</td>\n",
              "      <td>female</td>\n",
              "      <td>27.900</td>\n",
              "      <td>0</td>\n",
              "      <td>yes</td>\n",
              "      <td>southwest</td>\n",
              "      <td>16884.92400</td>\n",
              "    </tr>\n",
              "    <tr>\n",
              "      <th>1</th>\n",
              "      <td>18</td>\n",
              "      <td>male</td>\n",
              "      <td>33.770</td>\n",
              "      <td>1</td>\n",
              "      <td>no</td>\n",
              "      <td>southeast</td>\n",
              "      <td>1725.55230</td>\n",
              "    </tr>\n",
              "    <tr>\n",
              "      <th>2</th>\n",
              "      <td>28</td>\n",
              "      <td>male</td>\n",
              "      <td>33.000</td>\n",
              "      <td>3</td>\n",
              "      <td>no</td>\n",
              "      <td>southeast</td>\n",
              "      <td>4449.46200</td>\n",
              "    </tr>\n",
              "    <tr>\n",
              "      <th>3</th>\n",
              "      <td>33</td>\n",
              "      <td>male</td>\n",
              "      <td>22.705</td>\n",
              "      <td>0</td>\n",
              "      <td>no</td>\n",
              "      <td>northwest</td>\n",
              "      <td>21984.47061</td>\n",
              "    </tr>\n",
              "    <tr>\n",
              "      <th>4</th>\n",
              "      <td>32</td>\n",
              "      <td>male</td>\n",
              "      <td>28.880</td>\n",
              "      <td>0</td>\n",
              "      <td>no</td>\n",
              "      <td>northwest</td>\n",
              "      <td>3866.85520</td>\n",
              "    </tr>\n",
              "  </tbody>\n",
              "</table>\n",
              "</div>\n",
              "      <button class=\"colab-df-convert\" onclick=\"convertToInteractive('df-35ac2551-9185-46b6-8d22-079547918541')\"\n",
              "              title=\"Convert this dataframe to an interactive table.\"\n",
              "              style=\"display:none;\">\n",
              "        \n",
              "  <svg xmlns=\"http://www.w3.org/2000/svg\" height=\"24px\"viewBox=\"0 0 24 24\"\n",
              "       width=\"24px\">\n",
              "    <path d=\"M0 0h24v24H0V0z\" fill=\"none\"/>\n",
              "    <path d=\"M18.56 5.44l.94 2.06.94-2.06 2.06-.94-2.06-.94-.94-2.06-.94 2.06-2.06.94zm-11 1L8.5 8.5l.94-2.06 2.06-.94-2.06-.94L8.5 2.5l-.94 2.06-2.06.94zm10 10l.94 2.06.94-2.06 2.06-.94-2.06-.94-.94-2.06-.94 2.06-2.06.94z\"/><path d=\"M17.41 7.96l-1.37-1.37c-.4-.4-.92-.59-1.43-.59-.52 0-1.04.2-1.43.59L10.3 9.45l-7.72 7.72c-.78.78-.78 2.05 0 2.83L4 21.41c.39.39.9.59 1.41.59.51 0 1.02-.2 1.41-.59l7.78-7.78 2.81-2.81c.8-.78.8-2.07 0-2.86zM5.41 20L4 18.59l7.72-7.72 1.47 1.35L5.41 20z\"/>\n",
              "  </svg>\n",
              "      </button>\n",
              "      \n",
              "  <style>\n",
              "    .colab-df-container {\n",
              "      display:flex;\n",
              "      flex-wrap:wrap;\n",
              "      gap: 12px;\n",
              "    }\n",
              "\n",
              "    .colab-df-convert {\n",
              "      background-color: #E8F0FE;\n",
              "      border: none;\n",
              "      border-radius: 50%;\n",
              "      cursor: pointer;\n",
              "      display: none;\n",
              "      fill: #1967D2;\n",
              "      height: 32px;\n",
              "      padding: 0 0 0 0;\n",
              "      width: 32px;\n",
              "    }\n",
              "\n",
              "    .colab-df-convert:hover {\n",
              "      background-color: #E2EBFA;\n",
              "      box-shadow: 0px 1px 2px rgba(60, 64, 67, 0.3), 0px 1px 3px 1px rgba(60, 64, 67, 0.15);\n",
              "      fill: #174EA6;\n",
              "    }\n",
              "\n",
              "    [theme=dark] .colab-df-convert {\n",
              "      background-color: #3B4455;\n",
              "      fill: #D2E3FC;\n",
              "    }\n",
              "\n",
              "    [theme=dark] .colab-df-convert:hover {\n",
              "      background-color: #434B5C;\n",
              "      box-shadow: 0px 1px 3px 1px rgba(0, 0, 0, 0.15);\n",
              "      filter: drop-shadow(0px 1px 2px rgba(0, 0, 0, 0.3));\n",
              "      fill: #FFFFFF;\n",
              "    }\n",
              "  </style>\n",
              "\n",
              "      <script>\n",
              "        const buttonEl =\n",
              "          document.querySelector('#df-35ac2551-9185-46b6-8d22-079547918541 button.colab-df-convert');\n",
              "        buttonEl.style.display =\n",
              "          google.colab.kernel.accessAllowed ? 'block' : 'none';\n",
              "\n",
              "        async function convertToInteractive(key) {\n",
              "          const element = document.querySelector('#df-35ac2551-9185-46b6-8d22-079547918541');\n",
              "          const dataTable =\n",
              "            await google.colab.kernel.invokeFunction('convertToInteractive',\n",
              "                                                     [key], {});\n",
              "          if (!dataTable) return;\n",
              "\n",
              "          const docLinkHtml = 'Like what you see? Visit the ' +\n",
              "            '<a target=\"_blank\" href=https://colab.research.google.com/notebooks/data_table.ipynb>data table notebook</a>'\n",
              "            + ' to learn more about interactive tables.';\n",
              "          element.innerHTML = '';\n",
              "          dataTable['output_type'] = 'display_data';\n",
              "          await google.colab.output.renderOutput(dataTable, element);\n",
              "          const docLink = document.createElement('div');\n",
              "          docLink.innerHTML = docLinkHtml;\n",
              "          element.appendChild(docLink);\n",
              "        }\n",
              "      </script>\n",
              "    </div>\n",
              "  </div>\n",
              "  "
            ]
          },
          "metadata": {},
          "execution_count": 5
        }
      ],
      "source": [
        "\n",
        "dataframe.head(5)\n"
      ]
    },
    {
      "cell_type": "markdown",
      "id": "a55a134e",
      "metadata": {
        "id": "a55a134e"
      },
      "source": [
        "print the names of the columns"
      ]
    },
    {
      "cell_type": "code",
      "execution_count": null,
      "id": "f5db727b",
      "metadata": {
        "id": "f5db727b",
        "colab": {
          "base_uri": "https://localhost:8080/"
        },
        "outputId": "ee9de159-81a2-4b4b-b1bb-6136ef1a8dd4"
      },
      "outputs": [
        {
          "output_type": "stream",
          "name": "stdout",
          "text": [
            "Index(['age', 'sex', 'bmi', 'children', 'smoker', 'region', 'charges'], dtype='object')\n"
          ]
        }
      ],
      "source": [
        "print(dataframe.columns)"
      ]
    },
    {
      "cell_type": "markdown",
      "id": "063f6a38",
      "metadata": {
        "id": "063f6a38"
      },
      "source": [
        "what values can the `region` column take? print the unique values using pandas"
      ]
    },
    {
      "cell_type": "code",
      "execution_count": null,
      "id": "f7e651ef",
      "metadata": {
        "id": "f7e651ef",
        "colab": {
          "base_uri": "https://localhost:8080/"
        },
        "outputId": "50369764-6c40-434f-bccb-e86803776e1e"
      },
      "outputs": [
        {
          "output_type": "stream",
          "name": "stdout",
          "text": [
            "['southwest' 'southeast' 'northwest' 'northeast']\n"
          ]
        }
      ],
      "source": [
        "print(dataframe['region'].unique())"
      ]
    },
    {
      "cell_type": "markdown",
      "id": "6e73905d",
      "metadata": {
        "id": "6e73905d"
      },
      "source": [
        "get the number of rows in the dataset"
      ]
    },
    {
      "cell_type": "code",
      "execution_count": null,
      "id": "e78de260",
      "metadata": {
        "id": "e78de260",
        "colab": {
          "base_uri": "https://localhost:8080/"
        },
        "outputId": "5191a64d-3ef1-432c-b81f-7727becf278f"
      },
      "outputs": [
        {
          "output_type": "stream",
          "name": "stdout",
          "text": [
            "1338\n"
          ]
        }
      ],
      "source": [
        "print(len(dataframe))"
      ]
    },
    {
      "cell_type": "markdown",
      "id": "4a120511",
      "metadata": {
        "id": "4a120511"
      },
      "source": [
        "make a new column named `rounded_bmi` by rounding each value of the column `bmi` | keep the `bmi` column"
      ]
    },
    {
      "cell_type": "code",
      "execution_count": null,
      "id": "581c56d7",
      "metadata": {
        "id": "581c56d7",
        "colab": {
          "base_uri": "https://localhost:8080/",
          "height": 423
        },
        "outputId": "8a803262-b00e-48aa-98a1-5d4a49a7348e"
      },
      "outputs": [
        {
          "output_type": "execute_result",
          "data": {
            "text/plain": [
              "      age     sex     bmi  children smoker     region      charges  \\\n",
              "0      19  female  27.900         0    yes  southwest  16884.92400   \n",
              "1      18    male  33.770         1     no  southeast   1725.55230   \n",
              "2      28    male  33.000         3     no  southeast   4449.46200   \n",
              "3      33    male  22.705         0     no  northwest  21984.47061   \n",
              "4      32    male  28.880         0     no  northwest   3866.85520   \n",
              "...   ...     ...     ...       ...    ...        ...          ...   \n",
              "1333   50    male  30.970         3     no  northwest  10600.54830   \n",
              "1334   18  female  31.920         0     no  northeast   2205.98080   \n",
              "1335   18  female  36.850         0     no  southeast   1629.83350   \n",
              "1336   21  female  25.800         0     no  southwest   2007.94500   \n",
              "1337   61  female  29.070         0    yes  northwest  29141.36030   \n",
              "\n",
              "      rounded_bmi  \n",
              "0            28.0  \n",
              "1            34.0  \n",
              "2            33.0  \n",
              "3            23.0  \n",
              "4            29.0  \n",
              "...           ...  \n",
              "1333         31.0  \n",
              "1334         32.0  \n",
              "1335         37.0  \n",
              "1336         26.0  \n",
              "1337         29.0  \n",
              "\n",
              "[1338 rows x 8 columns]"
            ],
            "text/html": [
              "\n",
              "  <div id=\"df-406a3e94-a6e0-4b63-94e6-a0a85f012b26\">\n",
              "    <div class=\"colab-df-container\">\n",
              "      <div>\n",
              "<style scoped>\n",
              "    .dataframe tbody tr th:only-of-type {\n",
              "        vertical-align: middle;\n",
              "    }\n",
              "\n",
              "    .dataframe tbody tr th {\n",
              "        vertical-align: top;\n",
              "    }\n",
              "\n",
              "    .dataframe thead th {\n",
              "        text-align: right;\n",
              "    }\n",
              "</style>\n",
              "<table border=\"1\" class=\"dataframe\">\n",
              "  <thead>\n",
              "    <tr style=\"text-align: right;\">\n",
              "      <th></th>\n",
              "      <th>age</th>\n",
              "      <th>sex</th>\n",
              "      <th>bmi</th>\n",
              "      <th>children</th>\n",
              "      <th>smoker</th>\n",
              "      <th>region</th>\n",
              "      <th>charges</th>\n",
              "      <th>rounded_bmi</th>\n",
              "    </tr>\n",
              "  </thead>\n",
              "  <tbody>\n",
              "    <tr>\n",
              "      <th>0</th>\n",
              "      <td>19</td>\n",
              "      <td>female</td>\n",
              "      <td>27.900</td>\n",
              "      <td>0</td>\n",
              "      <td>yes</td>\n",
              "      <td>southwest</td>\n",
              "      <td>16884.92400</td>\n",
              "      <td>28.0</td>\n",
              "    </tr>\n",
              "    <tr>\n",
              "      <th>1</th>\n",
              "      <td>18</td>\n",
              "      <td>male</td>\n",
              "      <td>33.770</td>\n",
              "      <td>1</td>\n",
              "      <td>no</td>\n",
              "      <td>southeast</td>\n",
              "      <td>1725.55230</td>\n",
              "      <td>34.0</td>\n",
              "    </tr>\n",
              "    <tr>\n",
              "      <th>2</th>\n",
              "      <td>28</td>\n",
              "      <td>male</td>\n",
              "      <td>33.000</td>\n",
              "      <td>3</td>\n",
              "      <td>no</td>\n",
              "      <td>southeast</td>\n",
              "      <td>4449.46200</td>\n",
              "      <td>33.0</td>\n",
              "    </tr>\n",
              "    <tr>\n",
              "      <th>3</th>\n",
              "      <td>33</td>\n",
              "      <td>male</td>\n",
              "      <td>22.705</td>\n",
              "      <td>0</td>\n",
              "      <td>no</td>\n",
              "      <td>northwest</td>\n",
              "      <td>21984.47061</td>\n",
              "      <td>23.0</td>\n",
              "    </tr>\n",
              "    <tr>\n",
              "      <th>4</th>\n",
              "      <td>32</td>\n",
              "      <td>male</td>\n",
              "      <td>28.880</td>\n",
              "      <td>0</td>\n",
              "      <td>no</td>\n",
              "      <td>northwest</td>\n",
              "      <td>3866.85520</td>\n",
              "      <td>29.0</td>\n",
              "    </tr>\n",
              "    <tr>\n",
              "      <th>...</th>\n",
              "      <td>...</td>\n",
              "      <td>...</td>\n",
              "      <td>...</td>\n",
              "      <td>...</td>\n",
              "      <td>...</td>\n",
              "      <td>...</td>\n",
              "      <td>...</td>\n",
              "      <td>...</td>\n",
              "    </tr>\n",
              "    <tr>\n",
              "      <th>1333</th>\n",
              "      <td>50</td>\n",
              "      <td>male</td>\n",
              "      <td>30.970</td>\n",
              "      <td>3</td>\n",
              "      <td>no</td>\n",
              "      <td>northwest</td>\n",
              "      <td>10600.54830</td>\n",
              "      <td>31.0</td>\n",
              "    </tr>\n",
              "    <tr>\n",
              "      <th>1334</th>\n",
              "      <td>18</td>\n",
              "      <td>female</td>\n",
              "      <td>31.920</td>\n",
              "      <td>0</td>\n",
              "      <td>no</td>\n",
              "      <td>northeast</td>\n",
              "      <td>2205.98080</td>\n",
              "      <td>32.0</td>\n",
              "    </tr>\n",
              "    <tr>\n",
              "      <th>1335</th>\n",
              "      <td>18</td>\n",
              "      <td>female</td>\n",
              "      <td>36.850</td>\n",
              "      <td>0</td>\n",
              "      <td>no</td>\n",
              "      <td>southeast</td>\n",
              "      <td>1629.83350</td>\n",
              "      <td>37.0</td>\n",
              "    </tr>\n",
              "    <tr>\n",
              "      <th>1336</th>\n",
              "      <td>21</td>\n",
              "      <td>female</td>\n",
              "      <td>25.800</td>\n",
              "      <td>0</td>\n",
              "      <td>no</td>\n",
              "      <td>southwest</td>\n",
              "      <td>2007.94500</td>\n",
              "      <td>26.0</td>\n",
              "    </tr>\n",
              "    <tr>\n",
              "      <th>1337</th>\n",
              "      <td>61</td>\n",
              "      <td>female</td>\n",
              "      <td>29.070</td>\n",
              "      <td>0</td>\n",
              "      <td>yes</td>\n",
              "      <td>northwest</td>\n",
              "      <td>29141.36030</td>\n",
              "      <td>29.0</td>\n",
              "    </tr>\n",
              "  </tbody>\n",
              "</table>\n",
              "<p>1338 rows × 8 columns</p>\n",
              "</div>\n",
              "      <button class=\"colab-df-convert\" onclick=\"convertToInteractive('df-406a3e94-a6e0-4b63-94e6-a0a85f012b26')\"\n",
              "              title=\"Convert this dataframe to an interactive table.\"\n",
              "              style=\"display:none;\">\n",
              "        \n",
              "  <svg xmlns=\"http://www.w3.org/2000/svg\" height=\"24px\"viewBox=\"0 0 24 24\"\n",
              "       width=\"24px\">\n",
              "    <path d=\"M0 0h24v24H0V0z\" fill=\"none\"/>\n",
              "    <path d=\"M18.56 5.44l.94 2.06.94-2.06 2.06-.94-2.06-.94-.94-2.06-.94 2.06-2.06.94zm-11 1L8.5 8.5l.94-2.06 2.06-.94-2.06-.94L8.5 2.5l-.94 2.06-2.06.94zm10 10l.94 2.06.94-2.06 2.06-.94-2.06-.94-.94-2.06-.94 2.06-2.06.94z\"/><path d=\"M17.41 7.96l-1.37-1.37c-.4-.4-.92-.59-1.43-.59-.52 0-1.04.2-1.43.59L10.3 9.45l-7.72 7.72c-.78.78-.78 2.05 0 2.83L4 21.41c.39.39.9.59 1.41.59.51 0 1.02-.2 1.41-.59l7.78-7.78 2.81-2.81c.8-.78.8-2.07 0-2.86zM5.41 20L4 18.59l7.72-7.72 1.47 1.35L5.41 20z\"/>\n",
              "  </svg>\n",
              "      </button>\n",
              "      \n",
              "  <style>\n",
              "    .colab-df-container {\n",
              "      display:flex;\n",
              "      flex-wrap:wrap;\n",
              "      gap: 12px;\n",
              "    }\n",
              "\n",
              "    .colab-df-convert {\n",
              "      background-color: #E8F0FE;\n",
              "      border: none;\n",
              "      border-radius: 50%;\n",
              "      cursor: pointer;\n",
              "      display: none;\n",
              "      fill: #1967D2;\n",
              "      height: 32px;\n",
              "      padding: 0 0 0 0;\n",
              "      width: 32px;\n",
              "    }\n",
              "\n",
              "    .colab-df-convert:hover {\n",
              "      background-color: #E2EBFA;\n",
              "      box-shadow: 0px 1px 2px rgba(60, 64, 67, 0.3), 0px 1px 3px 1px rgba(60, 64, 67, 0.15);\n",
              "      fill: #174EA6;\n",
              "    }\n",
              "\n",
              "    [theme=dark] .colab-df-convert {\n",
              "      background-color: #3B4455;\n",
              "      fill: #D2E3FC;\n",
              "    }\n",
              "\n",
              "    [theme=dark] .colab-df-convert:hover {\n",
              "      background-color: #434B5C;\n",
              "      box-shadow: 0px 1px 3px 1px rgba(0, 0, 0, 0.15);\n",
              "      filter: drop-shadow(0px 1px 2px rgba(0, 0, 0, 0.3));\n",
              "      fill: #FFFFFF;\n",
              "    }\n",
              "  </style>\n",
              "\n",
              "      <script>\n",
              "        const buttonEl =\n",
              "          document.querySelector('#df-406a3e94-a6e0-4b63-94e6-a0a85f012b26 button.colab-df-convert');\n",
              "        buttonEl.style.display =\n",
              "          google.colab.kernel.accessAllowed ? 'block' : 'none';\n",
              "\n",
              "        async function convertToInteractive(key) {\n",
              "          const element = document.querySelector('#df-406a3e94-a6e0-4b63-94e6-a0a85f012b26');\n",
              "          const dataTable =\n",
              "            await google.colab.kernel.invokeFunction('convertToInteractive',\n",
              "                                                     [key], {});\n",
              "          if (!dataTable) return;\n",
              "\n",
              "          const docLinkHtml = 'Like what you see? Visit the ' +\n",
              "            '<a target=\"_blank\" href=https://colab.research.google.com/notebooks/data_table.ipynb>data table notebook</a>'\n",
              "            + ' to learn more about interactive tables.';\n",
              "          element.innerHTML = '';\n",
              "          dataTable['output_type'] = 'display_data';\n",
              "          await google.colab.output.renderOutput(dataTable, element);\n",
              "          const docLink = document.createElement('div');\n",
              "          docLink.innerHTML = docLinkHtml;\n",
              "          element.appendChild(docLink);\n",
              "        }\n",
              "      </script>\n",
              "    </div>\n",
              "  </div>\n",
              "  "
            ]
          },
          "metadata": {},
          "execution_count": 4
        }
      ],
      "source": [
        "dataframe['rounded_bmi'] = dataframe['bmi'].round()\n",
        "dataframe"
      ]
    },
    {
      "cell_type": "markdown",
      "id": "cd6f5035",
      "metadata": {
        "id": "cd6f5035"
      },
      "source": [
        "## Sec 2: Perform EDA\n",
        "\n",
        "perform EDA on the dataset (e.g., see if there are null values)"
      ]
    },
    {
      "cell_type": "code",
      "source": [
        "\n",
        "dataframe.info()\n",
        "\n",
        "dataframe.describe()"
      ],
      "metadata": {
        "colab": {
          "base_uri": "https://localhost:8080/",
          "height": 574
        },
        "id": "3W4kaGlKKX5V",
        "outputId": "9c7040c6-5328-4a3d-bd44-598f6b794028"
      },
      "id": "3W4kaGlKKX5V",
      "execution_count": null,
      "outputs": [
        {
          "output_type": "stream",
          "name": "stdout",
          "text": [
            "<class 'pandas.core.frame.DataFrame'>\n",
            "RangeIndex: 1338 entries, 0 to 1337\n",
            "Data columns (total 8 columns):\n",
            " #   Column       Non-Null Count  Dtype  \n",
            "---  ------       --------------  -----  \n",
            " 0   age          1338 non-null   int64  \n",
            " 1   sex          1338 non-null   object \n",
            " 2   bmi          1338 non-null   float64\n",
            " 3   children     1338 non-null   int64  \n",
            " 4   smoker       1338 non-null   object \n",
            " 5   region       1338 non-null   object \n",
            " 6   charges      1338 non-null   float64\n",
            " 7   rounded_bmi  1338 non-null   float64\n",
            "dtypes: float64(3), int64(2), object(3)\n",
            "memory usage: 83.8+ KB\n"
          ]
        },
        {
          "output_type": "execute_result",
          "data": {
            "text/plain": [
              "               age          bmi     children       charges  rounded_bmi\n",
              "count  1338.000000  1338.000000  1338.000000   1338.000000  1338.000000\n",
              "mean     39.207025    30.663397     1.094918  13270.422265    30.663677\n",
              "std      14.049960     6.098187     1.205493  12110.011237     6.096007\n",
              "min      18.000000    15.960000     0.000000   1121.873900    16.000000\n",
              "25%      27.000000    26.296250     0.000000   4740.287150    26.000000\n",
              "50%      39.000000    30.400000     1.000000   9382.033000    30.000000\n",
              "75%      51.000000    34.693750     2.000000  16639.912515    35.000000\n",
              "max      64.000000    53.130000     5.000000  63770.428010    53.000000"
            ],
            "text/html": [
              "\n",
              "  <div id=\"df-2248a945-6ef2-4373-860a-17798c6aed9e\">\n",
              "    <div class=\"colab-df-container\">\n",
              "      <div>\n",
              "<style scoped>\n",
              "    .dataframe tbody tr th:only-of-type {\n",
              "        vertical-align: middle;\n",
              "    }\n",
              "\n",
              "    .dataframe tbody tr th {\n",
              "        vertical-align: top;\n",
              "    }\n",
              "\n",
              "    .dataframe thead th {\n",
              "        text-align: right;\n",
              "    }\n",
              "</style>\n",
              "<table border=\"1\" class=\"dataframe\">\n",
              "  <thead>\n",
              "    <tr style=\"text-align: right;\">\n",
              "      <th></th>\n",
              "      <th>age</th>\n",
              "      <th>bmi</th>\n",
              "      <th>children</th>\n",
              "      <th>charges</th>\n",
              "      <th>rounded_bmi</th>\n",
              "    </tr>\n",
              "  </thead>\n",
              "  <tbody>\n",
              "    <tr>\n",
              "      <th>count</th>\n",
              "      <td>1338.000000</td>\n",
              "      <td>1338.000000</td>\n",
              "      <td>1338.000000</td>\n",
              "      <td>1338.000000</td>\n",
              "      <td>1338.000000</td>\n",
              "    </tr>\n",
              "    <tr>\n",
              "      <th>mean</th>\n",
              "      <td>39.207025</td>\n",
              "      <td>30.663397</td>\n",
              "      <td>1.094918</td>\n",
              "      <td>13270.422265</td>\n",
              "      <td>30.663677</td>\n",
              "    </tr>\n",
              "    <tr>\n",
              "      <th>std</th>\n",
              "      <td>14.049960</td>\n",
              "      <td>6.098187</td>\n",
              "      <td>1.205493</td>\n",
              "      <td>12110.011237</td>\n",
              "      <td>6.096007</td>\n",
              "    </tr>\n",
              "    <tr>\n",
              "      <th>min</th>\n",
              "      <td>18.000000</td>\n",
              "      <td>15.960000</td>\n",
              "      <td>0.000000</td>\n",
              "      <td>1121.873900</td>\n",
              "      <td>16.000000</td>\n",
              "    </tr>\n",
              "    <tr>\n",
              "      <th>25%</th>\n",
              "      <td>27.000000</td>\n",
              "      <td>26.296250</td>\n",
              "      <td>0.000000</td>\n",
              "      <td>4740.287150</td>\n",
              "      <td>26.000000</td>\n",
              "    </tr>\n",
              "    <tr>\n",
              "      <th>50%</th>\n",
              "      <td>39.000000</td>\n",
              "      <td>30.400000</td>\n",
              "      <td>1.000000</td>\n",
              "      <td>9382.033000</td>\n",
              "      <td>30.000000</td>\n",
              "    </tr>\n",
              "    <tr>\n",
              "      <th>75%</th>\n",
              "      <td>51.000000</td>\n",
              "      <td>34.693750</td>\n",
              "      <td>2.000000</td>\n",
              "      <td>16639.912515</td>\n",
              "      <td>35.000000</td>\n",
              "    </tr>\n",
              "    <tr>\n",
              "      <th>max</th>\n",
              "      <td>64.000000</td>\n",
              "      <td>53.130000</td>\n",
              "      <td>5.000000</td>\n",
              "      <td>63770.428010</td>\n",
              "      <td>53.000000</td>\n",
              "    </tr>\n",
              "  </tbody>\n",
              "</table>\n",
              "</div>\n",
              "      <button class=\"colab-df-convert\" onclick=\"convertToInteractive('df-2248a945-6ef2-4373-860a-17798c6aed9e')\"\n",
              "              title=\"Convert this dataframe to an interactive table.\"\n",
              "              style=\"display:none;\">\n",
              "        \n",
              "  <svg xmlns=\"http://www.w3.org/2000/svg\" height=\"24px\"viewBox=\"0 0 24 24\"\n",
              "       width=\"24px\">\n",
              "    <path d=\"M0 0h24v24H0V0z\" fill=\"none\"/>\n",
              "    <path d=\"M18.56 5.44l.94 2.06.94-2.06 2.06-.94-2.06-.94-.94-2.06-.94 2.06-2.06.94zm-11 1L8.5 8.5l.94-2.06 2.06-.94-2.06-.94L8.5 2.5l-.94 2.06-2.06.94zm10 10l.94 2.06.94-2.06 2.06-.94-2.06-.94-.94-2.06-.94 2.06-2.06.94z\"/><path d=\"M17.41 7.96l-1.37-1.37c-.4-.4-.92-.59-1.43-.59-.52 0-1.04.2-1.43.59L10.3 9.45l-7.72 7.72c-.78.78-.78 2.05 0 2.83L4 21.41c.39.39.9.59 1.41.59.51 0 1.02-.2 1.41-.59l7.78-7.78 2.81-2.81c.8-.78.8-2.07 0-2.86zM5.41 20L4 18.59l7.72-7.72 1.47 1.35L5.41 20z\"/>\n",
              "  </svg>\n",
              "      </button>\n",
              "      \n",
              "  <style>\n",
              "    .colab-df-container {\n",
              "      display:flex;\n",
              "      flex-wrap:wrap;\n",
              "      gap: 12px;\n",
              "    }\n",
              "\n",
              "    .colab-df-convert {\n",
              "      background-color: #E8F0FE;\n",
              "      border: none;\n",
              "      border-radius: 50%;\n",
              "      cursor: pointer;\n",
              "      display: none;\n",
              "      fill: #1967D2;\n",
              "      height: 32px;\n",
              "      padding: 0 0 0 0;\n",
              "      width: 32px;\n",
              "    }\n",
              "\n",
              "    .colab-df-convert:hover {\n",
              "      background-color: #E2EBFA;\n",
              "      box-shadow: 0px 1px 2px rgba(60, 64, 67, 0.3), 0px 1px 3px 1px rgba(60, 64, 67, 0.15);\n",
              "      fill: #174EA6;\n",
              "    }\n",
              "\n",
              "    [theme=dark] .colab-df-convert {\n",
              "      background-color: #3B4455;\n",
              "      fill: #D2E3FC;\n",
              "    }\n",
              "\n",
              "    [theme=dark] .colab-df-convert:hover {\n",
              "      background-color: #434B5C;\n",
              "      box-shadow: 0px 1px 3px 1px rgba(0, 0, 0, 0.15);\n",
              "      filter: drop-shadow(0px 1px 2px rgba(0, 0, 0, 0.3));\n",
              "      fill: #FFFFFF;\n",
              "    }\n",
              "  </style>\n",
              "\n",
              "      <script>\n",
              "        const buttonEl =\n",
              "          document.querySelector('#df-2248a945-6ef2-4373-860a-17798c6aed9e button.colab-df-convert');\n",
              "        buttonEl.style.display =\n",
              "          google.colab.kernel.accessAllowed ? 'block' : 'none';\n",
              "\n",
              "        async function convertToInteractive(key) {\n",
              "          const element = document.querySelector('#df-2248a945-6ef2-4373-860a-17798c6aed9e');\n",
              "          const dataTable =\n",
              "            await google.colab.kernel.invokeFunction('convertToInteractive',\n",
              "                                                     [key], {});\n",
              "          if (!dataTable) return;\n",
              "\n",
              "          const docLinkHtml = 'Like what you see? Visit the ' +\n",
              "            '<a target=\"_blank\" href=https://colab.research.google.com/notebooks/data_table.ipynb>data table notebook</a>'\n",
              "            + ' to learn more about interactive tables.';\n",
              "          element.innerHTML = '';\n",
              "          dataTable['output_type'] = 'display_data';\n",
              "          await google.colab.output.renderOutput(dataTable, element);\n",
              "          const docLink = document.createElement('div');\n",
              "          docLink.innerHTML = docLinkHtml;\n",
              "          element.appendChild(docLink);\n",
              "        }\n",
              "      </script>\n",
              "    </div>\n",
              "  </div>\n",
              "  "
            ]
          },
          "metadata": {},
          "execution_count": 10
        }
      ]
    },
    {
      "cell_type": "code",
      "source": [
        "dataframe.duplicated().sum()"
      ],
      "metadata": {
        "colab": {
          "base_uri": "https://localhost:8080/"
        },
        "id": "LEU7Ip73LT7-",
        "outputId": "c468a796-9d68-4e58-f94c-5aa154137370"
      },
      "id": "LEU7Ip73LT7-",
      "execution_count": null,
      "outputs": [
        {
          "output_type": "execute_result",
          "data": {
            "text/plain": [
              "1"
            ]
          },
          "metadata": {},
          "execution_count": 12
        }
      ]
    },
    {
      "cell_type": "code",
      "execution_count": null,
      "id": "9d137e73",
      "metadata": {
        "id": "9d137e73",
        "colab": {
          "base_uri": "https://localhost:8080/"
        },
        "outputId": "412552af-6df8-4eea-8e6d-0a03b23a3620"
      },
      "outputs": [
        {
          "output_type": "execute_result",
          "data": {
            "text/plain": [
              "age            0\n",
              "sex            0\n",
              "bmi            0\n",
              "children       0\n",
              "smoker         0\n",
              "region         0\n",
              "charges        0\n",
              "rounded_bmi    0\n",
              "dtype: int64"
            ]
          },
          "metadata": {},
          "execution_count": 13
        }
      ],
      "source": [
        "\n",
        "dataframe.isnull().sum()"
      ]
    },
    {
      "cell_type": "code",
      "source": [
        "# as we can see this dataset dosent have any null value but if we wanted we could use this to remove them\n",
        "\n",
        "dataframe.replace(np.nan,'0',inplace = True)\n",
        "dataframe.isnull().sum()"
      ],
      "metadata": {
        "colab": {
          "base_uri": "https://localhost:8080/"
        },
        "id": "djDFWVdqLkck",
        "outputId": "585c1adc-1d11-4ec1-cdd2-67735b1fbf69"
      },
      "id": "djDFWVdqLkck",
      "execution_count": 21,
      "outputs": [
        {
          "output_type": "execute_result",
          "data": {
            "text/plain": [
              "age         0\n",
              "sex         0\n",
              "bmi         0\n",
              "children    0\n",
              "smoker      0\n",
              "region      0\n",
              "charges     0\n",
              "dtype: int64"
            ]
          },
          "metadata": {},
          "execution_count": 21
        }
      ]
    },
    {
      "cell_type": "code",
      "source": [
        "# find Correlation \n",
        "print(dataframe.corr())\n",
        "plt.imshow( dataframe.corr()  , interpolation = 'nearest' )\n",
        "plt.show()"
      ],
      "metadata": {
        "colab": {
          "base_uri": "https://localhost:8080/",
          "height": 356
        },
        "id": "3oqgxPazL-6l",
        "outputId": "d43318cf-486e-4828-f859-895a23f56d4a"
      },
      "id": "3oqgxPazL-6l",
      "execution_count": 22,
      "outputs": [
        {
          "output_type": "stream",
          "name": "stdout",
          "text": [
            "               age       bmi  children   charges\n",
            "age       1.000000  0.109272  0.042469  0.299008\n",
            "bmi       0.109272  1.000000  0.012759  0.198341\n",
            "children  0.042469  0.012759  1.000000  0.067998\n",
            "charges   0.299008  0.198341  0.067998  1.000000\n"
          ]
        },
        {
          "output_type": "display_data",
          "data": {
            "text/plain": [
              "<Figure size 432x288 with 1 Axes>"
            ],
            "image/png": "[encoded data removed]"
          },
          "metadata": {
            "needs_background": "light"
          }
        }
      ]
    },
    {
      "cell_type": "code",
      "source": [
        "dataframe.boxplot('age')"
      ],
      "metadata": {
        "colab": {
          "base_uri": "https://localhost:8080/",
          "height": 283
        },
        "id": "pJocQV-EVmBT",
        "outputId": "a0296c6c-7309-4815-8acf-0a46bcfaf255"
      },
      "id": "pJocQV-EVmBT",
      "execution_count": null,
      "outputs": [
        {
          "output_type": "execute_result",
          "data": {
            "text/plain": [
              "<AxesSubplot:>"
            ]
          },
          "metadata": {},
          "execution_count": 23
        },
        {
          "output_type": "display_data",
          "data": {
            "text/plain": [
              "<Figure size 432x288 with 1 Axes>"
            ],
            "image/png": "[encoded data removed]"
          },
          "metadata": {
            "needs_background": "light"
          }
        }
      ]
    },
    {
      "cell_type": "code",
      "source": [
        "dataframe.boxplot('bmi')"
      ],
      "metadata": {
        "colab": {
          "base_uri": "https://localhost:8080/",
          "height": 283
        },
        "id": "SYzwMiY_bhdt",
        "outputId": "7a4515cc-4305-4459-8e86-7715e996bc28"
      },
      "id": "SYzwMiY_bhdt",
      "execution_count": null,
      "outputs": [
        {
          "output_type": "execute_result",
          "data": {
            "text/plain": [
              "<AxesSubplot:>"
            ]
          },
          "metadata": {},
          "execution_count": 24
        },
        {
          "output_type": "display_data",
          "data": {
            "text/plain": [
              "<Figure size 432x288 with 1 Axes>"
            ],
            "image/png": "[encoded data removed]"
          },
          "metadata": {
            "needs_background": "light"
          }
        }
      ]
    },
    {
      "cell_type": "code",
      "source": [
        "dataframe.boxplot('children')"
      ],
      "metadata": {
        "colab": {
          "base_uri": "https://localhost:8080/",
          "height": 283
        },
        "id": "cyWDMSTvbha0",
        "outputId": "d843cc43-7255-49a1-92c2-651290077bdb"
      },
      "id": "cyWDMSTvbha0",
      "execution_count": null,
      "outputs": [
        {
          "output_type": "execute_result",
          "data": {
            "text/plain": [
              "<AxesSubplot:>"
            ]
          },
          "metadata": {},
          "execution_count": 25
        },
        {
          "output_type": "display_data",
          "data": {
            "text/plain": [
              "<Figure size 432x288 with 1 Axes>"
            ],
            "image/png": "[encoded data removed]"
          },
          "metadata": {
            "needs_background": "light"
          }
        }
      ]
    },
    {
      "cell_type": "code",
      "source": [
        "dataframe.boxplot('charges')"
      ],
      "metadata": {
        "colab": {
          "base_uri": "https://localhost:8080/",
          "height": 283
        },
        "id": "xhrYaCC_bhWS",
        "outputId": "0ec4f779-9738-4209-a62d-1fc58779a64e"
      },
      "id": "xhrYaCC_bhWS",
      "execution_count": null,
      "outputs": [
        {
          "output_type": "execute_result",
          "data": {
            "text/plain": [
              "<AxesSubplot:>"
            ]
          },
          "metadata": {},
          "execution_count": 26
        },
        {
          "output_type": "display_data",
          "data": {
            "text/plain": [
              "<Figure size 432x288 with 1 Axes>"
            ],
            "image/png": "[encoded data removed]"
          },
          "metadata": {
            "needs_background": "light"
          }
        }
      ]
    },
    {
      "cell_type": "code",
      "source": [
        "dataframe.boxplot('rounded_bmi')"
      ],
      "metadata": {
        "colab": {
          "base_uri": "https://localhost:8080/",
          "height": 284
        },
        "id": "jr-z-m-cbhSq",
        "outputId": "a0a8c527-915b-4f49-ebd6-4ce951a0d7e8"
      },
      "id": "jr-z-m-cbhSq",
      "execution_count": null,
      "outputs": [
        {
          "output_type": "execute_result",
          "data": {
            "text/plain": [
              "<AxesSubplot:>"
            ]
          },
          "metadata": {},
          "execution_count": 27
        },
        {
          "output_type": "display_data",
          "data": {
            "text/plain": [
              "<Figure size 432x288 with 1 Axes>"
            ],
            "image/png": "[encoded data removed]"
          },
          "metadata": {
            "needs_background": "light"
          }
        }
      ]
    },
    {
      "cell_type": "code",
      "source": [
        "# we need to delete rounded bmi because its highly Correlated\n",
        "# also we need to delete outlier datas seen in boxplots"
      ],
      "metadata": {
        "id": "Drl5rS5ZbhFz"
      },
      "id": "Drl5rS5ZbhFz",
      "execution_count": null,
      "outputs": []
    },
    {
      "cell_type": "markdown",
      "id": "2c23d7f7",
      "metadata": {
        "id": "2c23d7f7"
      },
      "source": [
        "## Sec 3: Do linear relationships exist?"
      ]
    },
    {
      "cell_type": "markdown",
      "id": "41e88af0",
      "metadata": {
        "id": "41e88af0"
      },
      "source": [
        "plot `age` against `charges` | **hint**: you can use matplotlibs"
      ]
    },
    {
      "cell_type": "code",
      "execution_count": null,
      "id": "f4512745",
      "metadata": {
        "id": "f4512745",
        "colab": {
          "base_uri": "https://localhost:8080/",
          "height": 297
        },
        "outputId": "e365a981-ee17-464d-fb34-8e2d98bec6a8"
      },
      "outputs": [
        {
          "output_type": "execute_result",
          "data": {
            "text/plain": [
              "<AxesSubplot:xlabel='age', ylabel='charges'>"
            ]
          },
          "metadata": {},
          "execution_count": 30
        },
        {
          "output_type": "display_data",
          "data": {
            "text/plain": [
              "<Figure size 432x288 with 1 Axes>"
            ],
            "image/png": "[encoded data removed]"
          },
          "metadata": {
            "needs_background": "light"
          }
        }
      ],
      "source": [
        "dataframe.plot(kind='scatter', x='age', y='charges')"
      ]
    },
    {
      "cell_type": "markdown",
      "id": "11fdbf07",
      "metadata": {
        "id": "11fdbf07"
      },
      "source": [
        "print the correlation coefficients matrix"
      ]
    },
    {
      "cell_type": "code",
      "execution_count": null,
      "id": "072cd188",
      "metadata": {
        "id": "072cd188",
        "colab": {
          "base_uri": "https://localhost:8080/"
        },
        "outputId": "f530e594-92fc-4635-932d-af7c3189dc83"
      },
      "outputs": [
        {
          "output_type": "stream",
          "name": "stdout",
          "text": [
            "                  age       bmi  children   charges  rounded_bmi\n",
            "age          1.000000  0.109272  0.042469  0.299008     0.109527\n",
            "bmi          0.109272  1.000000  0.012759  0.198341     0.998920\n",
            "children     0.042469  0.012759  1.000000  0.067998     0.013915\n",
            "charges      0.299008  0.198341  0.067998  1.000000     0.198795\n",
            "rounded_bmi  0.109527  0.998920  0.013915  0.198795     1.000000\n"
          ]
        }
      ],
      "source": [
        "print(dataframe.corr())"
      ]
    },
    {
      "cell_type": "markdown",
      "id": "269f0189",
      "metadata": {
        "id": "269f0189"
      },
      "source": [
        "# Phase 2: Preprocessing"
      ]
    },
    {
      "cell_type": "markdown",
      "id": "1176754c",
      "metadata": {
        "id": "1176754c"
      },
      "source": [
        "## Sec 1: Handling Categorical Variables"
      ]
    },
    {
      "cell_type": "markdown",
      "id": "ed3ee8ee",
      "metadata": {
        "id": "ed3ee8ee"
      },
      "source": [
        "using one-hot encoding, convert the `region` variable to some numerical variables (the result should be a dataframe)"
      ]
    },
    {
      "cell_type": "code",
      "execution_count": null,
      "id": "10ff0e61",
      "metadata": {
        "id": "10ff0e61",
        "colab": {
          "base_uri": "https://localhost:8080/"
        },
        "outputId": "2f3ad3a5-cf60-4595-8856-7865ec037894"
      },
      "outputs": [
        {
          "output_type": "stream",
          "name": "stdout",
          "text": [
            "      region_northeast  region_northwest  region_southeast  region_southwest\n",
            "0                    0                 0                 0                 1\n",
            "1                    0                 0                 1                 0\n",
            "2                    0                 0                 1                 0\n",
            "3                    0                 1                 0                 0\n",
            "4                    0                 1                 0                 0\n",
            "...                ...               ...               ...               ...\n",
            "1333                 0                 1                 0                 0\n",
            "1334                 1                 0                 0                 0\n",
            "1335                 0                 0                 1                 0\n",
            "1336                 0                 0                 0                 1\n",
            "1337                 0                 1                 0                 0\n",
            "\n",
            "[1338 rows x 4 columns]\n"
          ]
        }
      ],
      "source": [
        "region_encoded = pandas.get_dummies(dataframe['region'], prefix='region')\n",
        "print(region_encoded)"
      ]
    },
    {
      "cell_type": "markdown",
      "id": "150e1f5c",
      "metadata": {
        "id": "150e1f5c"
      },
      "source": [
        "do the same thing for the `smoker` variable (the result should be a dataframe)"
      ]
    },
    {
      "cell_type": "code",
      "execution_count": null,
      "id": "17086e1b",
      "metadata": {
        "id": "17086e1b",
        "colab": {
          "base_uri": "https://localhost:8080/"
        },
        "outputId": "f714a992-b52d-4d4f-dede-8d9c8dfaf4f4"
      },
      "outputs": [
        {
          "output_type": "stream",
          "name": "stdout",
          "text": [
            "      smoker_no  smoker_yes\n",
            "0             0           1\n",
            "1             1           0\n",
            "2             1           0\n",
            "3             1           0\n",
            "4             1           0\n",
            "...         ...         ...\n",
            "1333          1           0\n",
            "1334          1           0\n",
            "1335          1           0\n",
            "1336          1           0\n",
            "1337          0           1\n",
            "\n",
            "[1338 rows x 2 columns]\n"
          ]
        }
      ],
      "source": [
        "smoker_encoded = pandas.get_dummies(dataframe['smoker'], prefix='smoker')\n",
        "print(smoker_encoded)"
      ]
    },
    {
      "cell_type": "markdown",
      "id": "fbb0369a",
      "metadata": {
        "id": "fbb0369a"
      },
      "source": [
        "do the same thing for the `sex` variable (the result should be a dataframe)"
      ]
    },
    {
      "cell_type": "code",
      "execution_count": null,
      "id": "9a5e412b",
      "metadata": {
        "id": "9a5e412b",
        "colab": {
          "base_uri": "https://localhost:8080/"
        },
        "outputId": "0b4a51d9-ee44-44f3-d6b6-c243b6c924a1"
      },
      "outputs": [
        {
          "output_type": "stream",
          "name": "stdout",
          "text": [
            "      sex_female  sex_male\n",
            "0              1         0\n",
            "1              0         1\n",
            "2              0         1\n",
            "3              0         1\n",
            "4              0         1\n",
            "...          ...       ...\n",
            "1333           0         1\n",
            "1334           1         0\n",
            "1335           1         0\n",
            "1336           1         0\n",
            "1337           1         0\n",
            "\n",
            "[1338 rows x 2 columns]\n"
          ]
        }
      ],
      "source": [
        "sex_encoded = pandas.get_dummies(dataframe['sex'], prefix='sex')\n",
        "print(sex_encoded)"
      ]
    },
    {
      "cell_type": "markdown",
      "id": "0d154dc6",
      "metadata": {
        "id": "0d154dc6"
      },
      "source": [
        "concatenate these new dataframes with the initial one using pandas"
      ]
    },
    {
      "cell_type": "code",
      "execution_count": null,
      "id": "e13a497c",
      "metadata": {
        "id": "e13a497c",
        "colab": {
          "base_uri": "https://localhost:8080/",
          "height": 487
        },
        "outputId": "1cdbcfdb-7fde-4655-f062-d74bad1fe2e3"
      },
      "outputs": [
        {
          "output_type": "execute_result",
          "data": {
            "text/plain": [
              "      age     sex     bmi  children smoker     region      charges  \\\n",
              "0      19  female  27.900         0    yes  southwest  16884.92400   \n",
              "1      18    male  33.770         1     no  southeast   1725.55230   \n",
              "2      28    male  33.000         3     no  southeast   4449.46200   \n",
              "3      33    male  22.705         0     no  northwest  21984.47061   \n",
              "4      32    male  28.880         0     no  northwest   3866.85520   \n",
              "...   ...     ...     ...       ...    ...        ...          ...   \n",
              "1333   50    male  30.970         3     no  northwest  10600.54830   \n",
              "1334   18  female  31.920         0     no  northeast   2205.98080   \n",
              "1335   18  female  36.850         0     no  southeast   1629.83350   \n",
              "1336   21  female  25.800         0     no  southwest   2007.94500   \n",
              "1337   61  female  29.070         0    yes  northwest  29141.36030   \n",
              "\n",
              "      rounded_bmi  region_northeast  region_northwest  region_southeast  \\\n",
              "0            28.0                 0                 0                 0   \n",
              "1            34.0                 0                 0                 1   \n",
              "2            33.0                 0                 0                 1   \n",
              "3            23.0                 0                 1                 0   \n",
              "4            29.0                 0                 1                 0   \n",
              "...           ...               ...               ...               ...   \n",
              "1333         31.0                 0                 1                 0   \n",
              "1334         32.0                 1                 0                 0   \n",
              "1335         37.0                 0                 0                 1   \n",
              "1336         26.0                 0                 0                 0   \n",
              "1337         29.0                 0                 1                 0   \n",
              "\n",
              "      region_southwest  smoker_no  smoker_yes  sex_female  sex_male  \n",
              "0                    1          0           1           1         0  \n",
              "1                    0          1           0           0         1  \n",
              "2                    0          1           0           0         1  \n",
              "3                    0          1           0           0         1  \n",
              "4                    0          1           0           0         1  \n",
              "...                ...        ...         ...         ...       ...  \n",
              "1333                 0          1           0           0         1  \n",
              "1334                 0          1           0           1         0  \n",
              "1335                 0          1           0           1         0  \n",
              "1336                 1          1           0           1         0  \n",
              "1337                 0          0           1           1         0  \n",
              "\n",
              "[1338 rows x 16 columns]"
            ],
            "text/html": [
              "\n",
              "  <div id=\"df-15b81633-0dd2-4c4c-85cd-eaac81b67be3\">\n",
              "    <div class=\"colab-df-container\">\n",
              "      <div>\n",
              "<style scoped>\n",
              "    .dataframe tbody tr th:only-of-type {\n",
              "        vertical-align: middle;\n",
              "    }\n",
              "\n",
              "    .dataframe tbody tr th {\n",
              "        vertical-align: top;\n",
              "    }\n",
              "\n",
              "    .dataframe thead th {\n",
              "        text-align: right;\n",
              "    }\n",
              "</style>\n",
              "<table border=\"1\" class=\"dataframe\">\n",
              "  <thead>\n",
              "    <tr style=\"text-align: right;\">\n",
              "      <th></th>\n",
              "      <th>age</th>\n",
              "      <th>sex</th>\n",
              "      <th>bmi</th>\n",
              "      <th>children</th>\n",
              "      <th>smoker</th>\n",
              "      <th>region</th>\n",
              "      <th>charges</th>\n",
              "      <th>rounded_bmi</th>\n",
              "      <th>region_northeast</th>\n",
              "      <th>region_northwest</th>\n",
              "      <th>region_southeast</th>\n",
              "      <th>region_southwest</th>\n",
              "      <th>smoker_no</th>\n",
              "      <th>smoker_yes</th>\n",
              "      <th>sex_female</th>\n",
              "      <th>sex_male</th>\n",
              "    </tr>\n",
              "  </thead>\n",
              "  <tbody>\n",
              "    <tr>\n",
              "      <th>0</th>\n",
              "      <td>19</td>\n",
              "      <td>female</td>\n",
              "      <td>27.900</td>\n",
              "      <td>0</td>\n",
              "      <td>yes</td>\n",
              "      <td>southwest</td>\n",
              "      <td>16884.92400</td>\n",
              "      <td>28.0</td>\n",
              "      <td>0</td>\n",
              "      <td>0</td>\n",
              "      <td>0</td>\n",
              "      <td>1</td>\n",
              "      <td>0</td>\n",
              "      <td>1</td>\n",
              "      <td>1</td>\n",
              "      <td>0</td>\n",
              "    </tr>\n",
              "    <tr>\n",
              "      <th>1</th>\n",
              "      <td>18</td>\n",
              "      <td>male</td>\n",
              "      <td>33.770</td>\n",
              "      <td>1</td>\n",
              "      <td>no</td>\n",
              "      <td>southeast</td>\n",
              "      <td>1725.55230</td>\n",
              "      <td>34.0</td>\n",
              "      <td>0</td>\n",
              "      <td>0</td>\n",
              "      <td>1</td>\n",
              "      <td>0</td>\n",
              "      <td>1</td>\n",
              "      <td>0</td>\n",
              "      <td>0</td>\n",
              "      <td>1</td>\n",
              "    </tr>\n",
              "    <tr>\n",
              "      <th>2</th>\n",
              "      <td>28</td>\n",
              "      <td>male</td>\n",
              "      <td>33.000</td>\n",
              "      <td>3</td>\n",
              "      <td>no</td>\n",
              "      <td>southeast</td>\n",
              "      <td>4449.46200</td>\n",
              "      <td>33.0</td>\n",
              "      <td>0</td>\n",
              "      <td>0</td>\n",
              "      <td>1</td>\n",
              "      <td>0</td>\n",
              "      <td>1</td>\n",
              "      <td>0</td>\n",
              "      <td>0</td>\n",
              "      <td>1</td>\n",
              "    </tr>\n",
              "    <tr>\n",
              "      <th>3</th>\n",
              "      <td>33</td>\n",
              "      <td>male</td>\n",
              "      <td>22.705</td>\n",
              "      <td>0</td>\n",
              "      <td>no</td>\n",
              "      <td>northwest</td>\n",
              "      <td>21984.47061</td>\n",
              "      <td>23.0</td>\n",
              "      <td>0</td>\n",
              "      <td>1</td>\n",
              "      <td>0</td>\n",
              "      <td>0</td>\n",
              "      <td>1</td>\n",
              "      <td>0</td>\n",
              "      <td>0</td>\n",
              "      <td>1</td>\n",
              "    </tr>\n",
              "    <tr>\n",
              "      <th>4</th>\n",
              "      <td>32</td>\n",
              "      <td>male</td>\n",
              "      <td>28.880</td>\n",
              "      <td>0</td>\n",
              "      <td>no</td>\n",
              "      <td>northwest</td>\n",
              "      <td>3866.85520</td>\n",
              "      <td>29.0</td>\n",
              "      <td>0</td>\n",
              "      <td>1</td>\n",
              "      <td>0</td>\n",
              "      <td>0</td>\n",
              "      <td>1</td>\n",
              "      <td>0</td>\n",
              "      <td>0</td>\n",
              "      <td>1</td>\n",
              "    </tr>\n",
              "    <tr>\n",
              "      <th>...</th>\n",
              "      <td>...</td>\n",
              "      <td>...</td>\n",
              "      <td>...</td>\n",
              "      <td>...</td>\n",
              "      <td>...</td>\n",
              "      <td>...</td>\n",
              "      <td>...</td>\n",
              "      <td>...</td>\n",
              "      <td>...</td>\n",
              "      <td>...</td>\n",
              "      <td>...</td>\n",
              "      <td>...</td>\n",
              "      <td>...</td>\n",
              "      <td>...</td>\n",
              "      <td>...</td>\n",
              "      <td>...</td>\n",
              "    </tr>\n",
              "    <tr>\n",
              "      <th>1333</th>\n",
              "      <td>50</td>\n",
              "      <td>male</td>\n",
              "      <td>30.970</td>\n",
              "      <td>3</td>\n",
              "      <td>no</td>\n",
              "      <td>northwest</td>\n",
              "      <td>10600.54830</td>\n",
              "      <td>31.0</td>\n",
              "      <td>0</td>\n",
              "      <td>1</td>\n",
              "      <td>0</td>\n",
              "      <td>0</td>\n",
              "      <td>1</td>\n",
              "      <td>0</td>\n",
              "      <td>0</td>\n",
              "      <td>1</td>\n",
              "    </tr>\n",
              "    <tr>\n",
              "      <th>1334</th>\n",
              "      <td>18</td>\n",
              "      <td>female</td>\n",
              "      <td>31.920</td>\n",
              "      <td>0</td>\n",
              "      <td>no</td>\n",
              "      <td>northeast</td>\n",
              "      <td>2205.98080</td>\n",
              "      <td>32.0</td>\n",
              "      <td>1</td>\n",
              "      <td>0</td>\n",
              "      <td>0</td>\n",
              "      <td>0</td>\n",
              "      <td>1</td>\n",
              "      <td>0</td>\n",
              "      <td>1</td>\n",
              "      <td>0</td>\n",
              "    </tr>\n",
              "    <tr>\n",
              "      <th>1335</th>\n",
              "      <td>18</td>\n",
              "      <td>female</td>\n",
              "      <td>36.850</td>\n",
              "      <td>0</td>\n",
              "      <td>no</td>\n",
              "      <td>southeast</td>\n",
              "      <td>1629.83350</td>\n",
              "      <td>37.0</td>\n",
              "      <td>0</td>\n",
              "      <td>0</td>\n",
              "      <td>1</td>\n",
              "      <td>0</td>\n",
              "      <td>1</td>\n",
              "      <td>0</td>\n",
              "      <td>1</td>\n",
              "      <td>0</td>\n",
              "    </tr>\n",
              "    <tr>\n",
              "      <th>1336</th>\n",
              "      <td>21</td>\n",
              "      <td>female</td>\n",
              "      <td>25.800</td>\n",
              "      <td>0</td>\n",
              "      <td>no</td>\n",
              "      <td>southwest</td>\n",
              "      <td>2007.94500</td>\n",
              "      <td>26.0</td>\n",
              "      <td>0</td>\n",
              "      <td>0</td>\n",
              "      <td>0</td>\n",
              "      <td>1</td>\n",
              "      <td>1</td>\n",
              "      <td>0</td>\n",
              "      <td>1</td>\n",
              "      <td>0</td>\n",
              "    </tr>\n",
              "    <tr>\n",
              "      <th>1337</th>\n",
              "      <td>61</td>\n",
              "      <td>female</td>\n",
              "      <td>29.070</td>\n",
              "      <td>0</td>\n",
              "      <td>yes</td>\n",
              "      <td>northwest</td>\n",
              "      <td>29141.36030</td>\n",
              "      <td>29.0</td>\n",
              "      <td>0</td>\n",
              "      <td>1</td>\n",
              "      <td>0</td>\n",
              "      <td>0</td>\n",
              "      <td>0</td>\n",
              "      <td>1</td>\n",
              "      <td>1</td>\n",
              "      <td>0</td>\n",
              "    </tr>\n",
              "  </tbody>\n",
              "</table>\n",
              "<p>1338 rows × 16 columns</p>\n",
              "</div>\n",
              "      <button class=\"colab-df-convert\" onclick=\"convertToInteractive('df-15b81633-0dd2-4c4c-85cd-eaac81b67be3')\"\n",
              "              title=\"Convert this dataframe to an interactive table.\"\n",
              "              style=\"display:none;\">\n",
              "        \n",
              "  <svg xmlns=\"http://www.w3.org/2000/svg\" height=\"24px\"viewBox=\"0 0 24 24\"\n",
              "       width=\"24px\">\n",
              "    <path d=\"M0 0h24v24H0V0z\" fill=\"none\"/>\n",
              "    <path d=\"M18.56 5.44l.94 2.06.94-2.06 2.06-.94-2.06-.94-.94-2.06-.94 2.06-2.06.94zm-11 1L8.5 8.5l.94-2.06 2.06-.94-2.06-.94L8.5 2.5l-.94 2.06-2.06.94zm10 10l.94 2.06.94-2.06 2.06-.94-2.06-.94-.94-2.06-.94 2.06-2.06.94z\"/><path d=\"M17.41 7.96l-1.37-1.37c-.4-.4-.92-.59-1.43-.59-.52 0-1.04.2-1.43.59L10.3 9.45l-7.72 7.72c-.78.78-.78 2.05 0 2.83L4 21.41c.39.39.9.59 1.41.59.51 0 1.02-.2 1.41-.59l7.78-7.78 2.81-2.81c.8-.78.8-2.07 0-2.86zM5.41 20L4 18.59l7.72-7.72 1.47 1.35L5.41 20z\"/>\n",
              "  </svg>\n",
              "      </button>\n",
              "      \n",
              "  <style>\n",
              "    .colab-df-container {\n",
              "      display:flex;\n",
              "      flex-wrap:wrap;\n",
              "      gap: 12px;\n",
              "    }\n",
              "\n",
              "    .colab-df-convert {\n",
              "      background-color: #E8F0FE;\n",
              "      border: none;\n",
              "      border-radius: 50%;\n",
              "      cursor: pointer;\n",
              "      display: none;\n",
              "      fill: #1967D2;\n",
              "      height: 32px;\n",
              "      padding: 0 0 0 0;\n",
              "      width: 32px;\n",
              "    }\n",
              "\n",
              "    .colab-df-convert:hover {\n",
              "      background-color: #E2EBFA;\n",
              "      box-shadow: 0px 1px 2px rgba(60, 64, 67, 0.3), 0px 1px 3px 1px rgba(60, 64, 67, 0.15);\n",
              "      fill: #174EA6;\n",
              "    }\n",
              "\n",
              "    [theme=dark] .colab-df-convert {\n",
              "      background-color: #3B4455;\n",
              "      fill: #D2E3FC;\n",
              "    }\n",
              "\n",
              "    [theme=dark] .colab-df-convert:hover {\n",
              "      background-color: #434B5C;\n",
              "      box-shadow: 0px 1px 3px 1px rgba(0, 0, 0, 0.15);\n",
              "      filter: drop-shadow(0px 1px 2px rgba(0, 0, 0, 0.3));\n",
              "      fill: #FFFFFF;\n",
              "    }\n",
              "  </style>\n",
              "\n",
              "      <script>\n",
              "        const buttonEl =\n",
              "          document.querySelector('#df-15b81633-0dd2-4c4c-85cd-eaac81b67be3 button.colab-df-convert');\n",
              "        buttonEl.style.display =\n",
              "          google.colab.kernel.accessAllowed ? 'block' : 'none';\n",
              "\n",
              "        async function convertToInteractive(key) {\n",
              "          const element = document.querySelector('#df-15b81633-0dd2-4c4c-85cd-eaac81b67be3');\n",
              "          const dataTable =\n",
              "            await google.colab.kernel.invokeFunction('convertToInteractive',\n",
              "                                                     [key], {});\n",
              "          if (!dataTable) return;\n",
              "\n",
              "          const docLinkHtml = 'Like what you see? Visit the ' +\n",
              "            '<a target=\"_blank\" href=https://colab.research.google.com/notebooks/data_table.ipynb>data table notebook</a>'\n",
              "            + ' to learn more about interactive tables.';\n",
              "          element.innerHTML = '';\n",
              "          dataTable['output_type'] = 'display_data';\n",
              "          await google.colab.output.renderOutput(dataTable, element);\n",
              "          const docLink = document.createElement('div');\n",
              "          docLink.innerHTML = docLinkHtml;\n",
              "          element.appendChild(docLink);\n",
              "        }\n",
              "      </script>\n",
              "    </div>\n",
              "  </div>\n",
              "  "
            ]
          },
          "metadata": {},
          "execution_count": 9
        }
      ],
      "source": [
        "new_dataframe=pandas.concat([dataframe, region_encoded], axis=1)\n",
        "new_dataframe = pandas.concat([new_dataframe, smoker_encoded], axis=1)\n",
        "new_dataframe = pandas.concat([new_dataframe, sex_encoded], axis=1)\n",
        "new_dataframe"
      ]
    },
    {
      "cell_type": "code",
      "source": [
        "new_dataframe.drop(['region'], axis=1, inplace=True)\n",
        "new_dataframe.drop(['sex'], axis=1, inplace=True)\n",
        "new_dataframe.drop(['smoker'], axis=1, inplace=True)"
      ],
      "metadata": {
        "id": "E2O-cEJb9kyP"
      },
      "id": "E2O-cEJb9kyP",
      "execution_count": null,
      "outputs": []
    },
    {
      "cell_type": "code",
      "source": [
        "new_dataframe"
      ],
      "metadata": {
        "colab": {
          "base_uri": "https://localhost:8080/",
          "height": 487
        },
        "id": "9AgGW7KE-SGf",
        "outputId": "02c11797-0e17-4834-a920-2d4e36013488"
      },
      "id": "9AgGW7KE-SGf",
      "execution_count": null,
      "outputs": [
        {
          "output_type": "execute_result",
          "data": {
            "text/plain": [
              "      age     bmi  children      charges  rounded_bmi  region_northeast  \\\n",
              "0      19  27.900         0  16884.92400         28.0                 0   \n",
              "1      18  33.770         1   1725.55230         34.0                 0   \n",
              "2      28  33.000         3   4449.46200         33.0                 0   \n",
              "3      33  22.705         0  21984.47061         23.0                 0   \n",
              "4      32  28.880         0   3866.85520         29.0                 0   \n",
              "...   ...     ...       ...          ...          ...               ...   \n",
              "1333   50  30.970         3  10600.54830         31.0                 0   \n",
              "1334   18  31.920         0   2205.98080         32.0                 1   \n",
              "1335   18  36.850         0   1629.83350         37.0                 0   \n",
              "1336   21  25.800         0   2007.94500         26.0                 0   \n",
              "1337   61  29.070         0  29141.36030         29.0                 0   \n",
              "\n",
              "      region_northwest  region_southeast  region_southwest  smoker_no  \\\n",
              "0                    0                 0                 1          0   \n",
              "1                    0                 1                 0          1   \n",
              "2                    0                 1                 0          1   \n",
              "3                    1                 0                 0          1   \n",
              "4                    1                 0                 0          1   \n",
              "...                ...               ...               ...        ...   \n",
              "1333                 1                 0                 0          1   \n",
              "1334                 0                 0                 0          1   \n",
              "1335                 0                 1                 0          1   \n",
              "1336                 0                 0                 1          1   \n",
              "1337                 1                 0                 0          0   \n",
              "\n",
              "      smoker_yes  sex_female  sex_male  \n",
              "0              1           1         0  \n",
              "1              0           0         1  \n",
              "2              0           0         1  \n",
              "3              0           0         1  \n",
              "4              0           0         1  \n",
              "...          ...         ...       ...  \n",
              "1333           0           0         1  \n",
              "1334           0           1         0  \n",
              "1335           0           1         0  \n",
              "1336           0           1         0  \n",
              "1337           1           1         0  \n",
              "\n",
              "[1338 rows x 13 columns]"
            ],
            "text/html": [
              "\n",
              "  <div id=\"df-4d1b5b53-2903-49e4-b986-ff1dfdb1816f\">\n",
              "    <div class=\"colab-df-container\">\n",
              "      <div>\n",
              "<style scoped>\n",
              "    .dataframe tbody tr th:only-of-type {\n",
              "        vertical-align: middle;\n",
              "    }\n",
              "\n",
              "    .dataframe tbody tr th {\n",
              "        vertical-align: top;\n",
              "    }\n",
              "\n",
              "    .dataframe thead th {\n",
              "        text-align: right;\n",
              "    }\n",
              "</style>\n",
              "<table border=\"1\" class=\"dataframe\">\n",
              "  <thead>\n",
              "    <tr style=\"text-align: right;\">\n",
              "      <th></th>\n",
              "      <th>age</th>\n",
              "      <th>bmi</th>\n",
              "      <th>children</th>\n",
              "      <th>charges</th>\n",
              "      <th>rounded_bmi</th>\n",
              "      <th>region_northeast</th>\n",
              "      <th>region_northwest</th>\n",
              "      <th>region_southeast</th>\n",
              "      <th>region_southwest</th>\n",
              "      <th>smoker_no</th>\n",
              "      <th>smoker_yes</th>\n",
              "      <th>sex_female</th>\n",
              "      <th>sex_male</th>\n",
              "    </tr>\n",
              "  </thead>\n",
              "  <tbody>\n",
              "    <tr>\n",
              "      <th>0</th>\n",
              "      <td>19</td>\n",
              "      <td>27.900</td>\n",
              "      <td>0</td>\n",
              "      <td>16884.92400</td>\n",
              "      <td>28.0</td>\n",
              "      <td>0</td>\n",
              "      <td>0</td>\n",
              "      <td>0</td>\n",
              "      <td>1</td>\n",
              "      <td>0</td>\n",
              "      <td>1</td>\n",
              "      <td>1</td>\n",
              "      <td>0</td>\n",
              "    </tr>\n",
              "    <tr>\n",
              "      <th>1</th>\n",
              "      <td>18</td>\n",
              "      <td>33.770</td>\n",
              "      <td>1</td>\n",
              "      <td>1725.55230</td>\n",
              "      <td>34.0</td>\n",
              "      <td>0</td>\n",
              "      <td>0</td>\n",
              "      <td>1</td>\n",
              "      <td>0</td>\n",
              "      <td>1</td>\n",
              "      <td>0</td>\n",
              "      <td>0</td>\n",
              "      <td>1</td>\n",
              "    </tr>\n",
              "    <tr>\n",
              "      <th>2</th>\n",
              "      <td>28</td>\n",
              "      <td>33.000</td>\n",
              "      <td>3</td>\n",
              "      <td>4449.46200</td>\n",
              "      <td>33.0</td>\n",
              "      <td>0</td>\n",
              "      <td>0</td>\n",
              "      <td>1</td>\n",
              "      <td>0</td>\n",
              "      <td>1</td>\n",
              "      <td>0</td>\n",
              "      <td>0</td>\n",
              "      <td>1</td>\n",
              "    </tr>\n",
              "    <tr>\n",
              "      <th>3</th>\n",
              "      <td>33</td>\n",
              "      <td>22.705</td>\n",
              "      <td>0</td>\n",
              "      <td>21984.47061</td>\n",
              "      <td>23.0</td>\n",
              "      <td>0</td>\n",
              "      <td>1</td>\n",
              "      <td>0</td>\n",
              "      <td>0</td>\n",
              "      <td>1</td>\n",
              "      <td>0</td>\n",
              "      <td>0</td>\n",
              "      <td>1</td>\n",
              "    </tr>\n",
              "    <tr>\n",
              "      <th>4</th>\n",
              "      <td>32</td>\n",
              "      <td>28.880</td>\n",
              "      <td>0</td>\n",
              "      <td>3866.85520</td>\n",
              "      <td>29.0</td>\n",
              "      <td>0</td>\n",
              "      <td>1</td>\n",
              "      <td>0</td>\n",
              "      <td>0</td>\n",
              "      <td>1</td>\n",
              "      <td>0</td>\n",
              "      <td>0</td>\n",
              "      <td>1</td>\n",
              "    </tr>\n",
              "    <tr>\n",
              "      <th>...</th>\n",
              "      <td>...</td>\n",
              "      <td>...</td>\n",
              "      <td>...</td>\n",
              "      <td>...</td>\n",
              "      <td>...</td>\n",
              "      <td>...</td>\n",
              "      <td>...</td>\n",
              "      <td>...</td>\n",
              "      <td>...</td>\n",
              "      <td>...</td>\n",
              "      <td>...</td>\n",
              "      <td>...</td>\n",
              "      <td>...</td>\n",
              "    </tr>\n",
              "    <tr>\n",
              "      <th>1333</th>\n",
              "      <td>50</td>\n",
              "      <td>30.970</td>\n",
              "      <td>3</td>\n",
              "      <td>10600.54830</td>\n",
              "      <td>31.0</td>\n",
              "      <td>0</td>\n",
              "      <td>1</td>\n",
              "      <td>0</td>\n",
              "      <td>0</td>\n",
              "      <td>1</td>\n",
              "      <td>0</td>\n",
              "      <td>0</td>\n",
              "      <td>1</td>\n",
              "    </tr>\n",
              "    <tr>\n",
              "      <th>1334</th>\n",
              "      <td>18</td>\n",
              "      <td>31.920</td>\n",
              "      <td>0</td>\n",
              "      <td>2205.98080</td>\n",
              "      <td>32.0</td>\n",
              "      <td>1</td>\n",
              "      <td>0</td>\n",
              "      <td>0</td>\n",
              "      <td>0</td>\n",
              "      <td>1</td>\n",
              "      <td>0</td>\n",
              "      <td>1</td>\n",
              "      <td>0</td>\n",
              "    </tr>\n",
              "    <tr>\n",
              "      <th>1335</th>\n",
              "      <td>18</td>\n",
              "      <td>36.850</td>\n",
              "      <td>0</td>\n",
              "      <td>1629.83350</td>\n",
              "      <td>37.0</td>\n",
              "      <td>0</td>\n",
              "      <td>0</td>\n",
              "      <td>1</td>\n",
              "      <td>0</td>\n",
              "      <td>1</td>\n",
              "      <td>0</td>\n",
              "      <td>1</td>\n",
              "      <td>0</td>\n",
              "    </tr>\n",
              "    <tr>\n",
              "      <th>1336</th>\n",
              "      <td>21</td>\n",
              "      <td>25.800</td>\n",
              "      <td>0</td>\n",
              "      <td>2007.94500</td>\n",
              "      <td>26.0</td>\n",
              "      <td>0</td>\n",
              "      <td>0</td>\n",
              "      <td>0</td>\n",
              "      <td>1</td>\n",
              "      <td>1</td>\n",
              "      <td>0</td>\n",
              "      <td>1</td>\n",
              "      <td>0</td>\n",
              "    </tr>\n",
              "    <tr>\n",
              "      <th>1337</th>\n",
              "      <td>61</td>\n",
              "      <td>29.070</td>\n",
              "      <td>0</td>\n",
              "      <td>29141.36030</td>\n",
              "      <td>29.0</td>\n",
              "      <td>0</td>\n",
              "      <td>1</td>\n",
              "      <td>0</td>\n",
              "      <td>0</td>\n",
              "      <td>0</td>\n",
              "      <td>1</td>\n",
              "      <td>1</td>\n",
              "      <td>0</td>\n",
              "    </tr>\n",
              "  </tbody>\n",
              "</table>\n",
              "<p>1338 rows × 13 columns</p>\n",
              "</div>\n",
              "      <button class=\"colab-df-convert\" onclick=\"convertToInteractive('df-4d1b5b53-2903-49e4-b986-ff1dfdb1816f')\"\n",
              "              title=\"Convert this dataframe to an interactive table.\"\n",
              "              style=\"display:none;\">\n",
              "        \n",
              "  <svg xmlns=\"http://www.w3.org/2000/svg\" height=\"24px\"viewBox=\"0 0 24 24\"\n",
              "       width=\"24px\">\n",
              "    <path d=\"M0 0h24v24H0V0z\" fill=\"none\"/>\n",
              "    <path d=\"M18.56 5.44l.94 2.06.94-2.06 2.06-.94-2.06-.94-.94-2.06-.94 2.06-2.06.94zm-11 1L8.5 8.5l.94-2.06 2.06-.94-2.06-.94L8.5 2.5l-.94 2.06-2.06.94zm10 10l.94 2.06.94-2.06 2.06-.94-2.06-.94-.94-2.06-.94 2.06-2.06.94z\"/><path d=\"M17.41 7.96l-1.37-1.37c-.4-.4-.92-.59-1.43-.59-.52 0-1.04.2-1.43.59L10.3 9.45l-7.72 7.72c-.78.78-.78 2.05 0 2.83L4 21.41c.39.39.9.59 1.41.59.51 0 1.02-.2 1.41-.59l7.78-7.78 2.81-2.81c.8-.78.8-2.07 0-2.86zM5.41 20L4 18.59l7.72-7.72 1.47 1.35L5.41 20z\"/>\n",
              "  </svg>\n",
              "      </button>\n",
              "      \n",
              "  <style>\n",
              "    .colab-df-container {\n",
              "      display:flex;\n",
              "      flex-wrap:wrap;\n",
              "      gap: 12px;\n",
              "    }\n",
              "\n",
              "    .colab-df-convert {\n",
              "      background-color: #E8F0FE;\n",
              "      border: none;\n",
              "      border-radius: 50%;\n",
              "      cursor: pointer;\n",
              "      display: none;\n",
              "      fill: #1967D2;\n",
              "      height: 32px;\n",
              "      padding: 0 0 0 0;\n",
              "      width: 32px;\n",
              "    }\n",
              "\n",
              "    .colab-df-convert:hover {\n",
              "      background-color: #E2EBFA;\n",
              "      box-shadow: 0px 1px 2px rgba(60, 64, 67, 0.3), 0px 1px 3px 1px rgba(60, 64, 67, 0.15);\n",
              "      fill: #174EA6;\n",
              "    }\n",
              "\n",
              "    [theme=dark] .colab-df-convert {\n",
              "      background-color: #3B4455;\n",
              "      fill: #D2E3FC;\n",
              "    }\n",
              "\n",
              "    [theme=dark] .colab-df-convert:hover {\n",
              "      background-color: #434B5C;\n",
              "      box-shadow: 0px 1px 3px 1px rgba(0, 0, 0, 0.15);\n",
              "      filter: drop-shadow(0px 1px 2px rgba(0, 0, 0, 0.3));\n",
              "      fill: #FFFFFF;\n",
              "    }\n",
              "  </style>\n",
              "\n",
              "      <script>\n",
              "        const buttonEl =\n",
              "          document.querySelector('#df-4d1b5b53-2903-49e4-b986-ff1dfdb1816f button.colab-df-convert');\n",
              "        buttonEl.style.display =\n",
              "          google.colab.kernel.accessAllowed ? 'block' : 'none';\n",
              "\n",
              "        async function convertToInteractive(key) {\n",
              "          const element = document.querySelector('#df-4d1b5b53-2903-49e4-b986-ff1dfdb1816f');\n",
              "          const dataTable =\n",
              "            await google.colab.kernel.invokeFunction('convertToInteractive',\n",
              "                                                     [key], {});\n",
              "          if (!dataTable) return;\n",
              "\n",
              "          const docLinkHtml = 'Like what you see? Visit the ' +\n",
              "            '<a target=\"_blank\" href=https://colab.research.google.com/notebooks/data_table.ipynb>data table notebook</a>'\n",
              "            + ' to learn more about interactive tables.';\n",
              "          element.innerHTML = '';\n",
              "          dataTable['output_type'] = 'display_data';\n",
              "          await google.colab.output.renderOutput(dataTable, element);\n",
              "          const docLink = document.createElement('div');\n",
              "          docLink.innerHTML = docLinkHtml;\n",
              "          element.appendChild(docLink);\n",
              "        }\n",
              "      </script>\n",
              "    </div>\n",
              "  </div>\n",
              "  "
            ]
          },
          "metadata": {},
          "execution_count": 11
        }
      ]
    },
    {
      "cell_type": "markdown",
      "id": "f84cc753",
      "metadata": {
        "id": "f84cc753"
      },
      "source": [
        "## Sec 2: Normalization"
      ]
    },
    {
      "cell_type": "markdown",
      "id": "ac7bf50f",
      "metadata": {
        "id": "ac7bf50f"
      },
      "source": [
        "normalize the columns `age`, `bmi`, and `children` | after this, they should take values between 0 and 1"
      ]
    },
    {
      "cell_type": "code",
      "execution_count": null,
      "id": "f88ba300",
      "metadata": {
        "id": "f88ba300",
        "colab": {
          "base_uri": "https://localhost:8080/",
          "height": 487
        },
        "outputId": "e84ed80c-9125-4f97-ad3b-0c4e9fcd32e9"
      },
      "outputs": [
        {
          "output_type": "execute_result",
          "data": {
            "text/plain": [
              "           age       bmi  children      charges  rounded_bmi  \\\n",
              "0     0.021739  0.321227       0.0  16884.92400         28.0   \n",
              "1     0.000000  0.479150       0.2   1725.55230         34.0   \n",
              "2     0.217391  0.458434       0.6   4449.46200         33.0   \n",
              "3     0.326087  0.181464       0.0  21984.47061         23.0   \n",
              "4     0.304348  0.347592       0.0   3866.85520         29.0   \n",
              "...        ...       ...       ...          ...          ...   \n",
              "1333  0.695652  0.403820       0.6  10600.54830         31.0   \n",
              "1334  0.000000  0.429379       0.0   2205.98080         32.0   \n",
              "1335  0.000000  0.562012       0.0   1629.83350         37.0   \n",
              "1336  0.065217  0.264730       0.0   2007.94500         26.0   \n",
              "1337  0.934783  0.352704       0.0  29141.36030         29.0   \n",
              "\n",
              "      region_northeast  region_northwest  region_southeast  region_southwest  \\\n",
              "0                    0                 0                 0                 1   \n",
              "1                    0                 0                 1                 0   \n",
              "2                    0                 0                 1                 0   \n",
              "3                    0                 1                 0                 0   \n",
              "4                    0                 1                 0                 0   \n",
              "...                ...               ...               ...               ...   \n",
              "1333                 0                 1                 0                 0   \n",
              "1334                 1                 0                 0                 0   \n",
              "1335                 0                 0                 1                 0   \n",
              "1336                 0                 0                 0                 1   \n",
              "1337                 0                 1                 0                 0   \n",
              "\n",
              "      smoker_no  smoker_yes  sex_female  sex_male  \n",
              "0             0           1           1         0  \n",
              "1             1           0           0         1  \n",
              "2             1           0           0         1  \n",
              "3             1           0           0         1  \n",
              "4             1           0           0         1  \n",
              "...         ...         ...         ...       ...  \n",
              "1333          1           0           0         1  \n",
              "1334          1           0           1         0  \n",
              "1335          1           0           1         0  \n",
              "1336          1           0           1         0  \n",
              "1337          0           1           1         0  \n",
              "\n",
              "[1338 rows x 13 columns]"
            ],
            "text/html": [
              "\n",
              "  <div id=\"df-24c6f711-4fb0-4603-8428-9976fe7f43d7\">\n",
              "    <div class=\"colab-df-container\">\n",
              "      <div>\n",
              "<style scoped>\n",
              "    .dataframe tbody tr th:only-of-type {\n",
              "        vertical-align: middle;\n",
              "    }\n",
              "\n",
              "    .dataframe tbody tr th {\n",
              "        vertical-align: top;\n",
              "    }\n",
              "\n",
              "    .dataframe thead th {\n",
              "        text-align: right;\n",
              "    }\n",
              "</style>\n",
              "<table border=\"1\" class=\"dataframe\">\n",
              "  <thead>\n",
              "    <tr style=\"text-align: right;\">\n",
              "      <th></th>\n",
              "      <th>age</th>\n",
              "      <th>bmi</th>\n",
              "      <th>children</th>\n",
              "      <th>charges</th>\n",
              "      <th>rounded_bmi</th>\n",
              "      <th>region_northeast</th>\n",
              "      <th>region_northwest</th>\n",
              "      <th>region_southeast</th>\n",
              "      <th>region_southwest</th>\n",
              "      <th>smoker_no</th>\n",
              "      <th>smoker_yes</th>\n",
              "      <th>sex_female</th>\n",
              "      <th>sex_male</th>\n",
              "    </tr>\n",
              "  </thead>\n",
              "  <tbody>\n",
              "    <tr>\n",
              "      <th>0</th>\n",
              "      <td>0.021739</td>\n",
              "      <td>0.321227</td>\n",
              "      <td>0.0</td>\n",
              "      <td>16884.92400</td>\n",
              "      <td>28.0</td>\n",
              "      <td>0</td>\n",
              "      <td>0</td>\n",
              "      <td>0</td>\n",
              "      <td>1</td>\n",
              "      <td>0</td>\n",
              "      <td>1</td>\n",
              "      <td>1</td>\n",
              "      <td>0</td>\n",
              "    </tr>\n",
              "    <tr>\n",
              "      <th>1</th>\n",
              "      <td>0.000000</td>\n",
              "      <td>0.479150</td>\n",
              "      <td>0.2</td>\n",
              "      <td>1725.55230</td>\n",
              "      <td>34.0</td>\n",
              "      <td>0</td>\n",
              "      <td>0</td>\n",
              "      <td>1</td>\n",
              "      <td>0</td>\n",
              "      <td>1</td>\n",
              "      <td>0</td>\n",
              "      <td>0</td>\n",
              "      <td>1</td>\n",
              "    </tr>\n",
              "    <tr>\n",
              "      <th>2</th>\n",
              "      <td>0.217391</td>\n",
              "      <td>0.458434</td>\n",
              "      <td>0.6</td>\n",
              "      <td>4449.46200</td>\n",
              "      <td>33.0</td>\n",
              "      <td>0</td>\n",
              "      <td>0</td>\n",
              "      <td>1</td>\n",
              "      <td>0</td>\n",
              "      <td>1</td>\n",
              "      <td>0</td>\n",
              "      <td>0</td>\n",
              "      <td>1</td>\n",
              "    </tr>\n",
              "    <tr>\n",
              "      <th>3</th>\n",
              "      <td>0.326087</td>\n",
              "      <td>0.181464</td>\n",
              "      <td>0.0</td>\n",
              "      <td>21984.47061</td>\n",
              "      <td>23.0</td>\n",
              "      <td>0</td>\n",
              "      <td>1</td>\n",
              "      <td>0</td>\n",
              "      <td>0</td>\n",
              "      <td>1</td>\n",
              "      <td>0</td>\n",
              "      <td>0</td>\n",
              "      <td>1</td>\n",
              "    </tr>\n",
              "    <tr>\n",
              "      <th>4</th>\n",
              "      <td>0.304348</td>\n",
              "      <td>0.347592</td>\n",
              "      <td>0.0</td>\n",
              "      <td>3866.85520</td>\n",
              "      <td>29.0</td>\n",
              "      <td>0</td>\n",
              "      <td>1</td>\n",
              "      <td>0</td>\n",
              "      <td>0</td>\n",
              "      <td>1</td>\n",
              "      <td>0</td>\n",
              "      <td>0</td>\n",
              "      <td>1</td>\n",
              "    </tr>\n",
              "    <tr>\n",
              "      <th>...</th>\n",
              "      <td>...</td>\n",
              "      <td>...</td>\n",
              "      <td>...</td>\n",
              "      <td>...</td>\n",
              "      <td>...</td>\n",
              "      <td>...</td>\n",
              "      <td>...</td>\n",
              "      <td>...</td>\n",
              "      <td>...</td>\n",
              "      <td>...</td>\n",
              "      <td>...</td>\n",
              "      <td>...</td>\n",
              "      <td>...</td>\n",
              "    </tr>\n",
              "    <tr>\n",
              "      <th>1333</th>\n",
              "      <td>0.695652</td>\n",
              "      <td>0.403820</td>\n",
              "      <td>0.6</td>\n",
              "      <td>10600.54830</td>\n",
              "      <td>31.0</td>\n",
              "      <td>0</td>\n",
              "      <td>1</td>\n",
              "      <td>0</td>\n",
              "      <td>0</td>\n",
              "      <td>1</td>\n",
              "      <td>0</td>\n",
              "      <td>0</td>\n",
              "      <td>1</td>\n",
              "    </tr>\n",
              "    <tr>\n",
              "      <th>1334</th>\n",
              "      <td>0.000000</td>\n",
              "      <td>0.429379</td>\n",
              "      <td>0.0</td>\n",
              "      <td>2205.98080</td>\n",
              "      <td>32.0</td>\n",
              "      <td>1</td>\n",
              "      <td>0</td>\n",
              "      <td>0</td>\n",
              "      <td>0</td>\n",
              "      <td>1</td>\n",
              "      <td>0</td>\n",
              "      <td>1</td>\n",
              "      <td>0</td>\n",
              "    </tr>\n",
              "    <tr>\n",
              "      <th>1335</th>\n",
              "      <td>0.000000</td>\n",
              "      <td>0.562012</td>\n",
              "      <td>0.0</td>\n",
              "      <td>1629.83350</td>\n",
              "      <td>37.0</td>\n",
              "      <td>0</td>\n",
              "      <td>0</td>\n",
              "      <td>1</td>\n",
              "      <td>0</td>\n",
              "      <td>1</td>\n",
              "      <td>0</td>\n",
              "      <td>1</td>\n",
              "      <td>0</td>\n",
              "    </tr>\n",
              "    <tr>\n",
              "      <th>1336</th>\n",
              "      <td>0.065217</td>\n",
              "      <td>0.264730</td>\n",
              "      <td>0.0</td>\n",
              "      <td>2007.94500</td>\n",
              "      <td>26.0</td>\n",
              "      <td>0</td>\n",
              "      <td>0</td>\n",
              "      <td>0</td>\n",
              "      <td>1</td>\n",
              "      <td>1</td>\n",
              "      <td>0</td>\n",
              "      <td>1</td>\n",
              "      <td>0</td>\n",
              "    </tr>\n",
              "    <tr>\n",
              "      <th>1337</th>\n",
              "      <td>0.934783</td>\n",
              "      <td>0.352704</td>\n",
              "      <td>0.0</td>\n",
              "      <td>29141.36030</td>\n",
              "      <td>29.0</td>\n",
              "      <td>0</td>\n",
              "      <td>1</td>\n",
              "      <td>0</td>\n",
              "      <td>0</td>\n",
              "      <td>0</td>\n",
              "      <td>1</td>\n",
              "      <td>1</td>\n",
              "      <td>0</td>\n",
              "    </tr>\n",
              "  </tbody>\n",
              "</table>\n",
              "<p>1338 rows × 13 columns</p>\n",
              "</div>\n",
              "      <button class=\"colab-df-convert\" onclick=\"convertToInteractive('df-24c6f711-4fb0-4603-8428-9976fe7f43d7')\"\n",
              "              title=\"Convert this dataframe to an interactive table.\"\n",
              "              style=\"display:none;\">\n",
              "        \n",
              "  <svg xmlns=\"http://www.w3.org/2000/svg\" height=\"24px\"viewBox=\"0 0 24 24\"\n",
              "       width=\"24px\">\n",
              "    <path d=\"M0 0h24v24H0V0z\" fill=\"none\"/>\n",
              "    <path d=\"M18.56 5.44l.94 2.06.94-2.06 2.06-.94-2.06-.94-.94-2.06-.94 2.06-2.06.94zm-11 1L8.5 8.5l.94-2.06 2.06-.94-2.06-.94L8.5 2.5l-.94 2.06-2.06.94zm10 10l.94 2.06.94-2.06 2.06-.94-2.06-.94-.94-2.06-.94 2.06-2.06.94z\"/><path d=\"M17.41 7.96l-1.37-1.37c-.4-.4-.92-.59-1.43-.59-.52 0-1.04.2-1.43.59L10.3 9.45l-7.72 7.72c-.78.78-.78 2.05 0 2.83L4 21.41c.39.39.9.59 1.41.59.51 0 1.02-.2 1.41-.59l7.78-7.78 2.81-2.81c.8-.78.8-2.07 0-2.86zM5.41 20L4 18.59l7.72-7.72 1.47 1.35L5.41 20z\"/>\n",
              "  </svg>\n",
              "      </button>\n",
              "      \n",
              "  <style>\n",
              "    .colab-df-container {\n",
              "      display:flex;\n",
              "      flex-wrap:wrap;\n",
              "      gap: 12px;\n",
              "    }\n",
              "\n",
              "    .colab-df-convert {\n",
              "      background-color: #E8F0FE;\n",
              "      border: none;\n",
              "      border-radius: 50%;\n",
              "      cursor: pointer;\n",
              "      display: none;\n",
              "      fill: #1967D2;\n",
              "      height: 32px;\n",
              "      padding: 0 0 0 0;\n",
              "      width: 32px;\n",
              "    }\n",
              "\n",
              "    .colab-df-convert:hover {\n",
              "      background-color: #E2EBFA;\n",
              "      box-shadow: 0px 1px 2px rgba(60, 64, 67, 0.3), 0px 1px 3px 1px rgba(60, 64, 67, 0.15);\n",
              "      fill: #174EA6;\n",
              "    }\n",
              "\n",
              "    [theme=dark] .colab-df-convert {\n",
              "      background-color: #3B4455;\n",
              "      fill: #D2E3FC;\n",
              "    }\n",
              "\n",
              "    [theme=dark] .colab-df-convert:hover {\n",
              "      background-color: #434B5C;\n",
              "      box-shadow: 0px 1px 3px 1px rgba(0, 0, 0, 0.15);\n",
              "      filter: drop-shadow(0px 1px 2px rgba(0, 0, 0, 0.3));\n",
              "      fill: #FFFFFF;\n",
              "    }\n",
              "  </style>\n",
              "\n",
              "      <script>\n",
              "        const buttonEl =\n",
              "          document.querySelector('#df-24c6f711-4fb0-4603-8428-9976fe7f43d7 button.colab-df-convert');\n",
              "        buttonEl.style.display =\n",
              "          google.colab.kernel.accessAllowed ? 'block' : 'none';\n",
              "\n",
              "        async function convertToInteractive(key) {\n",
              "          const element = document.querySelector('#df-24c6f711-4fb0-4603-8428-9976fe7f43d7');\n",
              "          const dataTable =\n",
              "            await google.colab.kernel.invokeFunction('convertToInteractive',\n",
              "                                                     [key], {});\n",
              "          if (!dataTable) return;\n",
              "\n",
              "          const docLinkHtml = 'Like what you see? Visit the ' +\n",
              "            '<a target=\"_blank\" href=https://colab.research.google.com/notebooks/data_table.ipynb>data table notebook</a>'\n",
              "            + ' to learn more about interactive tables.';\n",
              "          element.innerHTML = '';\n",
              "          dataTable['output_type'] = 'display_data';\n",
              "          await google.colab.output.renderOutput(dataTable, element);\n",
              "          const docLink = document.createElement('div');\n",
              "          docLink.innerHTML = docLinkHtml;\n",
              "          element.appendChild(docLink);\n",
              "        }\n",
              "      </script>\n",
              "    </div>\n",
              "  </div>\n",
              "  "
            ]
          },
          "metadata": {},
          "execution_count": 13
        }
      ],
      "source": [
        "from sklearn.preprocessing import OneHotEncoder, MinMaxScaler\n",
        "scaler = MinMaxScaler()\n",
        "num_feat = ['age', 'bmi', 'children']\n",
        "new_dataframe[num_feat] = scaler.fit_transform(new_dataframe[num_feat])\n",
        "import copy\n",
        "cop_data = copy.deepcopy(new_dataframe)\n",
        "new_dataframe"
      ]
    },
    {
      "cell_type": "markdown",
      "id": "ee1199e1",
      "metadata": {
        "id": "ee1199e1"
      },
      "source": [
        "# Phase 3: Training"
      ]
    },
    {
      "cell_type": "markdown",
      "id": "32252d37",
      "metadata": {
        "id": "32252d37"
      },
      "source": [
        "## Sec 1: Making X and Y"
      ]
    },
    {
      "cell_type": "markdown",
      "id": "689637db",
      "metadata": {
        "id": "689637db"
      },
      "source": [
        "make a new dataframe by removing the following columns: \"rounded_bmi\", \"charges\" \n",
        "| note: do not remove the previous dataframe"
      ]
    },
    {
      "cell_type": "code",
      "execution_count": null,
      "id": "f9fc205a",
      "metadata": {
        "id": "f9fc205a",
        "colab": {
          "base_uri": "https://localhost:8080/",
          "height": 487
        },
        "outputId": "ab36b1ef-429b-4e69-ef23-394a30b1a690"
      },
      "outputs": [
        {
          "output_type": "execute_result",
          "data": {
            "text/plain": [
              "           age       bmi  children  region_northeast  region_northwest  \\\n",
              "0     0.021739  0.321227       0.0                 0                 0   \n",
              "1     0.000000  0.479150       0.2                 0                 0   \n",
              "2     0.217391  0.458434       0.6                 0                 0   \n",
              "3     0.326087  0.181464       0.0                 0                 1   \n",
              "4     0.304348  0.347592       0.0                 0                 1   \n",
              "...        ...       ...       ...               ...               ...   \n",
              "1333  0.695652  0.403820       0.6                 0                 1   \n",
              "1334  0.000000  0.429379       0.0                 1                 0   \n",
              "1335  0.000000  0.562012       0.0                 0                 0   \n",
              "1336  0.065217  0.264730       0.0                 0                 0   \n",
              "1337  0.934783  0.352704       0.0                 0                 1   \n",
              "\n",
              "      region_southeast  region_southwest  smoker_no  smoker_yes  sex_female  \\\n",
              "0                    0                 1          0           1           1   \n",
              "1                    1                 0          1           0           0   \n",
              "2                    1                 0          1           0           0   \n",
              "3                    0                 0          1           0           0   \n",
              "4                    0                 0          1           0           0   \n",
              "...                ...               ...        ...         ...         ...   \n",
              "1333                 0                 0          1           0           0   \n",
              "1334                 0                 0          1           0           1   \n",
              "1335                 1                 0          1           0           1   \n",
              "1336                 0                 1          1           0           1   \n",
              "1337                 0                 0          0           1           1   \n",
              "\n",
              "      sex_male  \n",
              "0            0  \n",
              "1            1  \n",
              "2            1  \n",
              "3            1  \n",
              "4            1  \n",
              "...        ...  \n",
              "1333         1  \n",
              "1334         0  \n",
              "1335         0  \n",
              "1336         0  \n",
              "1337         0  \n",
              "\n",
              "[1338 rows x 11 columns]"
            ],
            "text/html": [
              "\n",
              "  <div id=\"df-0d705761-64b1-4ea1-80f2-701877ef0b62\">\n",
              "    <div class=\"colab-df-container\">\n",
              "      <div>\n",
              "<style scoped>\n",
              "    .dataframe tbody tr th:only-of-type {\n",
              "        vertical-align: middle;\n",
              "    }\n",
              "\n",
              "    .dataframe tbody tr th {\n",
              "        vertical-align: top;\n",
              "    }\n",
              "\n",
              "    .dataframe thead th {\n",
              "        text-align: right;\n",
              "    }\n",
              "</style>\n",
              "<table border=\"1\" class=\"dataframe\">\n",
              "  <thead>\n",
              "    <tr style=\"text-align: right;\">\n",
              "      <th></th>\n",
              "      <th>age</th>\n",
              "      <th>bmi</th>\n",
              "      <th>children</th>\n",
              "      <th>region_northeast</th>\n",
              "      <th>region_northwest</th>\n",
              "      <th>region_southeast</th>\n",
              "      <th>region_southwest</th>\n",
              "      <th>smoker_no</th>\n",
              "      <th>smoker_yes</th>\n",
              "      <th>sex_female</th>\n",
              "      <th>sex_male</th>\n",
              "    </tr>\n",
              "  </thead>\n",
              "  <tbody>\n",
              "    <tr>\n",
              "      <th>0</th>\n",
              "      <td>0.021739</td>\n",
              "      <td>0.321227</td>\n",
              "      <td>0.0</td>\n",
              "      <td>0</td>\n",
              "      <td>0</td>\n",
              "      <td>0</td>\n",
              "      <td>1</td>\n",
              "      <td>0</td>\n",
              "      <td>1</td>\n",
              "      <td>1</td>\n",
              "      <td>0</td>\n",
              "    </tr>\n",
              "    <tr>\n",
              "      <th>1</th>\n",
              "      <td>0.000000</td>\n",
              "      <td>0.479150</td>\n",
              "      <td>0.2</td>\n",
              "      <td>0</td>\n",
              "      <td>0</td>\n",
              "      <td>1</td>\n",
              "      <td>0</td>\n",
              "      <td>1</td>\n",
              "      <td>0</td>\n",
              "      <td>0</td>\n",
              "      <td>1</td>\n",
              "    </tr>\n",
              "    <tr>\n",
              "      <th>2</th>\n",
              "      <td>0.217391</td>\n",
              "      <td>0.458434</td>\n",
              "      <td>0.6</td>\n",
              "      <td>0</td>\n",
              "      <td>0</td>\n",
              "      <td>1</td>\n",
              "      <td>0</td>\n",
              "      <td>1</td>\n",
              "      <td>0</td>\n",
              "      <td>0</td>\n",
              "      <td>1</td>\n",
              "    </tr>\n",
              "    <tr>\n",
              "      <th>3</th>\n",
              "      <td>0.326087</td>\n",
              "      <td>0.181464</td>\n",
              "      <td>0.0</td>\n",
              "      <td>0</td>\n",
              "      <td>1</td>\n",
              "      <td>0</td>\n",
              "      <td>0</td>\n",
              "      <td>1</td>\n",
              "      <td>0</td>\n",
              "      <td>0</td>\n",
              "      <td>1</td>\n",
              "    </tr>\n",
              "    <tr>\n",
              "      <th>4</th>\n",
              "      <td>0.304348</td>\n",
              "      <td>0.347592</td>\n",
              "      <td>0.0</td>\n",
              "      <td>0</td>\n",
              "      <td>1</td>\n",
              "      <td>0</td>\n",
              "      <td>0</td>\n",
              "      <td>1</td>\n",
              "      <td>0</td>\n",
              "      <td>0</td>\n",
              "      <td>1</td>\n",
              "    </tr>\n",
              "    <tr>\n",
              "      <th>...</th>\n",
              "      <td>...</td>\n",
              "      <td>...</td>\n",
              "      <td>...</td>\n",
              "      <td>...</td>\n",
              "      <td>...</td>\n",
              "      <td>...</td>\n",
              "      <td>...</td>\n",
              "      <td>...</td>\n",
              "      <td>...</td>\n",
              "      <td>...</td>\n",
              "      <td>...</td>\n",
              "    </tr>\n",
              "    <tr>\n",
              "      <th>1333</th>\n",
              "      <td>0.695652</td>\n",
              "      <td>0.403820</td>\n",
              "      <td>0.6</td>\n",
              "      <td>0</td>\n",
              "      <td>1</td>\n",
              "      <td>0</td>\n",
              "      <td>0</td>\n",
              "      <td>1</td>\n",
              "      <td>0</td>\n",
              "      <td>0</td>\n",
              "      <td>1</td>\n",
              "    </tr>\n",
              "    <tr>\n",
              "      <th>1334</th>\n",
              "      <td>0.000000</td>\n",
              "      <td>0.429379</td>\n",
              "      <td>0.0</td>\n",
              "      <td>1</td>\n",
              "      <td>0</td>\n",
              "      <td>0</td>\n",
              "      <td>0</td>\n",
              "      <td>1</td>\n",
              "      <td>0</td>\n",
              "      <td>1</td>\n",
              "      <td>0</td>\n",
              "    </tr>\n",
              "    <tr>\n",
              "      <th>1335</th>\n",
              "      <td>0.000000</td>\n",
              "      <td>0.562012</td>\n",
              "      <td>0.0</td>\n",
              "      <td>0</td>\n",
              "      <td>0</td>\n",
              "      <td>1</td>\n",
              "      <td>0</td>\n",
              "      <td>1</td>\n",
              "      <td>0</td>\n",
              "      <td>1</td>\n",
              "      <td>0</td>\n",
              "    </tr>\n",
              "    <tr>\n",
              "      <th>1336</th>\n",
              "      <td>0.065217</td>\n",
              "      <td>0.264730</td>\n",
              "      <td>0.0</td>\n",
              "      <td>0</td>\n",
              "      <td>0</td>\n",
              "      <td>0</td>\n",
              "      <td>1</td>\n",
              "      <td>1</td>\n",
              "      <td>0</td>\n",
              "      <td>1</td>\n",
              "      <td>0</td>\n",
              "    </tr>\n",
              "    <tr>\n",
              "      <th>1337</th>\n",
              "      <td>0.934783</td>\n",
              "      <td>0.352704</td>\n",
              "      <td>0.0</td>\n",
              "      <td>0</td>\n",
              "      <td>1</td>\n",
              "      <td>0</td>\n",
              "      <td>0</td>\n",
              "      <td>0</td>\n",
              "      <td>1</td>\n",
              "      <td>1</td>\n",
              "      <td>0</td>\n",
              "    </tr>\n",
              "  </tbody>\n",
              "</table>\n",
              "<p>1338 rows × 11 columns</p>\n",
              "</div>\n",
              "      <button class=\"colab-df-convert\" onclick=\"convertToInteractive('df-0d705761-64b1-4ea1-80f2-701877ef0b62')\"\n",
              "              title=\"Convert this dataframe to an interactive table.\"\n",
              "              style=\"display:none;\">\n",
              "        \n",
              "  <svg xmlns=\"http://www.w3.org/2000/svg\" height=\"24px\"viewBox=\"0 0 24 24\"\n",
              "       width=\"24px\">\n",
              "    <path d=\"M0 0h24v24H0V0z\" fill=\"none\"/>\n",
              "    <path d=\"M18.56 5.44l.94 2.06.94-2.06 2.06-.94-2.06-.94-.94-2.06-.94 2.06-2.06.94zm-11 1L8.5 8.5l.94-2.06 2.06-.94-2.06-.94L8.5 2.5l-.94 2.06-2.06.94zm10 10l.94 2.06.94-2.06 2.06-.94-2.06-.94-.94-2.06-.94 2.06-2.06.94z\"/><path d=\"M17.41 7.96l-1.37-1.37c-.4-.4-.92-.59-1.43-.59-.52 0-1.04.2-1.43.59L10.3 9.45l-7.72 7.72c-.78.78-.78 2.05 0 2.83L4 21.41c.39.39.9.59 1.41.59.51 0 1.02-.2 1.41-.59l7.78-7.78 2.81-2.81c.8-.78.8-2.07 0-2.86zM5.41 20L4 18.59l7.72-7.72 1.47 1.35L5.41 20z\"/>\n",
              "  </svg>\n",
              "      </button>\n",
              "      \n",
              "  <style>\n",
              "    .colab-df-container {\n",
              "      display:flex;\n",
              "      flex-wrap:wrap;\n",
              "      gap: 12px;\n",
              "    }\n",
              "\n",
              "    .colab-df-convert {\n",
              "      background-color: #E8F0FE;\n",
              "      border: none;\n",
              "      border-radius: 50%;\n",
              "      cursor: pointer;\n",
              "      display: none;\n",
              "      fill: #1967D2;\n",
              "      height: 32px;\n",
              "      padding: 0 0 0 0;\n",
              "      width: 32px;\n",
              "    }\n",
              "\n",
              "    .colab-df-convert:hover {\n",
              "      background-color: #E2EBFA;\n",
              "      box-shadow: 0px 1px 2px rgba(60, 64, 67, 0.3), 0px 1px 3px 1px rgba(60, 64, 67, 0.15);\n",
              "      fill: #174EA6;\n",
              "    }\n",
              "\n",
              "    [theme=dark] .colab-df-convert {\n",
              "      background-color: #3B4455;\n",
              "      fill: #D2E3FC;\n",
              "    }\n",
              "\n",
              "    [theme=dark] .colab-df-convert:hover {\n",
              "      background-color: #434B5C;\n",
              "      box-shadow: 0px 1px 3px 1px rgba(0, 0, 0, 0.15);\n",
              "      filter: drop-shadow(0px 1px 2px rgba(0, 0, 0, 0.3));\n",
              "      fill: #FFFFFF;\n",
              "    }\n",
              "  </style>\n",
              "\n",
              "      <script>\n",
              "        const buttonEl =\n",
              "          document.querySelector('#df-0d705761-64b1-4ea1-80f2-701877ef0b62 button.colab-df-convert');\n",
              "        buttonEl.style.display =\n",
              "          google.colab.kernel.accessAllowed ? 'block' : 'none';\n",
              "\n",
              "        async function convertToInteractive(key) {\n",
              "          const element = document.querySelector('#df-0d705761-64b1-4ea1-80f2-701877ef0b62');\n",
              "          const dataTable =\n",
              "            await google.colab.kernel.invokeFunction('convertToInteractive',\n",
              "                                                     [key], {});\n",
              "          if (!dataTable) return;\n",
              "\n",
              "          const docLinkHtml = 'Like what you see? Visit the ' +\n",
              "            '<a target=\"_blank\" href=https://colab.research.google.com/notebooks/data_table.ipynb>data table notebook</a>'\n",
              "            + ' to learn more about interactive tables.';\n",
              "          element.innerHTML = '';\n",
              "          dataTable['output_type'] = 'display_data';\n",
              "          await google.colab.output.renderOutput(dataTable, element);\n",
              "          const docLink = document.createElement('div');\n",
              "          docLink.innerHTML = docLinkHtml;\n",
              "          element.appendChild(docLink);\n",
              "        }\n",
              "      </script>\n",
              "    </div>\n",
              "  </div>\n",
              "  "
            ]
          },
          "metadata": {},
          "execution_count": 14
        }
      ],
      "source": [
        "new_df = cop_data.drop([\"rounded_bmi\", \"charges\"], axis=1)\n",
        "new_df"
      ]
    },
    {
      "cell_type": "code",
      "source": [
        "new_df.corr()"
      ],
      "metadata": {
        "colab": {
          "base_uri": "https://localhost:8080/",
          "height": 458
        },
        "id": "DUGbK8qUCSuz",
        "outputId": "1a3b267d-e8a8-4b8b-a275-caa693a35bb4"
      },
      "id": "DUGbK8qUCSuz",
      "execution_count": null,
      "outputs": [
        {
          "output_type": "execute_result",
          "data": {
            "text/plain": [
              "                       age       bmi  children  region_northeast  \\\n",
              "age               1.000000  0.109272  0.042469          0.002475   \n",
              "bmi               0.109272  1.000000  0.012759         -0.138156   \n",
              "children          0.042469  0.012759  1.000000         -0.022808   \n",
              "region_northeast  0.002475 -0.138156 -0.022808          1.000000   \n",
              "region_northwest -0.000407 -0.135996  0.024806         -0.320177   \n",
              "region_southeast -0.011642  0.270025 -0.023066         -0.345561   \n",
              "region_southwest  0.010016 -0.006205  0.021914         -0.320177   \n",
              "smoker_no         0.025019 -0.003750 -0.007673         -0.002811   \n",
              "smoker_yes       -0.025019  0.003750  0.007673          0.002811   \n",
              "sex_female        0.020856 -0.046371 -0.017163          0.002425   \n",
              "sex_male         -0.020856  0.046371  0.017163         -0.002425   \n",
              "\n",
              "                  region_northwest  region_southeast  region_southwest  \\\n",
              "age                      -0.000407         -0.011642          0.010016   \n",
              "bmi                      -0.135996          0.270025         -0.006205   \n",
              "children                  0.024806         -0.023066          0.021914   \n",
              "region_northeast         -0.320177         -0.345561         -0.320177   \n",
              "region_northwest          1.000000         -0.346265         -0.320829   \n",
              "region_southeast         -0.346265          1.000000         -0.346265   \n",
              "region_southwest         -0.320829         -0.346265          1.000000   \n",
              "smoker_no                 0.036945         -0.068498          0.036945   \n",
              "smoker_yes               -0.036945          0.068498         -0.036945   \n",
              "sex_female                0.011156         -0.017117          0.004184   \n",
              "sex_male                 -0.011156          0.017117         -0.004184   \n",
              "\n",
              "                  smoker_no  smoker_yes  sex_female  sex_male  \n",
              "age                0.025019   -0.025019    0.020856 -0.020856  \n",
              "bmi               -0.003750    0.003750   -0.046371  0.046371  \n",
              "children          -0.007673    0.007673   -0.017163  0.017163  \n",
              "region_northeast  -0.002811    0.002811    0.002425 -0.002425  \n",
              "region_northwest   0.036945   -0.036945    0.011156 -0.011156  \n",
              "region_southeast  -0.068498    0.068498   -0.017117  0.017117  \n",
              "region_southwest   0.036945   -0.036945    0.004184 -0.004184  \n",
              "smoker_no          1.000000   -1.000000    0.076185 -0.076185  \n",
              "smoker_yes        -1.000000    1.000000   -0.076185  0.076185  \n",
              "sex_female         0.076185   -0.076185    1.000000 -1.000000  \n",
              "sex_male          -0.076185    0.076185   -1.000000  1.000000  "
            ],
            "text/html": [
              "\n",
              "  <div id=\"df-20f2d676-b7b4-43b3-b570-61a451af1c7e\">\n",
              "    <div class=\"colab-df-container\">\n",
              "      <div>\n",
              "<style scoped>\n",
              "    .dataframe tbody tr th:only-of-type {\n",
              "        vertical-align: middle;\n",
              "    }\n",
              "\n",
              "    .dataframe tbody tr th {\n",
              "        vertical-align: top;\n",
              "    }\n",
              "\n",
              "    .dataframe thead th {\n",
              "        text-align: right;\n",
              "    }\n",
              "</style>\n",
              "<table border=\"1\" class=\"dataframe\">\n",
              "  <thead>\n",
              "    <tr style=\"text-align: right;\">\n",
              "      <th></th>\n",
              "      <th>age</th>\n",
              "      <th>bmi</th>\n",
              "      <th>children</th>\n",
              "      <th>region_northeast</th>\n",
              "      <th>region_northwest</th>\n",
              "      <th>region_southeast</th>\n",
              "      <th>region_southwest</th>\n",
              "      <th>smoker_no</th>\n",
              "      <th>smoker_yes</th>\n",
              "      <th>sex_female</th>\n",
              "      <th>sex_male</th>\n",
              "    </tr>\n",
              "  </thead>\n",
              "  <tbody>\n",
              "    <tr>\n",
              "      <th>age</th>\n",
              "      <td>1.000000</td>\n",
              "      <td>0.109272</td>\n",
              "      <td>0.042469</td>\n",
              "      <td>0.002475</td>\n",
              "      <td>-0.000407</td>\n",
              "      <td>-0.011642</td>\n",
              "      <td>0.010016</td>\n",
              "      <td>0.025019</td>\n",
              "      <td>-0.025019</td>\n",
              "      <td>0.020856</td>\n",
              "      <td>-0.020856</td>\n",
              "    </tr>\n",
              "    <tr>\n",
              "      <th>bmi</th>\n",
              "      <td>0.109272</td>\n",
              "      <td>1.000000</td>\n",
              "      <td>0.012759</td>\n",
              "      <td>-0.138156</td>\n",
              "      <td>-0.135996</td>\n",
              "      <td>0.270025</td>\n",
              "      <td>-0.006205</td>\n",
              "      <td>-0.003750</td>\n",
              "      <td>0.003750</td>\n",
              "      <td>-0.046371</td>\n",
              "      <td>0.046371</td>\n",
              "    </tr>\n",
              "    <tr>\n",
              "      <th>children</th>\n",
              "      <td>0.042469</td>\n",
              "      <td>0.012759</td>\n",
              "      <td>1.000000</td>\n",
              "      <td>-0.022808</td>\n",
              "      <td>0.024806</td>\n",
              "      <td>-0.023066</td>\n",
              "      <td>0.021914</td>\n",
              "      <td>-0.007673</td>\n",
              "      <td>0.007673</td>\n",
              "      <td>-0.017163</td>\n",
              "      <td>0.017163</td>\n",
              "    </tr>\n",
              "    <tr>\n",
              "      <th>region_northeast</th>\n",
              "      <td>0.002475</td>\n",
              "      <td>-0.138156</td>\n",
              "      <td>-0.022808</td>\n",
              "      <td>1.000000</td>\n",
              "      <td>-0.320177</td>\n",
              "      <td>-0.345561</td>\n",
              "      <td>-0.320177</td>\n",
              "      <td>-0.002811</td>\n",
              "      <td>0.002811</td>\n",
              "      <td>0.002425</td>\n",
              "      <td>-0.002425</td>\n",
              "    </tr>\n",
              "    <tr>\n",
              "      <th>region_northwest</th>\n",
              "      <td>-0.000407</td>\n",
              "      <td>-0.135996</td>\n",
              "      <td>0.024806</td>\n",
              "      <td>-0.320177</td>\n",
              "      <td>1.000000</td>\n",
              "      <td>-0.346265</td>\n",
              "      <td>-0.320829</td>\n",
              "      <td>0.036945</td>\n",
              "      <td>-0.036945</td>\n",
              "      <td>0.011156</td>\n",
              "      <td>-0.011156</td>\n",
              "    </tr>\n",
              "    <tr>\n",
              "      <th>region_southeast</th>\n",
              "      <td>-0.011642</td>\n",
              "      <td>0.270025</td>\n",
              "      <td>-0.023066</td>\n",
              "      <td>-0.345561</td>\n",
              "      <td>-0.346265</td>\n",
              "      <td>1.000000</td>\n",
              "      <td>-0.346265</td>\n",
              "      <td>-0.068498</td>\n",
              "      <td>0.068498</td>\n",
              "      <td>-0.017117</td>\n",
              "      <td>0.017117</td>\n",
              "    </tr>\n",
              "    <tr>\n",
              "      <th>region_southwest</th>\n",
              "      <td>0.010016</td>\n",
              "      <td>-0.006205</td>\n",
              "      <td>0.021914</td>\n",
              "      <td>-0.320177</td>\n",
              "      <td>-0.320829</td>\n",
              "      <td>-0.346265</td>\n",
              "      <td>1.000000</td>\n",
              "      <td>0.036945</td>\n",
              "      <td>-0.036945</td>\n",
              "      <td>0.004184</td>\n",
              "      <td>-0.004184</td>\n",
              "    </tr>\n",
              "    <tr>\n",
              "      <th>smoker_no</th>\n",
              "      <td>0.025019</td>\n",
              "      <td>-0.003750</td>\n",
              "      <td>-0.007673</td>\n",
              "      <td>-0.002811</td>\n",
              "      <td>0.036945</td>\n",
              "      <td>-0.068498</td>\n",
              "      <td>0.036945</td>\n",
              "      <td>1.000000</td>\n",
              "      <td>-1.000000</td>\n",
              "      <td>0.076185</td>\n",
              "      <td>-0.076185</td>\n",
              "    </tr>\n",
              "    <tr>\n",
              "      <th>smoker_yes</th>\n",
              "      <td>-0.025019</td>\n",
              "      <td>0.003750</td>\n",
              "      <td>0.007673</td>\n",
              "      <td>0.002811</td>\n",
              "      <td>-0.036945</td>\n",
              "      <td>0.068498</td>\n",
              "      <td>-0.036945</td>\n",
              "      <td>-1.000000</td>\n",
              "      <td>1.000000</td>\n",
              "      <td>-0.076185</td>\n",
              "      <td>0.076185</td>\n",
              "    </tr>\n",
              "    <tr>\n",
              "      <th>sex_female</th>\n",
              "      <td>0.020856</td>\n",
              "      <td>-0.046371</td>\n",
              "      <td>-0.017163</td>\n",
              "      <td>0.002425</td>\n",
              "      <td>0.011156</td>\n",
              "      <td>-0.017117</td>\n",
              "      <td>0.004184</td>\n",
              "      <td>0.076185</td>\n",
              "      <td>-0.076185</td>\n",
              "      <td>1.000000</td>\n",
              "      <td>-1.000000</td>\n",
              "    </tr>\n",
              "    <tr>\n",
              "      <th>sex_male</th>\n",
              "      <td>-0.020856</td>\n",
              "      <td>0.046371</td>\n",
              "      <td>0.017163</td>\n",
              "      <td>-0.002425</td>\n",
              "      <td>-0.011156</td>\n",
              "      <td>0.017117</td>\n",
              "      <td>-0.004184</td>\n",
              "      <td>-0.076185</td>\n",
              "      <td>0.076185</td>\n",
              "      <td>-1.000000</td>\n",
              "      <td>1.000000</td>\n",
              "    </tr>\n",
              "  </tbody>\n",
              "</table>\n",
              "</div>\n",
              "      <button class=\"colab-df-convert\" onclick=\"convertToInteractive('df-20f2d676-b7b4-43b3-b570-61a451af1c7e')\"\n",
              "              title=\"Convert this dataframe to an interactive table.\"\n",
              "              style=\"display:none;\">\n",
              "        \n",
              "  <svg xmlns=\"http://www.w3.org/2000/svg\" height=\"24px\"viewBox=\"0 0 24 24\"\n",
              "       width=\"24px\">\n",
              "    <path d=\"M0 0h24v24H0V0z\" fill=\"none\"/>\n",
              "    <path d=\"M18.56 5.44l.94 2.06.94-2.06 2.06-.94-2.06-.94-.94-2.06-.94 2.06-2.06.94zm-11 1L8.5 8.5l.94-2.06 2.06-.94-2.06-.94L8.5 2.5l-.94 2.06-2.06.94zm10 10l.94 2.06.94-2.06 2.06-.94-2.06-.94-.94-2.06-.94 2.06-2.06.94z\"/><path d=\"M17.41 7.96l-1.37-1.37c-.4-.4-.92-.59-1.43-.59-.52 0-1.04.2-1.43.59L10.3 9.45l-7.72 7.72c-.78.78-.78 2.05 0 2.83L4 21.41c.39.39.9.59 1.41.59.51 0 1.02-.2 1.41-.59l7.78-7.78 2.81-2.81c.8-.78.8-2.07 0-2.86zM5.41 20L4 18.59l7.72-7.72 1.47 1.35L5.41 20z\"/>\n",
              "  </svg>\n",
              "      </button>\n",
              "      \n",
              "  <style>\n",
              "    .colab-df-container {\n",
              "      display:flex;\n",
              "      flex-wrap:wrap;\n",
              "      gap: 12px;\n",
              "    }\n",
              "\n",
              "    .colab-df-convert {\n",
              "      background-color: #E8F0FE;\n",
              "      border: none;\n",
              "      border-radius: 50%;\n",
              "      cursor: pointer;\n",
              "      display: none;\n",
              "      fill: #1967D2;\n",
              "      height: 32px;\n",
              "      padding: 0 0 0 0;\n",
              "      width: 32px;\n",
              "    }\n",
              "\n",
              "    .colab-df-convert:hover {\n",
              "      background-color: #E2EBFA;\n",
              "      box-shadow: 0px 1px 2px rgba(60, 64, 67, 0.3), 0px 1px 3px 1px rgba(60, 64, 67, 0.15);\n",
              "      fill: #174EA6;\n",
              "    }\n",
              "\n",
              "    [theme=dark] .colab-df-convert {\n",
              "      background-color: #3B4455;\n",
              "      fill: #D2E3FC;\n",
              "    }\n",
              "\n",
              "    [theme=dark] .colab-df-convert:hover {\n",
              "      background-color: #434B5C;\n",
              "      box-shadow: 0px 1px 3px 1px rgba(0, 0, 0, 0.15);\n",
              "      filter: drop-shadow(0px 1px 2px rgba(0, 0, 0, 0.3));\n",
              "      fill: #FFFFFF;\n",
              "    }\n",
              "  </style>\n",
              "\n",
              "      <script>\n",
              "        const buttonEl =\n",
              "          document.querySelector('#df-20f2d676-b7b4-43b3-b570-61a451af1c7e button.colab-df-convert');\n",
              "        buttonEl.style.display =\n",
              "          google.colab.kernel.accessAllowed ? 'block' : 'none';\n",
              "\n",
              "        async function convertToInteractive(key) {\n",
              "          const element = document.querySelector('#df-20f2d676-b7b4-43b3-b570-61a451af1c7e');\n",
              "          const dataTable =\n",
              "            await google.colab.kernel.invokeFunction('convertToInteractive',\n",
              "                                                     [key], {});\n",
              "          if (!dataTable) return;\n",
              "\n",
              "          const docLinkHtml = 'Like what you see? Visit the ' +\n",
              "            '<a target=\"_blank\" href=https://colab.research.google.com/notebooks/data_table.ipynb>data table notebook</a>'\n",
              "            + ' to learn more about interactive tables.';\n",
              "          element.innerHTML = '';\n",
              "          dataTable['output_type'] = 'display_data';\n",
              "          await google.colab.output.renderOutput(dataTable, element);\n",
              "          const docLink = document.createElement('div');\n",
              "          docLink.innerHTML = docLinkHtml;\n",
              "          element.appendChild(docLink);\n",
              "        }\n",
              "      </script>\n",
              "    </div>\n",
              "  </div>\n",
              "  "
            ]
          },
          "metadata": {},
          "execution_count": 51
        }
      ]
    },
    {
      "cell_type": "code",
      "source": [
        "\n",
        "plt.imshow( new_df.corr()  , interpolation = 'nearest' )\n",
        "plt.show()"
      ],
      "metadata": {
        "colab": {
          "base_uri": "https://localhost:8080/",
          "height": 265
        },
        "id": "Bg0fh_6bB_DB",
        "outputId": "09858429-443f-4ba7-8903-66738e1f5b6a"
      },
      "id": "Bg0fh_6bB_DB",
      "execution_count": 23,
      "outputs": [
        {
          "output_type": "display_data",
          "data": {
            "text/plain": [
              "<Figure size 432x288 with 1 Axes>"
            ],
            "image/png": "[encoded data removed]"
          },
          "metadata": {
            "needs_background": "light"
          }
        }
      ]
    },
    {
      "cell_type": "markdown",
      "id": "ec4b1b9f",
      "metadata": {
        "id": "ec4b1b9f"
      },
      "source": [
        "convert the new dataframe into a numpy array named \"x\""
      ]
    },
    {
      "cell_type": "code",
      "execution_count": null,
      "id": "2108f459",
      "metadata": {
        "id": "2108f459",
        "colab": {
          "base_uri": "https://localhost:8080/"
        },
        "outputId": "26c911ef-6531-49da-bed4-66c57d3d858a"
      },
      "outputs": [
        {
          "output_type": "execute_result",
          "data": {
            "text/plain": [
              "array([[0.02173913, 0.3212268 , 0.        , ..., 1.        , 1.        ,\n",
              "        0.        ],\n",
              "       [0.        , 0.47914985, 0.2       , ..., 0.        , 0.        ,\n",
              "        1.        ],\n",
              "       [0.2173913 , 0.45843422, 0.6       , ..., 0.        , 0.        ,\n",
              "        1.        ],\n",
              "       ...,\n",
              "       [0.        , 0.56201238, 0.        , ..., 0.        , 1.        ,\n",
              "        0.        ],\n",
              "       [0.06521739, 0.26472962, 0.        , ..., 0.        , 1.        ,\n",
              "        0.        ],\n",
              "       [0.93478261, 0.35270379, 0.        , ..., 1.        , 1.        ,\n",
              "        0.        ]])"
            ]
          },
          "metadata": {},
          "execution_count": 15
        }
      ],
      "source": [
        "x = new_df.to_numpy()\n",
        "x"
      ]
    },
    {
      "cell_type": "markdown",
      "id": "50ce4231",
      "metadata": {
        "id": "50ce4231"
      },
      "source": [
        "get the \"charges\" column from the previous dataframe and convert it to another numpy array named \"y\""
      ]
    },
    {
      "cell_type": "code",
      "execution_count": null,
      "id": "398524f9",
      "metadata": {
        "id": "398524f9",
        "colab": {
          "base_uri": "https://localhost:8080/"
        },
        "outputId": "462371a8-8297-4b71-828d-c7eaee731573"
      },
      "outputs": [
        {
          "output_type": "execute_result",
          "data": {
            "text/plain": [
              "array([16884.924 ,  1725.5523,  4449.462 , ...,  1629.8335,  2007.945 ,\n",
              "       29141.3603])"
            ]
          },
          "metadata": {},
          "execution_count": 16
        }
      ],
      "source": [
        "y = cop_data['charges'].to_numpy()\n",
        "y"
      ]
    },
    {
      "cell_type": "markdown",
      "id": "01db8a8e",
      "metadata": {
        "id": "01db8a8e"
      },
      "source": [
        "## Sec 2: Splitting the Data"
      ]
    },
    {
      "cell_type": "markdown",
      "id": "e52068ba",
      "metadata": {
        "id": "e52068ba"
      },
      "source": [
        "divide the dataset into two portions in a way that 90% of the data belongs to the \"training\" set (called `x_train`, `y_train`) and the remaining belongs to the \"testing\" set (called `x_test`, `y_test`)"
      ]
    },
    {
      "cell_type": "code",
      "execution_count": null,
      "id": "2f51edf6",
      "metadata": {
        "id": "2f51edf6"
      },
      "outputs": [],
      "source": [
        "from sklearn.model_selection import train_test_split\n",
        "x_train, x_test, y_train, y_test = train_test_split(x, y, test_size=0.1, random_state=42)"
      ]
    },
    {
      "cell_type": "markdown",
      "id": "3b11b352",
      "metadata": {
        "id": "3b11b352"
      },
      "source": [
        "## Sec 3 (Optional): Linear Regression from Scratch\n",
        "\n",
        "Complete this section with your code.\n",
        "\n",
        "**hint**: \n",
        "- use pseudo inverse if matrix is not invertible.\n",
        "- you can use `np.linalg`.\n",
        "\n",
        "**note**:\n",
        "- do **Phase 3:Sec 4** and **Phase 4:all sections** with this model also, then compare your results. "
      ]
    },
    {
      "cell_type": "code",
      "source": [
        "class LinearRegression_scratch_without_grad:\n",
        "    \"\"\"\n",
        "    Fits it on data, then use predict to get results.\n",
        "    \"\"\"\n",
        "\n",
        "    def __init__(self):\n",
        "        self.weights = None\n",
        "        self.bias = None\n",
        "    \n",
        "    def fit(self, X, y):\n",
        "        \"\"\"Fit the training data\n",
        "        Parameters\n",
        "        ----------\n",
        "        x : array-like, shape = [n_samples, n_features]\n",
        "            Training samples\n",
        "        y : array-like, shape = [n_samples, n_target_values]\n",
        "            Target values\n",
        "        Returns\n",
        "        -------\n",
        "        self : object\n",
        "        \"\"\"\n",
        "\n",
        "        n_samples, n_features = X.shape\n",
        "        \n",
        "\n",
        "        pinv_X = np.linalg.pinv(X)  \n",
        "        self.weights = np.dot(pinv_X, y)\n",
        "        self.bias = y.mean() - np.dot(self.weights.T, X.mean(axis=0))\n",
        "\n",
        "        return self\n",
        "    \n",
        "    def predict(self, X):\n",
        "        \"\"\" Predicts the value after the model has been trained.\n",
        "        Parameters\n",
        "        ----------\n",
        "        x : array-like, shape = [n_samples, n_features]\n",
        "            Test samples\n",
        "        Returns\n",
        "        -------\n",
        "        Predicted value\n",
        "        \"\"\"\n",
        "        \n",
        "        y_pred = np.dot(X, self.weights) + self.bias\n",
        "        return y_pred"
      ],
      "metadata": {
        "id": "UI9aceek2HIX"
      },
      "id": "UI9aceek2HIX",
      "execution_count": 24,
      "outputs": []
    },
    {
      "cell_type": "code",
      "execution_count": 27,
      "id": "d19c47ce",
      "metadata": {
        "id": "d19c47ce"
      },
      "outputs": [],
      "source": [
        "class LinearRegression_scratch:\n",
        "  # because of gradient descent gives more accuracy\n",
        "    \"\"\"\n",
        "    Fits it on data, then use predict to get results.\n",
        "    \"\"\"\n",
        "\n",
        "    def __init__(self):\n",
        "        self.weights = None\n",
        "        self.bias = None\n",
        "    \n",
        "    def fit(self, X, y):\n",
        "        \"\"\"Fit the training data\n",
        "        Parameters\n",
        "        ----------\n",
        "        x : array-like, shape = [n_samples, n_features]\n",
        "            Training samples\n",
        "        y : array-like, shape = [n_samples, n_target_values]\n",
        "            Target values\n",
        "        Returns\n",
        "        -------\n",
        "        self : object\n",
        "        \"\"\"\n",
        "\n",
        "        n_samples, n_features = X.shape\n",
        "        self.weights = np.zeros(n_features)\n",
        "        self.bias = 0\n",
        "        \n",
        "        # Gradient descent algoritm\n",
        "        lr = 0.01\n",
        "        num_iterations = 1000\n",
        "        for i in range(num_iterations):\n",
        "            y_pred = np.dot(X, self.weights) + self.bias\n",
        "            self.weights -= lr * ( (1/n_samples) * np.dot(X.T, (y_pred - y)))\n",
        "            self.bias -= lr * ( (1/n_samples) * np.sum(y_pred - y) )\n",
        "            \n",
        "        return self\n",
        "    \n",
        "    def predict(self, X):\n",
        "        \"\"\" Predicts the value after the model has been trained.\n",
        "        Parameters\n",
        "        ----------\n",
        "        x : array-like, shape = [n_samples, n_features]\n",
        "            Test samples\n",
        "        Returns\n",
        "        -------\n",
        "        Predicted value\n",
        "        \"\"\"\n",
        "        \n",
        "        y_pred = np.dot(X, self.weights) + self.bias\n",
        "        return y_pred"
      ]
    },
    {
      "cell_type": "markdown",
      "id": "8f4e311e",
      "metadata": {
        "id": "8f4e311e"
      },
      "source": [
        "## Sec 4: The real deal!"
      ]
    },
    {
      "cell_type": "markdown",
      "id": "a158924a",
      "metadata": {
        "id": "a158924a"
      },
      "source": [
        "fit a linear regressor to the data. (Use both regressors - sklearn & from scratch - if you did previous part)"
      ]
    },
    {
      "cell_type": "code",
      "execution_count": 28,
      "id": "2bf0cb99",
      "metadata": {
        "id": "2bf0cb99"
      },
      "outputs": [],
      "source": [
        "#scratch\n",
        "model = LinearRegression_scratch()\n",
        "model.fit(x_train, y_train)\n",
        "y_pred_scratch = model.predict(x_test)"
      ]
    },
    {
      "cell_type": "code",
      "source": [
        "#sklearn\n",
        "from sklearn.linear_model import LinearRegression\n",
        "\n",
        "regressor = sklearn.linear_model.LinearRegression()\n",
        "regressor.fit(x_train, y_train)\n",
        "y_pred_sklearn = regressor.predict(x_test)\n"
      ],
      "metadata": {
        "id": "JwxqXc6AxeXD"
      },
      "id": "JwxqXc6AxeXD",
      "execution_count": 25,
      "outputs": []
    },
    {
      "cell_type": "code",
      "source": [
        "# without grad\n",
        "model_simple = LinearRegression_scratch_without_grad()\n",
        "model_simple.fit(x_train, y_train)\n",
        "y_pred_simple = model_simple.predict(x_test)"
      ],
      "metadata": {
        "id": "xO9XJsuJ6aqv"
      },
      "id": "xO9XJsuJ6aqv",
      "execution_count": 29,
      "outputs": []
    },
    {
      "cell_type": "markdown",
      "id": "0604ea17",
      "metadata": {
        "id": "0604ea17"
      },
      "source": [
        "get the coefficients of the variables"
      ]
    },
    {
      "cell_type": "code",
      "source": [
        "#scratch\n",
        "print(model.weights)"
      ],
      "metadata": {
        "colab": {
          "base_uri": "https://localhost:8080/"
        },
        "id": "P8Vhu3Bh6n6R",
        "outputId": "e341c551-6f9d-42a0-a7cc-8aa6410366cd"
      },
      "id": "P8Vhu3Bh6n6R",
      "execution_count": 33,
      "outputs": [
        {
          "output_type": "stream",
          "name": "stdout",
          "text": [
            "[ 10272.05659895   7247.28015924   3177.14402457   3562.74003275\n",
            "   2939.98112367   3923.27253177   2742.24901371 -15557.40424776\n",
            "    956.4504359 ]\n"
          ]
        }
      ]
    },
    {
      "cell_type": "code",
      "source": [
        "# without grad\n",
        "print(model_simple.weights)"
      ],
      "metadata": {
        "colab": {
          "base_uri": "https://localhost:8080/"
        },
        "id": "zOiJ0Su2yWFp",
        "outputId": "e52ccce6-bfff-42d0-a33d-d013f4292850"
      },
      "id": "zOiJ0Su2yWFp",
      "execution_count": 34,
      "outputs": [
        {
          "output_type": "stream",
          "name": "stdout",
          "text": [
            "[ 11924.69966717  12167.70658291   2216.42134494  21945.02110522\n",
            "  21652.51002791  21108.83492933  21077.20179111 -23930.00940579\n",
            "    265.3913387 ]\n"
          ]
        }
      ]
    },
    {
      "cell_type": "code",
      "execution_count": 35,
      "id": "4d6fb9a9",
      "metadata": {
        "id": "4d6fb9a9",
        "colab": {
          "base_uri": "https://localhost:8080/"
        },
        "outputId": "50b094bc-0a14-45ca-c880-6c0d77a1da43"
      },
      "outputs": [
        {
          "output_type": "stream",
          "name": "stdout",
          "text": [
            "[ 1.19575707e+04  1.22062721e+04  2.14897574e+03 -1.38491896e+17\n",
            " -1.38491896e+17 -1.38491896e+17 -1.38491896e+17 -2.39136307e+04\n",
            "  2.37414096e+02]\n"
          ]
        }
      ],
      "source": [
        "#sklearn\n",
        "coefficients = regressor.coef_\n",
        "print(coefficients)"
      ]
    },
    {
      "cell_type": "markdown",
      "id": "a015255e",
      "metadata": {
        "id": "a015255e"
      },
      "source": [
        "get the bias value associated with the model"
      ]
    },
    {
      "cell_type": "code",
      "execution_count": 39,
      "id": "7f75a009",
      "metadata": {
        "id": "7f75a009",
        "colab": {
          "base_uri": "https://localhost:8080/"
        },
        "outputId": "492f7713-4827-482d-d0b3-4f0da26cd2a4"
      },
      "outputs": [
        {
          "output_type": "stream",
          "name": "stdout",
          "text": [
            "1.3849189565300869e+17\n"
          ]
        }
      ],
      "source": [
        "bias = regressor.intercept_\n",
        "print(bias)"
      ]
    },
    {
      "cell_type": "code",
      "source": [
        "bias_scratch = model.bias\n",
        "print(bias_scratch)"
      ],
      "metadata": {
        "colab": {
          "base_uri": "https://localhost:8080/"
        },
        "id": "0WMzE7fU1X6y",
        "outputId": "9796d1a7-3b9a-4878-cd74-ac52c6838ac9"
      },
      "id": "0WMzE7fU1X6y",
      "execution_count": 38,
      "outputs": [
        {
          "output_type": "stream",
          "name": "stdout",
          "text": [
            "13168.242701907862\n"
          ]
        }
      ]
    },
    {
      "cell_type": "code",
      "source": [
        "bias_scratch_without = model_simple.bias\n",
        "print(bias_scratch_without)"
      ],
      "metadata": {
        "colab": {
          "base_uri": "https://localhost:8080/"
        },
        "id": "ZgR25qkI6_E5",
        "outputId": "f1579db5-962b-4182-fd57-1d3dcc063ee5"
      },
      "id": "ZgR25qkI6_E5",
      "execution_count": 37,
      "outputs": [
        {
          "output_type": "stream",
          "name": "stdout",
          "text": [
            "-3.92901711165905e-10\n"
          ]
        }
      ]
    },
    {
      "cell_type": "markdown",
      "id": "7e89205f",
      "metadata": {
        "id": "7e89205f"
      },
      "source": [
        "## Sec 5: Save/Load the model"
      ]
    },
    {
      "cell_type": "markdown",
      "id": "71c6d19f",
      "metadata": {
        "id": "71c6d19f"
      },
      "source": [
        "Save"
      ]
    },
    {
      "cell_type": "code",
      "execution_count": 40,
      "id": "70620efe",
      "metadata": {
        "id": "70620efe",
        "colab": {
          "base_uri": "https://localhost:8080/"
        },
        "outputId": "213b7d2e-93b9-4954-f0ce-6410bee6fd27"
      },
      "outputs": [
        {
          "output_type": "execute_result",
          "data": {
            "text/plain": [
              "['linear_regression_model_sk.joblib']"
            ]
          },
          "metadata": {},
          "execution_count": 40
        }
      ],
      "source": [
        "# Save the model\n",
        "import joblib\n",
        "joblib.dump(regressor, 'linear_regression_model_sk.joblib')"
      ]
    },
    {
      "cell_type": "markdown",
      "id": "03ccb5a3",
      "metadata": {
        "id": "03ccb5a3"
      },
      "source": [
        "Load"
      ]
    },
    {
      "cell_type": "code",
      "execution_count": 41,
      "id": "0f3c69a0",
      "metadata": {
        "id": "0f3c69a0"
      },
      "outputs": [],
      "source": [
        "loaded_model = joblib.load('linear_regression_model_sk.joblib')"
      ]
    },
    {
      "cell_type": "markdown",
      "id": "4fc41ff7",
      "metadata": {
        "id": "4fc41ff7"
      },
      "source": [
        "# Phase 4: Evaluation"
      ]
    },
    {
      "cell_type": "markdown",
      "id": "37c78322",
      "metadata": {
        "id": "37c78322"
      },
      "source": [
        "\n",
        "predict the value of \"y\" for each \"x\" belonging to the \"testing\" set"
      ]
    },
    {
      "cell_type": "code",
      "execution_count": null,
      "id": "1ade9347",
      "metadata": {
        "id": "1ade9347",
        "colab": {
          "base_uri": "https://localhost:8080/"
        },
        "outputId": "3eedd381-dd80-4efc-9970-808d939e0fc5"
      },
      "outputs": [
        {
          "output_type": "stream",
          "name": "stdout",
          "text": [
            "[ 9280.  7296. 37312.  9504. 27072. 10624.   448. 16864.  1408. 11264.\n",
            " 28192.  9376.  5184. 38272. 40096. 36960. 15168. 36000.  9088. 31904.\n",
            "  3776. 10016.  2176.  7232. 11584. 13184. 14592.  6400. 10240.  1824.\n",
            "  9280. 13312.  4416.  3712.  4288. 12928.  2112.  8960. 33760. 32448.\n",
            "  4032.  4288. 14272. 11456.  8448. 12000.  5440.  3328. 35392.  8800.\n",
            " 15808.  2016. 12544.  1440. 13056. 12576.  4320. 32320. 13440. 13120.\n",
            " 14272. 10368. 16256.  8064. 12096.  4288. 26752. 10720.  2432.  5952.\n",
            " 10688. 11904. 10944.  8864. 11616.  6720.  7232. 11008.  6528.  8960.\n",
            "  3392. 36832.  6528. 31168. 34560. 35424.  6720. 12864. 10176. 14336.\n",
            " 17920. 35456. 33472.  6208. 31840.  9376. 29344.  3584. 28768.  6080.\n",
            "  5632.  1984. 11136. 14976. 11744.  3936.  9632. 31680.   -96. 33024.\n",
            "  3072.  9728. 14592. 32000. 11712.  3744. 13120. 32160.  8128.  3232.\n",
            "  8640. 10560. 15424.  5280.  4032. 10432. 10816. 11136. 14400.  7008.\n",
            "  5312.  8928.  9280. 12672.]\n"
          ]
        }
      ],
      "source": [
        "print(y_pred_sklearn)"
      ]
    },
    {
      "cell_type": "code",
      "source": [
        "print(y_pred_scratch)"
      ],
      "metadata": {
        "colab": {
          "base_uri": "https://localhost:8080/"
        },
        "id": "yLHkDykT9f87",
        "outputId": "4e308068-f561-42b6-ff8e-47b35a47eef5"
      },
      "id": "yLHkDykT9f87",
      "execution_count": null,
      "outputs": [
        {
          "output_type": "stream",
          "name": "stdout",
          "text": [
            "[ 9617.4574594   7427.4608442  34893.31480212  9905.16823076\n",
            " 27132.1069029   8918.79023129  3279.4514886  13631.25828636\n",
            "  4607.89177002 10849.38979833 29226.30963455  9202.79080151\n",
            "  7047.26502927 35316.2717672  36517.96305406 34650.01579465\n",
            " 12891.10749594 33983.6704643  10010.80993937 30983.34752662\n",
            "  6378.58324123  9651.57799761  4083.1542692   6439.15151761\n",
            " 11002.98777062 11464.16104965 12374.42809744  7019.2141282\n",
            " 10176.44246319  4623.26161905  9514.71467244 11573.79719921\n",
            "  5843.28513977  6209.32831629  5739.99294607 10679.44470726\n",
            "  4379.67164326  8934.1612318  32704.1711405  31706.27851598\n",
            "  5918.97792906  5358.82797357 12127.2363161  11070.61109616\n",
            "  8962.53276581 11556.8462396   5919.1596573   5661.22169999\n",
            " 33922.22871038  8935.8692624  13850.48162079  4928.32548327\n",
            " 10070.97107112  3860.91511139 12260.2262886  11414.50501161\n",
            "  6008.09878088 30907.51797551 11740.14546444 11352.61499898\n",
            " 12500.85193565  9411.13711159 13867.20912578  8697.04344675\n",
            " 10855.41413439  5808.90616395 28126.74470298 11681.61448963\n",
            "  4802.48220704  5833.38785027  9421.24563505 10736.68221743\n",
            " 10668.71922868  9633.11859381 10907.21369216  7987.90453483\n",
            "  7600.25950084 10578.97721986  7713.52100182  9568.33341567\n",
            "  5413.3776064  34790.97039227  7278.8851064  29689.69911504\n",
            " 31375.58635362 33228.48918261  8262.4821971  11283.77222052\n",
            "  9629.66103675 12443.17398204 14474.57405352 34956.79413999\n",
            " 32371.44288961  7292.21311204 31219.73558157  9226.8192024\n",
            " 30140.45130512  5412.21523647 29357.60698008  7531.63967895\n",
            "  6504.7364243   3928.77759289 10230.84500432 12936.26453637\n",
            " 11543.58615568  5691.77796721 10347.9917255  32592.97360857\n",
            "  3251.33169582 33300.2084906   4436.72574547  8664.97998659\n",
            " 12577.49249872 30709.85610715 10690.30411403  5015.71663464\n",
            " 12004.30208697 31584.11079429  9101.12598579  5022.51682097\n",
            "  8220.9227704   9675.52896052 12650.00630831  6489.44284643\n",
            "  5941.11286199  9568.29514771 10446.17189124 10523.84741373\n",
            " 12961.67831079  7095.51594019  7113.50598867  9553.5458827\n",
            "  9391.36728703 10522.44898298]\n"
          ]
        }
      ]
    },
    {
      "cell_type": "code",
      "source": [
        "print(y_pred_simple)"
      ],
      "metadata": {
        "colab": {
          "base_uri": "https://localhost:8080/"
        },
        "id": "1o_Pz8Zg7P65",
        "outputId": "1304d21b-8cdf-4469-bb4b-93f62e3346bf"
      },
      "id": "1o_Pz8Zg7P65",
      "execution_count": 42,
      "outputs": [
        {
          "output_type": "stream",
          "name": "stdout",
          "text": [
            "[ 9182.808613    7256.66029251 37418.93125757  9514.01420954\n",
            " 27136.29460847 10557.08488901   392.92269656 16830.95926056\n",
            "  1308.10838433 11255.76624816 28280.70413035  9360.59164119\n",
            "  5200.87951392 38336.04310403 40167.33209783 37035.71811265\n",
            " 15113.86502304 36101.64002749  9103.71030216 31975.04662691\n",
            "  3777.42381479  9961.72789791  2133.40058692  7123.06288895\n",
            " 11593.79904621 13086.11685929 14565.8871257   6377.81378107\n",
            " 10167.75167119  1820.68937466  9255.72546325 13291.41687319\n",
            "  4412.15764438  3734.67398009  4260.37191377 12820.02138383\n",
            "  2051.12987395  8899.98218921 33849.56712217 32516.57545305\n",
            "  4025.97808495  4240.67613394 14201.38800548 11460.8896505\n",
            "  8432.19659636 11996.66555972  5436.48370862  3287.18776788\n",
            " 35469.83391953  8777.94299901 15768.04152539  2011.91192535\n",
            " 12468.69780956  1342.55373374 13075.87208919 12483.77251061\n",
            "  4235.65528547 32385.50024877 13392.71616099 13013.47539994\n",
            " 14263.32042313 10332.48086289 16216.93407632  8050.40268393\n",
            " 11976.77970635  4288.84723136 26816.45373136 10740.15085671\n",
            "  2391.60257431  5890.00960746 10546.82025573 11774.43049084\n",
            " 10907.31444722  8871.31888127 11596.65609831  6680.24990585\n",
            "  7120.19956444 11010.7802322   6501.2045053   8930.13383034\n",
            "  3383.41026764 36865.38874589  6458.97255404 31172.62215256\n",
            " 34576.71210258 35433.91780736  6729.44801882 12818.54556842\n",
            " 10175.5467065  14306.74970508 17819.162059   35600.2166879\n",
            " 33498.98418957  6096.72246966 31918.92173316  9312.32154263\n",
            " 29427.14248399  3540.77515564 28877.52580959  6030.70917206\n",
            "  5615.87405009  1907.76260428 11095.85036291 14920.77106902\n",
            " 11680.99398072  3920.37922098  9627.34963509 31799.09921207\n",
            "  -181.27392683 33155.93352393  3017.25336534  9703.14817322\n",
            " 14473.03596306 32025.97031538 11611.26764727  3687.0349477\n",
            " 13038.88461088 32225.74664511  8114.12158047  3193.77074063\n",
            "  8531.34024118 10542.33554123 15320.13161545  5248.54346214\n",
            "  4047.96397927 10434.54459571 10810.62086378 11034.89107172\n",
            " 14371.02295056  6969.79579011  5319.24014792  8925.83144859\n",
            "  9252.06195488 12587.83634357]\n"
          ]
        }
      ]
    },
    {
      "cell_type": "markdown",
      "id": "9bc059bf",
      "metadata": {
        "id": "9bc059bf"
      },
      "source": [
        "compute the mean squared error"
      ]
    },
    {
      "cell_type": "code",
      "execution_count": null,
      "id": "c259c493",
      "metadata": {
        "id": "c259c493",
        "colab": {
          "base_uri": "https://localhost:8080/"
        },
        "outputId": "33b6c051-f99a-47b9-8643-b3884f5ec50e"
      },
      "outputs": [
        {
          "output_type": "stream",
          "name": "stdout",
          "text": [
            "Mean Squared Error scratch:  35661289.2857056\n"
          ]
        }
      ],
      "source": [
        "from sklearn.metrics import mean_squared_error\n",
        "mse = mean_squared_error(y_test, y_pred_scratch)\n",
        "print(\"Mean Squared Error scratch: \", mse)"
      ]
    },
    {
      "cell_type": "code",
      "source": [
        "mse = mean_squared_error(y_test, y_pred_sklearn)\n",
        "print(\"Mean Squared Error sklearn: \", mse)"
      ],
      "metadata": {
        "colab": {
          "base_uri": "https://localhost:8080/"
        },
        "id": "MElWOCvX9poP",
        "outputId": "55717ca3-0f25-4ec2-ebb1-8f1ac5a84b23"
      },
      "id": "MElWOCvX9poP",
      "execution_count": null,
      "outputs": [
        {
          "output_type": "stream",
          "name": "stdout",
          "text": [
            "Mean Squared Error sklearn:  32216909.2710215\n"
          ]
        }
      ]
    },
    {
      "cell_type": "code",
      "source": [
        "mse = mean_squared_error(y_test, y_pred_simple)\n",
        "print(\"Mean Squared Error sklearn: \", mse)"
      ],
      "metadata": {
        "colab": {
          "base_uri": "https://localhost:8080/"
        },
        "id": "l0jZpCvc7c2X",
        "outputId": "e42d3e49-82bd-480b-ca6a-113d8eadb02b"
      },
      "id": "l0jZpCvc7c2X",
      "execution_count": 43,
      "outputs": [
        {
          "output_type": "stream",
          "name": "stdout",
          "text": [
            "Mean Squared Error sklearn:  32275850.35093538\n"
          ]
        }
      ]
    },
    {
      "cell_type": "markdown",
      "id": "04b0fe21",
      "metadata": {
        "id": "04b0fe21"
      },
      "source": [
        "return the coefficient of determination of the prediction"
      ]
    },
    {
      "cell_type": "code",
      "execution_count": 45,
      "id": "35dbdec9",
      "metadata": {
        "id": "35dbdec9",
        "colab": {
          "base_uri": "https://localhost:8080/"
        },
        "outputId": "f4088d2b-ae32-4c52-8242-a0a3cb057168"
      },
      "outputs": [
        {
          "output_type": "stream",
          "name": "stdout",
          "text": [
            "Coeficient of determination (R^2) scratch:  0.6873334087738724\n"
          ]
        }
      ],
      "source": [
        "from sklearn.metrics import r2_score\n",
        "\n",
        "r2 = r2_score(y_test, y_pred_scratch)\n",
        "print(\"Coeficient of determination (R^2) scratch: \", r2)"
      ]
    },
    {
      "cell_type": "code",
      "source": [
        "from sklearn.metrics import r2_score\n",
        "\n",
        "r2 = r2_score(y_test, y_pred_sklearn)\n",
        "print(\"Coeficient of determination (R^2) scratch: \", r2)"
      ],
      "metadata": {
        "colab": {
          "base_uri": "https://localhost:8080/"
        },
        "id": "KmpzofwJ-Cgv",
        "outputId": "d0de86b1-48c0-4c34-e19c-0529809addf7"
      },
      "id": "KmpzofwJ-Cgv",
      "execution_count": null,
      "outputs": [
        {
          "output_type": "stream",
          "name": "stdout",
          "text": [
            "Coeficient of determination (R^2) sklearn: 0.7664684899657155\n"
          ]
        }
      ]
    },
    {
      "cell_type": "code",
      "source": [
        "from sklearn.metrics import r2_score\n",
        "\n",
        "r2 = r2_score(y_test, y_pred_simple)\n",
        "print(\"Coeficient of determination (R^2) scratch: \", r2)"
      ],
      "metadata": {
        "colab": {
          "base_uri": "https://localhost:8080/"
        },
        "id": "5aUPokme7y2Q",
        "outputId": "0c21cb9e-5749-4d1f-973a-028574229497"
      },
      "id": "5aUPokme7y2Q",
      "execution_count": 46,
      "outputs": [
        {
          "output_type": "stream",
          "name": "stdout",
          "text": [
            "Coeficient of determination (R^2) scratch:  0.766041242296501\n"
          ]
        }
      ]
    },
    {
      "cell_type": "markdown",
      "id": "fd926be3",
      "metadata": {
        "id": "fd926be3"
      },
      "source": [
        "predict the value of \"y\" only for the last entry of the \"testing\" set"
      ]
    },
    {
      "cell_type": "code",
      "execution_count": 49,
      "id": "57d72609",
      "metadata": {
        "id": "57d72609",
        "colab": {
          "base_uri": "https://localhost:8080/"
        },
        "outputId": "df0f3072-c503-44b8-843a-9936139d972d"
      },
      "outputs": [
        {
          "output_type": "stream",
          "name": "stdout",
          "text": [
            "Predicted value of y for the last entry sklearn : [12608.]\n"
          ]
        }
      ],
      "source": [
        "x_last = x_test[-1].reshape(1, -1)\n",
        "y_last_pred = regressor.predict(x_last)\n",
        "print(\"Predicted value of y for the last entry sklearn :\" ,y_last_pred)"
      ]
    },
    {
      "cell_type": "code",
      "source": [
        "x_last = x_test[-1].reshape(1, -1)\n",
        "y_last_pred = model.predict(x_last)\n",
        "print(\"Predicted value of y for the last entry scratch :\", y_last_pred)"
      ],
      "metadata": {
        "colab": {
          "base_uri": "https://localhost:8080/"
        },
        "id": "6qAs5oOS-T-x",
        "outputId": "f5758517-a7ba-4744-f702-97fd33d1002f"
      },
      "id": "6qAs5oOS-T-x",
      "execution_count": 50,
      "outputs": [
        {
          "output_type": "stream",
          "name": "stdout",
          "text": [
            "Predicted value of y for the last entry sklearn : [12512.13209253]\n"
          ]
        }
      ]
    },
    {
      "cell_type": "code",
      "source": [
        "x_last = x_test[-1].reshape(1, -1)\n",
        "y_last_pred = model_simple.predict(x_last)\n",
        "print(\"Predicted value of y for the last entry scratch_without_grad :\", y_last_pred)"
      ],
      "metadata": {
        "colab": {
          "base_uri": "https://localhost:8080/"
        },
        "id": "EPgzqRtl8exb",
        "outputId": "e806b045-ba84-49a4-f5fc-da6d8c79d633"
      },
      "id": "EPgzqRtl8exb",
      "execution_count": 52,
      "outputs": [
        {
          "output_type": "stream",
          "name": "stdout",
          "text": [
            "Predicted value of y for the last entry scratch_without_grad : [12587.83634357]\n"
          ]
        }
      ]
    },
    {
      "cell_type": "markdown",
      "id": "416b6766",
      "metadata": {
        "id": "416b6766"
      },
      "source": [
        "# Phase 5 (Optional): Submit your predictions to our Kaggle competition"
      ]
    },
    {
      "cell_type": "markdown",
      "id": "e162e26a",
      "metadata": {
        "id": "e162e26a"
      },
      "source": [
        "Competition Link: https://www.kaggle.com/t/77b2fa437095401088e51c73956556ff<br>\n",
        "You'll have to make a csv file containing two columns: `ID` and `charges`, and submit the file.<br>"
      ]
    },
    {
      "cell_type": "code",
      "source": [
        "# using ridge regression\n",
        "# you can use the following libraries\n",
        "import numpy as np\n",
        "from sklearn.model_selection import train_test_split\n",
        "from sklearn.preprocessing import MinMaxScaler\n",
        "import pandas\n",
        "import numpy as np\n",
        "from joblib import dump, load\n",
        "from matplotlib import pyplot as plt\n",
        "from sklearn.model_selection import GridSearchCV\n",
        "import copy\n",
        "from sklearn.metrics import mean_squared_error\n",
        "import copy\n",
        "from sklearn.linear_model import Ridge\n",
        "\n",
        "dataframe = pandas.read_csv(\"dataset.csv\")\n",
        "dataframe['rounded_bmi'] = dataframe['bmi'].round()\n",
        "region_encoded = pandas.get_dummies(dataframe['region'], prefix='region')\n",
        "smoker_encoded = pandas.get_dummies(dataframe['smoker'], prefix='smoker')\n",
        "sex_encoded = pandas.get_dummies(dataframe['sex'], prefix='sex')\n",
        "new_dataframe=pandas.concat([dataframe, region_encoded], axis=1)\n",
        "new_dataframe = pandas.concat([new_dataframe, smoker_encoded], axis=1)\n",
        "new_dataframe = pandas.concat([new_dataframe, sex_encoded], axis=1)\n",
        "new_dataframe.drop(['region'], axis=1, inplace=True)\n",
        "new_dataframe.drop(['sex'], axis=1, inplace=True)\n",
        "new_dataframe.drop(['smoker'], axis=1, inplace=True)\n",
        "scaler = MinMaxScaler()\n",
        "num_feat = ['age', 'bmi', 'children']\n",
        "new_dataframe[num_feat] = scaler.fit_transform(new_dataframe[num_feat])\n",
        "\n",
        "data_cop = copy.deepcopy(new_dataframe)\n",
        "new_df = data_cop.drop([\"rounded_bmi\", \"charges\"], axis=1)\n",
        "new_df=new_df.drop([\"smoker_yes\", \"sex_male\",\"region_southwest\"], axis=1)\n",
        "plt.imshow( new_df.corr() , cmap = 'autumn' , interpolation = 'nearest' )\n",
        "plt.show()\n",
        "\n",
        "x = new_df.to_numpy()\n",
        "y = data_cop['charges'].to_numpy()\n",
        "x_train, x_test, y_train, y_test = train_test_split(x, y, test_size=0.1, random_state=42)\n",
        "\n",
        "alpha =  1\n",
        "Ridge_model = Ridge(alpha=alpha)\n",
        "Ridge_model.fit(x_train, y_train)\n",
        "y_pred_rid = Ridge_model.predict(x_test)\n",
        "df = pandas.DataFrame(y_pred_rid)\n",
        "y_pred_rid = df.values\n",
        "\n",
        "\n",
        "mse100 = mean_squared_error(y_test, y_pred_rid)\n",
        "print(y_test)\n",
        "print(y_pred_rid)\n",
        "print(\"Mean Squared Error with alpha=1: \", mse100)\n",
        "print(np.sqrt(mse100))\n",
        "\n",
        "arr = np.linspace(0.3, 20, num=500)\n",
        "param_grid = {'alpha': arr}\n",
        "grid_search = GridSearchCV(Ridge(), param_grid, cv=10)\n",
        "grid_search.fit(x_train, y_train)\n",
        "\n",
        "print(\"Best Parameters:\", grid_search.best_params_)\n",
        "\n",
        "\n",
        "dataframe = pandas.read_csv(\"assignment1-test-data.csv\")\n",
        "dataframe.drop(['ID'], axis=1, inplace=True)\n",
        "dataframe['rounded_bmi'] = dataframe['bmi'].round()\n",
        "region_encoded = pandas.get_dummies(dataframe['region'], prefix='region')\n",
        "smoker_encoded = pandas.get_dummies(dataframe['smoker'], prefix='smoker')\n",
        "sex_encoded = pandas.get_dummies(dataframe['sex'], prefix='sex')\n",
        "new_dataframe=pandas.concat([dataframe, region_encoded], axis=1)\n",
        "new_dataframe = pandas.concat([new_dataframe, smoker_encoded], axis=1)\n",
        "new_dataframe = pandas.concat([new_dataframe, sex_encoded], axis=1)\n",
        "new_dataframe.drop(['region'], axis=1, inplace=True)\n",
        "new_dataframe.drop(['sex'], axis=1, inplace=True)\n",
        "new_dataframe.drop(['smoker'], axis=1, inplace=True)\n",
        "scaler = MinMaxScaler()\n",
        "num_feat = ['age', 'bmi', 'children']\n",
        "new_dataframe[num_feat] = scaler.fit_transform(new_dataframe[num_feat])\n",
        "\n",
        "data_cop = copy.deepcopy(new_dataframe)\n",
        "new_df = data_cop.drop([\"rounded_bmi\"], axis=1)\n",
        "new_df=new_df.drop([\"smoker_yes\", \"sex_male\",\"region_southwest\"], axis=1)\n",
        "print(new_df)\n",
        "x_nn=new_df.to_numpy()\n",
        "y_pred_fin = Ridge_model.predict(x_nn)\n",
        "\n",
        "id_arr = np.arange(1, 101)\n",
        "df = pandas.DataFrame({'charges': y_pred_fin, 'ID': id_arr})\n",
        "df.to_csv('output89.csv', index=False)"
      ],
      "metadata": {
        "colab": {
          "base_uri": "https://localhost:8080/",
          "height": 1000
        },
        "id": "qpJnWI3G8zJb",
        "outputId": "ed5b8134-2db7-4be4-acbf-cd7c2afe88f0"
      },
      "id": "qpJnWI3G8zJb",
      "execution_count": 53,
      "outputs": [
        {
          "output_type": "display_data",
          "data": {
            "text/plain": [
              "<Figure size 432x288 with 1 Axes>"
            ],
            "image/png": "[encoded data removed]"
          },
          "metadata": {
            "needs_background": "light"
          }
        },
        {
          "output_type": "stream",
          "name": "stdout",
          "text": [
            "[ 9095.06825  5272.1758  29330.98315  9301.89355 33750.2918   4536.259\n",
            "  2117.33885 14210.53595  3732.6251  10264.4421  18259.216    7256.7231\n",
            "  3947.4131  46151.1245  48673.5588  44202.6536   9800.8882  42969.8527\n",
            "  8233.0975  21774.32215  5080.096    7441.501    1256.299    2755.02095\n",
            " 11085.5868  10923.9332  12644.589   18804.7524   9715.841    1131.5066\n",
            " 15828.82173 11842.62375  2020.5523   5693.4305   2904.088    7448.40395\n",
            "  2597.779    7337.748   23887.6627  38709.176    4687.797    2643.2685\n",
            " 11674.13    12124.9924   4889.9995  12333.828    3579.8287   4391.652\n",
            " 42124.5153   4463.2051  13887.204    1719.4363  28476.73499  1708.92575\n",
            " 10594.2257  25333.33284  3645.0894  38746.3551  11848.141   10564.8845\n",
            " 13880.949    4753.6368  27941.28758  8017.06115 23045.56616  4133.64165\n",
            " 17942.106   25992.82104  3594.17085  1682.597    6079.6715   9411.005\n",
            "  8283.6807   6338.0756   7152.6714   4889.0368   4846.92015 11454.0215\n",
            "  4349.462    9101.798    1391.5287  28101.33305  5152.134   38511.6283\n",
            " 44501.3982  41097.16175  4837.5823  10601.63225  8310.83915 11264.541\n",
            " 15230.32405 27037.9141  23401.30575  5031.26955 38282.7495   6875.961\n",
            " 19719.6947   1880.07    18765.87545  6402.29135  4527.18295  1743.214\n",
            "  5709.1644  12363.547   13129.60345  1727.54     7731.4271  21195.818\n",
            "  1702.4553  23244.7902  23082.95533  2927.0647  13019.16105 37701.8768\n",
            "  9778.3472   1980.07    30259.99556 22478.6      6313.759    2789.0574\n",
            "  5594.8455   7261.741   11396.9002   1986.9334   4719.73655  7749.1564\n",
            "  7345.7266   9288.0267  12244.531    1837.2819   3972.9247   5934.3798\n",
            "  5836.5204   7935.29115]\n",
            "[[ 9.22458138e+03]\n",
            " [ 7.27296079e+03]\n",
            " [ 3.72883600e+04]\n",
            " [ 9.55620817e+03]\n",
            " [ 2.70514785e+04]\n",
            " [ 1.04773628e+04]\n",
            " [ 5.17083566e+02]\n",
            " [ 1.67266791e+04]\n",
            " [ 1.46845075e+03]\n",
            " [ 1.12625516e+04]\n",
            " [ 2.82627801e+04]\n",
            " [ 9.36668698e+03]\n",
            " [ 5.28131716e+03]\n",
            " [ 3.81347054e+04]\n",
            " [ 3.99643703e+04]\n",
            " [ 3.68703859e+04]\n",
            " [ 1.50209242e+04]\n",
            " [ 3.59512386e+04]\n",
            " [ 9.16767844e+03]\n",
            " [ 3.18840415e+04]\n",
            " [ 3.89289562e+03]\n",
            " [ 9.96568548e+03]\n",
            " [ 2.21167512e+03]\n",
            " [ 7.06721785e+03]\n",
            " [ 1.15926152e+04]\n",
            " [ 1.30419718e+04]\n",
            " [ 1.45075803e+04]\n",
            " [ 6.39692710e+03]\n",
            " [ 1.01913580e+04]\n",
            " [ 1.93157411e+03]\n",
            " [ 9.27996457e+03]\n",
            " [ 1.32499135e+04]\n",
            " [ 4.45775372e+03]\n",
            " [ 3.85372200e+03]\n",
            " [ 4.32606450e+03]\n",
            " [ 1.27326864e+04]\n",
            " [ 2.15077309e+03]\n",
            " [ 8.92281113e+03]\n",
            " [ 3.37660068e+04]\n",
            " [ 3.24131922e+04]\n",
            " [ 4.09342126e+03]\n",
            " [ 4.27832518e+03]\n",
            " [ 1.41401099e+04]\n",
            " [ 1.14917745e+04]\n",
            " [ 8.45126657e+03]\n",
            " [ 1.20254429e+04]\n",
            " [ 5.43770050e+03]\n",
            " [ 3.39364333e+03]\n",
            " [ 3.53386121e+04]\n",
            " [ 8.77410656e+03]\n",
            " [ 1.57200566e+04]\n",
            " [ 2.12714190e+03]\n",
            " [ 1.23588412e+04]\n",
            " [ 1.44431243e+03]\n",
            " [ 1.30718148e+04]\n",
            " [ 1.24578977e+04]\n",
            " [ 4.32152395e+03]\n",
            " [ 3.22428135e+04]\n",
            " [ 1.33583856e+04]\n",
            " [ 1.29654551e+04]\n",
            " [ 1.42327046e+04]\n",
            " [ 1.02708922e+04]\n",
            " [ 1.61481789e+04]\n",
            " [ 8.09940262e+03]\n",
            " [ 1.19546406e+04]\n",
            " [ 4.35806060e+03]\n",
            " [ 2.67989165e+04]\n",
            " [ 1.08144607e+04]\n",
            " [ 2.50102399e+03]\n",
            " [ 5.87068526e+03]\n",
            " [ 1.04970757e+04]\n",
            " [ 1.17423280e+04]\n",
            " [ 1.09176000e+04]\n",
            " [ 8.91353896e+03]\n",
            " [ 1.15750955e+04]\n",
            " [ 6.74759938e+03]\n",
            " [ 7.12942484e+03]\n",
            " [ 1.10335533e+04]\n",
            " [ 6.54563670e+03]\n",
            " [ 8.98476176e+03]\n",
            " [ 3.45829498e+03]\n",
            " [ 3.67526947e+04]\n",
            " [ 6.50010215e+03]\n",
            " [ 3.10139064e+04]\n",
            " [ 3.43240984e+04]\n",
            " [ 3.52919994e+04]\n",
            " [ 6.79297025e+03]\n",
            " [ 1.27830559e+04]\n",
            " [ 1.01650696e+04]\n",
            " [ 1.42480154e+04]\n",
            " [ 1.76983612e+04]\n",
            " [ 3.55590392e+04]\n",
            " [ 3.34050318e+04]\n",
            " [ 6.15176005e+03]\n",
            " [ 3.18156336e+04]\n",
            " [ 9.32408893e+03]\n",
            " [ 2.93946478e+04]\n",
            " [ 3.60714985e+03]\n",
            " [ 2.88333454e+04]\n",
            " [ 6.10860081e+03]\n",
            " [ 5.65636229e+03]\n",
            " [ 1.98934883e+03]\n",
            " [ 1.10611481e+04]\n",
            " [ 1.48614364e+04]\n",
            " [ 1.17266933e+04]\n",
            " [ 3.97670276e+03]\n",
            " [ 9.67682085e+03]\n",
            " [ 3.18116086e+04]\n",
            " [-3.24810207e+01]\n",
            " [ 3.31331577e+04]\n",
            " [ 3.06824704e+03]\n",
            " [ 9.62992037e+03]\n",
            " [ 1.44207993e+04]\n",
            " [ 3.18979584e+04]\n",
            " [ 1.15923058e+04]\n",
            " [ 3.73372008e+03]\n",
            " [ 1.30365542e+04]\n",
            " [ 3.21516806e+04]\n",
            " [ 8.16382571e+03]\n",
            " [ 3.26985072e+03]\n",
            " [ 8.51568300e+03]\n",
            " [ 1.05119554e+04]\n",
            " [ 1.52152921e+04]\n",
            " [ 5.29032860e+03]\n",
            " [ 4.13485990e+03]\n",
            " [ 1.04038387e+04]\n",
            " [ 1.08035518e+04]\n",
            " [ 1.10373724e+04]\n",
            " [ 1.43416889e+04]\n",
            " [ 6.95233571e+03]\n",
            " [ 5.40412900e+03]\n",
            " [ 8.95214712e+03]\n",
            " [ 9.25440795e+03]\n",
            " [ 1.25040151e+04]]\n",
            "Mean Squared Error with alpha=1:  32318230.375550065\n",
            "5684.912521363021\n",
            "Best Parameters: {'alpha': 1.1290581162324649}\n",
            "         age       bmi  children  region_northeast  region_northwest  \\\n",
            "0   0.434783  0.445223       0.2                 0                 0   \n",
            "1   0.369565  0.955602       0.4                 0                 0   \n",
            "2   1.000000  0.768468       0.0                 0                 0   \n",
            "3   0.739130  0.378029       0.0                 0                 0   \n",
            "4   0.173913  0.000000       0.0                 0                 1   \n",
            "..       ...       ...       ...               ...               ...   \n",
            "95  0.782609  0.386085       0.2                 0                 1   \n",
            "96  0.456522  0.384915       0.8                 0                 0   \n",
            "97  0.782609  0.169538       0.6                 0                 0   \n",
            "98  0.021739  0.298887       0.0                 0                 0   \n",
            "99  0.217391  0.164323       0.2                 1                 0   \n",
            "\n",
            "    region_southeast  smoker_no  sex_female  \n",
            "0                  1          1           1  \n",
            "1                  1          1           1  \n",
            "2                  1          1           0  \n",
            "3                  0          1           1  \n",
            "4                  0          1           0  \n",
            "..               ...        ...         ...  \n",
            "95                 0          1           1  \n",
            "96                 0          1           0  \n",
            "97                 0          1           1  \n",
            "98                 0          0           0  \n",
            "99                 0          1           1  \n",
            "\n",
            "[100 rows x 8 columns]\n"
          ]
        }
      ]
    },
    {
      "cell_type": "code",
      "source": [
        "# best so far\n",
        "# you can use the following libraries\n",
        "import pandas\n",
        "import numpy as np\n",
        "from joblib import dump, load\n",
        "from matplotlib import pyplot as plt\n",
        "from sklearn.preprocessing import LabelEncoder\n",
        "from sklearn.model_selection import train_test_split\n",
        "from sklearn.preprocessing import  MinMaxScaler\n",
        "from sklearn.metrics import mean_squared_error\n",
        "from sklearn.ensemble import GradientBoostingRegressor\n",
        "import copy\n",
        "from sklearn.metrics import mean_squared_error\n",
        "\n",
        "#after trying diffrent regularization methods i found that the best one is gradient boosting regressor\n",
        "#I also tried lasso and ridge but based on dataset it gives more accurate results\n",
        "\n",
        "dataframe = pandas.read_csv(\"dataset.csv\")\n",
        "encoder = LabelEncoder()\n",
        "dataframe['region'] = encoder.fit_transform(dataframe['region'])\n",
        "dataframe['rounded_bmi'] = dataframe['bmi'].round()\n",
        "smoker_encoded = pandas.get_dummies(dataframe['smoker'], prefix='smoker')\n",
        "sex_encoded = pandas.get_dummies(dataframe['sex'], prefix='sex')\n",
        "new_dataframe = pandas.concat([dataframe, smoker_encoded], axis=1)\n",
        "new_dataframe = pandas.concat([new_dataframe, sex_encoded], axis=1)\n",
        "new_dataframe.drop(['sex'], axis=1, inplace=True)\n",
        "new_dataframe.drop(['smoker'], axis=1, inplace=True)\n",
        "scaler = MinMaxScaler()\n",
        "numerical_feat = ['age', 'bmi', 'children']\n",
        "new_dataframe[numerical_feat] = scaler.fit_transform(new_dataframe[numerical_feat])\n",
        "data_cop = copy.deepcopy(new_dataframe)\n",
        "new_df = data_cop.drop([\"rounded_bmi\", \"charges\"], axis=1)\n",
        "new_df=new_df.drop([\"smoker_yes\", \"sex_male\"], axis=1)\n",
        "print(\"correlation: \")\n",
        "print(new_df.corr())\n",
        "plt.imshow( new_df.corr() , cmap = 'autumn' , interpolation = 'nearest' )\n",
        "plt.show()\n",
        "x = new_df.to_numpy()\n",
        "y = data_cop['charges'].to_numpy()\n",
        "x_train, x_test, y_train, y_test = train_test_split(x, y, test_size=0.1, random_state=42)\n",
        "grad_reg = GradientBoostingRegressor(max_depth=2, n_estimators=100, learning_rate =.1)\n",
        "grad_reg.fit(x_train, y_train)\n",
        "y_pred = grad_reg.predict(x_test)\n",
        "mse100 = mean_squared_error(y_test, y_pred)\n",
        "print(y_test)\n",
        "print(y_pred)\n",
        "print(\"Mean Squared Error with learning_rate=.1: \", mse100)\n",
        "print(np.sqrt(mse100))\n",
        "\n",
        "# after getting diffrent parameters for learning rate and max depth\n",
        "# best parameters are learning_rate=.1 and max_depth=2 and n_estimators=100\n",
        "# if I used others parameters I got worse results\n",
        "# like overfitting\n",
        "\n",
        "dataframe = pandas.read_csv(\"assignment1-test-data.csv\")\n",
        "dataframe.drop(['ID'], axis=1, inplace=True)\n",
        "dataframe['rounded_bmi'] = dataframe['bmi'].round()\n",
        "encoder = LabelEncoder()\n",
        "dataframe['region'] = encoder.fit_transform(dataframe['region'])\n",
        "smoker_encoded = pandas.get_dummies(dataframe['smoker'], prefix='smoker')\n",
        "sex_encoded = pandas.get_dummies(dataframe['sex'], prefix='sex')\n",
        "new_dataframe = pandas.concat([dataframe, smoker_encoded], axis=1)\n",
        "new_dataframe = pandas.concat([new_dataframe, sex_encoded], axis=1)\n",
        "new_dataframe.drop(['sex'], axis=1, inplace=True)\n",
        "new_dataframe.drop(['smoker'], axis=1, inplace=True)\n",
        "scaler = MinMaxScaler()\n",
        "numerical_feat = ['age', 'bmi', 'children']\n",
        "new_dataframe[numerical_feat] = scaler.fit_transform(new_dataframe[numerical_feat])\n",
        "import copy\n",
        "data_cop = copy.deepcopy(new_dataframe)\n",
        "new_df = data_cop.drop([\"rounded_bmi\"], axis=1)\n",
        "new_df=new_df.drop([\"smoker_yes\", \"sex_male\"], axis=1)\n",
        "print(new_df)\n",
        "x_nn=new_df.to_numpy()\n",
        "y_pred_gbr = grad_reg.predict(x_nn)\n",
        "\n",
        "id_arr = np.arange(1, 101)\n",
        "df = pandas.DataFrame({'charges': y_pred_gbr, 'ID': id_arr})\n",
        "df.to_csv('outputnew.csv', index=False)\n"
      ],
      "metadata": {
        "colab": {
          "base_uri": "https://localhost:8080/",
          "height": 1000
        },
        "id": "7uOG8FZpaSRl",
        "outputId": "d3cc482c-8328-4cb9-da3d-2873dc116cb9"
      },
      "id": "7uOG8FZpaSRl",
      "execution_count": null,
      "outputs": [
        {
          "output_type": "stream",
          "name": "stdout",
          "text": [
            "correlation: \n",
            "                 age       bmi  children    region  smoker_no  sex_female\n",
            "age         1.000000  0.109272  0.042469  0.002127   0.025019    0.020856\n",
            "bmi         0.109272  1.000000  0.012759  0.157566  -0.003750   -0.046371\n",
            "children    0.042469  0.012759  1.000000  0.016569  -0.007673   -0.017163\n",
            "region      0.002127  0.157566  0.016569  1.000000   0.002181   -0.004588\n",
            "smoker_no   0.025019 -0.003750 -0.007673  0.002181   1.000000    0.076185\n",
            "sex_female  0.020856 -0.046371 -0.017163 -0.004588   0.076185    1.000000\n"
          ]
        },
        {
          "output_type": "display_data",
          "data": {
            "text/plain": [
              "<Figure size 432x288 with 1 Axes>"
            ],
            "image/png": "[encoded data removed]"
          },
          "metadata": {
            "needs_background": "light"
          }
        },
        {
          "output_type": "stream",
          "name": "stdout",
          "text": [
            "[ 9095.06825  5272.1758  29330.98315  9301.89355 33750.2918   4536.259\n",
            "  2117.33885 14210.53595  3732.6251  10264.4421  18259.216    7256.7231\n",
            "  3947.4131  46151.1245  48673.5588  44202.6536   9800.8882  42969.8527\n",
            "  8233.0975  21774.32215  5080.096    7441.501    1256.299    2755.02095\n",
            " 11085.5868  10923.9332  12644.589   18804.7524   9715.841    1131.5066\n",
            " 15828.82173 11842.62375  2020.5523   5693.4305   2904.088    7448.40395\n",
            "  2597.779    7337.748   23887.6627  38709.176    4687.797    2643.2685\n",
            " 11674.13    12124.9924   4889.9995  12333.828    3579.8287   4391.652\n",
            " 42124.5153   4463.2051  13887.204    1719.4363  28476.73499  1708.92575\n",
            " 10594.2257  25333.33284  3645.0894  38746.3551  11848.141   10564.8845\n",
            " 13880.949    4753.6368  27941.28758  8017.06115 23045.56616  4133.64165\n",
            " 17942.106   25992.82104  3594.17085  1682.597    6079.6715   9411.005\n",
            "  8283.6807   6338.0756   7152.6714   4889.0368   4846.92015 11454.0215\n",
            "  4349.462    9101.798    1391.5287  28101.33305  5152.134   38511.6283\n",
            " 44501.3982  41097.16175  4837.5823  10601.63225  8310.83915 11264.541\n",
            " 15230.32405 27037.9141  23401.30575  5031.26955 38282.7495   6875.961\n",
            " 19719.6947   1880.07    18765.87545  6402.29135  4527.18295  1743.214\n",
            "  5709.1644  12363.547   13129.60345  1727.54     7731.4271  21195.818\n",
            "  1702.4553  23244.7902  23082.95533  2927.0647  13019.16105 37701.8768\n",
            "  9778.3472   1980.07    30259.99556 22478.6      6313.759    2789.0574\n",
            "  5594.8455   7261.741   11396.9002   1986.9334   4719.73655  7749.1564\n",
            "  7345.7266   9288.0267  12244.531    1837.2819   3972.9247   5934.3798\n",
            "  5836.5204   7935.29115]\n",
            "[10764.20842696  6361.99021756 27820.25446298 10162.01534949\n",
            " 34951.26983168  6141.09811986  2789.82976604 15326.73192789\n",
            "  4008.02240689 11361.90216793 19987.74292562  8143.12681914\n",
            "  5896.17339438 43915.54099493 47168.60242432 43820.50881891\n",
            " 11088.14489532 43593.76376359  9588.25934029 23628.69609526\n",
            "  6123.50111395  9376.11198501  2295.7928912   3823.99019173\n",
            " 11616.41764056 12825.12624019 14635.11202814  7304.44267393\n",
            " 11510.38168814  2765.652809    7815.29147561 12769.74861633\n",
            "  3321.23284028  5863.77741275  4825.70632444  9572.78101857\n",
            "  3806.50547046  9330.74656143 26730.8500571  39028.52512702\n",
            "  5473.81899925  4179.23634987 13340.26817276 13544.28162732\n",
            "  7472.14638935 14986.38275853  6252.30788846  6099.41057889\n",
            " 42780.96670222  6958.00447901 14740.42858683  3548.06563102\n",
            "  7691.32263623  2783.93598156 12551.00998815 11866.54928785\n",
            "  4877.52827229 39169.29593747 12383.15091918 12825.12624019\n",
            " 14509.85447551  6297.62288767 15786.13674739  8171.40610497\n",
            " 12674.44427154  6091.03810041 19716.18553244 12961.01246716\n",
            "  5576.27757478  2113.03308013  8218.43333085 11078.00632261\n",
            " 10494.08567806  7438.81995308 10391.44522859  6199.70101316\n",
            "  7123.5546813  12406.71950873  6408.40142954  9673.39210234\n",
            "  2815.62337825 27565.73899035  5938.54151173 40552.60248045\n",
            " 37223.3739364  41497.00661684  6153.88595691 12515.23314369\n",
            " 10730.32871777 13338.14822013 17716.20137028 27525.91481006\n",
            " 24896.52872679  7011.77562086 39857.24112362  6968.96003528\n",
            " 21565.84629214  3238.8407826  21129.98920934  8159.93074869\n",
            "  6192.48885711  2627.7411103   6229.59877605 13435.60416559\n",
            " 13749.1118691   4015.28351407  9845.97190282 23765.76975578\n",
            "  1901.13621571 26265.63587417  2345.76346045  5007.19384032\n",
            " 13482.27375816 38729.20124406 11394.94012893  3463.03153859\n",
            " 14004.38095714 23795.85408807  7693.33542571  5469.14434775\n",
            "  7692.22638892  8193.09738839 15431.25586539  4646.45559024\n",
            "  6872.54035583  8397.64229177 10129.1835544  11085.04703243\n",
            " 14494.24356934  4339.29041479  4778.90531624  7143.56931419\n",
            "  7676.69129273 10697.63004055]\n",
            "Mean Squared Error with learning_rate=.1:  17472055.955422875\n",
            "4179.958846139861\n",
            "         age       bmi  children  region  smoker_no  sex_female\n",
            "0   0.434783  0.445223       0.2       2          1           1\n",
            "1   0.369565  0.955602       0.4       2          1           1\n",
            "2   1.000000  0.768468       0.0       2          1           0\n",
            "3   0.739130  0.378029       0.0       3          1           1\n",
            "4   0.173913  0.000000       0.0       1          1           0\n",
            "..       ...       ...       ...     ...        ...         ...\n",
            "95  0.782609  0.386085       0.2       1          1           1\n",
            "96  0.456522  0.384915       0.8       3          1           0\n",
            "97  0.782609  0.169538       0.6       3          1           1\n",
            "98  0.021739  0.298887       0.0       3          0           0\n",
            "99  0.217391  0.164323       0.2       0          1           1\n",
            "\n",
            "[100 rows x 6 columns]\n"
          ]
        }
      ]
    },
    {
      "cell_type": "code",
      "source": [
        "# same as above\n",
        "# second soloution using RandomForestRegressor and label encoder for ordering region\n",
        "from sklearn.preprocessing import LabelEncoder\n",
        "import numpy as np\n",
        "from sklearn.model_selection import train_test_split\n",
        "from sklearn.preprocessing import MinMaxScaler\n",
        "from sklearn.ensemble import RandomForestRegressor\n",
        "from sklearn.metrics import mean_squared_error\n",
        "# you can use the following libraries\n",
        "import pandas\n",
        "import numpy as np\n",
        "from joblib import dump, load\n",
        "from matplotlib import pyplot as plt\n",
        "import copy\n",
        "from sklearn.metrics import mean_squared_error\n",
        "dataframe = pandas.read_csv(\"dataset.csv\")\n",
        "\n",
        "encoder = LabelEncoder()\n",
        "dataframe['region'] = encoder.fit_transform(dataframe['region'])\n",
        "dataframe['rounded_bmi'] = dataframe['bmi'].round()\n",
        "smoker_encoded = pandas.get_dummies(dataframe['smoker'], prefix='smoker')\n",
        "sex_encoded = pandas.get_dummies(dataframe['sex'], prefix='sex')\n",
        "new_dataframe = pandas.concat([dataframe, smoker_encoded], axis=1)\n",
        "new_dataframe = pandas.concat([new_dataframe, sex_encoded], axis=1)\n",
        "new_dataframe.drop(['sex'], axis=1, inplace=True)\n",
        "new_dataframe.drop(['smoker'], axis=1, inplace=True)\n",
        "scaler = MinMaxScaler()\n",
        "num_feat = ['age', 'bmi', 'children']\n",
        "new_dataframe[num_feat] = scaler.fit_transform(new_dataframe[num_feat])\n",
        "\n",
        "data_cop = copy.deepcopy(new_dataframe)\n",
        "new_df = data_cop.drop([\"rounded_bmi\", \"charges\"], axis=1)\n",
        "new_df=new_df.drop([\"smoker_yes\", \"sex_male\"], axis=1)\n",
        "plt.imshow( new_df.corr() , cmap = 'autumn' , interpolation = 'nearest' )\n",
        "plt.show()\n",
        "\n",
        "x = new_df.to_numpy()\n",
        "y = data_cop['charges'].to_numpy()\n",
        "x_train, x_test, y_train, y_test = train_test_split(x, y, test_size=0.1, random_state=42)\n",
        "\n",
        "random_forest = RandomForestRegressor(n_estimators=100,max_depth=7, random_state=33)\n",
        "random_forest.fit(x_train, y_train)\n",
        "y_pred = random_forest.predict(x_test)\n",
        "\n",
        "\n",
        "\n",
        "mse100 = mean_squared_error(y_test, y_pred)\n",
        "print(y_test)\n",
        "print(y_pred)\n",
        "print(\"Mean Squared Error  \", mse100)\n",
        "print(np.sqrt(mse100))\n",
        "\n",
        "dataframe = pandas.read_csv(\"assignment1-test-data.csv\")\n",
        "dataframe.drop(['ID'], axis=1, inplace=True)\n",
        "dataframe['rounded_bmi'] = dataframe['bmi'].round()\n",
        "encoder = LabelEncoder()\n",
        "dataframe['region'] = encoder.fit_transform(dataframe['region'])\n",
        "smoker_encoded = pandas.get_dummies(dataframe['smoker'], prefix='smoker')\n",
        "sex_encoded = pandas.get_dummies(dataframe['sex'], prefix='sex')\n",
        "new_dataframe = pandas.concat([dataframe, smoker_encoded], axis=1)\n",
        "new_dataframe = pandas.concat([new_dataframe, sex_encoded], axis=1)\n",
        "new_dataframe.drop(['sex'], axis=1, inplace=True)\n",
        "new_dataframe.drop(['smoker'], axis=1, inplace=True)\n",
        "scaler = MinMaxScaler()\n",
        "num_feat = ['age', 'bmi', 'children']\n",
        "new_dataframe[num_feat] = scaler.fit_transform(new_dataframe[num_feat])\n",
        "\n",
        "data_cop = copy.deepcopy(new_dataframe)\n",
        "new_df = data_cop.drop([\"rounded_bmi\"], axis=1)\n",
        "new_df=new_df.drop([\"smoker_yes\", \"sex_male\"], axis=1)\n",
        "print(new_df)\n",
        "x_nn=new_df.to_numpy()\n",
        "y_pred_fin = random_forest.predict(x_nn)\n",
        "\n",
        "id_arr = np.arange(1, 101)\n",
        "df = pandas.DataFrame({'charges': y_pred_fin, 'ID': id_arr})\n",
        "df.to_csv('output1.csv', index=False)\n"
      ],
      "metadata": {
        "colab": {
          "base_uri": "https://localhost:8080/",
          "height": 1000
        },
        "id": "e6jbnc2yF2b1",
        "outputId": "ef3ea8a1-c9c1-4d94-d085-1eb75db04a45"
      },
      "id": "e6jbnc2yF2b1",
      "execution_count": 54,
      "outputs": [
        {
          "output_type": "display_data",
          "data": {
            "text/plain": [
              "<Figure size 432x288 with 1 Axes>"
            ],
            "image/png": "[encoded data removed]"
          },
          "metadata": {
            "needs_background": "light"
          }
        },
        {
          "output_type": "stream",
          "name": "stdout",
          "text": [
            "[ 9095.06825  5272.1758  29330.98315  9301.89355 33750.2918   4536.259\n",
            "  2117.33885 14210.53595  3732.6251  10264.4421  18259.216    7256.7231\n",
            "  3947.4131  46151.1245  48673.5588  44202.6536   9800.8882  42969.8527\n",
            "  8233.0975  21774.32215  5080.096    7441.501    1256.299    2755.02095\n",
            " 11085.5868  10923.9332  12644.589   18804.7524   9715.841    1131.5066\n",
            " 15828.82173 11842.62375  2020.5523   5693.4305   2904.088    7448.40395\n",
            "  2597.779    7337.748   23887.6627  38709.176    4687.797    2643.2685\n",
            " 11674.13    12124.9924   4889.9995  12333.828    3579.8287   4391.652\n",
            " 42124.5153   4463.2051  13887.204    1719.4363  28476.73499  1708.92575\n",
            " 10594.2257  25333.33284  3645.0894  38746.3551  11848.141   10564.8845\n",
            " 13880.949    4753.6368  27941.28758  8017.06115 23045.56616  4133.64165\n",
            " 17942.106   25992.82104  3594.17085  1682.597    6079.6715   9411.005\n",
            "  8283.6807   6338.0756   7152.6714   4889.0368   4846.92015 11454.0215\n",
            "  4349.462    9101.798    1391.5287  28101.33305  5152.134   38511.6283\n",
            " 44501.3982  41097.16175  4837.5823  10601.63225  8310.83915 11264.541\n",
            " 15230.32405 27037.9141  23401.30575  5031.26955 38282.7495   6875.961\n",
            " 19719.6947   1880.07    18765.87545  6402.29135  4527.18295  1743.214\n",
            "  5709.1644  12363.547   13129.60345  1727.54     7731.4271  21195.818\n",
            "  1702.4553  23244.7902  23082.95533  2927.0647  13019.16105 37701.8768\n",
            "  9778.3472   1980.07    30259.99556 22478.6      6313.759    2789.0574\n",
            "  5594.8455   7261.741   11396.9002   1986.9334   4719.73655  7749.1564\n",
            "  7345.7266   9288.0267  12244.531    1837.2819   3972.9247   5934.3798\n",
            "  5836.5204   7935.29115]\n",
            "[11241.95464815  5518.03964883 28151.0025282   9905.28191945\n",
            " 34646.19357805  6517.91450763  2179.76149184 13956.4079473\n",
            "  6482.58604209 11154.01388233 19396.71830663  7136.4985997\n",
            "  5427.12234303 44956.97082456 47764.77051507 44059.55277542\n",
            "  9734.68857275 43171.48964216  9524.46048851 26261.70794467\n",
            "  5208.88591705  9293.55056985  2055.60799317  3241.25726981\n",
            " 11951.01391245 12260.43808036 13406.37541867  6487.18479927\n",
            " 11284.98001358  2768.60852839  7360.07954043 12259.71052668\n",
            "  3037.60459848  6754.08904956  4424.3205037  10793.29044725\n",
            "  2748.84950515  8498.91075698 23666.70423538 39880.52399962\n",
            "  7097.23284645  4193.72767    13383.26372847 14332.04072055\n",
            "  6265.92687888 14863.51154978 12829.24647122  5083.72418447\n",
            " 41705.79667374  5713.90171795 13845.44297686  2894.22838692\n",
            "  6821.6675019   2087.47069649 12425.09438031 11567.47393742\n",
            "  4147.11781226 40240.80018046 12218.47875071 12853.97707534\n",
            " 13693.10621891  5902.98783574 19355.0313668   7349.46390299\n",
            " 11900.98510865  5850.26318965 17798.90824669 13427.80117807\n",
            "  6057.23934696  2564.31539617  7400.95681342 10734.01543108\n",
            "  9749.79813511  8081.52492094  8240.01290498  5431.0329558\n",
            "  8332.72305236 12540.94984476  5933.35506164 10069.72070573\n",
            "  2047.36209636 28072.66634175  5892.19827973 38175.24164693\n",
            " 40499.68054231 41647.09620818  5912.15533464 12306.96805701\n",
            "  9290.43120859 15547.78976017 18711.8097977  26695.33911534\n",
            " 29421.35687801  7084.86784096 44134.29523042  7231.80432269\n",
            " 20392.64361204  2430.77457878 17841.9318784   8461.48455543\n",
            "  5779.74911728  2243.36167443  6575.67105955 15011.05322843\n",
            " 14192.57593447  4638.62290341  8556.67634049 24367.3725177\n",
            "  2073.23294497 24381.48033688  1788.80483432  5056.66051142\n",
            " 13242.88767367 39602.27043209 11208.85602677  4325.46723244\n",
            " 13117.89664223 26853.32728051  7088.13591828  5439.65150833\n",
            "  7468.24938693  7379.88761596 17054.63221231  3567.94588709\n",
            "  7026.24734361  7251.76712107 10470.47645723 12138.50245974\n",
            " 14167.87546605  5785.73712802  4369.59751917  6457.48814424\n",
            "  6139.38143773 11527.36417189]\n",
            "Mean Squared Error   18869362.908240113\n",
            "4343.887994440017\n",
            "         age       bmi  children  region  smoker_no  sex_female\n",
            "0   0.434783  0.445223       0.2       2          1           1\n",
            "1   0.369565  0.955602       0.4       2          1           1\n",
            "2   1.000000  0.768468       0.0       2          1           0\n",
            "3   0.739130  0.378029       0.0       3          1           1\n",
            "4   0.173913  0.000000       0.0       1          1           0\n",
            "..       ...       ...       ...     ...        ...         ...\n",
            "95  0.782609  0.386085       0.2       1          1           1\n",
            "96  0.456522  0.384915       0.8       3          1           0\n",
            "97  0.782609  0.169538       0.6       3          1           1\n",
            "98  0.021739  0.298887       0.0       3          0           0\n",
            "99  0.217391  0.164323       0.2       0          1           1\n",
            "\n",
            "[100 rows x 6 columns]\n"
          ]
        }
      ]
    },
    {
      "cell_type": "code",
      "source": [
        "# used GradientBoostingRegressor with onr hot encoding\n",
        "# deleted one region for better results\n",
        "\n",
        "import numpy as np\n",
        "from sklearn.model_selection import train_test_split\n",
        "from sklearn.preprocessing import MinMaxScaler\n",
        "import pandas\n",
        "import numpy as np\n",
        "from joblib import dump, load\n",
        "from matplotlib import pyplot as plt\n",
        "from sklearn.ensemble import GradientBoostingRegressor\n",
        "import copy\n",
        "\n",
        "dataframe = pandas.read_csv(\"dataset.csv\")\n",
        "dataframe['rounded_bmi'] = dataframe['bmi'].round()\n",
        "region_encoded = pandas.get_dummies(dataframe['region'], prefix='region')\n",
        "smoker_encoded = pandas.get_dummies(dataframe['smoker'], prefix='smoker')\n",
        "sex_encoded = pandas.get_dummies(dataframe['sex'], prefix='sex')\n",
        "new_dataframe=pandas.concat([dataframe, region_encoded], axis=1)\n",
        "new_dataframe = pandas.concat([new_dataframe, smoker_encoded], axis=1)\n",
        "new_dataframe = pandas.concat([new_dataframe, sex_encoded], axis=1)\n",
        "new_dataframe.drop(['region'], axis=1, inplace=True)\n",
        "new_dataframe.drop(['sex'], axis=1, inplace=True)\n",
        "new_dataframe.drop(['smoker'], axis=1, inplace=True)\n",
        "scaler = MinMaxScaler()\n",
        "num_feat = ['age', 'bmi', 'children']\n",
        "new_dataframe[num_feat] = scaler.fit_transform(new_dataframe[num_feat])\n",
        "import copy\n",
        "cop_dat = copy.deepcopy(new_dataframe)\n",
        "new_df = cop_dat.drop([\"rounded_bmi\", \"charges\"], axis=1)\n",
        "new_df=new_df.drop([\"smoker_yes\", \"sex_male\",\"region_southwest\"], axis=1)\n",
        "plt.imshow( new_df.corr() , cmap = 'autumn' , interpolation = 'nearest' )\n",
        "plt.show()\n",
        "\n",
        "x = new_df.to_numpy()\n",
        "y = cop_dat['charges'].to_numpy()\n",
        "x_train, x_test, y_train, y_test = train_test_split(x, y, test_size=0.1, random_state=42)\n",
        "\n",
        "gbr = GradientBoostingRegressor(max_depth=2, n_estimators=100, learning_rate =.1)\n",
        "gbr.fit(x_train, y_train)\n",
        "\n",
        "\n",
        "\n",
        "gbr.fit(x_train, y_train)\n",
        "y_pred_rid = gbr.predict(x_test)\n",
        "df = pandas.DataFrame(y_pred_rid)\n",
        "y_pred_rid = df.values\n",
        "from sklearn.metrics import mean_squared_error\n",
        "\n",
        "mse100 = mean_squared_error(y_test, y_pred_rid)\n",
        "print(y_test)\n",
        "print(y_pred_rid)\n",
        "print(\"Mean Squared Error : \", mse100)\n",
        "print(np.sqrt(mse100))\n",
        "\n",
        "\n",
        "dataframe = pandas.read_csv(\"assignment1-test-data.csv\")\n",
        "dataframe.drop(['ID'], axis=1, inplace=True)\n",
        "dataframe['rounded_bmi'] = dataframe['bmi'].round()\n",
        "region_encoded = pandas.get_dummies(dataframe['region'], prefix='region')\n",
        "smoker_encoded = pandas.get_dummies(dataframe['smoker'], prefix='smoker')\n",
        "sex_encoded = pandas.get_dummies(dataframe['sex'], prefix='sex')\n",
        "new_dataframe=pandas.concat([dataframe, region_encoded], axis=1)\n",
        "new_dataframe = pandas.concat([new_dataframe, smoker_encoded], axis=1)\n",
        "new_dataframe = pandas.concat([new_dataframe, sex_encoded], axis=1)\n",
        "new_dataframe.drop(['region'], axis=1, inplace=True)\n",
        "new_dataframe.drop(['sex'], axis=1, inplace=True)\n",
        "new_dataframe.drop(['smoker'], axis=1, inplace=True)\n",
        "scaler = MinMaxScaler()\n",
        "num_feat = ['age', 'bmi', 'children']\n",
        "new_dataframe[num_feat] = scaler.fit_transform(new_dataframe[num_feat])\n",
        "\n",
        "cop_dat = copy.deepcopy(new_dataframe)\n",
        "new_df = cop_dat.drop([\"rounded_bmi\"], axis=1)\n",
        "new_df=new_df.drop([\"smoker_yes\", \"sex_male\",\"region_southwest\"], axis=1)\n",
        "print(new_df)\n",
        "x_nn=new_df.to_numpy()\n",
        "y_pred_finn = gbr.predict(x_nn)\n",
        "\n",
        "id_arr = np.arange(1, 101)\n",
        "df = pandas.DataFrame({'charges': y_pred_finn, 'ID': id_arr})\n",
        "df.to_csv('output3.csv', index=False)"
      ],
      "metadata": {
        "colab": {
          "base_uri": "https://localhost:8080/",
          "height": 1000
        },
        "id": "qH1eyevaV-Dj",
        "outputId": "68314522-064f-44ad-debe-95777e514fc9"
      },
      "id": "qH1eyevaV-Dj",
      "execution_count": null,
      "outputs": [
        {
          "output_type": "display_data",
          "data": {
            "text/plain": [
              "<Figure size 432x288 with 1 Axes>"
            ],
            "image/png": "[encoded data removed]"
          },
          "metadata": {
            "needs_background": "light"
          }
        },
        {
          "output_type": "stream",
          "name": "stdout",
          "text": [
            "[ 9095.06825  5272.1758  29330.98315  9301.89355 33750.2918   4536.259\n",
            "  2117.33885 14210.53595  3732.6251  10264.4421  18259.216    7256.7231\n",
            "  3947.4131  46151.1245  48673.5588  44202.6536   9800.8882  42969.8527\n",
            "  8233.0975  21774.32215  5080.096    7441.501    1256.299    2755.02095\n",
            " 11085.5868  10923.9332  12644.589   18804.7524   9715.841    1131.5066\n",
            " 15828.82173 11842.62375  2020.5523   5693.4305   2904.088    7448.40395\n",
            "  2597.779    7337.748   23887.6627  38709.176    4687.797    2643.2685\n",
            " 11674.13    12124.9924   4889.9995  12333.828    3579.8287   4391.652\n",
            " 42124.5153   4463.2051  13887.204    1719.4363  28476.73499  1708.92575\n",
            " 10594.2257  25333.33284  3645.0894  38746.3551  11848.141   10564.8845\n",
            " 13880.949    4753.6368  27941.28758  8017.06115 23045.56616  4133.64165\n",
            " 17942.106   25992.82104  3594.17085  1682.597    6079.6715   9411.005\n",
            "  8283.6807   6338.0756   7152.6714   4889.0368   4846.92015 11454.0215\n",
            "  4349.462    9101.798    1391.5287  28101.33305  5152.134   38511.6283\n",
            " 44501.3982  41097.16175  4837.5823  10601.63225  8310.83915 11264.541\n",
            " 15230.32405 27037.9141  23401.30575  5031.26955 38282.7495   6875.961\n",
            " 19719.6947   1880.07    18765.87545  6402.29135  4527.18295  1743.214\n",
            "  5709.1644  12363.547   13129.60345  1727.54     7731.4271  21195.818\n",
            "  1702.4553  23244.7902  23082.95533  2927.0647  13019.16105 37701.8768\n",
            "  9778.3472   1980.07    30259.99556 22478.6      6313.759    2789.0574\n",
            "  5594.8455   7261.741   11396.9002   1986.9334   4719.73655  7749.1564\n",
            "  7345.7266   9288.0267  12244.531    1837.2819   3972.9247   5934.3798\n",
            "  5836.5204   7935.29115]\n",
            "[[10628.74388779]\n",
            " [ 6096.24813181]\n",
            " [27956.0763709 ]\n",
            " [10147.69887953]\n",
            " [34941.61011219]\n",
            " [ 6630.97004451]\n",
            " [ 2611.3670328 ]\n",
            " [15246.95981699]\n",
            " [ 3701.52896058]\n",
            " [11201.59021819]\n",
            " [20066.93029328]\n",
            " [ 7884.50554088]\n",
            " [ 5820.01006749]\n",
            " [43828.94898947]\n",
            " [47143.9866767 ]\n",
            " [43637.57269789]\n",
            " [10957.65119477]\n",
            " [43171.39926724]\n",
            " [ 9513.259121  ]\n",
            " [23732.66562164]\n",
            " [ 6361.2410145 ]\n",
            " [ 9626.39301062]\n",
            " [ 2515.26279263]\n",
            " [ 3915.46105171]\n",
            " [11568.53664367]\n",
            " [12807.24685899]\n",
            " [14376.16438956]\n",
            " [ 6887.59795452]\n",
            " [11374.91714896]\n",
            " [ 2515.26279263]\n",
            " [ 8021.45779798]\n",
            " [12591.47893718]\n",
            " [ 3201.78624507]\n",
            " [ 5933.64181065]\n",
            " [ 5070.84092445]\n",
            " [ 9677.90442249]\n",
            " [ 4053.9220522 ]\n",
            " [ 9476.85849128]\n",
            " [26307.47795167]\n",
            " [38788.15886681]\n",
            " [ 5666.68013025]\n",
            " [ 3976.50370216]\n",
            " [13798.48510206]\n",
            " [13751.74849235]\n",
            " [ 7350.98343164]\n",
            " [14828.61289897]\n",
            " [ 5773.34082103]\n",
            " [ 6424.53889979]\n",
            " [42334.35903325]\n",
            " [ 7084.9158775 ]\n",
            " [14636.45146832]\n",
            " [ 3390.23050836]\n",
            " [ 7175.012731  ]\n",
            " [ 2824.69770369]\n",
            " [12265.9786235 ]\n",
            " [11701.2518217 ]\n",
            " [ 4937.31929617]\n",
            " [39210.37168718]\n",
            " [12583.13659015]\n",
            " [12807.24685899]\n",
            " [14409.60592269]\n",
            " [ 6085.15370654]\n",
            " [16197.65182674]\n",
            " [ 7947.28001484]\n",
            " [12550.64383932]\n",
            " [ 5897.70993683]\n",
            " [19546.03599241]\n",
            " [13075.90645277]\n",
            " [ 5289.4532818 ]\n",
            " [ 2634.92999652]\n",
            " [ 8299.33216201]\n",
            " [10798.18755602]\n",
            " [10259.3981331 ]\n",
            " [ 7320.0896006 ]\n",
            " [10243.05536857]\n",
            " [ 6063.09298555]\n",
            " [ 6798.45455011]\n",
            " [12366.44322305]\n",
            " [ 6425.94352695]\n",
            " [ 9875.62810666]\n",
            " [ 2610.57861358]\n",
            " [27554.69066206]\n",
            " [ 6749.65634457]\n",
            " [40028.12645745]\n",
            " [37459.24829082]\n",
            " [41593.94238995]\n",
            " [ 6083.97276107]\n",
            " [12519.99970494]\n",
            " [10287.10098238]\n",
            " [13849.17136862]\n",
            " [18029.97694092]\n",
            " [27429.18264093]\n",
            " [24903.44076843]\n",
            " [ 6871.83761151]\n",
            " [39445.15588059]\n",
            " [ 7295.27680137]\n",
            " [21461.15871912]\n",
            " [ 3159.22241261]\n",
            " [20815.36915396]\n",
            " [ 7999.26304649]\n",
            " [ 5977.22063793]\n",
            " [ 2802.15750101]\n",
            " [ 6066.69045334]\n",
            " [13987.39406448]\n",
            " [14012.78035504]\n",
            " [ 3719.3562307 ]\n",
            " [ 9601.58021139]\n",
            " [23885.03601915]\n",
            " [ 1573.92323103]\n",
            " [26005.83246785]\n",
            " [ 2540.07559186]\n",
            " [ 4679.80643289]\n",
            " [13643.2437434 ]\n",
            " [38773.10733176]\n",
            " [11429.93113177]\n",
            " [ 3747.29541996]\n",
            " [13808.28280923]\n",
            " [23712.85444747]\n",
            " [ 7612.43476802]\n",
            " [ 5359.61107521]\n",
            " [ 7726.82702796]\n",
            " [ 7909.31834012]\n",
            " [15523.73637812]\n",
            " [ 4343.83372813]\n",
            " [ 6674.79728167]\n",
            " [ 8005.61037159]\n",
            " [ 9886.56810133]\n",
            " [11112.77316512]\n",
            " [14294.11848995]\n",
            " [ 4111.81535806]\n",
            " [ 4683.29326111]\n",
            " [ 7048.49834833]\n",
            " [ 7668.14139829]\n",
            " [11029.25305091]]\n",
            "Mean Squared Error :  17470319.58899963\n",
            "4179.751139601451\n",
            "         age       bmi  children  region_northeast  region_northwest  \\\n",
            "0   0.434783  0.445223       0.2                 0                 0   \n",
            "1   0.369565  0.955602       0.4                 0                 0   \n",
            "2   1.000000  0.768468       0.0                 0                 0   \n",
            "3   0.739130  0.378029       0.0                 0                 0   \n",
            "4   0.173913  0.000000       0.0                 0                 1   \n",
            "..       ...       ...       ...               ...               ...   \n",
            "95  0.782609  0.386085       0.2                 0                 1   \n",
            "96  0.456522  0.384915       0.8                 0                 0   \n",
            "97  0.782609  0.169538       0.6                 0                 0   \n",
            "98  0.021739  0.298887       0.0                 0                 0   \n",
            "99  0.217391  0.164323       0.2                 1                 0   \n",
            "\n",
            "    region_southeast  smoker_no  sex_female  \n",
            "0                  1          1           1  \n",
            "1                  1          1           1  \n",
            "2                  1          1           0  \n",
            "3                  0          1           1  \n",
            "4                  0          1           0  \n",
            "..               ...        ...         ...  \n",
            "95                 0          1           1  \n",
            "96                 0          1           0  \n",
            "97                 0          1           1  \n",
            "98                 0          0           0  \n",
            "99                 0          1           1  \n",
            "\n",
            "[100 rows x 8 columns]\n"
          ]
        }
      ]
    },
    {
      "cell_type": "code",
      "source": [
        "# final version\n",
        "# you can use the following libraries\n",
        "import numpy as np\n",
        "from sklearn.model_selection import train_test_split\n",
        "from sklearn.preprocessing import MinMaxScaler\n",
        "import pandas\n",
        "import numpy as np\n",
        "from joblib import dump, load\n",
        "from matplotlib import pyplot as plt\n",
        "from sklearn.ensemble import GradientBoostingRegressor\n",
        "import copy\n",
        "\n",
        "\n",
        "# I only used given libraries \n",
        "# I used one hot encoding with pandas get dummies\n",
        "# I used min max scaler for noramlization\n",
        "# after many attempts I used gradient boosting regressor\n",
        "# it gave great results\n",
        "\n",
        "\n",
        "dataframe = pandas.read_csv(\"dataset.csv\")\n",
        "dataframe['rounded_bmi'] = dataframe['bmi'].round()\n",
        "region_encoded = pandas.get_dummies(dataframe['region'], prefix='region')\n",
        "smoker_encoded = pandas.get_dummies(dataframe['smoker'], prefix='smoker')\n",
        "sex_encoded = pandas.get_dummies(dataframe['sex'], prefix='sex')\n",
        "new_dataframe=pandas.concat([dataframe, region_encoded], axis=1)\n",
        "new_dataframe = pandas.concat([new_dataframe, smoker_encoded], axis=1)\n",
        "new_dataframe = pandas.concat([new_dataframe, sex_encoded], axis=1)\n",
        "new_dataframe.drop(['region'], axis=1, inplace=True)\n",
        "new_dataframe.drop(['sex'], axis=1, inplace=True)\n",
        "new_dataframe.drop(['smoker'], axis=1, inplace=True)\n",
        "scaler = MinMaxScaler()\n",
        "num_feat = ['age', 'bmi', 'children']\n",
        "new_dataframe[num_feat] = scaler.fit_transform(new_dataframe[num_feat])\n",
        "import copy\n",
        "data_cop = copy.deepcopy(new_dataframe)\n",
        "new_df = data_cop.drop([\"rounded_bmi\", \"charges\"], axis=1)\n",
        "new_df=new_df.drop([\"smoker_yes\", \"sex_male\"], axis=1)\n",
        "plt.imshow( new_df.corr() , cmap = 'autumn' , interpolation = 'nearest' )\n",
        "plt.show()\n",
        "\n",
        "x = new_df.to_numpy()\n",
        "y = data_cop['charges'].to_numpy()\n",
        "x_train, x_test, y_train, y_test = train_test_split(x, y, test_size=0.1, random_state=42)\n",
        "\n",
        "gradient_reg = GradientBoostingRegressor(max_depth=2, n_estimators=100, learning_rate =.1)\n",
        "gradient_reg.fit(x_train, y_train)\n",
        "\n",
        "\n",
        "\n",
        "gradient_reg.fit(x_train, y_train)\n",
        "y_pred_rid = gradient_reg.predict(x_test)\n",
        "df = pandas.DataFrame(y_pred_rid)\n",
        "y_pred_rid = df.values\n",
        "from sklearn.metrics import mean_squared_error\n",
        "\n",
        "mse100 = mean_squared_error(y_test, y_pred_rid)\n",
        "print(y_test)\n",
        "print(y_pred_rid)\n",
        "print(\"Mean Squared Error : \", mse100)\n",
        "print(np.sqrt(mse100))\n",
        "\n",
        "\n",
        "dataframe = pandas.read_csv(\"assignment1-test-data.csv\")\n",
        "dataframe.drop(['ID'], axis=1, inplace=True)\n",
        "dataframe['rounded_bmi'] = dataframe['bmi'].round()\n",
        "region_encoded = pandas.get_dummies(dataframe['region'], prefix='region')\n",
        "smoker_encoded = pandas.get_dummies(dataframe['smoker'], prefix='smoker')\n",
        "sex_encoded = pandas.get_dummies(dataframe['sex'], prefix='sex')\n",
        "new_dataframe=pandas.concat([dataframe, region_encoded], axis=1)\n",
        "new_dataframe = pandas.concat([new_dataframe, smoker_encoded], axis=1)\n",
        "new_dataframe = pandas.concat([new_dataframe, sex_encoded], axis=1)\n",
        "new_dataframe.drop(['region'], axis=1, inplace=True)\n",
        "new_dataframe.drop(['sex'], axis=1, inplace=True)\n",
        "new_dataframe.drop(['smoker'], axis=1, inplace=True)\n",
        "scaler = MinMaxScaler()\n",
        "num_feat = ['age', 'bmi', 'children']\n",
        "new_dataframe[num_feat] = scaler.fit_transform(new_dataframe[num_feat])\n",
        "\n",
        "data_cop = copy.deepcopy(new_dataframe)\n",
        "new_df = data_cop.drop([\"rounded_bmi\"], axis=1)\n",
        "new_df=new_df.drop([\"smoker_yes\", \"sex_male\"], axis=1)\n",
        "print(new_df)\n",
        "x_nn=new_df.to_numpy()\n",
        "y_pred_final = gradient_reg.predict(x_nn)\n",
        "\n",
        "id_arr = np.arange(1, 101)\n",
        "df = pandas.DataFrame({'charges': y_pred_final, 'ID': id_arr})\n",
        "df.to_csv('outputssss.csv', index=False)"
      ],
      "metadata": {
        "colab": {
          "base_uri": "https://localhost:8080/",
          "height": 1000
        },
        "id": "c0CZHZxJWQyb",
        "outputId": "ad2b1b86-3b93-4a4f-dd95-52fdbf877a38"
      },
      "id": "c0CZHZxJWQyb",
      "execution_count": null,
      "outputs": [
        {
          "output_type": "display_data",
          "data": {
            "text/plain": [
              "<Figure size 432x288 with 1 Axes>"
            ],
            "image/png": "[encoded data removed]"
          },
          "metadata": {
            "needs_background": "light"
          }
        },
        {
          "output_type": "stream",
          "name": "stdout",
          "text": [
            "[ 9095.06825  5272.1758  29330.98315  9301.89355 33750.2918   4536.259\n",
            "  2117.33885 14210.53595  3732.6251  10264.4421  18259.216    7256.7231\n",
            "  3947.4131  46151.1245  48673.5588  44202.6536   9800.8882  42969.8527\n",
            "  8233.0975  21774.32215  5080.096    7441.501    1256.299    2755.02095\n",
            " 11085.5868  10923.9332  12644.589   18804.7524   9715.841    1131.5066\n",
            " 15828.82173 11842.62375  2020.5523   5693.4305   2904.088    7448.40395\n",
            "  2597.779    7337.748   23887.6627  38709.176    4687.797    2643.2685\n",
            " 11674.13    12124.9924   4889.9995  12333.828    3579.8287   4391.652\n",
            " 42124.5153   4463.2051  13887.204    1719.4363  28476.73499  1708.92575\n",
            " 10594.2257  25333.33284  3645.0894  38746.3551  11848.141   10564.8845\n",
            " 13880.949    4753.6368  27941.28758  8017.06115 23045.56616  4133.64165\n",
            " 17942.106   25992.82104  3594.17085  1682.597    6079.6715   9411.005\n",
            "  8283.6807   6338.0756   7152.6714   4889.0368   4846.92015 11454.0215\n",
            "  4349.462    9101.798    1391.5287  28101.33305  5152.134   38511.6283\n",
            " 44501.3982  41097.16175  4837.5823  10601.63225  8310.83915 11264.541\n",
            " 15230.32405 27037.9141  23401.30575  5031.26955 38282.7495   6875.961\n",
            " 19719.6947   1880.07    18765.87545  6402.29135  4527.18295  1743.214\n",
            "  5709.1644  12363.547   13129.60345  1727.54     7731.4271  21195.818\n",
            "  1702.4553  23244.7902  23082.95533  2927.0647  13019.16105 37701.8768\n",
            "  9778.3472   1980.07    30259.99556 22478.6      6313.759    2789.0574\n",
            "  5594.8455   7261.741   11396.9002   1986.9334   4719.73655  7749.1564\n",
            "  7345.7266   9288.0267  12244.531    1837.2819   3972.9247   5934.3798\n",
            "  5836.5204   7935.29115]\n",
            "[[10613.79402704]\n",
            " [ 6281.0674365 ]\n",
            " [27926.86381803]\n",
            " [10009.16178447]\n",
            " [34967.39834743]\n",
            " [ 6243.70455335]\n",
            " [ 2734.82290341]\n",
            " [15078.66744447]\n",
            " [ 3882.14972802]\n",
            " [11209.04860291]\n",
            " [20251.14768445]\n",
            " [ 7886.97572029]\n",
            " [ 6106.58888952]\n",
            " [44252.91765042]\n",
            " [47176.44026453]\n",
            " [44107.31839513]\n",
            " [11292.46541656]\n",
            " [43466.50656461]\n",
            " [ 9714.84376726]\n",
            " [23650.9908546 ]\n",
            " [ 6069.20884666]\n",
            " [ 9392.54220783]\n",
            " [ 2307.99065852]\n",
            " [ 3839.98715387]\n",
            " [11488.36694527]\n",
            " [12885.96727136]\n",
            " [14464.42449262]\n",
            " [ 6926.49547498]\n",
            " [11359.96728822]\n",
            " [ 2795.61154064]\n",
            " [ 7824.90082111]\n",
            " [12715.07822448]\n",
            " [ 3522.1743796 ]\n",
            " [ 5805.87950269]\n",
            " [ 4866.43401893]\n",
            " [ 9649.64621752]\n",
            " [ 3818.48155748]\n",
            " [ 9272.54365716]\n",
            " [26516.2189154 ]\n",
            " [38931.01216242]\n",
            " [ 5646.80507122]\n",
            " [ 4187.44405822]\n",
            " [13511.48203707]\n",
            " [13699.3932291 ]\n",
            " [ 7742.65059566]\n",
            " [14878.51815588]\n",
            " [ 5964.10746011]\n",
            " [ 6190.86995223]\n",
            " [42831.76806648]\n",
            " [ 7202.76773785]\n",
            " [14739.05379929]\n",
            " [ 3666.95942265]\n",
            " [ 7351.00209844]\n",
            " [ 2800.96321355]\n",
            " [12434.34058217]\n",
            " [11852.85618956]\n",
            " [ 4959.85503811]\n",
            " [38979.74143909]\n",
            " [12397.44834175]\n",
            " [12885.96727136]\n",
            " [14277.18106035]\n",
            " [ 6389.13272659]\n",
            " [15980.93439139]\n",
            " [ 7845.40742736]\n",
            " [12741.30375832]\n",
            " [ 6005.13813282]\n",
            " [19814.61429107]\n",
            " [13286.42298116]\n",
            " [ 5415.774381  ]\n",
            " [ 2177.08227424]\n",
            " [ 8235.9525093 ]\n",
            " [10888.5588003 ]\n",
            " [10491.62103323]\n",
            " [ 7738.95745051]\n",
            " [10386.10027166]\n",
            " [ 6281.0674365 ]\n",
            " [ 6888.97088952]\n",
            " [12397.10069486]\n",
            " [ 6808.39105253]\n",
            " [ 9681.02040751]\n",
            " [ 2872.25577269]\n",
            " [27647.42979165]\n",
            " [ 6116.37398489]\n",
            " [40081.37839436]\n",
            " [37383.11964534]\n",
            " [41615.719679  ]\n",
            " [ 6527.65341022]\n",
            " [12582.35885194]\n",
            " [10365.29691778]\n",
            " [13349.32688466]\n",
            " [19374.95803944]\n",
            " [27677.26638369]\n",
            " [24956.29081363]\n",
            " [ 6826.25226368]\n",
            " [39737.62225388]\n",
            " [ 7046.94038287]\n",
            " [21707.20199538]\n",
            " [ 3381.69322819]\n",
            " [20907.64230251]\n",
            " [ 7945.25193733]\n",
            " [ 6106.58888952]\n",
            " [ 2676.18835952]\n",
            " [ 6210.62116118]\n",
            " [13695.66783006]\n",
            " [13906.62465606]\n",
            " [ 4103.2627078 ]\n",
            " [10084.55927547]\n",
            " [23900.68521822]\n",
            " [ 1653.5450687 ]\n",
            " [26266.62148106]\n",
            " [ 2307.99065852]\n",
            " [ 4935.04653604]\n",
            " [13549.93410434]\n",
            " [38685.66579708]\n",
            " [11458.5067156 ]\n",
            " [ 3475.16067427]\n",
            " [14034.80273938]\n",
            " [23965.20992286]\n",
            " [ 8019.69509282]\n",
            " [ 5405.40338631]\n",
            " [ 7691.52856414]\n",
            " [ 7886.97572029]\n",
            " [15227.57158767]\n",
            " [ 4621.22524228]\n",
            " [ 6533.62627927]\n",
            " [ 8019.69509282]\n",
            " [10194.50489626]\n",
            " [11177.76907329]\n",
            " [14521.83882578]\n",
            " [ 4339.31178368]\n",
            " [ 4939.41887376]\n",
            " [ 7467.36619825]\n",
            " [ 8023.38823797]\n",
            " [10749.20980025]]\n",
            "Mean Squared Error :  17622741.819440044\n",
            "4197.944951930652\n",
            "         age       bmi  children  region_northeast  region_northwest  \\\n",
            "0   0.434783  0.445223       0.2                 0                 0   \n",
            "1   0.369565  0.955602       0.4                 0                 0   \n",
            "2   1.000000  0.768468       0.0                 0                 0   \n",
            "3   0.739130  0.378029       0.0                 0                 0   \n",
            "4   0.173913  0.000000       0.0                 0                 1   \n",
            "..       ...       ...       ...               ...               ...   \n",
            "95  0.782609  0.386085       0.2                 0                 1   \n",
            "96  0.456522  0.384915       0.8                 0                 0   \n",
            "97  0.782609  0.169538       0.6                 0                 0   \n",
            "98  0.021739  0.298887       0.0                 0                 0   \n",
            "99  0.217391  0.164323       0.2                 1                 0   \n",
            "\n",
            "    region_southeast  region_southwest  smoker_no  sex_female  \n",
            "0                  1                 0          1           1  \n",
            "1                  1                 0          1           1  \n",
            "2                  1                 0          1           0  \n",
            "3                  0                 1          1           1  \n",
            "4                  0                 0          1           0  \n",
            "..               ...               ...        ...         ...  \n",
            "95                 0                 0          1           1  \n",
            "96                 0                 1          1           0  \n",
            "97                 0                 1          1           1  \n",
            "98                 0                 1          0           0  \n",
            "99                 0                 0          1           1  \n",
            "\n",
            "[100 rows x 9 columns]\n"
          ]
        }
      ]
    },
    {
      "cell_type": "code",
      "source": [
        "# we could do better by deleting outlier givving cleaner data for training but the accuracy is pretty great so its enough already :)"
      ],
      "metadata": {
        "id": "yqKAuYvV_BWk"
      },
      "id": "yqKAuYvV_BWk",
      "execution_count": null,
      "outputs": []
    }
  ],
  "metadata": {
    "kernelspec": {
      "display_name": "Python 3 (ipykernel)",
      "language": "python",
      "name": "python3"
    },
    "language_info": {
      "codemirror_mode": {
        "name": "ipython",
        "version": 3
      },
      "file_extension": ".py",
      "mimetype": "text/x-python",
      "name": "python",
      "nbconvert_exporter": "python",
      "pygments_lexer": "ipython3",
      "version": "3.10.0"
    },
    "colab": {
      "provenance": []
    }
  },
  "nbformat": 4,
  "nbformat_minor": 5
}