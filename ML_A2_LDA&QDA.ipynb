{
  "cells": [
    {
      "cell_type": "markdown",
      "metadata": {
        "id": "b07eb33c"
      },
      "source": [
        "<div>\n",
        "<img src='http://www-scf.usc.edu/~ghasemig/images/sharif.png' alt=\"SUT logo\" width=220 height=220 align=left class=\"saturate\">\n",
        "\n",
        "<br>\n",
        "<font face=\"Times New Roman\">\n",
        "<div dir=ltr align=center> \n",
        "<!-- <font color=0F5298 size=7> -->\n",
        "<font color=0F5298 size=6>\n",
        "    Introduction to Machine Learning <br> <br>\n",
        "<!-- <font color=2565AE size=5> -->\n",
        "<font size=5>\n",
        "    Computer Engineering Department <br>\n",
        "    Spring 2023 <br> <br>\n",
        "<font color=606060 size=5>\n",
        "    Homework 2: Practical - LDA & QDA <br> <br>\n",
        "<font color=686880 size=4>\n",
        "    TAs: Arman Malekzadeh - Arshia Soltani Moakhar\n",
        "    \n",
        "____"
      ]
    },
    {
      "cell_type": "markdown",
      "metadata": {
        "id": "f5a79508"
      },
      "source": [
        "### Full Name : Pardis Sadat Zahraie\n",
        "### Student Number : 99109777\n",
        "___"
      ]
    },
    {
      "cell_type": "code",
      "execution_count": 176,
      "metadata": {
        "id": "DILQa6lWBggF"
      },
      "outputs": [],
      "source": [
        "import pandas as pd\n",
        "import numpy as np\n",
        "from sklearn.model_selection import train_test_split\n",
        "from sklearn.discriminant_analysis import LinearDiscriminantAnalysis\n",
        "from sklearn.metrics import classification_report\n",
        "from sklearn.discriminant_analysis import QuadraticDiscriminantAnalysis\n",
        "from sklearn.metrics import classification_report\n",
        "from sklearn.metrics import roc_auc_score"
      ]
    },
    {
      "cell_type": "markdown",
      "metadata": {
        "id": "HnzaQ-o1BggH"
      },
      "source": [
        "# Exploration (20 points)"
      ]
    },
    {
      "cell_type": "code",
      "execution_count": 177,
      "metadata": {
        "id": "ft5kutyBBggJ",
        "colab": {
          "base_uri": "https://localhost:8080/"
        },
        "outputId": "9a1fa23f-27d1-4044-e9b8-200e4fa38c8f"
      },
      "outputs": [
        {
          "output_type": "stream",
          "name": "stdout",
          "text": [
            "--2023-04-17 17:04:56--  https://github.com/sharif-ml/sharif-ml.github.io/raw/main/assignments/dataset-train.csv\n",
            "Resolving github.com (github.com)... 192.30.255.113\n",
            "Connecting to github.com (github.com)|192.30.255.113|:443... connected.\n",
            "HTTP request sent, awaiting response... 302 Found\n",
            "Location: https://raw.githubusercontent.com/sharif-ml/sharif-ml.github.io/main/assignments/dataset-train.csv [following]\n",
            "--2023-04-17 17:04:56--  https://raw.githubusercontent.com/sharif-ml/sharif-ml.github.io/main/assignments/dataset-train.csv\n",
            "Resolving raw.githubusercontent.com (raw.githubusercontent.com)... 185.199.108.133, 185.199.109.133, 185.199.110.133, ...\n",
            "Connecting to raw.githubusercontent.com (raw.githubusercontent.com)|185.199.108.133|:443... connected.\n",
            "HTTP request sent, awaiting response... 200 OK\n",
            "Length: 89401 (87K) [text/plain]\n",
            "Saving to: ‘dataset-train.csv.4’\n",
            "\n",
            "\rdataset-train.csv.4   0%[                    ]       0  --.-KB/s               \rdataset-train.csv.4 100%[===================>]  87.31K  --.-KB/s    in 0.008s  \n",
            "\n",
            "2023-04-17 17:04:56 (10.3 MB/s) - ‘dataset-train.csv.4’ saved [89401/89401]\n",
            "\n"
          ]
        }
      ],
      "source": [
        "!wget https://github.com/sharif-ml/sharif-ml.github.io/raw/main/assignments/dataset-train.csv"
      ]
    },
    {
      "cell_type": "markdown",
      "metadata": {
        "id": "mnAKD1iPBggK"
      },
      "source": [
        "Load the dataset as a dataframe"
      ]
    },
    {
      "cell_type": "code",
      "execution_count": 178,
      "metadata": {
        "id": "b2m5R15PBggK"
      },
      "outputs": [],
      "source": [
        "df = pd.read_csv('dataset-train.csv')"
      ]
    },
    {
      "cell_type": "markdown",
      "metadata": {
        "id": "_RAEyEnGBggL"
      },
      "source": [
        "Get the minimum \"Area Income\" for all Italians"
      ]
    },
    {
      "cell_type": "code",
      "execution_count": 179,
      "metadata": {
        "id": "Sw2v_z0uBggM",
        "colab": {
          "base_uri": "https://localhost:8080/"
        },
        "outputId": "482c7759-5c6e-4a9d-a6de-dfc58672830c"
      },
      "outputs": [
        {
          "output_type": "stream",
          "name": "stdout",
          "text": [
            "The minimum Area Income for all Italians: 54286.1\n"
          ]
        }
      ],
      "source": [
        "italy_df = df[df[\"Country\"] == \"Italy\"]\n",
        "min_italy = italy_df[\"Area Income\"].min()\n",
        "print(\"The minimum Area Income for all Italians:\", min_italy)"
      ]
    },
    {
      "cell_type": "markdown",
      "metadata": {
        "id": "LDFnEQokBggM"
      },
      "source": [
        "Make a new dataframe called \"sample_df\" by sampling 100 rows from the previously made dataframe"
      ]
    },
    {
      "cell_type": "code",
      "execution_count": 180,
      "metadata": {
        "id": "nuXW_oJ0BggM"
      },
      "outputs": [],
      "source": [
        "sample_df = df.sample(n=100, random_state=1)"
      ]
    },
    {
      "cell_type": "markdown",
      "metadata": {
        "id": "suacG-6_BggM"
      },
      "source": [
        "Compare all men and women aged less than 30 years in terms of their average \"Daily Internet Usage\". Your result should contain the average daily usage for each age and gender, seperately."
      ]
    },
    {
      "cell_type": "code",
      "execution_count": 181,
      "metadata": {
        "id": "LWYjnPOTBggN",
        "colab": {
          "base_uri": "https://localhost:8080/"
        },
        "outputId": "5066f655-4a49-46b2-ef63-05a41a120b6c"
      },
      "outputs": [
        {
          "output_type": "stream",
          "name": "stdout",
          "text": [
            "Average daily internet usage for men ages < 30 : 200.08 hours\n",
            "Average daily internet usage for women ages < 30 : 193.46 hours\n"
          ]
        }
      ],
      "source": [
        "\n",
        "# Filter the DataFrame to include only men and women aged less than 30 years\n",
        "men = df[(df[\"Gender\"] == \"male\") & (df[\"Age\"] < 30)]\n",
        "women = df[(df[\"Gender\"] == \"female\") & (df[\"Age\"] < 30)]\n",
        "\n",
        "avg__men = men[\"Daily Internet Usage\"].mean()\n",
        "avg__women = women[\"Daily Internet Usage\"].mean()\n",
        "\n",
        "print(\"Average daily internet usage for men ages < 30 : {:.2f} hours\".format(avg__men))\n",
        "print(\"Average daily internet usage for women ages < 30 : {:.2f} hours\".format(avg__women))"
      ]
    },
    {
      "cell_type": "code",
      "source": [
        "# if we want explicitly for each age:\n",
        "# Filter the DataFrame to include only rows where age is less than 30\n",
        "df_filtered = df[df[\"Age\"] < 30]\n",
        "avg_gender = df_filtered.groupby([\"Age\", \"Gender\"])[\"Daily Internet Usage\"].mean()\n",
        "newavg_gender = avg_gender.reset_index()\n",
        "print(newavg_gender)"
      ],
      "metadata": {
        "colab": {
          "base_uri": "https://localhost:8080/"
        },
        "id": "rUe4iHAiJZVB",
        "outputId": "e265a20f-5b0f-437e-c621-1fc63e363ff4"
      },
      "execution_count": 182,
      "outputs": [
        {
          "output_type": "stream",
          "name": "stdout",
          "text": [
            "    Age  Gender  Daily Internet Usage\n",
            "0    19  female            184.940000\n",
            "1    19    male            189.523333\n",
            "2    20  female            202.160000\n",
            "3    20    male            198.982500\n",
            "4    21  female            186.980000\n",
            "5    21    male            212.815000\n",
            "6    22  female            200.070000\n",
            "7    22    male            188.837500\n",
            "8    23  female            187.105714\n",
            "9    23    male            184.615000\n",
            "10   24  female            178.693333\n",
            "11   24    male            200.055556\n",
            "12   25  female            193.618571\n",
            "13   25    male            206.527857\n",
            "14   26  female            192.741875\n",
            "15   26    male            203.916250\n",
            "16   27  female            189.157692\n",
            "17   27    male            205.916154\n",
            "18   28  female            205.873333\n",
            "19   28    male            196.416842\n",
            "20   29  female            191.191200\n",
            "21   29    male            202.005714\n"
          ]
        }
      ]
    },
    {
      "cell_type": "markdown",
      "metadata": {
        "id": "dlfpnrArBggN"
      },
      "source": [
        "# Preprocessing (30 points)"
      ]
    },
    {
      "cell_type": "markdown",
      "metadata": {
        "id": "JdRU5FFQBggN"
      },
      "source": [
        "Remove the following columns: \"Ad Topic Line\", \"Timestamp\""
      ]
    },
    {
      "cell_type": "code",
      "execution_count": 183,
      "metadata": {
        "id": "-3Ad4otcBggN",
        "colab": {
          "base_uri": "https://localhost:8080/"
        },
        "outputId": "17989670-c870-4625-bc6b-34c3427dba73"
      },
      "outputs": [
        {
          "output_type": "stream",
          "name": "stdout",
          "text": [
            "     Daily Time Spent on Site  Age  Area Income  Daily Internet Usage  \\\n",
            "0                       68.95   35     61833.90                256.09   \n",
            "1                       80.23   31     68441.85                193.77   \n",
            "2                       69.47   26     59785.94                236.50   \n",
            "3                       74.15   29     54806.18                245.89   \n",
            "4                       68.37   35     73889.99                225.58   \n",
            "..                        ...  ...          ...                   ...   \n",
            "795                     75.64   29     69718.19                204.82   \n",
            "796                     79.22   27     63429.18                198.79   \n",
            "797                     77.05   34     65756.36                236.08   \n",
            "798                     66.83   46     77871.75                196.17   \n",
            "799                     76.20   24     47258.59                228.81   \n",
            "\n",
            "                 City     Country  Clicked on Ad  Gender  \n",
            "0         Wrightburgh     Tunisia              0  female  \n",
            "1           West Jodi       Nauru              0    male  \n",
            "2            Davidton  San Marino              0  female  \n",
            "3      West Terrifurt       Italy              0    male  \n",
            "4        South Manuel     Iceland              0  female  \n",
            "..                ...         ...            ...     ...  \n",
            "795  West Rhondamouth        Iran              0    male  \n",
            "796       North Debra     Belgium              0    male  \n",
            "797    Villanuevastad     Namibia              0  female  \n",
            "798  North Jeremyport      Cyprus              0    male  \n",
            "799        Lake Susan       Japan              0    male  \n",
            "\n",
            "[800 rows x 8 columns]\n"
          ]
        }
      ],
      "source": [
        "df = df.drop([\"Ad Topic Line\", \"Timestamp\"], axis=1)\n",
        "print(df)"
      ]
    },
    {
      "cell_type": "markdown",
      "metadata": {
        "id": "9PkOuMDXBggO"
      },
      "source": [
        "Convert the \"City\" and \"Country\" columns to their one-hot encoded versions.\n",
        "For each set of one-hot encoded columns, remove one of them to make the columns not correlated. Finally, remove the original columns named \"City\" and \"Country\"."
      ]
    },
    {
      "cell_type": "code",
      "execution_count": 184,
      "metadata": {
        "id": "TBMwY-rQBggO",
        "colab": {
          "base_uri": "https://localhost:8080/",
          "height": 557
        },
        "outputId": "cd6d6a90-c5bb-4f21-d5fb-c1f2368d4ecf"
      },
      "outputs": [
        {
          "output_type": "execute_result",
          "data": {
            "text/plain": [
              "     Daily Time Spent on Site  Age  Area Income  Daily Internet Usage  \\\n",
              "0                       68.95   35     61833.90                256.09   \n",
              "1                       80.23   31     68441.85                193.77   \n",
              "2                       69.47   26     59785.94                236.50   \n",
              "3                       74.15   29     54806.18                245.89   \n",
              "4                       68.37   35     73889.99                225.58   \n",
              "..                        ...  ...          ...                   ...   \n",
              "795                     75.64   29     69718.19                204.82   \n",
              "796                     79.22   27     63429.18                198.79   \n",
              "797                     77.05   34     65756.36                236.08   \n",
              "798                     66.83   46     77871.75                196.17   \n",
              "799                     76.20   24     47258.59                228.81   \n",
              "\n",
              "     Clicked on Ad  Gender  City_Adamsbury  City_Alanview  City_Alexanderfurt  \\\n",
              "0                0  female               0              0                   0   \n",
              "1                0    male               0              0                   0   \n",
              "2                0  female               0              0                   0   \n",
              "3                0    male               0              0                   0   \n",
              "4                0  female               0              0                   0   \n",
              "..             ...     ...             ...            ...                 ...   \n",
              "795              0    male               0              0                   0   \n",
              "796              0    male               0              0                   0   \n",
              "797              0  female               0              0                   0   \n",
              "798              0    male               0              0                   0   \n",
              "799              0    male               0              0                   0   \n",
              "\n",
              "     City_Alexanderview  ...  Country_United States of America  \\\n",
              "0                     0  ...                                 0   \n",
              "1                     0  ...                                 0   \n",
              "2                     0  ...                                 0   \n",
              "3                     0  ...                                 0   \n",
              "4                     0  ...                                 0   \n",
              "..                  ...  ...                               ...   \n",
              "795                   0  ...                                 0   \n",
              "796                   0  ...                                 0   \n",
              "797                   0  ...                                 0   \n",
              "798                   0  ...                                 0   \n",
              "799                   0  ...                                 0   \n",
              "\n",
              "     Country_Uruguay  Country_Uzbekistan  Country_Vanuatu  Country_Venezuela  \\\n",
              "0                  0                   0                0                  0   \n",
              "1                  0                   0                0                  0   \n",
              "2                  0                   0                0                  0   \n",
              "3                  0                   0                0                  0   \n",
              "4                  0                   0                0                  0   \n",
              "..               ...                 ...              ...                ...   \n",
              "795                0                   0                0                  0   \n",
              "796                0                   0                0                  0   \n",
              "797                0                   0                0                  0   \n",
              "798                0                   0                0                  0   \n",
              "799                0                   0                0                  0   \n",
              "\n",
              "     Country_Vietnam  Country_Wallis and Futuna  Country_Western Sahara  \\\n",
              "0                  0                          0                       0   \n",
              "1                  0                          0                       0   \n",
              "2                  0                          0                       0   \n",
              "3                  0                          0                       0   \n",
              "4                  0                          0                       0   \n",
              "..               ...                        ...                     ...   \n",
              "795                0                          0                       0   \n",
              "796                0                          0                       0   \n",
              "797                0                          0                       0   \n",
              "798                0                          0                       0   \n",
              "799                0                          0                       0   \n",
              "\n",
              "     Country_Yemen  Country_Zambia  \n",
              "0                0               0  \n",
              "1                0               0  \n",
              "2                0               0  \n",
              "3                0               0  \n",
              "4                0               0  \n",
              "..             ...             ...  \n",
              "795              0               0  \n",
              "796              0               0  \n",
              "797              0               0  \n",
              "798              0               0  \n",
              "799              0               0  \n",
              "\n",
              "[800 rows x 1017 columns]"
            ],
            "text/html": [
              "\n",
              "  <div id=\"df-1c19c221-32b8-4a97-a8f2-fcede035b3a6\">\n",
              "    <div class=\"colab-df-container\">\n",
              "      <div>\n",
              "<style scoped>\n",
              "    .dataframe tbody tr th:only-of-type {\n",
              "        vertical-align: middle;\n",
              "    }\n",
              "\n",
              "    .dataframe tbody tr th {\n",
              "        vertical-align: top;\n",
              "    }\n",
              "\n",
              "    .dataframe thead th {\n",
              "        text-align: right;\n",
              "    }\n",
              "</style>\n",
              "<table border=\"1\" class=\"dataframe\">\n",
              "  <thead>\n",
              "    <tr style=\"text-align: right;\">\n",
              "      <th></th>\n",
              "      <th>Daily Time Spent on Site</th>\n",
              "      <th>Age</th>\n",
              "      <th>Area Income</th>\n",
              "      <th>Daily Internet Usage</th>\n",
              "      <th>Clicked on Ad</th>\n",
              "      <th>Gender</th>\n",
              "      <th>City_Adamsbury</th>\n",
              "      <th>City_Alanview</th>\n",
              "      <th>City_Alexanderfurt</th>\n",
              "      <th>City_Alexanderview</th>\n",
              "      <th>...</th>\n",
              "      <th>Country_United States of America</th>\n",
              "      <th>Country_Uruguay</th>\n",
              "      <th>Country_Uzbekistan</th>\n",
              "      <th>Country_Vanuatu</th>\n",
              "      <th>Country_Venezuela</th>\n",
              "      <th>Country_Vietnam</th>\n",
              "      <th>Country_Wallis and Futuna</th>\n",
              "      <th>Country_Western Sahara</th>\n",
              "      <th>Country_Yemen</th>\n",
              "      <th>Country_Zambia</th>\n",
              "    </tr>\n",
              "  </thead>\n",
              "  <tbody>\n",
              "    <tr>\n",
              "      <th>0</th>\n",
              "      <td>68.95</td>\n",
              "      <td>35</td>\n",
              "      <td>61833.90</td>\n",
              "      <td>256.09</td>\n",
              "      <td>0</td>\n",
              "      <td>female</td>\n",
              "      <td>0</td>\n",
              "      <td>0</td>\n",
              "      <td>0</td>\n",
              "      <td>0</td>\n",
              "      <td>...</td>\n",
              "      <td>0</td>\n",
              "      <td>0</td>\n",
              "      <td>0</td>\n",
              "      <td>0</td>\n",
              "      <td>0</td>\n",
              "      <td>0</td>\n",
              "      <td>0</td>\n",
              "      <td>0</td>\n",
              "      <td>0</td>\n",
              "      <td>0</td>\n",
              "    </tr>\n",
              "    <tr>\n",
              "      <th>1</th>\n",
              "      <td>80.23</td>\n",
              "      <td>31</td>\n",
              "      <td>68441.85</td>\n",
              "      <td>193.77</td>\n",
              "      <td>0</td>\n",
              "      <td>male</td>\n",
              "      <td>0</td>\n",
              "      <td>0</td>\n",
              "      <td>0</td>\n",
              "      <td>0</td>\n",
              "      <td>...</td>\n",
              "      <td>0</td>\n",
              "      <td>0</td>\n",
              "      <td>0</td>\n",
              "      <td>0</td>\n",
              "      <td>0</td>\n",
              "      <td>0</td>\n",
              "      <td>0</td>\n",
              "      <td>0</td>\n",
              "      <td>0</td>\n",
              "      <td>0</td>\n",
              "    </tr>\n",
              "    <tr>\n",
              "      <th>2</th>\n",
              "      <td>69.47</td>\n",
              "      <td>26</td>\n",
              "      <td>59785.94</td>\n",
              "      <td>236.50</td>\n",
              "      <td>0</td>\n",
              "      <td>female</td>\n",
              "      <td>0</td>\n",
              "      <td>0</td>\n",
              "      <td>0</td>\n",
              "      <td>0</td>\n",
              "      <td>...</td>\n",
              "      <td>0</td>\n",
              "      <td>0</td>\n",
              "      <td>0</td>\n",
              "      <td>0</td>\n",
              "      <td>0</td>\n",
              "      <td>0</td>\n",
              "      <td>0</td>\n",
              "      <td>0</td>\n",
              "      <td>0</td>\n",
              "      <td>0</td>\n",
              "    </tr>\n",
              "    <tr>\n",
              "      <th>3</th>\n",
              "      <td>74.15</td>\n",
              "      <td>29</td>\n",
              "      <td>54806.18</td>\n",
              "      <td>245.89</td>\n",
              "      <td>0</td>\n",
              "      <td>male</td>\n",
              "      <td>0</td>\n",
              "      <td>0</td>\n",
              "      <td>0</td>\n",
              "      <td>0</td>\n",
              "      <td>...</td>\n",
              "      <td>0</td>\n",
              "      <td>0</td>\n",
              "      <td>0</td>\n",
              "      <td>0</td>\n",
              "      <td>0</td>\n",
              "      <td>0</td>\n",
              "      <td>0</td>\n",
              "      <td>0</td>\n",
              "      <td>0</td>\n",
              "      <td>0</td>\n",
              "    </tr>\n",
              "    <tr>\n",
              "      <th>4</th>\n",
              "      <td>68.37</td>\n",
              "      <td>35</td>\n",
              "      <td>73889.99</td>\n",
              "      <td>225.58</td>\n",
              "      <td>0</td>\n",
              "      <td>female</td>\n",
              "      <td>0</td>\n",
              "      <td>0</td>\n",
              "      <td>0</td>\n",
              "      <td>0</td>\n",
              "      <td>...</td>\n",
              "      <td>0</td>\n",
              "      <td>0</td>\n",
              "      <td>0</td>\n",
              "      <td>0</td>\n",
              "      <td>0</td>\n",
              "      <td>0</td>\n",
              "      <td>0</td>\n",
              "      <td>0</td>\n",
              "      <td>0</td>\n",
              "      <td>0</td>\n",
              "    </tr>\n",
              "    <tr>\n",
              "      <th>...</th>\n",
              "      <td>...</td>\n",
              "      <td>...</td>\n",
              "      <td>...</td>\n",
              "      <td>...</td>\n",
              "      <td>...</td>\n",
              "      <td>...</td>\n",
              "      <td>...</td>\n",
              "      <td>...</td>\n",
              "      <td>...</td>\n",
              "      <td>...</td>\n",
              "      <td>...</td>\n",
              "      <td>...</td>\n",
              "      <td>...</td>\n",
              "      <td>...</td>\n",
              "      <td>...</td>\n",
              "      <td>...</td>\n",
              "      <td>...</td>\n",
              "      <td>...</td>\n",
              "      <td>...</td>\n",
              "      <td>...</td>\n",
              "      <td>...</td>\n",
              "    </tr>\n",
              "    <tr>\n",
              "      <th>795</th>\n",
              "      <td>75.64</td>\n",
              "      <td>29</td>\n",
              "      <td>69718.19</td>\n",
              "      <td>204.82</td>\n",
              "      <td>0</td>\n",
              "      <td>male</td>\n",
              "      <td>0</td>\n",
              "      <td>0</td>\n",
              "      <td>0</td>\n",
              "      <td>0</td>\n",
              "      <td>...</td>\n",
              "      <td>0</td>\n",
              "      <td>0</td>\n",
              "      <td>0</td>\n",
              "      <td>0</td>\n",
              "      <td>0</td>\n",
              "      <td>0</td>\n",
              "      <td>0</td>\n",
              "      <td>0</td>\n",
              "      <td>0</td>\n",
              "      <td>0</td>\n",
              "    </tr>\n",
              "    <tr>\n",
              "      <th>796</th>\n",
              "      <td>79.22</td>\n",
              "      <td>27</td>\n",
              "      <td>63429.18</td>\n",
              "      <td>198.79</td>\n",
              "      <td>0</td>\n",
              "      <td>male</td>\n",
              "      <td>0</td>\n",
              "      <td>0</td>\n",
              "      <td>0</td>\n",
              "      <td>0</td>\n",
              "      <td>...</td>\n",
              "      <td>0</td>\n",
              "      <td>0</td>\n",
              "      <td>0</td>\n",
              "      <td>0</td>\n",
              "      <td>0</td>\n",
              "      <td>0</td>\n",
              "      <td>0</td>\n",
              "      <td>0</td>\n",
              "      <td>0</td>\n",
              "      <td>0</td>\n",
              "    </tr>\n",
              "    <tr>\n",
              "      <th>797</th>\n",
              "      <td>77.05</td>\n",
              "      <td>34</td>\n",
              "      <td>65756.36</td>\n",
              "      <td>236.08</td>\n",
              "      <td>0</td>\n",
              "      <td>female</td>\n",
              "      <td>0</td>\n",
              "      <td>0</td>\n",
              "      <td>0</td>\n",
              "      <td>0</td>\n",
              "      <td>...</td>\n",
              "      <td>0</td>\n",
              "      <td>0</td>\n",
              "      <td>0</td>\n",
              "      <td>0</td>\n",
              "      <td>0</td>\n",
              "      <td>0</td>\n",
              "      <td>0</td>\n",
              "      <td>0</td>\n",
              "      <td>0</td>\n",
              "      <td>0</td>\n",
              "    </tr>\n",
              "    <tr>\n",
              "      <th>798</th>\n",
              "      <td>66.83</td>\n",
              "      <td>46</td>\n",
              "      <td>77871.75</td>\n",
              "      <td>196.17</td>\n",
              "      <td>0</td>\n",
              "      <td>male</td>\n",
              "      <td>0</td>\n",
              "      <td>0</td>\n",
              "      <td>0</td>\n",
              "      <td>0</td>\n",
              "      <td>...</td>\n",
              "      <td>0</td>\n",
              "      <td>0</td>\n",
              "      <td>0</td>\n",
              "      <td>0</td>\n",
              "      <td>0</td>\n",
              "      <td>0</td>\n",
              "      <td>0</td>\n",
              "      <td>0</td>\n",
              "      <td>0</td>\n",
              "      <td>0</td>\n",
              "    </tr>\n",
              "    <tr>\n",
              "      <th>799</th>\n",
              "      <td>76.20</td>\n",
              "      <td>24</td>\n",
              "      <td>47258.59</td>\n",
              "      <td>228.81</td>\n",
              "      <td>0</td>\n",
              "      <td>male</td>\n",
              "      <td>0</td>\n",
              "      <td>0</td>\n",
              "      <td>0</td>\n",
              "      <td>0</td>\n",
              "      <td>...</td>\n",
              "      <td>0</td>\n",
              "      <td>0</td>\n",
              "      <td>0</td>\n",
              "      <td>0</td>\n",
              "      <td>0</td>\n",
              "      <td>0</td>\n",
              "      <td>0</td>\n",
              "      <td>0</td>\n",
              "      <td>0</td>\n",
              "      <td>0</td>\n",
              "    </tr>\n",
              "  </tbody>\n",
              "</table>\n",
              "<p>800 rows × 1017 columns</p>\n",
              "</div>\n",
              "      <button class=\"colab-df-convert\" onclick=\"convertToInteractive('df-1c19c221-32b8-4a97-a8f2-fcede035b3a6')\"\n",
              "              title=\"Convert this dataframe to an interactive table.\"\n",
              "              style=\"display:none;\">\n",
              "        \n",
              "  <svg xmlns=\"http://www.w3.org/2000/svg\" height=\"24px\"viewBox=\"0 0 24 24\"\n",
              "       width=\"24px\">\n",
              "    <path d=\"M0 0h24v24H0V0z\" fill=\"none\"/>\n",
              "    <path d=\"M18.56 5.44l.94 2.06.94-2.06 2.06-.94-2.06-.94-.94-2.06-.94 2.06-2.06.94zm-11 1L8.5 8.5l.94-2.06 2.06-.94-2.06-.94L8.5 2.5l-.94 2.06-2.06.94zm10 10l.94 2.06.94-2.06 2.06-.94-2.06-.94-.94-2.06-.94 2.06-2.06.94z\"/><path d=\"M17.41 7.96l-1.37-1.37c-.4-.4-.92-.59-1.43-.59-.52 0-1.04.2-1.43.59L10.3 9.45l-7.72 7.72c-.78.78-.78 2.05 0 2.83L4 21.41c.39.39.9.59 1.41.59.51 0 1.02-.2 1.41-.59l7.78-7.78 2.81-2.81c.8-.78.8-2.07 0-2.86zM5.41 20L4 18.59l7.72-7.72 1.47 1.35L5.41 20z\"/>\n",
              "  </svg>\n",
              "      </button>\n",
              "      \n",
              "  <style>\n",
              "    .colab-df-container {\n",
              "      display:flex;\n",
              "      flex-wrap:wrap;\n",
              "      gap: 12px;\n",
              "    }\n",
              "\n",
              "    .colab-df-convert {\n",
              "      background-color: #E8F0FE;\n",
              "      border: none;\n",
              "      border-radius: 50%;\n",
              "      cursor: pointer;\n",
              "      display: none;\n",
              "      fill: #1967D2;\n",
              "      height: 32px;\n",
              "      padding: 0 0 0 0;\n",
              "      width: 32px;\n",
              "    }\n",
              "\n",
              "    .colab-df-convert:hover {\n",
              "      background-color: #E2EBFA;\n",
              "      box-shadow: 0px 1px 2px rgba(60, 64, 67, 0.3), 0px 1px 3px 1px rgba(60, 64, 67, 0.15);\n",
              "      fill: #174EA6;\n",
              "    }\n",
              "\n",
              "    [theme=dark] .colab-df-convert {\n",
              "      background-color: #3B4455;\n",
              "      fill: #D2E3FC;\n",
              "    }\n",
              "\n",
              "    [theme=dark] .colab-df-convert:hover {\n",
              "      background-color: #434B5C;\n",
              "      box-shadow: 0px 1px 3px 1px rgba(0, 0, 0, 0.15);\n",
              "      filter: drop-shadow(0px 1px 2px rgba(0, 0, 0, 0.3));\n",
              "      fill: #FFFFFF;\n",
              "    }\n",
              "  </style>\n",
              "\n",
              "      <script>\n",
              "        const buttonEl =\n",
              "          document.querySelector('#df-1c19c221-32b8-4a97-a8f2-fcede035b3a6 button.colab-df-convert');\n",
              "        buttonEl.style.display =\n",
              "          google.colab.kernel.accessAllowed ? 'block' : 'none';\n",
              "\n",
              "        async function convertToInteractive(key) {\n",
              "          const element = document.querySelector('#df-1c19c221-32b8-4a97-a8f2-fcede035b3a6');\n",
              "          const dataTable =\n",
              "            await google.colab.kernel.invokeFunction('convertToInteractive',\n",
              "                                                     [key], {});\n",
              "          if (!dataTable) return;\n",
              "\n",
              "          const docLinkHtml = 'Like what you see? Visit the ' +\n",
              "            '<a target=\"_blank\" href=https://colab.research.google.com/notebooks/data_table.ipynb>data table notebook</a>'\n",
              "            + ' to learn more about interactive tables.';\n",
              "          element.innerHTML = '';\n",
              "          dataTable['output_type'] = 'display_data';\n",
              "          await google.colab.output.renderOutput(dataTable, element);\n",
              "          const docLink = document.createElement('div');\n",
              "          docLink.innerHTML = docLinkHtml;\n",
              "          element.appendChild(docLink);\n",
              "        }\n",
              "      </script>\n",
              "    </div>\n",
              "  </div>\n",
              "  "
            ]
          },
          "metadata": {},
          "execution_count": 184
        }
      ],
      "source": [
        "# I made a csv file for myself as well to use it latter for better analysis\n",
        "df = pd.get_dummies(df, columns=[\"City\", \"Country\"])\n",
        "df = df.drop([\"City_Zacharystad\", \"Country_Zimbabwe\"], axis=1)\n",
        "file_path = 'no_city_country.csv'\n",
        "df.to_csv(file_path, index=False)\n",
        "df"
      ]
    },
    {
      "cell_type": "code",
      "execution_count": 185,
      "metadata": {
        "id": "7-5GKMh2BggO",
        "colab": {
          "base_uri": "https://localhost:8080/"
        },
        "outputId": "c12b279f-e36a-4dbb-d831-72359ca60e4a"
      },
      "outputs": [
        {
          "output_type": "stream",
          "name": "stdout",
          "text": [
            "Index(['Daily Time Spent on Site', 'Age', 'Area Income',\n",
            "       'Daily Internet Usage', 'Clicked on Ad', 'Gender', 'City_Adamsbury',\n",
            "       'City_Alanview', 'City_Alexanderfurt', 'City_Alexanderview',\n",
            "       ...\n",
            "       'Country_United States of America', 'Country_Uruguay',\n",
            "       'Country_Uzbekistan', 'Country_Vanuatu', 'Country_Venezuela',\n",
            "       'Country_Vietnam', 'Country_Wallis and Futuna',\n",
            "       'Country_Western Sahara', 'Country_Yemen', 'Country_Zambia'],\n",
            "      dtype='object', length=1017)\n"
          ]
        }
      ],
      "source": [
        "print(df.columns)"
      ]
    },
    {
      "cell_type": "code",
      "execution_count": 186,
      "metadata": {
        "id": "7e0VMVeYBggO",
        "colab": {
          "base_uri": "https://localhost:8080/"
        },
        "outputId": "ed4beb7c-de74-4348-cf4e-3a950dfd868a"
      },
      "outputs": [
        {
          "output_type": "stream",
          "name": "stdout",
          "text": [
            "Correct :)\n"
          ]
        }
      ],
      "source": [
        "# to check if we have done it correct\n",
        "if 'City' in df.columns:\n",
        "    print(\"Wrong\")\n",
        "else:\n",
        "    print(\"Correct :)\")"
      ]
    },
    {
      "cell_type": "code",
      "execution_count": 187,
      "metadata": {
        "id": "49BFrdQfBggP",
        "colab": {
          "base_uri": "https://localhost:8080/"
        },
        "outputId": "0e138313-7cdd-4444-9b65-3a434b786dce"
      },
      "outputs": [
        {
          "output_type": "stream",
          "name": "stdout",
          "text": [
            "Correct :)\n"
          ]
        }
      ],
      "source": [
        "# to check if we have done it correct\n",
        "if 'Country' in df.columns:\n",
        "    print(\"Wrong\")\n",
        "else:\n",
        "    print(\"Correct :)\")"
      ]
    },
    {
      "cell_type": "markdown",
      "metadata": {
        "id": "6BtOHAvTBggP"
      },
      "source": [
        "Convert \"Gender\" column to a new binary column (having only 0 and 1 values). Then remove the original column."
      ]
    },
    {
      "cell_type": "code",
      "execution_count": 188,
      "metadata": {
        "id": "n8poMfGqBggP",
        "colab": {
          "base_uri": "https://localhost:8080/"
        },
        "outputId": "4fe98686-d698-4a8b-c9cf-139b6b65dc6f"
      },
      "outputs": [
        {
          "output_type": "stream",
          "name": "stdout",
          "text": [
            "     Daily Time Spent on Site  Age  Area Income  Daily Internet Usage  \\\n",
            "0                       68.95   35     61833.90                256.09   \n",
            "1                       80.23   31     68441.85                193.77   \n",
            "2                       69.47   26     59785.94                236.50   \n",
            "3                       74.15   29     54806.18                245.89   \n",
            "4                       68.37   35     73889.99                225.58   \n",
            "..                        ...  ...          ...                   ...   \n",
            "795                     75.64   29     69718.19                204.82   \n",
            "796                     79.22   27     63429.18                198.79   \n",
            "797                     77.05   34     65756.36                236.08   \n",
            "798                     66.83   46     77871.75                196.17   \n",
            "799                     76.20   24     47258.59                228.81   \n",
            "\n",
            "     Clicked on Ad  City_Adamsbury  City_Alanview  City_Alexanderfurt  \\\n",
            "0                0               0              0                   0   \n",
            "1                0               0              0                   0   \n",
            "2                0               0              0                   0   \n",
            "3                0               0              0                   0   \n",
            "4                0               0              0                   0   \n",
            "..             ...             ...            ...                 ...   \n",
            "795              0               0              0                   0   \n",
            "796              0               0              0                   0   \n",
            "797              0               0              0                   0   \n",
            "798              0               0              0                   0   \n",
            "799              0               0              0                   0   \n",
            "\n",
            "     City_Alexanderview  City_Alexisland  ...  Country_Uruguay  \\\n",
            "0                     0                0  ...                0   \n",
            "1                     0                0  ...                0   \n",
            "2                     0                0  ...                0   \n",
            "3                     0                0  ...                0   \n",
            "4                     0                0  ...                0   \n",
            "..                  ...              ...  ...              ...   \n",
            "795                   0                0  ...                0   \n",
            "796                   0                0  ...                0   \n",
            "797                   0                0  ...                0   \n",
            "798                   0                0  ...                0   \n",
            "799                   0                0  ...                0   \n",
            "\n",
            "     Country_Uzbekistan  Country_Vanuatu  Country_Venezuela  Country_Vietnam  \\\n",
            "0                     0                0                  0                0   \n",
            "1                     0                0                  0                0   \n",
            "2                     0                0                  0                0   \n",
            "3                     0                0                  0                0   \n",
            "4                     0                0                  0                0   \n",
            "..                  ...              ...                ...              ...   \n",
            "795                   0                0                  0                0   \n",
            "796                   0                0                  0                0   \n",
            "797                   0                0                  0                0   \n",
            "798                   0                0                  0                0   \n",
            "799                   0                0                  0                0   \n",
            "\n",
            "     Country_Wallis and Futuna  Country_Western Sahara  Country_Yemen  \\\n",
            "0                            0                       0              0   \n",
            "1                            0                       0              0   \n",
            "2                            0                       0              0   \n",
            "3                            0                       0              0   \n",
            "4                            0                       0              0   \n",
            "..                         ...                     ...            ...   \n",
            "795                          0                       0              0   \n",
            "796                          0                       0              0   \n",
            "797                          0                       0              0   \n",
            "798                          0                       0              0   \n",
            "799                          0                       0              0   \n",
            "\n",
            "     Country_Zambia  Gender_binary  \n",
            "0                 0              0  \n",
            "1                 0              1  \n",
            "2                 0              0  \n",
            "3                 0              1  \n",
            "4                 0              0  \n",
            "..              ...            ...  \n",
            "795               0              1  \n",
            "796               0              1  \n",
            "797               0              0  \n",
            "798               0              1  \n",
            "799               0              1  \n",
            "\n",
            "[800 rows x 1017 columns]\n"
          ]
        }
      ],
      "source": [
        "df['Gender_binary'] = df['Gender'].map({'female': 0, 'male': 1})\n",
        "df.drop('Gender', axis=1, inplace=True)\n",
        "print(df)"
      ]
    },
    {
      "cell_type": "code",
      "execution_count": 189,
      "metadata": {
        "id": "GDqYpy3VBggP",
        "colab": {
          "base_uri": "https://localhost:8080/"
        },
        "outputId": "66823fd9-3619-45e8-c35f-d64069cda40c"
      },
      "outputs": [
        {
          "output_type": "stream",
          "name": "stdout",
          "text": [
            "0      0\n",
            "1      1\n",
            "2      0\n",
            "3      1\n",
            "4      0\n",
            "      ..\n",
            "795    1\n",
            "796    1\n",
            "797    0\n",
            "798    1\n",
            "799    1\n",
            "Name: Gender_binary, Length: 800, dtype: int64\n"
          ]
        }
      ],
      "source": [
        "gendere_column = df['Gender_binary']\n",
        "print(gendere_column)"
      ]
    },
    {
      "cell_type": "code",
      "execution_count": 190,
      "metadata": {
        "id": "bFjWqfQjBggP",
        "colab": {
          "base_uri": "https://localhost:8080/"
        },
        "outputId": "4c84d320-99e5-4008-951f-1a8f57b7a7b8"
      },
      "outputs": [
        {
          "output_type": "stream",
          "name": "stdout",
          "text": [
            "Correct :)\n"
          ]
        }
      ],
      "source": [
        "# to check if we have done it correct\n",
        "if 'Gender' in df.columns:\n",
        "    print(\"Wrong\")\n",
        "else:\n",
        "    print(\"Correct :)\")"
      ]
    },
    {
      "cell_type": "markdown",
      "metadata": {
        "id": "zyeVxUhjBggQ"
      },
      "source": [
        "By dropping the \"Clicked on Ad\" column, make a new dataframe called \"features_df\""
      ]
    },
    {
      "cell_type": "code",
      "execution_count": 191,
      "metadata": {
        "id": "ln12OxHgBggQ",
        "colab": {
          "base_uri": "https://localhost:8080/"
        },
        "outputId": "fa824420-807b-4587-99a9-e5bfbffed485"
      },
      "outputs": [
        {
          "output_type": "stream",
          "name": "stdout",
          "text": [
            "     Daily Time Spent on Site  Age  Area Income  Daily Internet Usage  \\\n",
            "0                       68.95   35     61833.90                256.09   \n",
            "1                       80.23   31     68441.85                193.77   \n",
            "2                       69.47   26     59785.94                236.50   \n",
            "3                       74.15   29     54806.18                245.89   \n",
            "4                       68.37   35     73889.99                225.58   \n",
            "..                        ...  ...          ...                   ...   \n",
            "795                     75.64   29     69718.19                204.82   \n",
            "796                     79.22   27     63429.18                198.79   \n",
            "797                     77.05   34     65756.36                236.08   \n",
            "798                     66.83   46     77871.75                196.17   \n",
            "799                     76.20   24     47258.59                228.81   \n",
            "\n",
            "     City_Adamsbury  City_Alanview  City_Alexanderfurt  City_Alexanderview  \\\n",
            "0                 0              0                   0                   0   \n",
            "1                 0              0                   0                   0   \n",
            "2                 0              0                   0                   0   \n",
            "3                 0              0                   0                   0   \n",
            "4                 0              0                   0                   0   \n",
            "..              ...            ...                 ...                 ...   \n",
            "795               0              0                   0                   0   \n",
            "796               0              0                   0                   0   \n",
            "797               0              0                   0                   0   \n",
            "798               0              0                   0                   0   \n",
            "799               0              0                   0                   0   \n",
            "\n",
            "     City_Alexisland  City_Aliciatown  ...  Country_Uruguay  \\\n",
            "0                  0                0  ...                0   \n",
            "1                  0                0  ...                0   \n",
            "2                  0                0  ...                0   \n",
            "3                  0                0  ...                0   \n",
            "4                  0                0  ...                0   \n",
            "..               ...              ...  ...              ...   \n",
            "795                0                0  ...                0   \n",
            "796                0                0  ...                0   \n",
            "797                0                0  ...                0   \n",
            "798                0                0  ...                0   \n",
            "799                0                0  ...                0   \n",
            "\n",
            "     Country_Uzbekistan  Country_Vanuatu  Country_Venezuela  Country_Vietnam  \\\n",
            "0                     0                0                  0                0   \n",
            "1                     0                0                  0                0   \n",
            "2                     0                0                  0                0   \n",
            "3                     0                0                  0                0   \n",
            "4                     0                0                  0                0   \n",
            "..                  ...              ...                ...              ...   \n",
            "795                   0                0                  0                0   \n",
            "796                   0                0                  0                0   \n",
            "797                   0                0                  0                0   \n",
            "798                   0                0                  0                0   \n",
            "799                   0                0                  0                0   \n",
            "\n",
            "     Country_Wallis and Futuna  Country_Western Sahara  Country_Yemen  \\\n",
            "0                            0                       0              0   \n",
            "1                            0                       0              0   \n",
            "2                            0                       0              0   \n",
            "3                            0                       0              0   \n",
            "4                            0                       0              0   \n",
            "..                         ...                     ...            ...   \n",
            "795                          0                       0              0   \n",
            "796                          0                       0              0   \n",
            "797                          0                       0              0   \n",
            "798                          0                       0              0   \n",
            "799                          0                       0              0   \n",
            "\n",
            "     Country_Zambia  Gender_binary  \n",
            "0                 0              0  \n",
            "1                 0              1  \n",
            "2                 0              0  \n",
            "3                 0              1  \n",
            "4                 0              0  \n",
            "..              ...            ...  \n",
            "795               0              1  \n",
            "796               0              1  \n",
            "797               0              0  \n",
            "798               0              1  \n",
            "799               0              1  \n",
            "\n",
            "[800 rows x 1016 columns]\n"
          ]
        }
      ],
      "source": [
        "features_df = df.drop('Clicked on Ad', axis=1)\n",
        "print(features_df)"
      ]
    },
    {
      "cell_type": "markdown",
      "metadata": {
        "id": "dxaFyAvaBggQ"
      },
      "source": [
        "Make a new dataframe called \"target_df\" containing only the \"Clicked on Ad\" column"
      ]
    },
    {
      "cell_type": "code",
      "execution_count": 192,
      "metadata": {
        "id": "5EjMKpbJBggQ",
        "colab": {
          "base_uri": "https://localhost:8080/"
        },
        "outputId": "ae254063-70a2-438b-eaaa-73792500494e"
      },
      "outputs": [
        {
          "output_type": "stream",
          "name": "stdout",
          "text": [
            "     Clicked on Ad\n",
            "0                0\n",
            "1                0\n",
            "2                0\n",
            "3                0\n",
            "4                0\n",
            "..             ...\n",
            "795              0\n",
            "796              0\n",
            "797              0\n",
            "798              0\n",
            "799              0\n",
            "\n",
            "[800 rows x 1 columns]\n"
          ]
        }
      ],
      "source": [
        "target_df = df[['Clicked on Ad']]\n",
        "print(target_df)"
      ]
    },
    {
      "cell_type": "markdown",
      "metadata": {
        "id": "F_ZIQC6kBggQ"
      },
      "source": [
        "Make two numpy arrays called \"x\" and \"y\" from \"features_df\" and \"target_df\" dataframes, respectively."
      ]
    },
    {
      "cell_type": "code",
      "execution_count": 193,
      "metadata": {
        "id": "ZSPTAc0WBggQ"
      },
      "outputs": [],
      "source": [
        "x = features_df.values\n",
        "y = target_df.values"
      ]
    },
    {
      "cell_type": "code",
      "source": [
        "# again I created them to check if I was doing right\n",
        "file_path = 'training_feature.csv'\n",
        "features_df.to_csv(file_path, index=False)\n",
        "file_path = 'training_target.csv'\n",
        "target_df.to_csv(file_path, index=False)"
      ],
      "metadata": {
        "id": "n0g4krtSUpQa"
      },
      "execution_count": 194,
      "outputs": []
    },
    {
      "cell_type": "markdown",
      "metadata": {
        "id": "y73KYiwCBggR"
      },
      "source": [
        "# Training Models (40 points)"
      ]
    },
    {
      "cell_type": "markdown",
      "metadata": {
        "id": "Fyi_lSXkBggR"
      },
      "source": [
        "Split the dataset (`x` and `y`) into \"training\" and \"testing\" parts containing 80% and 20% of the data respectively."
      ]
    },
    {
      "cell_type": "code",
      "execution_count": 195,
      "metadata": {
        "id": "0t_L5ScNBggR"
      },
      "outputs": [],
      "source": [
        "x_train, x_test, y_train, y_test = train_test_split(x, y, test_size=0.2, random_state=42)\n"
      ]
    },
    {
      "cell_type": "markdown",
      "metadata": {
        "id": "MYF_Px_LBggR"
      },
      "source": [
        "Train both LDA and QDA models on the data using `sklearn`"
      ]
    },
    {
      "cell_type": "code",
      "execution_count": 196,
      "metadata": {
        "id": "vfNlEQUeBggR",
        "colab": {
          "base_uri": "https://localhost:8080/",
          "height": 74
        },
        "outputId": "61f3d123-8bc1-4211-8114-175d82b556c7"
      },
      "outputs": [
        {
          "output_type": "execute_result",
          "data": {
            "text/plain": [
              "LinearDiscriminantAnalysis()"
            ],
            "text/html": [
              "<style>#sk-container-id-7 {color: black;background-color: white;}#sk-container-id-7 pre{padding: 0;}#sk-container-id-7 div.sk-toggleable {background-color: white;}#sk-container-id-7 label.sk-toggleable__label {cursor: pointer;display: block;width: 100%;margin-bottom: 0;padding: 0.3em;box-sizing: border-box;text-align: center;}#sk-container-id-7 label.sk-toggleable__label-arrow:before {content: \"▸\";float: left;margin-right: 0.25em;color: #696969;}#sk-container-id-7 label.sk-toggleable__label-arrow:hover:before {color: black;}#sk-container-id-7 div.sk-estimator:hover label.sk-toggleable__label-arrow:before {color: black;}#sk-container-id-7 div.sk-toggleable__content {max-height: 0;max-width: 0;overflow: hidden;text-align: left;background-color: #f0f8ff;}#sk-container-id-7 div.sk-toggleable__content pre {margin: 0.2em;color: black;border-radius: 0.25em;background-color: #f0f8ff;}#sk-container-id-7 input.sk-toggleable__control:checked~div.sk-toggleable__content {max-height: 200px;max-width: 100%;overflow: auto;}#sk-container-id-7 input.sk-toggleable__control:checked~label.sk-toggleable__label-arrow:before {content: \"▾\";}#sk-container-id-7 div.sk-estimator input.sk-toggleable__control:checked~label.sk-toggleable__label {background-color: #d4ebff;}#sk-container-id-7 div.sk-label input.sk-toggleable__control:checked~label.sk-toggleable__label {background-color: #d4ebff;}#sk-container-id-7 input.sk-hidden--visually {border: 0;clip: rect(1px 1px 1px 1px);clip: rect(1px, 1px, 1px, 1px);height: 1px;margin: -1px;overflow: hidden;padding: 0;position: absolute;width: 1px;}#sk-container-id-7 div.sk-estimator {font-family: monospace;background-color: #f0f8ff;border: 1px dotted black;border-radius: 0.25em;box-sizing: border-box;margin-bottom: 0.5em;}#sk-container-id-7 div.sk-estimator:hover {background-color: #d4ebff;}#sk-container-id-7 div.sk-parallel-item::after {content: \"\";width: 100%;border-bottom: 1px solid gray;flex-grow: 1;}#sk-container-id-7 div.sk-label:hover label.sk-toggleable__label {background-color: #d4ebff;}#sk-container-id-7 div.sk-serial::before {content: \"\";position: absolute;border-left: 1px solid gray;box-sizing: border-box;top: 0;bottom: 0;left: 50%;z-index: 0;}#sk-container-id-7 div.sk-serial {display: flex;flex-direction: column;align-items: center;background-color: white;padding-right: 0.2em;padding-left: 0.2em;position: relative;}#sk-container-id-7 div.sk-item {position: relative;z-index: 1;}#sk-container-id-7 div.sk-parallel {display: flex;align-items: stretch;justify-content: center;background-color: white;position: relative;}#sk-container-id-7 div.sk-item::before, #sk-container-id-7 div.sk-parallel-item::before {content: \"\";position: absolute;border-left: 1px solid gray;box-sizing: border-box;top: 0;bottom: 0;left: 50%;z-index: -1;}#sk-container-id-7 div.sk-parallel-item {display: flex;flex-direction: column;z-index: 1;position: relative;background-color: white;}#sk-container-id-7 div.sk-parallel-item:first-child::after {align-self: flex-end;width: 50%;}#sk-container-id-7 div.sk-parallel-item:last-child::after {align-self: flex-start;width: 50%;}#sk-container-id-7 div.sk-parallel-item:only-child::after {width: 0;}#sk-container-id-7 div.sk-dashed-wrapped {border: 1px dashed gray;margin: 0 0.4em 0.5em 0.4em;box-sizing: border-box;padding-bottom: 0.4em;background-color: white;}#sk-container-id-7 div.sk-label label {font-family: monospace;font-weight: bold;display: inline-block;line-height: 1.2em;}#sk-container-id-7 div.sk-label-container {text-align: center;}#sk-container-id-7 div.sk-container {/* jupyter's `normalize.less` sets `[hidden] { display: none; }` but bootstrap.min.css set `[hidden] { display: none !important; }` so we also need the `!important` here to be able to override the default hidden behavior on the sphinx rendered scikit-learn.org. See: https://github.com/scikit-learn/scikit-learn/issues/21755 */display: inline-block !important;position: relative;}#sk-container-id-7 div.sk-text-repr-fallback {display: none;}</style><div id=\"sk-container-id-7\" class=\"sk-top-container\"><div class=\"sk-text-repr-fallback\"><pre>LinearDiscriminantAnalysis()</pre><b>In a Jupyter environment, please rerun this cell to show the HTML representation or trust the notebook. <br />On GitHub, the HTML representation is unable to render, please try loading this page with nbviewer.org.</b></div><div class=\"sk-container\" hidden><div class=\"sk-item\"><div class=\"sk-estimator sk-toggleable\"><input class=\"sk-toggleable__control sk-hidden--visually\" id=\"sk-estimator-id-7\" type=\"checkbox\" checked><label for=\"sk-estimator-id-7\" class=\"sk-toggleable__label sk-toggleable__label-arrow\">LinearDiscriminantAnalysis</label><div class=\"sk-toggleable__content\"><pre>LinearDiscriminantAnalysis()</pre></div></div></div></div></div>"
            ]
          },
          "metadata": {},
          "execution_count": 196
        }
      ],
      "source": [
        "from sklearn.discriminant_analysis import LinearDiscriminantAnalysis, QuadraticDiscriminantAnalysis\n",
        "lda = LinearDiscriminantAnalysis()\n",
        "lda.fit(x_train, y_train.ravel())"
      ]
    },
    {
      "cell_type": "code",
      "execution_count": 197,
      "metadata": {
        "id": "aSnL8mt3BggR",
        "colab": {
          "base_uri": "https://localhost:8080/",
          "height": 111
        },
        "outputId": "df2e350e-dc6c-44a5-a670-95ab4ec6c8fd"
      },
      "outputs": [
        {
          "output_type": "stream",
          "name": "stderr",
          "text": [
            "/usr/local/lib/python3.9/dist-packages/sklearn/discriminant_analysis.py:926: UserWarning: Variables are collinear\n",
            "  warnings.warn(\"Variables are collinear\")\n"
          ]
        },
        {
          "output_type": "execute_result",
          "data": {
            "text/plain": [
              "QuadraticDiscriminantAnalysis()"
            ],
            "text/html": [
              "<style>#sk-container-id-8 {color: black;background-color: white;}#sk-container-id-8 pre{padding: 0;}#sk-container-id-8 div.sk-toggleable {background-color: white;}#sk-container-id-8 label.sk-toggleable__label {cursor: pointer;display: block;width: 100%;margin-bottom: 0;padding: 0.3em;box-sizing: border-box;text-align: center;}#sk-container-id-8 label.sk-toggleable__label-arrow:before {content: \"▸\";float: left;margin-right: 0.25em;color: #696969;}#sk-container-id-8 label.sk-toggleable__label-arrow:hover:before {color: black;}#sk-container-id-8 div.sk-estimator:hover label.sk-toggleable__label-arrow:before {color: black;}#sk-container-id-8 div.sk-toggleable__content {max-height: 0;max-width: 0;overflow: hidden;text-align: left;background-color: #f0f8ff;}#sk-container-id-8 div.sk-toggleable__content pre {margin: 0.2em;color: black;border-radius: 0.25em;background-color: #f0f8ff;}#sk-container-id-8 input.sk-toggleable__control:checked~div.sk-toggleable__content {max-height: 200px;max-width: 100%;overflow: auto;}#sk-container-id-8 input.sk-toggleable__control:checked~label.sk-toggleable__label-arrow:before {content: \"▾\";}#sk-container-id-8 div.sk-estimator input.sk-toggleable__control:checked~label.sk-toggleable__label {background-color: #d4ebff;}#sk-container-id-8 div.sk-label input.sk-toggleable__control:checked~label.sk-toggleable__label {background-color: #d4ebff;}#sk-container-id-8 input.sk-hidden--visually {border: 0;clip: rect(1px 1px 1px 1px);clip: rect(1px, 1px, 1px, 1px);height: 1px;margin: -1px;overflow: hidden;padding: 0;position: absolute;width: 1px;}#sk-container-id-8 div.sk-estimator {font-family: monospace;background-color: #f0f8ff;border: 1px dotted black;border-radius: 0.25em;box-sizing: border-box;margin-bottom: 0.5em;}#sk-container-id-8 div.sk-estimator:hover {background-color: #d4ebff;}#sk-container-id-8 div.sk-parallel-item::after {content: \"\";width: 100%;border-bottom: 1px solid gray;flex-grow: 1;}#sk-container-id-8 div.sk-label:hover label.sk-toggleable__label {background-color: #d4ebff;}#sk-container-id-8 div.sk-serial::before {content: \"\";position: absolute;border-left: 1px solid gray;box-sizing: border-box;top: 0;bottom: 0;left: 50%;z-index: 0;}#sk-container-id-8 div.sk-serial {display: flex;flex-direction: column;align-items: center;background-color: white;padding-right: 0.2em;padding-left: 0.2em;position: relative;}#sk-container-id-8 div.sk-item {position: relative;z-index: 1;}#sk-container-id-8 div.sk-parallel {display: flex;align-items: stretch;justify-content: center;background-color: white;position: relative;}#sk-container-id-8 div.sk-item::before, #sk-container-id-8 div.sk-parallel-item::before {content: \"\";position: absolute;border-left: 1px solid gray;box-sizing: border-box;top: 0;bottom: 0;left: 50%;z-index: -1;}#sk-container-id-8 div.sk-parallel-item {display: flex;flex-direction: column;z-index: 1;position: relative;background-color: white;}#sk-container-id-8 div.sk-parallel-item:first-child::after {align-self: flex-end;width: 50%;}#sk-container-id-8 div.sk-parallel-item:last-child::after {align-self: flex-start;width: 50%;}#sk-container-id-8 div.sk-parallel-item:only-child::after {width: 0;}#sk-container-id-8 div.sk-dashed-wrapped {border: 1px dashed gray;margin: 0 0.4em 0.5em 0.4em;box-sizing: border-box;padding-bottom: 0.4em;background-color: white;}#sk-container-id-8 div.sk-label label {font-family: monospace;font-weight: bold;display: inline-block;line-height: 1.2em;}#sk-container-id-8 div.sk-label-container {text-align: center;}#sk-container-id-8 div.sk-container {/* jupyter's `normalize.less` sets `[hidden] { display: none; }` but bootstrap.min.css set `[hidden] { display: none !important; }` so we also need the `!important` here to be able to override the default hidden behavior on the sphinx rendered scikit-learn.org. See: https://github.com/scikit-learn/scikit-learn/issues/21755 */display: inline-block !important;position: relative;}#sk-container-id-8 div.sk-text-repr-fallback {display: none;}</style><div id=\"sk-container-id-8\" class=\"sk-top-container\"><div class=\"sk-text-repr-fallback\"><pre>QuadraticDiscriminantAnalysis()</pre><b>In a Jupyter environment, please rerun this cell to show the HTML representation or trust the notebook. <br />On GitHub, the HTML representation is unable to render, please try loading this page with nbviewer.org.</b></div><div class=\"sk-container\" hidden><div class=\"sk-item\"><div class=\"sk-estimator sk-toggleable\"><input class=\"sk-toggleable__control sk-hidden--visually\" id=\"sk-estimator-id-8\" type=\"checkbox\" checked><label for=\"sk-estimator-id-8\" class=\"sk-toggleable__label sk-toggleable__label-arrow\">QuadraticDiscriminantAnalysis</label><div class=\"sk-toggleable__content\"><pre>QuadraticDiscriminantAnalysis()</pre></div></div></div></div></div>"
            ]
          },
          "metadata": {},
          "execution_count": 197
        }
      ],
      "source": [
        "qda = QuadraticDiscriminantAnalysis()\n",
        "qda.fit(x_train, y_train.ravel())"
      ]
    },
    {
      "cell_type": "markdown",
      "metadata": {
        "id": "umnLf-OQBggS"
      },
      "source": [
        "Train LDA and QDA using your own code!"
      ]
    },
    {
      "cell_type": "markdown",
      "metadata": {
        "id": "aujjMnp7BggS"
      },
      "source": [
        "Linear Discriminant Analysis"
      ]
    },
    {
      "cell_type": "code",
      "source": [
        "# jadid \n",
        "shrinkage=0.1\n",
        "# I implemented this method using regularization. regularization is applied to the covariance matrix to make it full rank. instead of pseudo inverse and the results\n",
        "# were promising :)"
      ],
      "metadata": {
        "id": "qDfh5Cj0iMYi"
      },
      "execution_count": 198,
      "outputs": []
    },
    {
      "cell_type": "code",
      "source": [
        "class LinearDiscriminantAnalysis_OWN:\n",
        "    \"\"\"\n",
        "    Fits it on data, then uses predict to get results.\n",
        "    \"\"\"\n",
        "\n",
        "    def __init__(self, shrinkage=1e-5):\n",
        "        self.means = None\n",
        "        self.covariance = None\n",
        "        # the proportion of each class in the entire population or dataset we are sampling from\n",
        "        # because its classification \n",
        "        self.priors = None\n",
        "        self.classes = None\n",
        "        #adding a scaled identity matrix to the sample covariance matrix.\n",
        "        self.shrinkage = shrinkage\n",
        "\n",
        "    def fit(self, X, y):\n",
        "        \"\"\"Fit the training data\n",
        "        Parameters\n",
        "        ----------\n",
        "        X : array-like, shape = [n_samples, n_features]\n",
        "            Features\n",
        "        y : array-like, shape = [n_samples, n_labels]\n",
        "            Labels\n",
        "        Returns\n",
        "        -------\n",
        "        self : object\n",
        "        \"\"\"\n",
        "\n",
        "        n_samples, n_features = X.shape\n",
        "        self.classes = np.unique(y)\n",
        "        n_classes = len(self.classes)\n",
        "        self.means = np.array([X[y == c].mean(axis=0) for c in self.classes])\n",
        "        self.covariance = np.zeros((n_features, n_features))\n",
        "        for c in self.classes:\n",
        "            class_X = X[y == c]\n",
        "            self.covariance += np.dot((class_X - self.means[c]).T, (class_X - self.means[c]))\n",
        "        self.covariance /= n_samples - n_classes\n",
        "        if self.shrinkage is not None:\n",
        "            self.covariance += self.shrinkage * np.eye(n_features)\n",
        "        self.priors = np.array([np.mean(y == c) for c in self.classes])\n",
        "        return self\n",
        "\n",
        "    def predict(self, X):\n",
        "        \"\"\" Predicts the value after the model has been trained.\n",
        "        Parameters\n",
        "        ----------\n",
        "        X : array-like, shape = [n_samples, n_features]\n",
        "            Features\n",
        "        Returns\n",
        "        -------\n",
        "        Predicted value\n",
        "        \"\"\"\n",
        "        n_samples, n_features = X.shape\n",
        "        y_pred = []\n",
        "        for i in range(n_samples):\n",
        "          #separate the classes that \n",
        "          #maximizes the between-class variance and minimizes the within-class variance.\n",
        "          # using the squared Mahalanobis distance\n",
        "            discriminants = []\n",
        "            for j in range(len(self.classes)):\n",
        "                discriminant = np.dot(np.dot(X[i] - self.means[j], np.linalg.inv(self.covariance)),\n",
        "                                      (X[i] - self.means[j]).T) + 2 * np.log(self.priors[j])\n",
        "                discriminants.append(discriminant)\n",
        "            y_pred.append(self.classes[np.argmin(discriminants)])\n",
        "        return np.array(y_pred)"
      ],
      "metadata": {
        "id": "GCJKxSDYiLgS"
      },
      "execution_count": 199,
      "outputs": []
    },
    {
      "cell_type": "code",
      "source": [
        "# find best shrinkage hyperparameter\n",
        "# I runned it in my device multiple times and steps and found the less the better I commented it so that it is faster in running the cells\n",
        "\"\"\"\n",
        "from sklearn.model_selection import GridSearchCV\n",
        "from sklearn.discriminant_analysis import LinearDiscriminantAnalysis\n",
        "param_grid = {'shrinkage': np.arange(0, 1, 0.1)}\n",
        "lda = LinearDiscriminantAnalysis(solver='lsqr')\n",
        "grid_search = GridSearchCV(lda, param_grid)\n",
        "grid_search.fit(x_train, y_train)\n",
        "best_shrinkage = grid_search.best_params_['shrinkage']\n",
        "print(best_shrinkage)\n",
        "\"\"\""
      ],
      "metadata": {
        "colab": {
          "base_uri": "https://localhost:8080/",
          "height": 72
        },
        "id": "llMaca1SDx5m",
        "outputId": "790fd977-c875-4395-9000-71b6880ea43a"
      },
      "execution_count": 200,
      "outputs": [
        {
          "output_type": "execute_result",
          "data": {
            "text/plain": [
              "\"\\nfrom sklearn.model_selection import GridSearchCV\\nfrom sklearn.discriminant_analysis import LinearDiscriminantAnalysis\\nparam_grid = {'shrinkage': np.arange(0, 1, 0.1)}\\nlda = LinearDiscriminantAnalysis(solver='lsqr')\\ngrid_search = GridSearchCV(lda, param_grid)\\ngrid_search.fit(x_train, y_train)\\nbest_shrinkage = grid_search.best_params_['shrinkage']\\nprint(best_shrinkage)\\n\""
            ],
            "application/vnd.google.colaboratory.intrinsic+json": {
              "type": "string"
            }
          },
          "metadata": {},
          "execution_count": 200
        }
      ]
    },
    {
      "cell_type": "markdown",
      "metadata": {
        "id": "rdzyNZ4tBggS"
      },
      "source": [
        "Quadratic Discriminant Analysis (Optional) (15 bonus points)"
      ]
    },
    {
      "cell_type": "code",
      "source": [
        "import numpy as np\n",
        "# kinda the same as LDA_OWN I again used Mahalanobis distance\n",
        "# this was the first QDA I wrote without regularization and shrinkage just to check how much regularization could make it better\n",
        "\"\"\"\n",
        " In LinearDiscriminantAnalysis_OWN, the shared covariance matrix is estimated as the weighted average of the individual covariance matrices,\n",
        "  and is used to calculate the distance between each sample and the class means.\n",
        "In QuadraticDiscriminantAnalysis_OWN, the individual covariance matrices are estimated for each class,\n",
        "  and are used in the prediction step to calculate a Mahalanobis distance for each sample with respect to each class.\n",
        "\n",
        "\"\"\"\n",
        "class QuadraticDiscriminantAnalysis_OWN:\n",
        "    \"\"\"\n",
        "    Quadratic Discriminant Analysis (QDA) class.\n",
        "    Fits it on data, then uses predict to get results.\n",
        "    \"\"\"\n",
        "\n",
        "    def __init__(self):\n",
        "        self.classes = None\n",
        "        self.priors_ = None\n",
        "        self.means_ = None\n",
        "        self.covariance_matrices_ = None\n",
        "\n",
        "    def fit(self, X, y):\n",
        "        \"\"\"Fit the training data\n",
        "        Parameters\n",
        "        ----------\n",
        "        X : array-like, shape = [n_samples, n_features]\n",
        "            Features\n",
        "        y : array-like, shape = [n_samples, n_labels]\n",
        "            Labels\n",
        "        Returns\n",
        "        -------\n",
        "        self : object\n",
        "        \"\"\"\n",
        "\n",
        "        n_samples, n_features = X.shape\n",
        "        self.classes = np.unique(y)\n",
        "        n_classes = len(self.classes)\n",
        "        self.priors_ = np.zeros(n_classes)\n",
        "        self.means_ = np.zeros((n_classes, n_features))\n",
        "        self.covariance_matrices_ = np.zeros((n_classes, n_features, n_features))\n",
        "        for i, c in enumerate(self.classes):\n",
        "            X_c = X[y == c]\n",
        "            self.priors_[i] = len(X_c) / n_samples\n",
        "            self.means_[i] = np.mean(X_c, axis=0)\n",
        "            self.covariance_matrices_[i] = np.cov(X_c, rowvar=False)\n",
        "        return self\n",
        "\n",
        "    def predict(self, X):\n",
        "        \"\"\" Predicts the value after the model has been trained.\n",
        "        Parameters\n",
        "        ----------\n",
        "        X : array-like, shape = [n_samples, n_features]\n",
        "            Features\n",
        "        Returns\n",
        "        -------\n",
        "        Predicted value\n",
        "        \"\"\"\n",
        "        n_samples, n_features = X.shape\n",
        "        n_classes = len(self.classes)\n",
        "        scores = np.zeros((n_samples, n_classes))\n",
        "\n",
        "        for i, c in enumerate(self.classes):\n",
        "            X_mu = X - self.means_[i]\n",
        "            try:\n",
        "                inv_cov = np.linalg.inv(self.covariance_matrices_[i])\n",
        "            except np.linalg.LinAlgError:\n",
        "                inv_cov = np.linalg.pinv(self.covariance_matrices_[i])\n",
        "            log_det_cov = np.linalg.slogdet(self.covariance_matrices_[i])[1]\n",
        "            coef = -0.5 * log_det_cov + np.log(self.priors_[i])\n",
        "            mahalanobis = np.sum(np.dot(X_mu, inv_cov) * X_mu, axis=1)\n",
        "            scores[:, i] = coef - 0.5 * mahalanobis\n",
        "        y_pred = self.classes[np.argmax(scores, axis=1)]\n",
        "        return y_pred"
      ],
      "metadata": {
        "id": "B-bAjx2CkhtR"
      },
      "execution_count": 201,
      "outputs": []
    },
    {
      "cell_type": "code",
      "execution_count": 202,
      "metadata": {
        "id": "MvdMAykABggT"
      },
      "outputs": [],
      "source": [
        "# Train your own models"
      ]
    },
    {
      "cell_type": "code",
      "source": [
        "#LDA\n",
        "lda_model_OWN = LinearDiscriminantAnalysis_OWN(shrinkage=0.0000001)\n",
        "lda_model_OWN.fit(x_train, y_train.ravel())"
      ],
      "metadata": {
        "colab": {
          "base_uri": "https://localhost:8080/"
        },
        "id": "FyaScvu3ZQFk",
        "outputId": "ca338cfc-f21d-440d-c1a7-503c1cb395bf"
      },
      "execution_count": 203,
      "outputs": [
        {
          "output_type": "execute_result",
          "data": {
            "text/plain": [
              "<__main__.LinearDiscriminantAnalysis_OWN at 0x7faaf3c75040>"
            ]
          },
          "metadata": {},
          "execution_count": 203
        }
      ]
    },
    {
      "cell_type": "code",
      "source": [
        "#QDA\n",
        "qda_model_OWN = QuadraticDiscriminantAnalysis_OWN()\n",
        "qda_model_OWN.fit(x_train,  y_train.ravel())"
      ],
      "metadata": {
        "colab": {
          "base_uri": "https://localhost:8080/"
        },
        "id": "_7068N5EZSOh",
        "outputId": "3c5fad14-29b8-4fd6-f029-bf395ce589aa"
      },
      "execution_count": 204,
      "outputs": [
        {
          "output_type": "execute_result",
          "data": {
            "text/plain": [
              "<__main__.QuadraticDiscriminantAnalysis_OWN at 0x7faaf3c75370>"
            ]
          },
          "metadata": {},
          "execution_count": 204
        }
      ]
    },
    {
      "cell_type": "markdown",
      "metadata": {
        "id": "t-lXFW_BBggT"
      },
      "source": [
        "# Evaluation (10 points)"
      ]
    },
    {
      "cell_type": "markdown",
      "metadata": {
        "id": "alDyfK7kBggT"
      },
      "source": [
        "Using all 4 models, predict the labels for all samples belonging to the \"testing\" part"
      ]
    },
    {
      "cell_type": "code",
      "execution_count": 205,
      "metadata": {
        "id": "oERQndwtBggT"
      },
      "outputs": [],
      "source": [
        "# y_pred_sklda = \n",
        "sklda_predictions=lda.predict(x_test)\n",
        "# y_pred_skqda = \n",
        "skqda_predictions=qda.predict(x_test)\n",
        "# y_pred_lda = \n",
        "ldaown_predictions=lda_model_OWN.predict(x_test)\n",
        "# y_pred_qda = \n",
        "qdaown_predictions = qda_model_OWN.predict(x_test)"
      ]
    },
    {
      "cell_type": "markdown",
      "metadata": {
        "id": "d8MCPkghBggT"
      },
      "source": [
        "Calculate Accuracy, Recall, and F1-Scores"
      ]
    },
    {
      "cell_type": "code",
      "source": [
        "from sklearn.metrics import accuracy_score, recall_score, f1_score\n",
        "accuracy = accuracy_score(y_test, sklda_predictions)\n",
        "recall = recall_score(y_test, sklda_predictions, average='weighted')\n",
        "f1 = f1_score(y_test, sklda_predictions, average='weighted')\n",
        "print(\"sklda_predictions\")\n",
        "print(\"Accuracy: {:.4f}\".format(accuracy))\n",
        "print(\"Recall: {:.4f}\".format(recall))\n",
        "print(\"F1-Score: {:.4f}\".format(f1))"
      ],
      "metadata": {
        "colab": {
          "base_uri": "https://localhost:8080/"
        },
        "id": "MlmMVaILmHED",
        "outputId": "dd7578fa-cbe1-456f-bf70-1bfee63e5deb"
      },
      "execution_count": 206,
      "outputs": [
        {
          "output_type": "stream",
          "name": "stdout",
          "text": [
            "sklda_predictions\n",
            "Accuracy: 0.8625\n",
            "Recall: 0.8625\n",
            "F1-Score: 0.8615\n"
          ]
        }
      ]
    },
    {
      "cell_type": "code",
      "source": [
        "from sklearn.metrics import accuracy_score, recall_score, f1_score\n",
        "accuracy = accuracy_score(y_test, skqda_predictions)\n",
        "recall = recall_score(y_test, skqda_predictions, average='weighted')\n",
        "f1 = f1_score(y_test, skqda_predictions, average='weighted')\n",
        "print(\"skqda_predictions\")\n",
        "print(\"Accuracy: {:.4f}\".format(accuracy))\n",
        "print(\"Recall: {:.4f}\".format(recall))\n",
        "print(\"F1-Score: {:.4f}\".format(f1))"
      ],
      "metadata": {
        "colab": {
          "base_uri": "https://localhost:8080/"
        },
        "id": "JE-NJ481lIAh",
        "outputId": "7f524ad9-7a95-4e7a-c230-bee95c4b6ad4"
      },
      "execution_count": 207,
      "outputs": [
        {
          "output_type": "stream",
          "name": "stdout",
          "text": [
            "skqda_predictions\n",
            "Accuracy: 0.9375\n",
            "Recall: 0.9375\n",
            "F1-Score: 0.9375\n"
          ]
        }
      ]
    },
    {
      "cell_type": "code",
      "source": [
        "from sklearn.metrics import accuracy_score, recall_score, f1_score\n",
        "accuracy = accuracy_score(y_test, ldaown_predictions)\n",
        "recall = recall_score(y_test, ldaown_predictions, average='weighted')\n",
        "f1 = f1_score(y_test, ldaown_predictions, average='weighted')\n",
        "print(\"ldaown_predictions\")\n",
        "print(\"Accuracy: {:.4f}\".format(accuracy))\n",
        "print(\"Recall: {:.4f}\".format(recall))\n",
        "print(\"F1-Score: {:.4f}\".format(f1))\n",
        "# my LDA works better must be because of reggularization"
      ],
      "metadata": {
        "colab": {
          "base_uri": "https://localhost:8080/"
        },
        "id": "Uz8KZVCNlHzr",
        "outputId": "b69f3218-3098-411e-b3e1-016d65288ba1"
      },
      "execution_count": 208,
      "outputs": [
        {
          "output_type": "stream",
          "name": "stdout",
          "text": [
            "ldaown_predictions\n",
            "Accuracy: 0.9500\n",
            "Recall: 0.9500\n",
            "F1-Score: 0.9500\n"
          ]
        }
      ]
    },
    {
      "cell_type": "code",
      "execution_count": 209,
      "metadata": {
        "id": "7HFotvE8BggU",
        "colab": {
          "base_uri": "https://localhost:8080/"
        },
        "outputId": "81502454-acca-4729-ba97-cb70b75ed387"
      },
      "outputs": [
        {
          "output_type": "stream",
          "name": "stdout",
          "text": [
            "qdaown_predictions\n",
            "Accuracy: 0.4875\n",
            "Recall: 0.4875\n",
            "F1-Score: 0.3195\n"
          ]
        }
      ],
      "source": [
        "from sklearn.metrics import accuracy_score, recall_score, f1_score\n",
        "accuracy = accuracy_score(y_test, qdaown_predictions)\n",
        "recall = recall_score(y_test, qdaown_predictions, average='weighted')\n",
        "f1 = f1_score(y_test, qdaown_predictions, average='weighted')\n",
        "print(\"qdaown_predictions\")\n",
        "print(\"Accuracy: {:.4f}\".format(accuracy))\n",
        "print(\"Recall: {:.4f}\".format(recall))\n",
        "print(\"F1-Score: {:.4f}\".format(f1))\n",
        "# the bad results are because we used pseudo inverse to solve the problem"
      ]
    },
    {
      "cell_type": "code",
      "source": [
        "# because it was bad we can redo the calculations using regularization shrinkage"
      ],
      "metadata": {
        "id": "oJSkBcxVm7AC"
      },
      "execution_count": 210,
      "outputs": []
    },
    {
      "cell_type": "code",
      "source": [
        "import numpy as np\n",
        "\n",
        "class QuadraticDiscriminantAnalysis_OWN_REG:\n",
        "    \"\"\"\n",
        "    Quadratic Discriminant Analysis (QDA) class.\n",
        "    Fits it on data, then uses predict to get results.\n",
        "    \"\"\"\n",
        "\n",
        "    def __init__(self, shrinkage=1e-5):\n",
        "        self.classes = None\n",
        "        self.priors_ = None\n",
        "        self.means_ = None\n",
        "        self.covariance_matrices_ = None\n",
        "        self.shrinkage = shrinkage\n",
        "\n",
        "    def fit(self, X, y):\n",
        "        \"\"\"Fit the training data\n",
        "        Parameters\n",
        "        ----------\n",
        "        X : array-like, shape = [n_samples, n_features]\n",
        "            Features\n",
        "        y : array-like, shape = [n_samples, n_labels]\n",
        "            Labels\n",
        "        Returns\n",
        "        -------\n",
        "        self : object\n",
        "        \"\"\"\n",
        "\n",
        "        n_samples, n_features = X.shape\n",
        "        self.classes = np.unique(y)\n",
        "        n_classes = len(self.classes)\n",
        "        self.priors_ = np.zeros(n_classes)\n",
        "        self.means_ = np.zeros((n_classes, n_features))\n",
        "        self.covariance_matrices_ = np.zeros((n_classes, n_features, n_features))\n",
        "        for i, c in enumerate(self.classes):\n",
        "            X_c = X[y == c]\n",
        "            self.priors_[i] = len(X_c) / n_samples\n",
        "            self.means_[i] = np.mean(X_c, axis=0)\n",
        "            self.covariance_matrices_[i] = np.cov(X_c, rowvar=False) + self.shrinkage * np.identity(n_features)\n",
        "        return self\n",
        "\n",
        "    def predict(self, X):\n",
        "        \"\"\" Predicts the value after the model has been trained.\n",
        "        Parameters\n",
        "        ----------\n",
        "        X : array-like, shape = [n_samples, n_features]\n",
        "            Features\n",
        "        Returns\n",
        "        -------\n",
        "        Predicted value\n",
        "        \"\"\"\n",
        "        n_samples, n_features = X.shape\n",
        "        n_classes = len(self.classes)\n",
        "        scores = np.zeros((n_samples, n_classes))\n",
        "        for i, c in enumerate(self.classes):\n",
        "            X_mu = X - self.means_[i]\n",
        "            inv_cov = np.linalg.inv(self.covariance_matrices_[i])\n",
        "            log_det_cov = np.linalg.slogdet(self.covariance_matrices_[i])[1]\n",
        "            coef = -0.5 * log_det_cov + np.log(self.priors_[i])\n",
        "            mahalanobis = np.sum(np.dot(X_mu, inv_cov) * X_mu, axis=1)\n",
        "            scores[:, i] = coef - 0.5 * mahalanobis\n",
        "        y_pred = self.classes[np.argmax(scores, axis=1)]\n",
        "        return y_pred"
      ],
      "metadata": {
        "id": "dFO4fqQ5nCBK"
      },
      "execution_count": 211,
      "outputs": []
    },
    {
      "cell_type": "code",
      "source": [
        "qda_model_OWN_REG = QuadraticDiscriminantAnalysis_OWN_REG()\n",
        "qda_model_OWN_REG.fit(x_train,  y_train.ravel())"
      ],
      "metadata": {
        "colab": {
          "base_uri": "https://localhost:8080/"
        },
        "id": "xrR-cMrRnLl6",
        "outputId": "58b8da04-d8ad-4f03-8fd0-901d15a20a39"
      },
      "execution_count": 212,
      "outputs": [
        {
          "output_type": "execute_result",
          "data": {
            "text/plain": [
              "<__main__.QuadraticDiscriminantAnalysis_OWN_REG at 0x7faaf41d2760>"
            ]
          },
          "metadata": {},
          "execution_count": 212
        }
      ]
    },
    {
      "cell_type": "code",
      "source": [
        "qdaown_predictions_REG = qda_model_OWN_REG.predict(x_test)"
      ],
      "metadata": {
        "id": "HuPshxNsnSXy"
      },
      "execution_count": 213,
      "outputs": []
    },
    {
      "cell_type": "code",
      "source": [
        "from sklearn.metrics import accuracy_score, recall_score, f1_score\n",
        "accuracy = accuracy_score(y_test, qdaown_predictions_REG)\n",
        "recall = recall_score(y_test, qdaown_predictions_REG, average='weighted')\n",
        "f1 = f1_score(y_test, qdaown_predictions_REG, average='weighted')\n",
        "print(\"qdaown_predictions_REG\")\n",
        "print(\"Accuracy: {:.4f}\".format(accuracy))\n",
        "print(\"Recall: {:.4f}\".format(recall))\n",
        "print(\"F1-Score: {:.4f}\".format(f1))"
      ],
      "metadata": {
        "colab": {
          "base_uri": "https://localhost:8080/"
        },
        "id": "eNnm6jgInXHk",
        "outputId": "110bf679-13c5-4109-ea46-a30162e28a95"
      },
      "execution_count": 214,
      "outputs": [
        {
          "output_type": "stream",
          "name": "stdout",
          "text": [
            "qdaown_predictions_REG\n",
            "Accuracy: 0.7250\n",
            "Recall: 0.7250\n",
            "F1-Score: 0.7240\n"
          ]
        }
      ]
    },
    {
      "cell_type": "markdown",
      "metadata": {
        "id": "JidSYlejBggU"
      },
      "source": [
        "Compute the ROC AUC Score using `sklearn` (for both LDA and QDA models trained using this library)"
      ]
    },
    {
      "cell_type": "code",
      "execution_count": 215,
      "metadata": {
        "id": "XGOLeq9FBggU",
        "colab": {
          "base_uri": "https://localhost:8080/"
        },
        "outputId": "7e173408-b47b-4551-e55a-e087afd45274"
      },
      "outputs": [
        {
          "output_type": "stream",
          "name": "stdout",
          "text": [
            "ROC AUC score for LDA : 0.9212\n"
          ]
        }
      ],
      "source": [
        "lda_probs = lda.predict_proba(x_test)[:, 1]\n",
        "lda_roc_auc = roc_auc_score(y_test, lda_probs)\n",
        "print(\"ROC AUC score for LDA : {:.4f}\".format(lda_roc_auc))"
      ]
    },
    {
      "cell_type": "code",
      "execution_count": 216,
      "metadata": {
        "id": "TW0uyPuaBggU",
        "colab": {
          "base_uri": "https://localhost:8080/"
        },
        "outputId": "cf4fba1f-18a7-4b7d-fe0a-e1f9b11e218f"
      },
      "outputs": [
        {
          "output_type": "stream",
          "name": "stdout",
          "text": [
            "ROC AUC score for QDA : 0.9375\n"
          ]
        }
      ],
      "source": [
        "qda_probs = qda.predict_proba(x_test)[:, 1]\n",
        "qda_roc_auc = roc_auc_score(y_test, qda_probs)\n",
        "print(\"ROC AUC score for QDA : {:.4f}\".format(qda_roc_auc))"
      ]
    },
    {
      "cell_type": "markdown",
      "source": [
        "# Kaggle Competition"
      ],
      "metadata": {
        "id": "u2E49REsHDZx"
      }
    },
    {
      "cell_type": "markdown",
      "source": [
        "Link: https://www.kaggle.com/t/988b0aa2db2446fd85cff571d69c6386"
      ],
      "metadata": {
        "id": "Ib2aOdWFHF3J"
      }
    },
    {
      "cell_type": "code",
      "source": [
        "# i have done it in multiple ways in analysis we find that country and city doesent have any effect on data so I deleted it and for time stamp i did it once as a single feature and once as many other features to see if time really matter\n",
        "# which I find out didnt matter but was better when each hour and second was split and also did some with my own implementation and once with sklearn and my own had 0.97 prec and final file is one without sklearn and QDA is suprisingly not very good in this case\n"
      ],
      "metadata": {
        "id": "J2PTcWsW-ewD"
      },
      "execution_count": 217,
      "outputs": []
    },
    {
      "cell_type": "code",
      "source": [
        "# with timestamp as a whole feature\n",
        "df = pd.read_csv('dataset-train.csv')\n",
        "df = df.drop([\"Ad Topic Line\", \"Timestamp\",\"City\",\"Country\"], axis=1)\n",
        "print(df)\n",
        "df['Gender_binary'] = df['Gender'].map({'female': 0, 'male': 1})\n",
        "df.drop('Gender', axis=1, inplace=True)\n",
        "features_df = df.drop('Clicked on Ad', axis=1)\n",
        "target_df = df[['Clicked on Ad']]\n",
        "x = features_df.values\n",
        "y = target_df.values\n",
        "file_path = 'training_feature.csv'\n",
        "num_columns = features_df.shape[1]\n",
        "features_df.to_csv(file_path, index=False)\n",
        "x_train, x_test, y_train, y_test = train_test_split(x, y, test_size=0.2, random_state=42)\n",
        "lda = LinearDiscriminantAnalysis_OWN(shrinkage=0.000001)\n",
        "lda.fit(x_train,  y_train.ravel())\n",
        "df = pd.read_csv('assignment2-test-data.csv')\n",
        "df = df.drop([\"Ad Topic Line\", \"Timestamp\",\"City\",\"Country\",\"ID\"], axis=1)\n",
        "print(df)\n",
        "df['Gender_binary'] = df['Gender'].map({'female': 0, 'male': 1})\n",
        "df.drop('Gender', axis=1, inplace=True)\n",
        "x = df.values\n",
        "num_columns = df.shape[1]\n",
        "file_path = 'finalxx.csv'\n",
        "df.to_csv(file_path, index=False)\n",
        "import pandas\n",
        "LDA_predictions_REG = lda.predict(x)\n",
        "id_arr = np.arange(0, 200)\n",
        "df = pandas.DataFrame({'Clicked on Ad': LDA_predictions_REG, 'ID': id_arr})\n",
        "df.to_csv('outputssss.csv', index=False)"
      ],
      "metadata": {
        "colab": {
          "base_uri": "https://localhost:8080/"
        },
        "id": "NCO7qtoWSqfl",
        "outputId": "733e8b8c-b9af-45dc-aa19-37b5eca5301d"
      },
      "execution_count": 218,
      "outputs": [
        {
          "output_type": "stream",
          "name": "stdout",
          "text": [
            "     Daily Time Spent on Site  Age  Area Income  Daily Internet Usage  \\\n",
            "0                       68.95   35     61833.90                256.09   \n",
            "1                       80.23   31     68441.85                193.77   \n",
            "2                       69.47   26     59785.94                236.50   \n",
            "3                       74.15   29     54806.18                245.89   \n",
            "4                       68.37   35     73889.99                225.58   \n",
            "..                        ...  ...          ...                   ...   \n",
            "795                     75.64   29     69718.19                204.82   \n",
            "796                     79.22   27     63429.18                198.79   \n",
            "797                     77.05   34     65756.36                236.08   \n",
            "798                     66.83   46     77871.75                196.17   \n",
            "799                     76.20   24     47258.59                228.81   \n",
            "\n",
            "     Clicked on Ad  Gender  \n",
            "0                0  female  \n",
            "1                0    male  \n",
            "2                0  female  \n",
            "3                0    male  \n",
            "4                0  female  \n",
            "..             ...     ...  \n",
            "795              0    male  \n",
            "796              0    male  \n",
            "797              0  female  \n",
            "798              0    male  \n",
            "799              0    male  \n",
            "\n",
            "[800 rows x 6 columns]\n",
            "     Daily Time Spent on Site  Age  Area Income  Daily Internet Usage  Gender\n",
            "0                       56.64   29     55984.89                123.24    male\n",
            "1                       53.33   34     44275.13                111.63    male\n",
            "2                       50.63   50     25767.16                142.23  female\n",
            "3                       41.84   49     37605.11                139.32  female\n",
            "4                       53.92   41     25739.09                125.46    male\n",
            "..                        ...  ...          ...                   ...     ...\n",
            "195                     72.97   30     71384.57                208.58    male\n",
            "196                     51.30   45     67782.17                134.42    male\n",
            "197                     51.63   51     42415.72                120.37    male\n",
            "198                     55.55   19     41920.79                187.95  female\n",
            "199                     45.01   26     29875.80                178.35  female\n",
            "\n",
            "[200 rows x 5 columns]\n"
          ]
        }
      ]
    },
    {
      "cell_type": "code",
      "source": [
        "# with timestamp as multiple features\n",
        "df = pd.read_csv('dataset-train.csv')\n",
        "df['Timestamp'] = pd.to_datetime(df['Timestamp'])\n",
        "df['Month'] = df['Timestamp'].dt.month\n",
        "df['Daymonth'] = df['Timestamp'].dt.day\n",
        "df['Dayweek'] = df['Timestamp'].dt.dayofweek\n",
        "df['Hour'] = df['Timestamp'].dt.hour  \n",
        "df = df.drop([\"Ad Topic Line\",\"City\",\"Country\",\"Timestamp\"], axis=1)\n",
        "print(df)\n",
        "df['Gender_binary'] = df['Gender'].map({'female': 0, 'male': 1})\n",
        "df.drop('Gender', axis=1, inplace=True)\n",
        "features_df = df.drop('Clicked on Ad', axis=1)\n",
        "target_df = df[['Clicked on Ad']]\n",
        "x = features_df.values\n",
        "y = target_df.values\n",
        "file_path = 'training_feature.csv'\n",
        "num_columns = features_df.shape[1]\n",
        "features_df.to_csv(file_path, index=False)\n",
        "x_train, x_test, y_train, y_test = train_test_split(x, y, test_size=0.2, random_state=42)\n",
        "lda = LinearDiscriminantAnalysis_OWN(shrinkage=0.00001)\n",
        "lda.fit(x_train,  y_train.ravel())\n",
        "df = pd.read_csv('assignment2-test-data.csv')\n",
        "df['Timestamp'] = pd.to_datetime(df['Timestamp'])\n",
        "df['Month'] = df['Timestamp'].dt.month\n",
        "df['Daymonth'] = df['Timestamp'].dt.day\n",
        "df['Dayweek'] = df['Timestamp'].dt.dayofweek\n",
        "df['Hour'] = df['Timestamp'].dt.hour  \n",
        "df = df.drop([\"Ad Topic Line\", \"Timestamp\",\"City\",\"Country\",\"ID\"], axis=1)\n",
        "print(df)\n",
        "df['Gender_binary'] = df['Gender'].map({'female': 0, 'male': 1})\n",
        "df.drop('Gender', axis=1, inplace=True)\n",
        "x = df.values\n",
        "num_columns = df.shape[1]\n",
        "file_path = 'finalxx.csv'\n",
        "df.to_csv(file_path, index=False)\n",
        "import pandas\n",
        "LDA_predictions_REG = lda.predict(x)\n",
        "id_arr = np.arange(0, 200)\n",
        "df = pandas.DataFrame({'Clicked on Ad': LDA_predictions_REG, 'ID': id_arr})\n",
        "df.to_csv('outputssss5.csv', index=False)\n"
      ],
      "metadata": {
        "colab": {
          "base_uri": "https://localhost:8080/"
        },
        "id": "64VTpBXyV-It",
        "outputId": "a89c8248-aab7-481f-c727-6b11c5c143cd"
      },
      "execution_count": 219,
      "outputs": [
        {
          "output_type": "stream",
          "name": "stdout",
          "text": [
            "     Daily Time Spent on Site  Age  Area Income  Daily Internet Usage  \\\n",
            "0                       68.95   35     61833.90                256.09   \n",
            "1                       80.23   31     68441.85                193.77   \n",
            "2                       69.47   26     59785.94                236.50   \n",
            "3                       74.15   29     54806.18                245.89   \n",
            "4                       68.37   35     73889.99                225.58   \n",
            "..                        ...  ...          ...                   ...   \n",
            "795                     75.64   29     69718.19                204.82   \n",
            "796                     79.22   27     63429.18                198.79   \n",
            "797                     77.05   34     65756.36                236.08   \n",
            "798                     66.83   46     77871.75                196.17   \n",
            "799                     76.20   24     47258.59                228.81   \n",
            "\n",
            "     Clicked on Ad  Gender  Month  Daymonth  Dayweek  Hour  \n",
            "0                0  female      3        27        6     0  \n",
            "1                0    male      4         4        0     1  \n",
            "2                0  female      3        13        6    20  \n",
            "3                0    male      1        10        6     2  \n",
            "4                0  female      6         3        4     3  \n",
            "..             ...     ...    ...       ...      ...   ...  \n",
            "795              0    male      3        15        1    19  \n",
            "796              0    male      3        11        4    12  \n",
            "797              0  female      5        17        1    18  \n",
            "798              0    male      2        28        6    23  \n",
            "799              0    male      3         2        2     6  \n",
            "\n",
            "[800 rows x 10 columns]\n",
            "     Daily Time Spent on Site  Age  Area Income  Daily Internet Usage  Gender  \\\n",
            "0                       56.64   29     55984.89                123.24    male   \n",
            "1                       53.33   34     44275.13                111.63    male   \n",
            "2                       50.63   50     25767.16                142.23  female   \n",
            "3                       41.84   49     37605.11                139.32  female   \n",
            "4                       53.92   41     25739.09                125.46    male   \n",
            "..                        ...  ...          ...                   ...     ...   \n",
            "195                     72.97   30     71384.57                208.58    male   \n",
            "196                     51.30   45     67782.17                134.42    male   \n",
            "197                     51.63   51     42415.72                120.37    male   \n",
            "198                     55.55   19     41920.79                187.95  female   \n",
            "199                     45.01   26     29875.80                178.35  female   \n",
            "\n",
            "     Month  Daymonth  Dayweek  Hour  \n",
            "0        2        27        5     8  \n",
            "1        3        14        0     4  \n",
            "2        3        10        3    15  \n",
            "3        5         1        6     8  \n",
            "4        6        12        6    11  \n",
            "..     ...       ...      ...   ...  \n",
            "195      2        11        3    21  \n",
            "196      4        22        4     2  \n",
            "197      2         1        0    17  \n",
            "198      3        24        3     2  \n",
            "199      6         3        4    21  \n",
            "\n",
            "[200 rows x 9 columns]\n"
          ]
        }
      ]
    },
    {
      "cell_type": "code",
      "source": [
        "# to check if there were any improvements by changing the ways\n",
        "import pandas as pd\n",
        "df1 = pd.read_csv('outputssss5.csv')\n",
        "df2 = pd.read_csv('outputssss.csv')\n",
        "if df1.equals(df2):\n",
        "    print('The two CSV files are the same.')\n",
        "else:\n",
        "    print('The two CSV files are different.')\n",
        "    differences = df1.compare(df2)\n",
        "    print('different:')\n",
        "    print(differences)"
      ],
      "metadata": {
        "colab": {
          "base_uri": "https://localhost:8080/"
        },
        "id": "Eifg7bA0VFO9",
        "outputId": "50a80996-98c8-41e4-9408-3d446d7b491a"
      },
      "execution_count": 220,
      "outputs": [
        {
          "output_type": "stream",
          "name": "stdout",
          "text": [
            "The two CSV files are different.\n",
            "different:\n",
            "    Clicked on Ad      \n",
            "             self other\n",
            "169           1.0   0.0\n"
          ]
        }
      ]
    }
  ],
  "metadata": {
    "kernelspec": {
      "display_name": "base",
      "language": "python",
      "name": "python3"
    },
    "language_info": {
      "codemirror_mode": {
        "name": "ipython",
        "version": 3
      },
      "file_extension": ".py",
      "mimetype": "text/x-python",
      "name": "python",
      "nbconvert_exporter": "python",
      "pygments_lexer": "ipython3",
      "version": "3.9.13"
    },
    "orig_nbformat": 4,
    "colab": {
      "provenance": []
    }
  },
  "nbformat": 4,
  "nbformat_minor": 0
}